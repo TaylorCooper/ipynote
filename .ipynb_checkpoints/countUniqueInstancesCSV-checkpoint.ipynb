{
 "metadata": {
  "name": "",
  "signature": "sha256:3dab3316c824f38e21fc57a587dc187a6361d2fbc98e3bf9f16d1b37a633ddbb"
 },
 "nbformat": 3,
 "nbformat_minor": 0,
 "worksheets": [
  {
   "cells": [
    {
     "cell_type": "code",
     "collapsed": false,
     "input": [
      "import csv\n",
      "\n",
      "path = \"C:\\\\Users\\\\Taylor\\\\Desktop\\\\thisThings.csv\"\n",
      "yourlist = []\n",
      "skipFirstRow = True\n",
      "reader = csv.reader(open(path))\n",
      "\n",
      "for row in reader:\n",
      "    \n",
      "    if skipFirstRow:\n",
      "        skipFirstRow = False\n",
      "        continue\n",
      "    \n",
      "    if row[0] not in yourlist:\n",
      "        yourlist.append(row[0])\n",
      "\n",
      "print yourlist\n",
      "print len(yourlist)"
     ],
     "language": "python",
     "metadata": {},
     "outputs": [
      {
       "output_type": "stream",
       "stream": "stdout",
       "text": [
        "['HEADER', 'one', 'two', 'three', 'four', 'nine']\n",
        "6\n"
       ]
      }
     ],
     "prompt_number": 1
    },
    {
     "cell_type": "code",
     "collapsed": false,
     "input": [],
     "language": "python",
     "metadata": {},
     "outputs": []
    }
   ],
   "metadata": {}
  }
 ]
}