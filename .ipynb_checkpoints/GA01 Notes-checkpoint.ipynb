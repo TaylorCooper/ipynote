{
 "metadata": {
  "name": "",
  "signature": "sha256:eef4f9ffe370fabfde641e623121e21de75a955915a2e04ba7bc146101b9ea83"
 },
 "nbformat": 3,
 "nbformat_minor": 0,
 "worksheets": [
  {
   "cells": [
    {
     "cell_type": "code",
     "collapsed": false,
     "input": [
      "# Show plots in line with code, i.e. don't create a little window for viewing\n",
      "%pylab inline\n",
      "import numpy as np \n",
      "from pandas import DataFrame\n",
      "import matplotlib.pyplot as plt\n",
      "\n",
      "Index= ['aaa', 'bbb', 'ccc', 'ddd', 'eee']\n",
      "Cols = ['A', 'B', 'C', 'D']\n",
      "df = DataFrame(abs(np.random.randn(5, 4)), index=Index, columns=Cols)\n",
      "\n",
      "print df.head()\n",
      "\n",
      "plt.pcolor(df)\n",
      "plt.yticks(np.arange(0.5, len(df.index), 1), df.index)\n",
      "plt.xticks(np.arange(0.5, len(df.columns), 1), df.columns)\n",
      "#plt.show()"
     ],
     "language": "python",
     "metadata": {},
     "outputs": [
      {
       "output_type": "stream",
       "stream": "stdout",
       "text": [
        "Populating the interactive namespace from numpy and matplotlib\n",
        "            A         B         C         D\n",
        "aaa  0.060187  0.535542  0.171485  1.833521\n",
        "bbb  0.714029  0.940177  0.520778  0.530556\n",
        "ccc  0.995702  0.379190  2.043525  1.015380\n",
        "ddd  0.912000  0.895930  0.623432  0.184037\n",
        "eee  1.659628  1.530435  0.207337  1.145600\n"
       ]
      },
      {
       "metadata": {},
       "output_type": "pyout",
       "prompt_number": 2,
       "text": [
        "([<matplotlib.axis.XTick at 0xc472930>,\n",
        "  <matplotlib.axis.XTick at 0xc468670>,\n",
        "  <matplotlib.axis.XTick at 0xc4d6bf0>,\n",
        "  <matplotlib.axis.XTick at 0xc4d6eb0>],\n",
        " <a list of 4 Text xticklabel objects>)"
       ]
      },
      {
       "metadata": {},
       "output_type": "display_data",
       "png": "[encoded data removed]",
       "text": [
        "<matplotlib.figure.Figure at 0xc459210>"
       ]
      }
     ],
     "prompt_number": 2
    },
    {
     "cell_type": "code",
     "collapsed": false,
     "input": [
      "'''\n",
      "Most heatmap tutorials I found online use pyplot.pcolormesh with random sets of\n",
      "data from Numpy; I just needed to plot x, y, z values stored in lists--without\n",
      "all the Numpy mumbo jumbo. Here I have code to plot intensity on a 2D array, and\n",
      "I only use Numpy where I need to (pcolormesh expects Numpy arrays as inputs).\n",
      "'''\n",
      "import matplotlib.pyplot as plt\n",
      "import numpy as np\n",
      "\n",
      "#here's our data to plot, all normal Python lists\n",
      "x = [1, 2, 3, 4, 5]\n",
      "y = [0.1, 0.2, 0.3, 0.4, 0.5]\n",
      "\n",
      "intensity = [\n",
      "    [5, 10, 15, 20, 25],\n",
      "    [30, 35, 40, 45, 50],\n",
      "    [55, 60, 65, 70, 75],\n",
      "    [80, 85, 90, 95, 100],\n",
      "    [105, 110, 115, 120, 125]\n",
      "]\n",
      "\n",
      "#setup the 2D grid with Numpy\n",
      "x, y = np.meshgrid(x, y)\n",
      "\n",
      "#convert intensity (list of lists) to a numpy array for plotting\n",
      "intensity = np.array(intensity)\n",
      "\n",
      "#now just plug the data into pcolormesh, it's that easy!\n",
      "plt.pcolormesh(x, y, intensity)\n",
      "plt.colorbar() #need a colorbar to show the intensity scale\n",
      "#plt.show() #boom"
     ],
     "language": "python",
     "metadata": {},
     "outputs": [
      {
       "metadata": {},
       "output_type": "pyout",
       "prompt_number": 3,
       "text": [
        "<matplotlib.colorbar.Colorbar instance at 0x0C6D83C8>"
       ]
      },
      {
       "metadata": {},
       "output_type": "display_data",
       "png": "[encoded data removed]",
       "text": [
        "<matplotlib.figure.Figure at 0x3a32410>"
       ]
      }
     ],
     "prompt_number": 3
    },
    {
     "cell_type": "code",
     "collapsed": false,
     "input": [
      "import pandas as pd\n",
      "\n",
      "frame = pd.DataFrame(np.random.randn(1000, 5), columns=['a', 'b', 'c', 'd', 'e'])\n",
      "df2 = frame\n",
      "\n",
      "frame.ix[::2] = np.nan\n",
      "\n",
      "# Series with Series\n",
      "frame['a'].corr(frame['b'])\n",
      "\n",
      "\n",
      "frame['a'].corr(frame['b'], method='spearman')\n",
      "\n",
      "# Pairwise correlation of DataFrame columns\n",
      "print frame.corr()"
     ],
     "language": "python",
     "metadata": {},
     "outputs": [
      {
       "output_type": "stream",
       "stream": "stdout",
       "text": [
        "          a         b         c         d         e\n",
        "a  1.000000  0.081308 -0.052451  0.041617 -0.016141\n",
        "b  0.081308  1.000000 -0.038402  0.026962  0.041808\n",
        "c -0.052451 -0.038402  1.000000 -0.026539  0.132845\n",
        "d  0.041617  0.026962 -0.026539  1.000000 -0.009836\n",
        "e -0.016141  0.041808  0.132845 -0.009836  1.000000\n"
       ]
      }
     ],
     "prompt_number": 4
    },
    {
     "cell_type": "code",
     "collapsed": false,
     "input": [
      "c1 = ('name',[])\n",
      "c2 = ('filter',[])\n",
      "c3 = ('date',[])\n",
      "c1[1].append('first')\n",
      "c1[1].append('second')\n",
      "c1[1].append('third')\n",
      "c2[1].append('PRISM')\n",
      "c2[1].append('HUE')\n",
      "c2[1].append('HUE')\n",
      "c3[1].append(1463462391)\n",
      "c3[1].append(1463462392)\n",
      "c3[1].append(1463462393)\n",
      "\n",
      "df3 = pd.DataFrame({c1[0] : c1[1], c2[0] : c2[1], c3[0] : c3[1]})\n",
      "\n",
      "df3filt = df3[df3['name'] == 'third']\n",
      "#print df3filt\n",
      "#print df3filt.index[0]\n",
      "#print df3filt.iloc[0]['filter']\n",
      "print df3[df3['name'] == 'third'].iloc[0]\n",
      "#print df3[df3['name'] == 'third'].iloc[0]['filter']\n",
      "\n",
      "#df3.get_value([df3['name'] == 'first'],'date') # how to reference date at a give name"
     ],
     "language": "python",
     "metadata": {},
     "outputs": [
      {
       "output_type": "stream",
       "stream": "stdout",
       "text": [
        "date      1463462393\n",
        "filter           HUE\n",
        "name           third\n",
        "Name: 2, dtype: object\n"
       ]
      }
     ],
     "prompt_number": 5
    },
    {
     "cell_type": "code",
     "collapsed": false,
     "input": [
      "    r = (\n",
      "    # People data\n",
      "            'distinct_id',\n",
      "            'sign_up',\n",
      "            'total_captures',\n",
      "            'user_name',\n",
      "    # Metrics / Stories, simple for now\n",
      "            'usage_duration', # time in seconds, sign_up - last capture\n",
      "            'usage_frequency', # captures / usage_duration\n",
      "            'retained', # last capture < 2months ago\n",
      "    # Default filters\n",
      "            'moreThanTwoFilters',\n",
      "            'twoFilters',\n",
      "            'prism',\n",
      "            'wavy',\n",
      "            'lightspeed',\n",
      "            'hue',\n",
      "            'tint',\n",
      "            'slow',\n",
      "            'dissolve',\n",
      "            'toon',\n",
      "            'pulp',\n",
      "            'mask',\n",
      "            'vidmix',\n",
      "            'pop',\n",
      "            'kaleido',\n",
      "            'faded',\n",
      "            'dilation',\n",
      "            'silo',\n",
      "            'xy',\n",
      "            'dot',\n",
      "            'pixel',\n",
      "            'point',\n",
      "            'hatch',\n",
      "            'draw',\n",
      "            'sobel',\n",
      "    # Paid filters\n",
      "            'color',\n",
      "            'pink',\n",
      "            'vhs01',\n",
      "            'melt',\n",
      "            'trails',\n",
      "            'lightleak',\n",
      "            'tile',\n",
      "            'chroma',\n",
      "            'rgb',\n",
      "            'swirl',\n",
      "            'wavy',\n",
      "            'contrast',\n",
      "            'diamond',\n",
      "            'twitch',\n",
      "            'reflect'\n",
      "        )\n",
      "    \n",
      "df4 = pd.DataFrame(columns=r)\n",
      "\n",
      "#for i in range(5):\n",
      "#        df4.loc[i] = ['asdasd', 1463462391, 69, 'quin69']     \n",
      "    \n",
      "print r.index('contrast')"
     ],
     "language": "python",
     "metadata": {},
     "outputs": [
      {
       "output_type": "stream",
       "stream": "stdout",
       "text": [
        "43\n"
       ]
      }
     ],
     "prompt_number": 6
    },
    {
     "cell_type": "code",
     "collapsed": false,
     "input": [
      "capturesFilename = 'D:\\Dropbox\\Clients\\GenerateApp\\Projects\\[GA01] Project Name\\_Project Files\\_Software\\Data\\captures_2016-05-10_to_2016-05-13.json'\n",
      "dfCap = pd.read_pickle(capturesFilename[:-5] + '.pkl')\n",
      "gbCap = dfCap.groupby(['distinct_id'])\n",
      "su = 1451625591\n",
      "caps = 69\n",
      "\n",
      "for i,dId in enumerate(gbCap.groups):\n",
      "\n",
      "    gbCap.get_group(dId)\n",
      "    \n",
      "    if i > 5:\n",
      "        break"
     ],
     "language": "python",
     "metadata": {},
     "outputs": [
      {
       "output_type": "stream",
       "stream": "stdout",
       "text": [
        "                               distinct_id  filters        time\n",
        "3378  C9ECF947-DCAF-4A0B-BC1D-D09303A3CB87  [PRISM]  1463116683\n",
        "                               distinct_id  filters        time\n",
        "4430  995B5DC8-1A05-48F6-A3E7-1885A163F419  [PRISM]  1462916851\n",
        "4431  995B5DC8-1A05-48F6-A3E7-1885A163F419  [PRISM]  1462916858\n",
        "4437  995B5DC8-1A05-48F6-A3E7-1885A163F419  [PRISM]  1463073674\n",
        "4439  995B5DC8-1A05-48F6-A3E7-1885A163F419  [PRISM]  1463073746\n",
        "4441  995B5DC8-1A05-48F6-A3E7-1885A163F419  [PRISM]  1463087972\n",
        "4442  995B5DC8-1A05-48F6-A3E7-1885A163F419  [PRISM]  1463088170\n",
        "                               distinct_id        filters        time\n",
        "1512  4746E85B-5CEE-42A1-92CA-8FA5D8F9AC85   [PRISM, HUE]  1462997155\n",
        "1513  4746E85B-5CEE-42A1-92CA-8FA5D8F9AC85   [PRISM, HUE]  1462997201\n",
        "1517  4746E85B-5CEE-42A1-92CA-8FA5D8F9AC85  [PRISM, TINT]  1463079268\n",
        "1518  4746E85B-5CEE-42A1-92CA-8FA5D8F9AC85  [PRISM, TINT]  1463079456\n",
        "                               distinct_id             filters        time\n",
        "4038  d46d0fe6-e01f-4eee-a0f8-77433a52ec8e  [PRISM, NO FILTER]  1463064143\n",
        "4039  d46d0fe6-e01f-4eee-a0f8-77433a52ec8e    [HUE, NO FILTER]  1463064227\n",
        "                             distinct_id  filters        time\n",
        "83  50F2097C-F711-41F6-ABA4-09378D393782  [PRISM]  1462991241\n",
        "                               distinct_id filters        time\n",
        "1015  A7578E3B-C472-4287-AD78-6BA3F6606659      []  1463092791\n",
        "1016  A7578E3B-C472-4287-AD78-6BA3F6606659      []  1463092874\n",
        "     distinct_id  filters        time\n",
        "3282  6Reh9U9qfb  [PRISM]  1463137719\n",
        "3283  6Reh9U9qfb  [PRISM]  1463137805\n",
        "3284  6Reh9U9qfb  [PRISM]  1463137799\n"
       ]
      }
     ],
     "prompt_number": 111
    },
    {
     "cell_type": "code",
     "collapsed": false,
     "input": [
      "#df['E'] = [True,True,False,False,False]\n",
      "df['E'] = df['E'].astype(int)"
     ],
     "language": "python",
     "metadata": {},
     "outputs": [],
     "prompt_number": 127
    },
    {
     "cell_type": "code",
     "collapsed": false,
     "input": [
      "import pandas\n",
      "import matplotlib.pyplot as plt\n",
      "import numpy as np\n",
      "\n",
      "#capturesFilename = 'D:\\Dropbox\\Clients\\GenerateApp\\Projects\\[GA01] Project Name\\_Project Files\\_Software\\Data\\\\2016-05-18T10.20.22_Metrics.pkl'\n",
      "#df = pd.read_pickle(capturesFilename)\n",
      "df = pandas.DataFrame(dict(graph=['b', 'a', 'a', 'a', 'b'],\n",
      "                           signup=[3, 5, 2,3,8], caps=[6, np.nan, 3,1,1], PRISM=[1,2,1,0,2])) \n",
      "\n",
      "print df.columns.values.tolist()\n",
      "df.drop('graph', axis=1, inplace=True)\n",
      "\n",
      "ind = np.arange(len(df.columns.values.tolist()))\n",
      "std = [df[col].std() for col in df]\n",
      "count = [len(df[col].dropna()) for col in df]\n",
      "labels = [col for col in df]\n",
      "print ind\n",
      "print std\n",
      "print count\n",
      "print labels\n",
      "width = 0.4\n",
      "\n",
      "\n",
      "fig, ax = plt.subplots()\n",
      "ax.barh(ind, std, width, color='red', label='Nstd')\n",
      "ax.barh(ind + width, count, width, color='green', label='Mstd')\n",
      "\n",
      "ax.set(yticks=ind + width, yticklabels=labels, ylim=[2*width - 1, len(df)])\n",
      "ax.legend()"
     ],
     "language": "python",
     "metadata": {},
     "outputs": [
      {
       "output_type": "stream",
       "stream": "stdout",
       "text": [
        "['PRISM', 'caps', 'graph', 'signup']\n",
        "[0 1 2]\n",
        "[0.83666002653407556, 2.3629078131263039, 2.3874672772626644]\n",
        "[5, 4, 5]\n",
        "['PRISM', 'caps', 'signup']\n"
       ]
      },
      {
       "metadata": {},
       "output_type": "pyout",
       "prompt_number": 36,
       "text": [
        "<matplotlib.legend.Legend at 0x14bc21d0>"
       ]
      },
      {
       "metadata": {},
       "output_type": "display_data",
       "png": "[encoded data removed]",
       "text": [
        "<matplotlib.figure.Figure at 0x14b9d590>"
       ]
      }
     ],
     "prompt_number": 36
    },
    {
     "cell_type": "code",
     "collapsed": false,
     "input": [
      "print df\n",
      "#df.index = labels\n",
      "#df.T.boxplot(vert=False)\n",
      "ax=df.boxplot(vert=False)\n",
      "#plt.subplots_adjust(left=0.25)"
     ],
     "language": "python",
     "metadata": {},
     "outputs": [
      {
       "output_type": "stream",
       "stream": "stdout",
       "text": [
        "   PRISM  caps  signup\n",
        "0      1     6       3\n",
        "1      2   NaN       5\n",
        "2      1     3       2\n",
        "3      0     1       3\n",
        "4      2     1       8\n"
       ]
      },
      {
       "metadata": {},
       "output_type": "display_data",
       "png": "[encoded data removed]",
       "text": [
        "<matplotlib.figure.Figure at 0x14963e50>"
       ]
      }
     ],
     "prompt_number": 45
    },
    {
     "cell_type": "code",
     "collapsed": false,
     "input": [
      "df = pandas.DataFrame(dict(graph=['b', 'a', 'a', 'a', 'b'],\n",
      "                           signup=[3, 5, 2,0.0,0], caps=[0, np.nan, 3,1,1], PRISM=[1,2,1,0,2])) \n",
      "gb = df.groupby(['graph'])\n",
      "\n",
      "df = df.replace(0,1)\n",
      "print df"
     ],
     "language": "python",
     "metadata": {},
     "outputs": [
      {
       "output_type": "stream",
       "stream": "stdout",
       "text": [
        "   PRISM  caps graph  signup\n",
        "0      1     1     b       3\n",
        "1      2   NaN     a       5\n",
        "2      1     3     a       2\n",
        "3      1     1     a       1\n",
        "4      2     1     b       1\n"
       ]
      }
     ],
     "prompt_number": 88
    },
    {
     "cell_type": "code",
     "collapsed": false,
     "input": [
      "import pandas as pd\n",
      "pd.set_option('display.expand_frame_repr', False)\n",
      "import numpy as np\n",
      "import csv\n",
      "import re\n",
      "import json\n",
      "import time\n",
      "import datetime\n",
      "import matplotlib.pyplot as plt\n",
      "from pprint import pprint\n",
      "%pylab inline\n",
      "\n",
      "path = 'Z:\\\\Clients\\\\GenerateApp\\\\Projects\\\\[GA01] Project Name\\\\_Project Files\\\\_Software\\\\Data\\\\'\n",
      "histogramPickle = '2016-07-07T09.42.04_Histogram.pkl'\n",
      "\n",
      "df = pd.read_pickle(path + histogramPickle)\n",
      "\n",
      "print df.head()"
     ],
     "language": "python",
     "metadata": {},
     "outputs": [
      {
       "output_type": "stream",
       "stream": "stdout",
       "text": [
        "Populating the interactive namespace from numpy and matplotlib\n",
        "                            distinct_id  total_captures  total_filterComb\n",
        "0  000A43D4-E407-428D-B215-5F7EB518FAA9               1                 1\n",
        "1  000E9A88-4675-47D0-9805-424164FB0B1A              24                 6\n",
        "2  001013ec-0493-4522-9652-464e00e30a1f              11                 1\n",
        "3  001569B8-7117-469E-BE15-321CA8467090               4                 1\n",
        "4  00166185-02AC-4037-AA4F-2362FEFE84C8              23                 2"
       ]
      },
      {
       "output_type": "stream",
       "stream": "stdout",
       "text": [
        "\n"
       ]
      },
      {
       "output_type": "stream",
       "stream": "stderr",
       "text": [
        "WARNING: pylab import has clobbered these variables: ['f']\n",
        "`%matplotlib` prevents importing * from pylab and numpy\n"
       ]
      }
     ],
     "prompt_number": 20
    },
    {
     "cell_type": "code",
     "collapsed": false,
     "input": [
      "x = np.array(df[df['total_captures']<10]['total_captures'])\n",
      "n, bins, patches = plt.hist(x, 20, normed=0, facecolor='green', alpha=0.75)\n",
      "print n, bins, patches\n",
      "\n",
      "plt.xlabel('Captures')\n",
      "plt.ylabel('Number of Users')\n",
      "plt.grid(True)"
     ],
     "language": "python",
     "metadata": {},
     "outputs": [
      {
       "output_type": "stream",
       "stream": "stdout",
       "text": [
        "[  186.     0.  3387.     0.  2486.     0.  1856.     0.  1531.     0.\n",
        "     0.  1171.     0.   970.     0.   838.     0.   651.     0.   579.] [ 0.    0.45  0.9   1.35  1.8   2.25  2.7   3.15  3.6   4.05  4.5   4.95\n",
        "  5.4   5.85  6.3   6.75  7.2   7.65  8.1   8.55  9.  ] <a list of 20 Patch objects>\n"
       ]
      },
      {
       "metadata": {},
       "output_type": "display_data",
       "png": "[encoded data removed]",
       "text": [
        "<matplotlib.figure.Figure at 0x29bc7b90>"
       ]
      }
     ],
     "prompt_number": 49
    },
    {
     "cell_type": "code",
     "collapsed": false,
     "input": [
      "y = np.array(df[df['total_captures']>10][df['total_captures']<50]['total_captures'])\n",
      "n, bins, patches = plt.hist(y, 101, normed=0, facecolor='green', alpha=0.75)\n",
      "print n, bins, patches\n",
      "\n",
      "plt.xlabel('Captures')\n",
      "plt.ylabel('Number of Users')\n",
      "plt.grid(True)"
     ],
     "language": "python",
     "metadata": {},
     "outputs": [
      {
       "output_type": "stream",
       "stream": "stdout",
       "text": [
        "[ 470.    0.  401.    0.    0.  384.    0.  300.    0.    0.  265.    0.\n",
        "    0.  242.    0.  226.    0.    0.  214.    0.    0.  174.    0.  171.\n",
        "    0.    0.  136.    0.    0.  160.    0.  124.    0.    0.  111.    0.\n",
        "    0.  122.    0.  109.    0.    0.   90.    0.    0.  108.    0.   92.\n",
        "    0.    0.   87.    0.    0.   76.    0.   65.    0.    0.   75.    0.\n",
        "    0.   73.    0.   65.    0.    0.   61.    0.    0.   61.    0.   39.\n",
        "    0.    0.   49.    0.    0.   42.    0.   55.    0.    0.   42.    0.\n",
        "    0.   32.    0.   36.    0.    0.   43.    0.    0.   36.    0.   29.\n",
        "    0.    0.   36.    0.   36.] [ 11.          11.37623762  11.75247525  12.12871287  12.5049505\n",
        "  12.88118812  13.25742574  13.63366337  14.00990099  14.38613861\n",
        "  14.76237624  15.13861386  15.51485149  15.89108911  16.26732673\n",
        "  16.64356436  17.01980198  17.3960396   17.77227723  18.14851485\n",
        "  18.52475248  18.9009901   19.27722772  19.65346535  20.02970297\n",
        "  20.40594059  20.78217822  21.15841584  21.53465347  21.91089109\n",
        "  22.28712871  22.66336634  23.03960396  23.41584158  23.79207921\n",
        "  24.16831683  24.54455446  24.92079208  25.2970297   25.67326733\n",
        "  26.04950495  26.42574257  26.8019802   27.17821782  27.55445545\n",
        "  27.93069307  28.30693069  28.68316832  29.05940594  29.43564356\n",
        "  29.81188119  30.18811881  30.56435644  30.94059406  31.31683168\n",
        "  31.69306931  32.06930693  32.44554455  32.82178218  33.1980198\n",
        "  33.57425743  33.95049505  34.32673267  34.7029703   35.07920792\n",
        "  35.45544554  35.83168317  36.20792079  36.58415842  36.96039604\n",
        "  37.33663366  37.71287129  38.08910891  38.46534653  38.84158416\n",
        "  39.21782178  39.59405941  39.97029703  40.34653465  40.72277228\n",
        "  41.0990099   41.47524752  41.85148515  42.22772277  42.6039604\n",
        "  42.98019802  43.35643564  43.73267327  44.10891089  44.48514851\n",
        "  44.86138614  45.23762376  45.61386139  45.99009901  46.36633663\n",
        "  46.74257426  47.11881188  47.4950495   47.87128713  48.24752475\n",
        "  48.62376238  49.        ] <a list of 101 Patch objects>\n"
       ]
      },
      {
       "metadata": {},
       "output_type": "display_data",
       "png": "[encoded data removed]",
       "text": [
        "<matplotlib.figure.Figure at 0x257f2930>"
       ]
      }
     ],
     "prompt_number": 75
    },
    {
     "cell_type": "code",
     "collapsed": false,
     "input": [
      "z = np.array(df[df['total_captures']>50][df['total_captures']<500]['total_captures'])\n",
      "n, bins, patches = plt.hist(z, 601, normed=0, facecolor='green', alpha=0.75)\n",
      "#print n, bins, patches\n",
      "\n",
      "plt.xlabel('Captures')\n",
      "plt.ylabel('Number of Users')\n",
      "plt.grid(True)"
     ],
     "language": "python",
     "metadata": {},
     "outputs": [
      {
       "metadata": {},
       "output_type": "display_data",
       "png": "[encoded data removed]",
       "text": [
        "<matplotlib.figure.Figure at 0x2ac80a10>"
       ]
      }
     ],
     "prompt_number": 76
    },
    {
     "cell_type": "code",
     "collapsed": false,
     "input": [
      "x = np.array(df[df['total_filterComb']>0][df['total_filterComb']<5]['total_filterComb'])\n",
      "n, bins, patches = plt.hist(x, 21, normed=0, facecolor='green', alpha=0.75)\n",
      "print n, bins, patches\n",
      "\n",
      "plt.xlabel('Unique Filters Comb')\n",
      "plt.ylabel('Number of Users')\n",
      "plt.grid(True)"
     ],
     "language": "python",
     "metadata": {},
     "outputs": [
      {
       "output_type": "stream",
       "stream": "stdout",
       "text": [
        "[ 10172.      0.      0.      0.      0.      0.      0.   4159.      0.\n",
        "      0.      0.      0.      0.      0.   2034.      0.      0.      0.\n",
        "      0.      0.   1180.] [ 1.          1.14285714  1.28571429  1.42857143  1.57142857  1.71428571\n",
        "  1.85714286  2.          2.14285714  2.28571429  2.42857143  2.57142857\n",
        "  2.71428571  2.85714286  3.          3.14285714  3.28571429  3.42857143\n",
        "  3.57142857  3.71428571  3.85714286  4.        ] <a list of 21 Patch objects>\n"
       ]
      },
      {
       "metadata": {},
       "output_type": "display_data",
       "png": "[encoded data removed]",
       "text": [
        "<matplotlib.figure.Figure at 0x21593d30>"
       ]
      }
     ],
     "prompt_number": 88
    },
    {
     "cell_type": "code",
     "collapsed": false,
     "input": [
      "x = np.array(df[df['total_filterComb']>4][df['total_filterComb']<20]['total_filterComb'])\n",
      "n, bins, patches = plt.hist(x, 41, normed=0, facecolor='green', alpha=0.75)\n",
      "print n, bins, patches\n",
      "\n",
      "plt.xlabel('Unique Filters Comb')\n",
      "plt.ylabel('Number of Users')\n",
      "plt.grid(True)"
     ],
     "language": "python",
     "metadata": {},
     "outputs": [
      {
       "output_type": "stream",
       "stream": "stdout",
       "text": [
        "[ 762.    0.  503.    0.    0.  350.    0.    0.  221.    0.    0.  191.\n",
        "    0.    0.  126.    0.    0.   96.    0.    0.   80.    0.    0.   43.\n",
        "    0.    0.   47.    0.    0.   23.    0.    0.   35.    0.    0.   20.\n",
        "    0.    0.   19.    0.   19.] [  5.           5.34146341   5.68292683   6.02439024   6.36585366\n",
        "   6.70731707   7.04878049   7.3902439    7.73170732   8.07317073\n",
        "   8.41463415   8.75609756   9.09756098   9.43902439   9.7804878\n",
        "  10.12195122  10.46341463  10.80487805  11.14634146  11.48780488\n",
        "  11.82926829  12.17073171  12.51219512  12.85365854  13.19512195\n",
        "  13.53658537  13.87804878  14.2195122   14.56097561  14.90243902\n",
        "  15.24390244  15.58536585  15.92682927  16.26829268  16.6097561\n",
        "  16.95121951  17.29268293  17.63414634  17.97560976  18.31707317\n",
        "  18.65853659  19.        ] <a list of 41 Patch objects>\n"
       ]
      },
      {
       "metadata": {},
       "output_type": "display_data",
       "png": "[encoded data removed]",
       "text": [
        "<matplotlib.figure.Figure at 0x2a721d10>"
       ]
      }
     ],
     "prompt_number": 89
    },
    {
     "cell_type": "code",
     "collapsed": false,
     "input": [
      "x = np.array(df[df['total_filterComb']>10][df['total_filterComb']<30]['total_filterComb'])\n",
      "n, bins, patches = plt.hist(x, 41, normed=0, facecolor='green', alpha=0.75)\n",
      "print n, bins, patches\n",
      "\n",
      "plt.xlabel('Unique Filters Comb')\n",
      "plt.ylabel('Number of Users')\n",
      "plt.grid(True)"
     ],
     "language": "python",
     "metadata": {},
     "outputs": [
      {
       "output_type": "stream",
       "stream": "stdout",
       "text": [
        "[ 96.   0.  80.   0.  43.   0.  47.   0.   0.  23.   0.  35.   0.  20.   0.\n",
        "  19.   0.   0.  19.   0.  12.   0.  10.   0.   0.   7.   0.   8.   0.  11.\n",
        "   0.  10.   0.   0.   8.   0.   5.   0.   5.   0.   3.] [ 11.          11.43902439  11.87804878  12.31707317  12.75609756\n",
        "  13.19512195  13.63414634  14.07317073  14.51219512  14.95121951\n",
        "  15.3902439   15.82926829  16.26829268  16.70731707  17.14634146\n",
        "  17.58536585  18.02439024  18.46341463  18.90243902  19.34146341\n",
        "  19.7804878   20.2195122   20.65853659  21.09756098  21.53658537\n",
        "  21.97560976  22.41463415  22.85365854  23.29268293  23.73170732\n",
        "  24.17073171  24.6097561   25.04878049  25.48780488  25.92682927\n",
        "  26.36585366  26.80487805  27.24390244  27.68292683  28.12195122\n",
        "  28.56097561  29.        ] <a list of 41 Patch objects>\n"
       ]
      },
      {
       "metadata": {},
       "output_type": "display_data",
       "png": "[encoded data removed]",
       "text": [
        "<matplotlib.figure.Figure at 0x2aa7f870>"
       ]
      }
     ],
     "prompt_number": 91
    },
    {
     "cell_type": "code",
     "collapsed": false,
     "input": [
      "x = np.array(df[df['total_filterComb']>25][df['total_filterComb']<70]['total_filterComb'])\n",
      "n, bins, patches = plt.hist(x, 81, normed=0, facecolor='green', alpha=0.75)\n",
      "#print n, bins, patches\n",
      "\n",
      "plt.xlabel('Unique Filters Comb')\n",
      "plt.ylabel('Number of Users')\n",
      "plt.grid(True)"
     ],
     "language": "python",
     "metadata": {},
     "outputs": [
      {
       "metadata": {},
       "output_type": "display_data",
       "png": "[encoded data removed]",
       "text": [
        "<matplotlib.figure.Figure at 0x30835310>"
       ]
      }
     ],
     "prompt_number": 97
    },
    {
     "cell_type": "code",
     "collapsed": false,
     "input": [
      "x = np.array(df[df['total_filterComb']>50]['total_filterComb'])\n",
      "n, bins, patches = plt.hist(x, 81, normed=0, facecolor='green', alpha=0.75)\n",
      "#print n, bins, patches\n",
      "\n",
      "plt.xlabel('Unique Filters Comb')\n",
      "plt.ylabel('Number of Users')\n",
      "plt.grid(True)"
     ],
     "language": "python",
     "metadata": {},
     "outputs": [
      {
       "metadata": {},
       "output_type": "display_data",
       "png": "[encoded data removed]",
       "text": [
        "<matplotlib.figure.Figure at 0x28d3e6f0>"
       ]
      }
     ],
     "prompt_number": 98
    },
    {
     "cell_type": "code",
     "collapsed": false,
     "input": [
      "bins = [[0,0,0,0,0]]*5\n",
      "print bins"
     ],
     "language": "python",
     "metadata": {},
     "outputs": [
      {
       "output_type": "stream",
       "stream": "stdout",
       "text": [
        "[[0, 0, 0, 0, 0], [0, 0, 0, 0, 0], [0, 0, 0, 0, 0], [0, 0, 0, 0, 0], [0, 0, 0, 0, 0]]\n"
       ]
      }
     ],
     "prompt_number": 18
    },
    {
     "cell_type": "code",
     "collapsed": false,
     "input": [
      "s = [u'PRISM']\n",
      "if 'PRISM' in s:\n",
      "    print 'here'"
     ],
     "language": "python",
     "metadata": {},
     "outputs": [
      {
       "output_type": "stream",
       "stream": "stdout",
       "text": [
        "here\n"
       ]
      }
     ],
     "prompt_number": 19
    },
    {
     "cell_type": "code",
     "collapsed": false,
     "input": [
      "import pandas as pd\n",
      "pd.set_option('display.expand_frame_repr', False)\n",
      "import numpy as np\n",
      "import csv\n",
      "import re\n",
      "import json\n",
      "import time\n",
      "import datetime\n",
      "import matplotlib.pyplot as plt\n",
      "import pickle\n",
      "from pprint import pprint\n",
      "\n",
      "###  I SHOULD FILTER THE FOLLOWING PRISM, OTHER SINGLE, OTHER DOUBLE, HUE, TINT\n",
      "\n",
      "path = 'Z:\\\\Clients\\\\GenerateApp\\\\Projects\\\\[GA01] Project Name\\\\_Project Files\\\\_Software\\\\Data\\\\'\n",
      "    \n",
      "capturesPickle = '2016-05-18T09.35.32_capture_All.pkl'\n",
      "\n",
      "bins = []\n",
      "for i in range(300):\n",
      "    bins.append([0,0,0,0,0])\n",
      "\n",
      "dfCap = pd.read_pickle(path + capturesPickle)\n",
      "gbCap = dfCap.groupby(['distinct_id'])\n",
      "i=0\n",
      "\n",
      "for dId,group in gbCap:\n",
      "    \n",
      "    # b = [PRISM, OTHER SINGLE, OTHER DOUBLE, HUE, TINT]\n",
      "    b = bins[len(group)]\n",
      "    \n",
      "    for flt in group['filters']:\n",
      "        \n",
      "        print flt\n",
      "        \n",
      "        if len(flt) > 1: # OTHER DOUBLE\n",
      "            b[2] += 1\n",
      "        elif 'PRISM' in flt:\n",
      "            b[0] += 1\n",
      "        elif 'HUE' in flt:\n",
      "            b[3] += 1\n",
      "        elif 'TINT' in flt:\n",
      "            b[4] += 1\n",
      "        else: # OTHER SINGLE\n",
      "            b[1] += 1\n",
      "        \n",
      "    bins[len(group)] = b\n",
      "    \n",
      "    print b\n",
      "   \n",
      "    if i > 5:\n",
      "        break\n",
      "    i += 1\n",
      "\n",
      "pickle.dump(bins, open( \"save.p\", \"wb\" ) )\n",
      "#print bins\n",
      "    \n",
      "    "
     ],
     "language": "python",
     "metadata": {},
     "outputs": [
      {
       "output_type": "stream",
       "stream": "stdout",
       "text": [
        "Populating the interactive namespace from numpy and matplotlib\n",
        "[u'LIGHTSPEED']"
       ]
      },
      {
       "output_type": "stream",
       "stream": "stdout",
       "text": [
        "\n",
        "[0, 1, 0, 0, 0]\n",
        "[u'PRISM']\n",
        "[u'PRISM']\n",
        "[u'PRISM', u'LIGHTSPEED']\n",
        "[u'PRISM', u'LIGHTSPEED']\n",
        "[u'PRISM']\n",
        "[u'PRISM']\n",
        "[u'PRISM']\n",
        "[u'PRISM', u'LIGHTSPEED']\n",
        "[u'PRISM']\n",
        "[u'PRISM', u'LIGHTSPEED']\n",
        "[u'PRISM']\n",
        "[u'PRISM', u'TINT']\n",
        "[u'PRISM']\n",
        "[u'PRISM']\n",
        "[u'PRISM']\n",
        "[u'PRISM']\n",
        "[u'PRISM']\n",
        "[u'PRISM']\n",
        "[u'PRISM']\n",
        "[u'PRISM']\n",
        "[u'PRISM']\n",
        "[u'PRISM', u'HUE']\n",
        "[u'TWITCH', u'TILE']\n",
        "[u'VHS 01', u'TILE']\n",
        "[u'PRISM']\n",
        "[17, 0, 8, 0, 0]\n",
        "['PRISM', 'TINT']\n",
        "[0, 1, 1, 0, 0]\n",
        "[u'PRISM', u'WAVY']\n",
        "[u'PRISM']\n",
        "[1, 0, 1, 0, 0]\n",
        "[u'PRISM']\n",
        "[u'PRISM']\n",
        "[u'PRISM']\n",
        "[u'PRISM']\n",
        "[4, 0, 0, 0, 0]\n",
        "[u'PRISM']\n",
        "[u'HUE']\n",
        "[u'PRISM']\n",
        "[u'PRISM']\n",
        "[u'HUE']\n",
        "[u'HUE']\n",
        "[u'HUE']\n",
        "[u'HUE']\n",
        "[u'HUE']\n",
        "[3, 0, 0, 6, 0]\n",
        "[u'PRISM']\n",
        "[u'PRISM']\n",
        "[u'PRISM']\n",
        "[3, 0, 0, 0, 0]\n",
        "[[0, 0, 0, 0, 0], [0, 1, 1, 0, 0], [1, 0, 1, 0, 0], [3, 0, 0, 0, 0], [4, 0, 0, 0, 0], [0, 0, 0, 0, 0], [0, 0, 0, 0, 0], [0, 0, 0, 0, 0], [0, 0, 0, 0, 0], [3, 0, 0, 6, 0], [0, 0, 0, 0, 0], [0, 0, 0, 0, 0], [0, 0, 0, 0, 0], [0, 0, 0, 0, 0], [0, 0, 0, 0, 0], [0, 0, 0, 0, 0], [0, 0, 0, 0, 0], [0, 0, 0, 0, 0], [0, 0, 0, 0, 0], [0, 0, 0, 0, 0], [0, 0, 0, 0, 0], [0, 0, 0, 0, 0], [0, 0, 0, 0, 0], [0, 0, 0, 0, 0], [0, 0, 0, 0, 0], [17, 0, 8, 0, 0], [0, 0, 0, 0, 0], [0, 0, 0, 0, 0], [0, 0, 0, 0, 0], [0, 0, 0, 0, 0], [0, 0, 0, 0, 0], [0, 0, 0, 0, 0], [0, 0, 0, 0, 0], [0, 0, 0, 0, 0], [0, 0, 0, 0, 0], [0, 0, 0, 0, 0], [0, 0, 0, 0, 0], [0, 0, 0, 0, 0], [0, 0, 0, 0, 0], [0, 0, 0, 0, 0], [0, 0, 0, 0, 0], [0, 0, 0, 0, 0], [0, 0, 0, 0, 0], [0, 0, 0, 0, 0], [0, 0, 0, 0, 0], [0, 0, 0, 0, 0], [0, 0, 0, 0, 0], [0, 0, 0, 0, 0], [0, 0, 0, 0, 0], [0, 0, 0, 0, 0], [0, 0, 0, 0, 0], [0, 0, 0, 0, 0], [0, 0, 0, 0, 0], [0, 0, 0, 0, 0], [0, 0, 0, 0, 0], [0, 0, 0, 0, 0], [0, 0, 0, 0, 0], [0, 0, 0, 0, 0], [0, 0, 0, 0, 0], [0, 0, 0, 0, 0], [0, 0, 0, 0, 0], [0, 0, 0, 0, 0], [0, 0, 0, 0, 0], [0, 0, 0, 0, 0], [0, 0, 0, 0, 0], [0, 0, 0, 0, 0], [0, 0, 0, 0, 0], [0, 0, 0, 0, 0], [0, 0, 0, 0, 0], [0, 0, 0, 0, 0], [0, 0, 0, 0, 0], [0, 0, 0, 0, 0], [0, 0, 0, 0, 0], [0, 0, 0, 0, 0], [0, 0, 0, 0, 0], [0, 0, 0, 0, 0], [0, 0, 0, 0, 0], [0, 0, 0, 0, 0], [0, 0, 0, 0, 0], [0, 0, 0, 0, 0], [0, 0, 0, 0, 0], [0, 0, 0, 0, 0], [0, 0, 0, 0, 0], [0, 0, 0, 0, 0], [0, 0, 0, 0, 0], [0, 0, 0, 0, 0], [0, 0, 0, 0, 0], [0, 0, 0, 0, 0], [0, 0, 0, 0, 0], [0, 0, 0, 0, 0], [0, 0, 0, 0, 0], [0, 0, 0, 0, 0], [0, 0, 0, 0, 0], [0, 0, 0, 0, 0], [0, 0, 0, 0, 0], [0, 0, 0, 0, 0], [0, 0, 0, 0, 0], [0, 0, 0, 0, 0], [0, 0, 0, 0, 0], [0, 0, 0, 0, 0], [0, 0, 0, 0, 0], [0, 0, 0, 0, 0], [0, 0, 0, 0, 0], [0, 0, 0, 0, 0], [0, 0, 0, 0, 0], [0, 0, 0, 0, 0], [0, 0, 0, 0, 0], [0, 0, 0, 0, 0], [0, 0, 0, 0, 0], [0, 0, 0, 0, 0], [0, 0, 0, 0, 0], [0, 0, 0, 0, 0], [0, 0, 0, 0, 0], [0, 0, 0, 0, 0], [0, 0, 0, 0, 0], [0, 0, 0, 0, 0], [0, 0, 0, 0, 0], [0, 0, 0, 0, 0], [0, 0, 0, 0, 0], [0, 0, 0, 0, 0], [0, 0, 0, 0, 0], [0, 0, 0, 0, 0], [0, 0, 0, 0, 0], [0, 0, 0, 0, 0], [0, 0, 0, 0, 0], [0, 0, 0, 0, 0], [0, 0, 0, 0, 0], [0, 0, 0, 0, 0], [0, 0, 0, 0, 0], [0, 0, 0, 0, 0], [0, 0, 0, 0, 0], [0, 0, 0, 0, 0], [0, 0, 0, 0, 0], [0, 0, 0, 0, 0], [0, 0, 0, 0, 0], [0, 0, 0, 0, 0], [0, 0, 0, 0, 0], [0, 0, 0, 0, 0], [0, 0, 0, 0, 0], [0, 0, 0, 0, 0], [0, 0, 0, 0, 0], [0, 0, 0, 0, 0], [0, 0, 0, 0, 0], [0, 0, 0, 0, 0], [0, 0, 0, 0, 0], [0, 0, 0, 0, 0], [0, 0, 0, 0, 0], [0, 0, 0, 0, 0], [0, 0, 0, 0, 0], [0, 0, 0, 0, 0], [0, 0, 0, 0, 0], [0, 0, 0, 0, 0], [0, 0, 0, 0, 0], [0, 0, 0, 0, 0], [0, 0, 0, 0, 0], [0, 0, 0, 0, 0], [0, 0, 0, 0, 0], [0, 0, 0, 0, 0], [0, 0, 0, 0, 0], [0, 0, 0, 0, 0], [0, 0, 0, 0, 0], [0, 0, 0, 0, 0], [0, 0, 0, 0, 0], [0, 0, 0, 0, 0], [0, 0, 0, 0, 0], [0, 0, 0, 0, 0], [0, 0, 0, 0, 0], [0, 0, 0, 0, 0], [0, 0, 0, 0, 0], [0, 0, 0, 0, 0], [0, 0, 0, 0, 0], [0, 0, 0, 0, 0], [0, 0, 0, 0, 0], [0, 0, 0, 0, 0], [0, 0, 0, 0, 0], [0, 0, 0, 0, 0], [0, 0, 0, 0, 0], [0, 0, 0, 0, 0], [0, 0, 0, 0, 0], [0, 0, 0, 0, 0], [0, 0, 0, 0, 0], [0, 0, 0, 0, 0], [0, 0, 0, 0, 0], [0, 0, 0, 0, 0], [0, 0, 0, 0, 0], [0, 0, 0, 0, 0], [0, 0, 0, 0, 0], [0, 0, 0, 0, 0], [0, 0, 0, 0, 0], [0, 0, 0, 0, 0], [0, 0, 0, 0, 0], [0, 0, 0, 0, 0], [0, 0, 0, 0, 0], [0, 0, 0, 0, 0], [0, 0, 0, 0, 0], [0, 0, 0, 0, 0], [0, 0, 0, 0, 0], [0, 0, 0, 0, 0], [0, 0, 0, 0, 0], [0, 0, 0, 0, 0], [0, 0, 0, 0, 0], [0, 0, 0, 0, 0], [0, 0, 0, 0, 0], [0, 0, 0, 0, 0], [0, 0, 0, 0, 0], [0, 0, 0, 0, 0], [0, 0, 0, 0, 0], [0, 0, 0, 0, 0], [0, 0, 0, 0, 0], [0, 0, 0, 0, 0], [0, 0, 0, 0, 0], [0, 0, 0, 0, 0], [0, 0, 0, 0, 0], [0, 0, 0, 0, 0], [0, 0, 0, 0, 0], [0, 0, 0, 0, 0], [0, 0, 0, 0, 0], [0, 0, 0, 0, 0], [0, 0, 0, 0, 0], [0, 0, 0, 0, 0], [0, 0, 0, 0, 0], [0, 0, 0, 0, 0], [0, 0, 0, 0, 0], [0, 0, 0, 0, 0], [0, 0, 0, 0, 0], [0, 0, 0, 0, 0], [0, 0, 0, 0, 0], [0, 0, 0, 0, 0], [0, 0, 0, 0, 0], [0, 0, 0, 0, 0], [0, 0, 0, 0, 0], [0, 0, 0, 0, 0], [0, 0, 0, 0, 0], [0, 0, 0, 0, 0], [0, 0, 0, 0, 0], [0, 0, 0, 0, 0], [0, 0, 0, 0, 0], [0, 0, 0, 0, 0], [0, 0, 0, 0, 0], [0, 0, 0, 0, 0], [0, 0, 0, 0, 0], [0, 0, 0, 0, 0], [0, 0, 0, 0, 0], [0, 0, 0, 0, 0], [0, 0, 0, 0, 0], [0, 0, 0, 0, 0], [0, 0, 0, 0, 0], [0, 0, 0, 0, 0], [0, 0, 0, 0, 0], [0, 0, 0, 0, 0], [0, 0, 0, 0, 0], [0, 0, 0, 0, 0], [0, 0, 0, 0, 0], [0, 0, 0, 0, 0], [0, 0, 0, 0, 0], [0, 0, 0, 0, 0], [0, 0, 0, 0, 0], [0, 0, 0, 0, 0], [0, 0, 0, 0, 0], [0, 0, 0, 0, 0], [0, 0, 0, 0, 0], [0, 0, 0, 0, 0], [0, 0, 0, 0, 0], [0, 0, 0, 0, 0], [0, 0, 0, 0, 0], [0, 0, 0, 0, 0], [0, 0, 0, 0, 0], [0, 0, 0, 0, 0], [0, 0, 0, 0, 0], [0, 0, 0, 0, 0], [0, 0, 0, 0, 0], [0, 0, 0, 0, 0], [0, 0, 0, 0, 0], [0, 0, 0, 0, 0], [0, 0, 0, 0, 0], [0, 0, 0, 0, 0], [0, 0, 0, 0, 0], [0, 0, 0, 0, 0], [0, 0, 0, 0, 0], [0, 0, 0, 0, 0], [0, 0, 0, 0, 0], [0, 0, 0, 0, 0], [0, 0, 0, 0, 0], [0, 0, 0, 0, 0], [0, 0, 0, 0, 0], [0, 0, 0, 0, 0], [0, 0, 0, 0, 0], [0, 0, 0, 0, 0], [0, 0, 0, 0, 0], [0, 0, 0, 0, 0], [0, 0, 0, 0, 0], [0, 0, 0, 0, 0], [0, 0, 0, 0, 0], [0, 0, 0, 0, 0], [0, 0, 0, 0, 0], [0, 0, 0, 0, 0], [0, 0, 0, 0, 0], [0, 0, 0, 0, 0], [0, 0, 0, 0, 0], [0, 0, 0, 0, 0]]\n"
       ]
      }
     ],
     "prompt_number": 28
    },
    {
     "cell_type": "code",
     "collapsed": false,
     "input": [
      "#Stuff\n",
      "import pickle\n",
      "import numpy as np\n",
      "from matplotlib import pyplot as plt\n",
      "\n",
      "#SBG\n",
      "import sys\n",
      "path = 'Z:\\\\Clients\\\\GenerateApp\\\\Projects\\\\[GA01] Project Name\\\\_Project Files\\\\_Software\\\\'\n",
      "sys.path.append(path)\n",
      "from stackedBarGraph import StackedBarGrapher\n",
      "SBG = StackedBarGrapher()\n",
      "\n",
      "# Assumed element structure\n",
      "# element = [PRISM, OTHER SINGLE, OTHER DOUBLE, HUE, TINT]\n",
      "#d_colors = ['#2166ac', '#ccffff', '#fee090', '#fc8d59', '#e34a33']\n",
      "d_colors = ['#2166ac', '#fee090', '#fdbb84', '#fc8d59', '#e34a33', '#b30000']\n",
      "# Gray I think... , '#b30000'\n",
      "# Light orange I think '#fdbb84',\n",
      "\n",
      "\n",
      "# Load data\n",
      "stackedHistogramPickle = '\\\\Data\\\\2016-07-08T10.02.52_stackedHistogram.pkl'\n",
      "d = pickle.load(open(path + stackedHistogramPickle, \"rb\"))\n",
      "\n",
      "#Create labels\n",
      "a = np.arange(len(d))\n",
      "b = []\n",
      "for i in a:\n",
      "    b.append(str(i))\n",
      "\n",
      "# Need to divide by index to get the correct number of people\n",
      "# arr = []\n",
      "# for i,ele in enumerate(d):\n",
      "#     temp =[]\n",
      "#     if i==0: i=1\n",
      "#     for p in ele:\n",
      "#         temp.append((float(p)/float(i)))\n",
      "#     arr.append(temp)\n",
      "\n",
      "# As a percentage, for some reason scale doesn't work otherwise\n",
      "arr = []\n",
      "for ele in d:\n",
      "    temp =[]\n",
      "    s = np.sum(ele)\n",
      "    if s==0: s=1\n",
      "    for p in ele:\n",
      "        temp.append((float(p)/float(s)))\n",
      "    arr.append(temp)\n",
      "\n",
      "# Drop some labels\n",
      "arrLabels = []\n",
      "i = 0\n",
      "for l in b:\n",
      "    if i == 5:\n",
      "        i=0\n",
      "        arrLabels.append(l)\n",
      "    else:\n",
      "        arrLabels.append('')\n",
      "    i += 1\n",
      "\n",
      "fig = plt.figure(figsize=(21,14))\n",
      "\n",
      "#Threshold\n",
      "start,end = 1,801\n",
      "arr = arr[start:end]\n",
      "arrLabels = arrLabels[start:end]\n",
      "d_widths = [1.]*(end-start)\n",
      "\n",
      "ax = fig.add_subplot(111)\n",
      "SBG.stackedBarPlot(ax,\n",
      "                   arr,\n",
      "                   d_colors,\n",
      "                   xLabels=arrLabels,\n",
      "                   yTicks=5,\n",
      "                   widths=d_widths,\n",
      "                   scale=True,\n",
      "                   #gap=0.2\n",
      "                  )\n",
      "\n",
      "# Title for totals\n",
      "#plt.title(\"Number of People vs Total # of Captures, color = relative quantity of filters used\")\n",
      "# Title for relative\n",
      "plt.title(\"Relative Precentage of Filters Used vs Total # of Captures\")\n",
      "\n",
      "ax.yaxis.grid(True)\n",
      "fig.subplots_adjust(bottom=0.4)\n",
      "plt.tight_layout()\n",
      "plt.show()\n",
      "plt.close(fig)\n",
      "del fig"
     ],
     "language": "python",
     "metadata": {},
     "outputs": [],
     "prompt_number": 43
    },
    {
     "cell_type": "code",
     "collapsed": false,
     "input": [
      "# Analysis for Fvded\n",
      "# Dates Sat July 2nd, Sun July 3\n",
      "# Thresholds:  1467417600 to 1467590399\n",
      "import pandas as pd\n",
      "pd.set_option('display.expand_frame_repr', False)\n",
      "import numpy as np\n",
      "import matplotlib.pyplot as plt\n",
      "from pprint import pprint\n",
      "import re, json, time, datetime, pickle, operator\n",
      "\n",
      "path = 'Z:\\\\Clients\\\\GenerateApp\\\\Projects\\\\[GA01] Project Name\\\\_Project Files\\\\_Software\\\\Data\\\\'\n",
      "# Includes data from February 18 to July 10\n",
      "# Cols = audio_reactive, carrier, city, distinct_id, filters, pro_users_status, state, time\n",
      "pFile = '2016-07-11T11.33.11_capture_All.pkl'\n",
      "df = pd.read_pickle(path + pFile)\n",
      "\n",
      "print df.head()"
     ],
     "language": "python",
     "metadata": {},
     "outputs": [
      {
       "output_type": "stream",
       "stream": "stdout",
       "text": [
        "  audio_reactive  carrier       city distinct_id  filters pro_user_status record_state        time\n",
        "0            yes    Maxis   Beaufort  cGObRX5qPs   [TINT]           false        video  1455817304\n",
        "1            yes    Maxis   Beaufort  cGObRX5qPs   [SLOW]           false        video  1455818939\n",
        "2            yes    Maxis   Beaufort  cGObRX5qPs  [PRISM]           false        video  1455819504\n",
        "3             no  Beeline  Astrakhan  VlRwQEDvXs   [PULP]           false        still  1455836607\n",
        "4             no  Beeline  Astrakhan  VlRwQEDvXs  [PRISM]           false        still  1455836641\n"
       ]
      }
     ],
     "prompt_number": 97
    },
    {
     "cell_type": "code",
     "collapsed": false,
     "input": [
      "dfT = df[df['time'] > 1466208000][df['time'] < 1467590399]\n",
      "mask = np.logical_or(dfT['city'] == 'Vancouver', dfT['city'] == 'Surrey')\n",
      "otherCities = [\n",
      "        'Coquitlam',\n",
      "        'Maple Ridge',\n",
      "        'Langley',\n",
      "        'North Vancouver',\n",
      "        'West Vancouver',\n",
      "        'New Westminster'\n",
      "        ]\n",
      "print len(dfT[mask])\n",
      "\n",
      "for city in otherCities:\n",
      "    mask = np.logical_or(mask, dfT['city'] == city)\n",
      "    print len(dfT[mask])\n",
      "    \n",
      "print dfT[mask]\n",
      "dfT = dfT[mask]"
     ],
     "language": "python",
     "metadata": {},
     "outputs": [
      {
       "output_type": "stream",
       "stream": "stdout",
       "text": [
        "148\n",
        "151\n",
        "151\n",
        "151\n",
        "151\n",
        "151\n",
        "152\n",
        "       audio_reactive  carrier       city                           distinct_id              filters pro_user_status record_state        time\n",
        "194874             no  Carrier     Surrey                            qwRwNabTVt               [MASK]            true        still  1467483385\n",
        "194875             no  Carrier     Surrey                            qwRwNabTVt         [MASK, TOON]            true        still  1467483554\n",
        "194876             no  Carrier     Surrey                            qwRwNabTVt     [MASK, DISSOLVE]            true        still  1467483580\n",
        "194877             no  Carrier     Surrey                            qwRwNabTVt      [MASK, DIAMOND]            true        still  1467483694\n",
        "194878             no  Carrier     Surrey                            qwRwNabTVt       [MASK, CHROMA]            true        still  1467483785\n",
        "194879             no  Carrier     Surrey                            qwRwNabTVt     [MASK, CONTRAST]            true        still  1467483801\n",
        "194880             no  Carrier     Surrey                            qwRwNabTVt    [MASK, CRISPYCOL]            true        still  1467483914\n",
        "194881             no  Carrier     Surrey                            qwRwNabTVt         [MASK, Flip]            true        still  1467483946\n",
        "194882             no  Carrier     Surrey                            qwRwNabTVt               [PULP]            true        still  1467487190\n",
        "194883             no  Carrier     Surrey                            qwRwNabTVt               [PULP]            true        still  1467487253\n",
        "194884             no  Carrier     Surrey                            qwRwNabTVt            [VID MIX]            true        still  1467487296\n",
        "194885             no  Carrier     Surrey                            qwRwNabTVt              [FADED]            true        still  1467487312\n",
        "194886             no  Carrier     Surrey                            qwRwNabTVt     [DILATION, MELT]            true        still  1467487405\n",
        "194887             no  Carrier     Surrey                            qwRwNabTVt               [MELT]            true        still  1467487448\n",
        "194888             no  Carrier     Surrey                            qwRwNabTVt         [MASK, HAZE]            true        still  1467487766\n",
        "194889             no  Carrier     Surrey                            qwRwNabTVt     [MASK, AMATORKA]            true        still  1467487798\n",
        "194890             no  Carrier     Surrey                            qwRwNabTVt               [MASK]            true        still  1467488699\n",
        "194891            yes  Carrier     Surrey                            qwRwNabTVt        [RGB, Rotate]            true        video  1467489638\n",
        "194892            yes  Carrier     Surrey                            qwRwNabTVt            [REFLECT]            true        video  1467489876\n",
        "194893            yes  Carrier     Surrey                            qwRwNabTVt               [TOON]            true        video  1467490541\n",
        "194894            yes  Carrier  Vancouver                            qwRwNabTVt  [DIAMOND, CONTRAST]            true        video  1467495517\n",
        "194895            yes  Carrier  Vancouver                            qwRwNabTVt           [CONTRAST]            true        still  1467497178\n",
        "194896            yes  Carrier  Vancouver                            qwRwNabTVt      [TRAILS, FADED]            true        still  1467497475\n",
        "194897            yes  Carrier  Vancouver                            qwRwNabTVt    [TRAILS, DIAMOND]            true        still  1467497495\n",
        "194898             no  Carrier  Vancouver                            qwRwNabTVt     [TRAILS, VHS 02]            true        still  1467497549\n",
        "194899             no  Carrier  Vancouver                            qwRwNabTVt       [TRAILS, HAZE]            true        still  1467497564\n",
        "194900             no  Carrier  Vancouver                            qwRwNabTVt   [TRAILS, AMATORKA]            true        still  1467497579\n",
        "194901             no  Carrier  Vancouver                            qwRwNabTVt       [TRAILS, MASK]            true        still  1467497858\n",
        "195911            yes     fido  Vancouver  9902FDFE-3FC3-48C1-905E-CB907E2858EF      [KALEIDO, WAVY]           false        still  1467562964\n",
        "195912            yes     fido  Vancouver  9902FDFE-3FC3-48C1-905E-CB907E2858EF      [KALEIDO, WAVY]           false        still  1467562977\n",
        "...               ...      ...        ...                                   ...                  ...             ...          ...         ...\n",
        "272668             no    TELUS  Vancouver  384ECE0C-ADA1-4126-AE97-9B7E75CE7973     [CHROMA, TWITCH]           false        still  1467582754\n",
        "272669             no    TELUS  Vancouver  384ECE0C-ADA1-4126-AE97-9B7E75CE7973     [CHROMA, TWITCH]           false        still  1467582757\n",
        "272670             no    TELUS  Vancouver  384ECE0C-ADA1-4126-AE97-9B7E75CE7973     [CHROMA, TWITCH]           false        still  1467582762\n",
        "272671             no    TELUS  Vancouver  384ECE0C-ADA1-4126-AE97-9B7E75CE7973      [CHROMA, PIXEL]           false        still  1467582802\n",
        "272672             no    TELUS  Vancouver  384ECE0C-ADA1-4126-AE97-9B7E75CE7973                [HUE]           false        still  1467582840\n",
        "272673             no    TELUS  Vancouver  384ECE0C-ADA1-4126-AE97-9B7E75CE7973           [DISSOLVE]           false        still  1467582924\n",
        "272674             no    TELUS  Vancouver  384ECE0C-ADA1-4126-AE97-9B7E75CE7973                [HUE]           false        still  1467582936\n",
        "272675             no    TELUS  Vancouver  384ECE0C-ADA1-4126-AE97-9B7E75CE7973             [CHROMA]           false        still  1467583042\n",
        "272676             no    TELUS  Vancouver  384ECE0C-ADA1-4126-AE97-9B7E75CE7973             [CHROMA]           false        still  1467583894\n",
        "272677             no    TELUS  Vancouver  384ECE0C-ADA1-4126-AE97-9B7E75CE7973        [CHROMA, HUE]           false        still  1467583913\n",
        "272678             no    TELUS  Vancouver  384ECE0C-ADA1-4126-AE97-9B7E75CE7973        [CHROMA, HUE]           false        still  1467583925\n",
        "272679             no    TELUS  Vancouver  384ECE0C-ADA1-4126-AE97-9B7E75CE7973        [CHROMA, HUE]           false        still  1467583976\n",
        "272680             no    TELUS  Vancouver  384ECE0C-ADA1-4126-AE97-9B7E75CE7973        [CHROMA, HUE]           false        still  1467584012\n",
        "272681             no    TELUS  Vancouver  384ECE0C-ADA1-4126-AE97-9B7E75CE7973   [CHROMA, DISSOLVE]           false        still  1467584075\n",
        "272682             no    TELUS  Vancouver  384ECE0C-ADA1-4126-AE97-9B7E75CE7973               [TINT]           false        still  1467584104\n",
        "272683             no    TELUS  Vancouver  384ECE0C-ADA1-4126-AE97-9B7E75CE7973             [CHROMA]           false        still  1467584153\n",
        "276309            yes   Rogers     Surrey                            zZ2xYKXK3a                   []            true        still  1467484990\n",
        "276330            yes   Rogers  Coquitlam                            zZ2xYKXK3a                   []            true        still  1467499668\n",
        "276331            yes   Rogers  Coquitlam                            zZ2xYKXK3a                   []            true        still  1467499749\n",
        "276348            yes   Rogers     Surrey                            zZ2xYKXK3a             [TRAILS]            true        video  1467572267\n",
        "276349            yes   Rogers     Surrey                            zZ2xYKXK3a               [TILE]            true        video  1467572864\n",
        "283916            yes     fido  Vancouver  17E41EFA-6E4A-40BE-B4BA-DC79F78D999C              [SWIRL]            true        still  1467498492\n",
        "283917            yes     fido  Vancouver  17E41EFA-6E4A-40BE-B4BA-DC79F78D999C              [SWIRL]            true        still  1467498496\n",
        "283918            yes     fido  Vancouver  17E41EFA-6E4A-40BE-B4BA-DC79F78D999C              [SWIRL]            true        video  1467498577\n",
        "283919            yes     fido  Vancouver  17E41EFA-6E4A-40BE-B4BA-DC79F78D999C             [TRAILS]            true        video  1467500172\n",
        "283920            yes     fido  Vancouver  17E41EFA-6E4A-40BE-B4BA-DC79F78D999C             [TRAILS]            true        video  1467500228\n",
        "283921            yes     fido  Vancouver  17E41EFA-6E4A-40BE-B4BA-DC79F78D999C             [TWITCH]            true        video  1467500246\n",
        "283922            yes     fido  Vancouver  17E41EFA-6E4A-40BE-B4BA-DC79F78D999C                [HUE]            true        video  1467500307\n",
        "283923            yes     fido  Vancouver  17E41EFA-6E4A-40BE-B4BA-DC79F78D999C             [TRAILS]            true        video  1467500412\n",
        "284264            yes     Bell  Coquitlam  2FD4CBDB-6EAE-4C29-BD1D-0CC706739A3F                [POP]           false        still  1467571545\n",
        "\n",
        "[152 rows x 8 columns]\n"
       ]
      }
     ],
     "prompt_number": 88
    },
    {
     "cell_type": "code",
     "collapsed": false,
     "input": [
      "dct = {}\n",
      "\n",
      "for filt in dfT['filters']:\n",
      "    for i in filt:\n",
      "        \n",
      "        if dct.has_key(i):\n",
      "            dct[i] += 1\n",
      "        else:\n",
      "            dct[i] = 1\n",
      "        \n",
      "dctS = sorted(dct.items(), key=operator.itemgetter(1), reverse=True)\n",
      "metrics = []\n",
      "for i in  dctS[0:8]: metrics.append(i[0])\n",
      "print metrics\n",
      "print dctS"
     ],
     "language": "python",
     "metadata": {},
     "outputs": [
      {
       "output_type": "stream",
       "stream": "stdout",
       "text": [
        "[u'CHROMA', u'DISSOLVE', u'PRISM', u'MASK', u'TRAILS', u'HUE', u'Shadows', u'LIGHTSPEED']\n",
        "[(u'CHROMA', 30), (u'DISSOLVE', 20), (u'PRISM', 16), (u'MASK', 14), (u'TRAILS', 13), (u'HUE', 10), (u'Shadows', 7), (u'LIGHTSPEED', 6), (u'TINT', 6), (u'SWIRL', 6), (u'TWITCH', 6), (u'PULP', 5), ('NO FILTER', 4), (u'KALEIDO', 4), (u'WAVY', 4), (u'DIAMOND', 4), (u'CONTRAST', 4), (u'VID MIX', 3), (u'AMATORKA', 3), (u'FADED', 3), ('', 2), (u'TOON', 2), (u'VHS 01', 2), (u'VHS 02', 2), (u'COLOR', 2), (u'TILE', 2), (u'MELT', 2), (u'HAZE', 2), (u'CRISPYCOL', 2), (u'SATURATION', 1), (u'RGB', 1), (u'POP', 1), (u'PIXEL', 1), (u'DOT', 1), (u'SILO', 1), (u'Rotate', 1), (u'Flip', 1), (u'SLOW', 1), (u'DILATION', 1), (u'Highlights', 1), (u'PINK', 1), (u'REFLECT', 1), (u'XY', 1)]\n"
       ]
      }
     ],
     "prompt_number": 123
    },
    {
     "cell_type": "code",
     "collapsed": false,
     "input": [
      "#SBG\n",
      "import sys\n",
      "path = 'Z:\\\\Clients\\\\GenerateApp\\\\Projects\\\\[GA01] Project Name\\\\_Project Files\\\\_Software\\\\'\n",
      "sys.path.append(path)\n",
      "from stackedBarGraph import StackedBarGrapher\n",
      "SBG = StackedBarGrapher()\n",
      "\n",
      "# Assumed element structure\n",
      "# element = [PRISM, OTHER SINGLE, OTHER DOUBLE, HUE, TINT]\n",
      "#d_colors = ['#2166ac', '#ccffff', '#fee090', '#fc8d59', '#e34a33']\n",
      "d_colors = [\"#999999\", \"#E69F00\", \"#56B4E9\", \"#009E73\", \"#F0E442\", \"#0072B2\", \"#D55E00\", \"#CC79A7\"]\n",
      "metrics = [u'CHROMA', u'DISSOLVE', u'PRISM', u'MASK', u'TRAILS', u'HUE', u'Shadows', u'LIGHTSPEED']\n",
      "\n",
      "gbCap = dfT.groupby(['distinct_id'])\n",
      "\n",
      "# Structure for stacked histogram data\n",
      "bins = []\n",
      "for i in range(5000): # Assume some large value for max number of captures\n",
      "    # array element = [PRISM, OTHER SINGLE, OTHER DOUBLE, HUE, TINT]\n",
      "    bins.append([0]*len(metrics))\n",
      "\n",
      "for dId,group in gbCap:\n",
      "\n",
      "    b = bins[len(group)]\n",
      "\n",
      "    for flt in group['filters']:\n",
      "        \n",
      "        for f in flt:\n",
      "            try: # Check if filter is metrics and increment\n",
      "                b[metrics.index(f)] +=1\n",
      "            except: \n",
      "                continue\n",
      "d = bins\n",
      "print bins[:50]\n",
      "            \n",
      "#Create labels\n",
      "a = np.arange(len(d))\n",
      "b = []\n",
      "for i in a:\n",
      "    b.append(str(i))   \n",
      "\n",
      "#Need to divide by index to get the correct number of people\n",
      "arr = []\n",
      "for i,ele in enumerate(d):\n",
      "    temp =[]\n",
      "    if i==0: i=1\n",
      "    for p in ele:\n",
      "        temp.append((float(p)/float(i)))\n",
      "    arr.append(temp)\n",
      "\n",
      "# As a percentage, for some reason scale doesn't work otherwise\n",
      "arr = []\n",
      "for ele in d:\n",
      "    temp =[]\n",
      "    s = np.sum(ele)\n",
      "    if s==0: s=1\n",
      "    for p in ele:\n",
      "        temp.append((float(p)/float(s)))\n",
      "    arr.append(temp)\n",
      "\n",
      "# # Drop some labels\n",
      "# arrLabels = []\n",
      "# i = 0\n",
      "# for l in b:\n",
      "#     if i == 2:\n",
      "#         i=0\n",
      "#         arrLabels.append(l)\n",
      "#     else:\n",
      "#         arrLabels.append('')\n",
      "#     i += 1\n",
      "\n",
      "fig = plt.figure(figsize=(21,14))\n",
      "\n",
      "#Threshold\n",
      "start,end = 1,60\n",
      "arr = arr[start:end]\n",
      "arrLabels = arrLabels[start:end]\n",
      "d_widths = [1.]*(end-start)\n",
      "\n",
      "ax = fig.add_subplot(111)\n",
      "SBG.stackedBarPlot(ax,\n",
      "                   arr,\n",
      "                   d_colors,\n",
      "                   xLabels=arrLabels,\n",
      "                   yTicks=4,\n",
      "                   widths=d_widths,\n",
      "                   scale=True,\n",
      "                   #gap=0.2\n",
      "                  )\n",
      "\n",
      "# Title for totals\n",
      "#plt.title(\"Number of People vs Total # of Captures, color = relative quantity of filters used\")\n",
      "# Title for relative\n",
      "plt.title(\"Relative Precentage of Filters Used vs Total # of Captures\")\n",
      "\n",
      "ax.yaxis.grid(True)\n",
      "fig.subplots_adjust(bottom=0.4)\n",
      "plt.tight_layout()\n",
      "plt.show()\n",
      "plt.close(fig)\n",
      "del fig"
     ],
     "language": "python",
     "metadata": {},
     "outputs": [
      {
       "output_type": "stream",
       "stream": "stdout",
       "text": [
        "[[0, 0, 0, 0, 0, 0, 0, 0], [0, 0, 1, 0, 0, 0, 0, 0], [0, 0, 6, 0, 0, 1, 0, 0], [0, 1, 3, 1, 0, 1, 0, 0], [0, 0, 4, 0, 0, 0, 0, 0], [0, 0, 0, 0, 1, 0, 0, 0], [0, 0, 0, 0, 0, 0, 0, 0], [0, 0, 0, 0, 0, 0, 0, 0], [0, 0, 0, 0, 3, 1, 0, 0], [0, 0, 0, 0, 0, 0, 0, 0], [0, 0, 0, 0, 0, 0, 0, 0], [0, 0, 0, 0, 0, 0, 0, 0], [0, 0, 0, 0, 0, 0, 0, 0], [0, 0, 0, 0, 0, 0, 0, 0], [0, 0, 0, 0, 0, 0, 0, 0], [0, 0, 0, 0, 0, 0, 0, 0], [0, 0, 0, 0, 0, 0, 0, 0], [0, 0, 0, 0, 0, 0, 0, 0], [0, 0, 0, 0, 0, 0, 0, 0], [0, 0, 0, 0, 0, 0, 0, 0], [0, 0, 0, 0, 0, 0, 0, 0], [0, 0, 0, 0, 0, 0, 0, 0], [0, 0, 0, 0, 0, 0, 0, 0], [0, 0, 0, 0, 0, 0, 0, 0], [0, 0, 0, 0, 0, 0, 0, 0], [0, 0, 0, 0, 0, 0, 0, 0], [0, 0, 0, 0, 0, 0, 0, 0], [0, 0, 0, 0, 0, 0, 0, 0], [2, 1, 2, 12, 9, 0, 7, 4], [0, 0, 0, 0, 0, 0, 0, 0], [0, 0, 0, 0, 0, 0, 0, 0], [0, 0, 0, 0, 0, 0, 0, 0], [0, 0, 0, 0, 0, 0, 0, 0], [0, 0, 0, 0, 0, 0, 0, 0], [0, 0, 0, 0, 0, 0, 0, 0], [0, 0, 0, 0, 0, 0, 0, 0], [0, 0, 0, 0, 0, 0, 0, 0], [0, 0, 0, 0, 0, 0, 0, 0], [0, 0, 0, 0, 0, 0, 0, 0], [0, 0, 0, 0, 0, 0, 0, 0], [0, 0, 0, 0, 0, 0, 0, 0], [0, 0, 0, 0, 0, 0, 0, 0], [0, 0, 0, 0, 0, 0, 0, 0], [0, 0, 0, 0, 0, 0, 0, 0], [0, 0, 0, 0, 0, 0, 0, 0], [0, 0, 0, 0, 0, 0, 0, 0], [0, 0, 0, 0, 0, 0, 0, 0], [0, 0, 0, 0, 0, 0, 0, 0], [0, 0, 0, 0, 0, 0, 0, 0], [0, 0, 0, 0, 0, 0, 0, 0]]\n"
       ]
      }
     ],
     "prompt_number": 126
    },
    {
     "cell_type": "code",
     "collapsed": false,
     "input": [
      "# June 18th = 1466208000\n",
      "dfA = df[df['time'] > 1466208000] # All captures two weeks before Fvded up to July 10th\n",
      "mask = np.logical_or(dfA['city'] == 'Vancouver', dfA['city'] == 'Surrey')\n",
      "otherCities = [\n",
      "        'Coquitlam',\n",
      "        'Maple Ridge',\n",
      "        'Langley',\n",
      "        'North Vancouver',\n",
      "        'West Vancouver',\n",
      "        'New Westminster'\n",
      "        ]\n",
      "print len(dfA[mask])\n",
      "\n",
      "for city in otherCities:\n",
      "    mask = np.logical_or(mask, dfA['city'] == city)\n",
      "    print len(dfA[mask])\n",
      "    \n",
      "print dfA[mask]\n",
      "dfA = dfA[mask]"
     ],
     "language": "python",
     "metadata": {},
     "outputs": [
      {
       "output_type": "stream",
       "stream": "stdout",
       "text": [
        "634\n",
        "646\n",
        "659\n",
        "662\n",
        "700\n",
        "700\n",
        "703\n",
        "       audio_reactive  carrier       city                           distinct_id              filters pro_user_status record_state        time\n",
        "191923            yes     Bell  Vancouver  60D48314-901A-407C-8A3B-1C89D5320C0B              [PRISM]           false        still  1467197943\n",
        "192747            yes    chatr     Surrey  C8C8567C-5A6F-43B3-9885-FBF52DB57E67              [PRISM]           false        still  1466552688\n",
        "192748            yes    chatr     Surrey  C8C8567C-5A6F-43B3-9885-FBF52DB57E67              [PRISM]           false        still  1466552711\n",
        "192749            yes    chatr     Surrey  C8C8567C-5A6F-43B3-9885-FBF52DB57E67              [PRISM]           false        still  1466552873\n",
        "193560            yes   Rogers  Vancouver  503BF0EE-1374-4628-A7FE-F1DF89961D6D                [RGB]           false        video  1466602026\n",
        "193561            yes   Rogers  Vancouver  503BF0EE-1374-4628-A7FE-F1DF89961D6D                [RGB]           false        video  1466602063\n",
        "193562            yes   Rogers  Vancouver  503BF0EE-1374-4628-A7FE-F1DF89961D6D                [RGB]           false        video  1466602104\n",
        "194874             no  Carrier     Surrey                            qwRwNabTVt               [MASK]            true        still  1467483385\n",
        "194875             no  Carrier     Surrey                            qwRwNabTVt         [MASK, TOON]            true        still  1467483554\n",
        "194876             no  Carrier     Surrey                            qwRwNabTVt     [MASK, DISSOLVE]            true        still  1467483580\n",
        "194877             no  Carrier     Surrey                            qwRwNabTVt      [MASK, DIAMOND]            true        still  1467483694\n",
        "194878             no  Carrier     Surrey                            qwRwNabTVt       [MASK, CHROMA]            true        still  1467483785\n",
        "194879             no  Carrier     Surrey                            qwRwNabTVt     [MASK, CONTRAST]            true        still  1467483801\n",
        "194880             no  Carrier     Surrey                            qwRwNabTVt    [MASK, CRISPYCOL]            true        still  1467483914\n",
        "194881             no  Carrier     Surrey                            qwRwNabTVt         [MASK, Flip]            true        still  1467483946\n",
        "194882             no  Carrier     Surrey                            qwRwNabTVt               [PULP]            true        still  1467487190\n",
        "194883             no  Carrier     Surrey                            qwRwNabTVt               [PULP]            true        still  1467487253\n",
        "194884             no  Carrier     Surrey                            qwRwNabTVt            [VID MIX]            true        still  1467487296\n",
        "194885             no  Carrier     Surrey                            qwRwNabTVt              [FADED]            true        still  1467487312\n",
        "194886             no  Carrier     Surrey                            qwRwNabTVt     [DILATION, MELT]            true        still  1467487405\n",
        "194887             no  Carrier     Surrey                            qwRwNabTVt               [MELT]            true        still  1467487448\n",
        "194888             no  Carrier     Surrey                            qwRwNabTVt         [MASK, HAZE]            true        still  1467487766\n",
        "194889             no  Carrier     Surrey                            qwRwNabTVt     [MASK, AMATORKA]            true        still  1467487798\n",
        "194890             no  Carrier     Surrey                            qwRwNabTVt               [MASK]            true        still  1467488699\n",
        "194891            yes  Carrier     Surrey                            qwRwNabTVt        [RGB, Rotate]            true        video  1467489638\n",
        "194892            yes  Carrier     Surrey                            qwRwNabTVt            [REFLECT]            true        video  1467489876\n",
        "194893            yes  Carrier     Surrey                            qwRwNabTVt               [TOON]            true        video  1467490541\n",
        "194894            yes  Carrier  Vancouver                            qwRwNabTVt  [DIAMOND, CONTRAST]            true        video  1467495517\n",
        "194895            yes  Carrier  Vancouver                            qwRwNabTVt           [CONTRAST]            true        still  1467497178\n",
        "194896            yes  Carrier  Vancouver                            qwRwNabTVt      [TRAILS, FADED]            true        still  1467497475\n",
        "...               ...      ...        ...                                   ...                  ...             ...          ...         ...\n",
        "283916            yes     fido  Vancouver  17E41EFA-6E4A-40BE-B4BA-DC79F78D999C              [SWIRL]            true        still  1467498492\n",
        "283917            yes     fido  Vancouver  17E41EFA-6E4A-40BE-B4BA-DC79F78D999C              [SWIRL]            true        still  1467498496\n",
        "283918            yes     fido  Vancouver  17E41EFA-6E4A-40BE-B4BA-DC79F78D999C              [SWIRL]            true        video  1467498577\n",
        "283919            yes     fido  Vancouver  17E41EFA-6E4A-40BE-B4BA-DC79F78D999C             [TRAILS]            true        video  1467500172\n",
        "283920            yes     fido  Vancouver  17E41EFA-6E4A-40BE-B4BA-DC79F78D999C             [TRAILS]            true        video  1467500228\n",
        "283921            yes     fido  Vancouver  17E41EFA-6E4A-40BE-B4BA-DC79F78D999C             [TWITCH]            true        video  1467500246\n",
        "283922            yes     fido  Vancouver  17E41EFA-6E4A-40BE-B4BA-DC79F78D999C                [HUE]            true        video  1467500307\n",
        "283923            yes     fido  Vancouver  17E41EFA-6E4A-40BE-B4BA-DC79F78D999C             [TRAILS]            true        video  1467500412\n",
        "283946            yes     fido  Vancouver  17E41EFA-6E4A-40BE-B4BA-DC79F78D999C              [PRISM]            true        still  1467932454\n",
        "283947            yes     fido  Vancouver  17E41EFA-6E4A-40BE-B4BA-DC79F78D999C              [PRISM]            true        still  1467932468\n",
        "283948            yes     fido  Vancouver  17E41EFA-6E4A-40BE-B4BA-DC79F78D999C            [DIAMOND]            true        still  1467932524\n",
        "283949            yes     fido  Vancouver  17E41EFA-6E4A-40BE-B4BA-DC79F78D999C             [CHROMA]            true        still  1467932532\n",
        "283950            yes     fido  Vancouver  17E41EFA-6E4A-40BE-B4BA-DC79F78D999C             [CHROMA]            true        video  1467932542\n",
        "283951            yes     fido  Vancouver  17E41EFA-6E4A-40BE-B4BA-DC79F78D999C               [MELT]            true        video  1467932554\n",
        "283952            yes     fido  Vancouver  17E41EFA-6E4A-40BE-B4BA-DC79F78D999C               [SLOW]            true        video  1467932646\n",
        "283953            yes     fido  Vancouver  17E41EFA-6E4A-40BE-B4BA-DC79F78D999C               [SLOW]            true        video  1467932655\n",
        "283954            yes     fido  Vancouver  17E41EFA-6E4A-40BE-B4BA-DC79F78D999C          [LIGHTLEAK]            true        still  1467932709\n",
        "283955            yes     fido  Vancouver  17E41EFA-6E4A-40BE-B4BA-DC79F78D999C           [DILATION]            true        still  1467932723\n",
        "283956            yes     fido  Vancouver  17E41EFA-6E4A-40BE-B4BA-DC79F78D999C           [DILATION]            true        still  1467932726\n",
        "283957            yes     fido  Vancouver  17E41EFA-6E4A-40BE-B4BA-DC79F78D999C           [DILATION]            true        video  1467932736\n",
        "283958            yes     fido  Vancouver  17E41EFA-6E4A-40BE-B4BA-DC79F78D999C               [MASK]            true        video  1467932753\n",
        "283959            yes     fido  Vancouver  17E41EFA-6E4A-40BE-B4BA-DC79F78D999C            [DIAMOND]            true        still  1467932842\n",
        "283960            yes     fido  Vancouver  17E41EFA-6E4A-40BE-B4BA-DC79F78D999C            [DIAMOND]            true        still  1467932854\n",
        "283961            yes     fido  Vancouver  17E41EFA-6E4A-40BE-B4BA-DC79F78D999C            [DIAMOND]            true        video  1467932866\n",
        "283962            yes     fido  Vancouver  17E41EFA-6E4A-40BE-B4BA-DC79F78D999C            [DIAMOND]            true        video  1467932871\n",
        "283963            yes     fido  Vancouver  17E41EFA-6E4A-40BE-B4BA-DC79F78D999C          [LIGHTLEAK]            true        still  1467932894\n",
        "284264            yes     Bell  Coquitlam  2FD4CBDB-6EAE-4C29-BD1D-0CC706739A3F                [POP]           false        still  1467571545\n",
        "285077             no    Koodo  Vancouver  6849d3ee-eba4-4b6b-aa27-e64c5f646811   [POINT, NO FILTER]           False        video  1467066322\n",
        "286447            yes  Carrier  Vancouver  8F436DB6-FD02-49CC-9B19-737E854FC5F6      [DONT, DIAMOND]            true        still  1466726692\n",
        "286448            yes  Carrier  Vancouver  8F436DB6-FD02-49CC-9B19-737E854FC5F6        [DONT, SWIRL]            true        still  1466726713\n",
        "\n",
        "[703 rows x 8 columns]"
       ]
      },
      {
       "output_type": "stream",
       "stream": "stdout",
       "text": [
        "\n"
       ]
      }
     ],
     "prompt_number": 129
    },
    {
     "cell_type": "code",
     "collapsed": false,
     "input": [
      "# Days since July 18th\n",
      "d = (dfA['time'] - 1466208000)\n",
      "sd = 86400 # Seconds per day\n",
      "dfA['days'] = (d + (sd - d%sd))/sd\n",
      "\n",
      "gpA = dfA.groupby(['days'])\n",
      "\n",
      "x = []\n",
      "y = []\n",
      "\n",
      "for day, group in gpA:\n",
      "    \n",
      "    x.append(float(day))\n",
      "    y.append(float(len(group)))\n",
      "    \n",
      "fig = plt.figure(figsize=(21,14))\n",
      "ax = fig.add_subplot(111)\n",
      "ax.plot(x,y,'o-')\n",
      "\n",
      "# Title for totals\n",
      "#plt.title(\"Number of People vs Total # of Captures, color = relative quantity of filters used\")\n",
      "# Title for relative\n",
      "plt.title(\"Captures in GVRD vs Days From July 18th \\n FVDED Occured between the red line\")\n",
      "ax.grid(True)\n",
      "plt.axvline(x=14.5, linestyle='-', color='red', linewidth=2, zorder=2)\n",
      "plt.axvline(x=16.5, linestyle='-', color='red', linewidth=2, zorder=2)\n",
      "fig.subplots_adjust(bottom=0.4)\n",
      "plt.tight_layout()\n",
      "plt.show()\n",
      "plt.close(fig)\n",
      "del fig"
     ],
     "language": "python",
     "metadata": {},
     "outputs": []
    },
    {
     "cell_type": "code",
     "collapsed": false,
     "input": [],
     "language": "python",
     "metadata": {},
     "outputs": []
    }
   ],
   "metadata": {}
  }
 ]
}