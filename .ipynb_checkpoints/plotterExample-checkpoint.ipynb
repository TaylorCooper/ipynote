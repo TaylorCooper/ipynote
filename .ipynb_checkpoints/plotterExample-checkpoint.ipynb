{
 "metadata": {
  "name": "",
  "signature": "sha256:89c781dd64cd5f7cd7b92c4db69a341e71c3317e975baa9c969fea5a6f04ed58"
 },
 "nbformat": 3,
 "nbformat_minor": 0,
 "worksheets": [
  {
   "cells": [
    {
     "cell_type": "code",
     "collapsed": false,
     "input": [
      "#!/usr/bin/env python\n",
      "\n",
      "#from numpy import *\n",
      "import pylab as pl\n",
      "import scipy as sp\n",
      "import matplotlib as mpl\n",
      "import matplotlib.pyplot as plt\n",
      "import matplotlib.ticker as tkr\n",
      "\n",
      "%pylab inline  "
     ],
     "language": "python",
     "metadata": {},
     "outputs": [
      {
       "output_type": "stream",
       "stream": "stdout",
       "text": [
        "Populating the interactive namespace from numpy and matplotlib\n"
       ]
      }
     ],
     "prompt_number": 4
    },
    {
     "cell_type": "code",
     "collapsed": false,
     "input": [
      "# Make a fig / variable for subplots\n",
      "r = sp.arange(6) + 321\n",
      "fig = plt.figure(figsize=(11,8.5))\n",
      "\n",
      "for i in r:\n",
      "    # Something to plot\n",
      "    x = sp.arange(66)\n",
      "    y = 4*(sp.random.random()+1)*sp.cos(sp.pi*x*24/360) + 10\n",
      "\n",
      "    # Create something to act on and plot it\n",
      "    ax = fig.add_subplot(i, autoscale_on=True)\n",
      "    ax.plot(x,y,'k')\n",
      "\n",
      "    # Scale the axis of the thing you plotted\n",
      "    ax.axis('scaled')\n",
      "    ax.axis([0,65, 0,20])\n",
      "\n",
      "    #Set up some labels\n",
      "    ax.set_xlabel('X axis?', size=8)\n",
      "    ax.set_ylabel('Why axis?', size=8)\n",
      "    title='Graph the: ' + str(i) + 'th'\n",
      "    ax.set_title(title, size=10)\n",
      "\n",
      "    #Locate a single point with 2 lines\n",
      "    ax.axhline(y=11, color='k', linewidth=0.75)\n",
      "    ax.axvline(x=23.5, color='k', linewidth=0.75)\n",
      "    \n",
      "    #Set the tick distribution for x and y\n",
      "    ax.xaxis.set_major_locator(tkr.MaxNLocator(7))\n",
      "    ax.xaxis.set_minor_locator(tkr.MaxNLocator(65))\n",
      "    ax.yaxis.set_major_locator(tkr.MaxNLocator(2))\n",
      "    ax.yaxis.set_minor_locator(tkr.MaxNLocator(20))\n",
      "\n",
      "    #Set X tick attributes\n",
      "    for xticka in ax.xaxis.get_major_ticks():\n",
      "        xticka.tick2line.set_markersize(4)\n",
      "        xticka.tick1line.set_markersize(4)\n",
      "        xticka.label1.set_fontsize(6)\n",
      "    \n",
      "    for xticki in ax.xaxis.get_minor_ticks():\n",
      "        xticki.tick2line.set_markersize(2)\n",
      "        xticki.tick1line.set_markersize(2)\n",
      "\n",
      "    #Set Y tick attributes\n",
      "    for yticka in ax.yaxis.get_major_ticks():\n",
      "        yticka.tick2line.set_markersize(6)\n",
      "        yticka.tick1line.set_markersize(6)\n",
      "        yticka.label1.set_fontsize(6)\n",
      "    \n",
      "    for yticki in ax.yaxis.get_minor_ticks():\n",
      "        yticki.tick2line.set_markersize(4)\n",
      "        yticki.tick1line.set_markersize(3)\n",
      "\n",
      "# Save as png\n",
      "#pl.savefig('plotter2', dpi=250, papertype='letter', orientation='landscape')\n",
      "        \n",
      "#adjustments to make sure text is readable\n",
      "plt.subplots_adjust(wspace=0.25, hspace=-0.5)\n",
      "plt.show()"
     ],
     "language": "python",
     "metadata": {},
     "outputs": [
      {
       "metadata": {},
       "output_type": "display_data",
       "png": "[encoded data removed]",
       "text": [
        "<matplotlib.figure.Figure at 0xba31f50>"
       ]
      }
     ],
     "prompt_number": 10
    },
    {
     "cell_type": "code",
     "collapsed": false,
     "input": [
      "print 'hi justin'"
     ],
     "language": "python",
     "metadata": {},
     "outputs": [
      {
       "output_type": "stream",
       "stream": "stdout",
       "text": [
        "hi justin\n"
       ]
      }
     ],
     "prompt_number": 6
    },
    {
     "cell_type": "code",
     "collapsed": false,
     "input": [
      "from numpy import *\n",
      "\n",
      "x = arange(0,10,0.1)\n",
      "\n",
      "plot(x,x**2)\n",
      "\n",
      "plot(x[:5:-1],x[:5:-1])"
     ],
     "language": "python",
     "metadata": {},
     "outputs": [
      {
       "metadata": {},
       "output_type": "pyout",
       "prompt_number": 16,
       "text": [
        "[<matplotlib.lines.Line2D at 0x9484770>]"
       ]
      },
      {
       "metadata": {},
       "output_type": "display_data",
       "png": "[encoded data removed]",
       "text": [
        "<matplotlib.figure.Figure at 0x5518070>"
       ]
      }
     ],
     "prompt_number": 16
    },
    {
     "cell_type": "code",
     "collapsed": false,
     "input": [
      "np.arange(2)"
     ],
     "language": "python",
     "metadata": {},
     "outputs": [
      {
       "metadata": {},
       "output_type": "pyout",
       "prompt_number": 9,
       "text": [
        "array([0, 1])"
       ]
      }
     ],
     "prompt_number": 9
    },
    {
     "cell_type": "code",
     "collapsed": false,
     "input": [],
     "language": "python",
     "metadata": {},
     "outputs": []
    }
   ],
   "metadata": {}
  }
 ]
}