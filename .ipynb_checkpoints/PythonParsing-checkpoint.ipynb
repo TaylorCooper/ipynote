{
 "metadata": {
  "name": "",
  "signature": "sha256:3a95a71794b43379b427cdb0ad73464a186cdab644793fd212d1d16c8127a3c7"
 },
 "nbformat": 3,
 "nbformat_minor": 0,
 "worksheets": [
  {
   "cells": [
    {
     "cell_type": "code",
     "collapsed": false,
     "input": [
      "import csv"
     ],
     "language": "python",
     "metadata": {},
     "outputs": [],
     "prompt_number": 0
    },
    {
     "cell_type": "code",
     "collapsed": false,
     "input": [
      "aFile = \"D:\\\\Dropbox\\\\Overhead\\\\Presentations\\\\Lunch and Learn - Python\\\\DataGoesHere\\\\dataFile1.csv\"\n",
      "\n"
     ],
     "language": "python",
     "metadata": {},
     "outputs": [
      {
       "metadata": {},
       "output_type": "pyout",
       "prompt_number": 1,
       "text": [
        "'D:\\\\Dropbox\\\\Overhead\\\\Presentations\\\\Lunch and Learn - Python\\\\data_1.csv'"
       ]
      }
     ],
     "prompt_number": 1
    },
    {
     "cell_type": "code",
     "collapsed": false,
     "input": [],
     "language": "python",
     "metadata": {},
     "outputs": [],
     "prompt_number": 1
    },
    {
     "cell_type": "code",
     "collapsed": false,
     "input": [],
     "language": "python",
     "metadata": {},
     "outputs": [],
     "prompt_number": 1
    },
    {
     "cell_type": "code",
     "collapsed": false,
     "input": [],
     "language": "python",
     "metadata": {},
     "outputs": []
    }
   ],
   "metadata": {}
  }
 ]
}