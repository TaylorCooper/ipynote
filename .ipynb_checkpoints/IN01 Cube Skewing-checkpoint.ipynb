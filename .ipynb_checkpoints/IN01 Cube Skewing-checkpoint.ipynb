{
 "metadata": {
  "name": "",
  "signature": "sha256:99421d983e2cee0545c9eb0bf4bc0799f24d83416bc4f2c3d3eb5cb9aebf3eb7"
 },
 "nbformat": 3,
 "nbformat_minor": 0,
 "worksheets": [
  {
   "cells": [
    {
     "cell_type": "code",
     "collapsed": false,
     "input": [
      "###\n",
      "###  Tool for skewing cube\n",
      "###\n",
      "\n",
      "\n",
      "from mpl_toolkits.mplot3d import Axes3D\n",
      "import matplotlib.pyplot as plt\n",
      "import numpy as np\n",
      "from itertools import product, combinations\n",
      "fig = plt.figure()\n",
      "ax = fig.gca(projection='3d')\n",
      "ax.set_aspect(\"equal\")\n",
      "\n",
      "#draw cube\n",
      "r = [-1, 1]\n",
      "for s, e in combinations(np.array(list(product(r,r,r))), 2):\n",
      "    if np.sum(np.abs(s-e)) == r[1]-r[0]:\n",
      "        ax.plot3D(*zip(s,e), color=\"b\")\n",
      "\n",
      "#draw a point\n",
      "#ax.scatter([0],[0],[0],color=\"g\",s=100)\n",
      "\n",
      "#a = Arrow3D([0,1],[0,1],[0,1], mutation_scale=20, lw=1, arrowstyle=\"-|>\", color=\"k\")\n",
      "#ax.add_artist(a)\n",
      "plt.show()"
     ],
     "language": "python",
     "metadata": {},
     "outputs": [],
     "prompt_number": 31
    },
    {
     "cell_type": "code",
     "collapsed": false,
     "input": [
      "for s, e in combinations(np.array(list(product(r,r,r))), 2):\n",
      "    print np.sum(np.abs(s-e)) == r[1]-r[0]\n",
      "    print zip(s,e)"
     ],
     "language": "python",
     "metadata": {},
     "outputs": [
      {
       "output_type": "stream",
       "stream": "stdout",
       "text": [
        "True\n",
        "[(-1, -1), (-1, -1), (-1, 1)]\n",
        "True\n",
        "[(-1, -1), (-1, 1), (-1, -1)]\n",
        "False\n",
        "[(-1, -1), (-1, 1), (-1, 1)]\n",
        "True\n",
        "[(-1, 1), (-1, -1), (-1, -1)]\n",
        "False\n",
        "[(-1, 1), (-1, -1), (-1, 1)]\n",
        "False\n",
        "[(-1, 1), (-1, 1), (-1, -1)]\n",
        "False\n",
        "[(-1, 1), (-1, 1), (-1, 1)]\n",
        "False\n",
        "[(-1, -1), (-1, 1), (1, -1)]\n",
        "True\n",
        "[(-1, -1), (-1, 1), (1, 1)]\n",
        "False\n",
        "[(-1, 1), (-1, -1), (1, -1)]\n",
        "True\n",
        "[(-1, 1), (-1, -1), (1, 1)]\n",
        "False\n",
        "[(-1, 1), (-1, 1), (1, -1)]\n",
        "False\n",
        "[(-1, 1), (-1, 1), (1, 1)]\n",
        "True\n",
        "[(-1, -1), (1, 1), (-1, 1)]\n",
        "False\n",
        "[(-1, 1), (1, -1), (-1, -1)]\n",
        "False\n",
        "[(-1, 1), (1, -1), (-1, 1)]\n",
        "True\n",
        "[(-1, 1), (1, 1), (-1, -1)]\n",
        "False\n",
        "[(-1, 1), (1, 1), (-1, 1)]\n",
        "False\n",
        "[(-1, 1), (1, -1), (1, -1)]\n",
        "False\n",
        "[(-1, 1), (1, -1), (1, 1)]\n",
        "False\n",
        "[(-1, 1), (1, 1), (1, -1)]\n",
        "True\n",
        "[(-1, 1), (1, 1), (1, 1)]\n",
        "True\n",
        "[(1, 1), (-1, -1), (-1, 1)]\n",
        "True\n",
        "[(1, 1), (-1, 1), (-1, -1)]\n",
        "False\n",
        "[(1, 1), (-1, 1), (-1, 1)]\n",
        "False\n",
        "[(1, 1), (-1, 1), (1, -1)]\n",
        "True\n",
        "[(1, 1), (-1, 1), (1, 1)]\n",
        "True\n",
        "[(1, 1), (1, 1), (-1, 1)]\n"
       ]
      }
     ],
     "prompt_number": 37
    },
    {
     "cell_type": "code",
     "collapsed": false,
     "input": [
      "T = np.array([[1,0,0,0],[0,1,0,0],[np.tan(np.pi/16),0,1,0],[0,0,0,1]])\n",
      "\n",
      "for s,e, in combinations(np.array(list(product(r,r,r))),2):\n",
      "    \n",
      "    print 'SSSSSSSSSS\\n', s\n",
      "    print 'EEEEEEEEEE\\n', e\n",
      "    \n",
      "    s = np.resize(s,(4,1))\n",
      "    s[3] = 0\n",
      "    s = np.dot(T,s)\n",
      "    \n",
      "    e = np.resize(e,(4,1))\n",
      "    e[3] = 0\n",
      "    e = np.dot(T,e)\n",
      "\n",
      "    print 'SSSSSSSSSS\\n', np.resize(s[0:3],(1,3))[0]\n",
      "    print 'EEEEEEEEEE\\n', np.resize(e[0:3],(1,3))[0]\n",
      "    \n",
      "    # Zip() refactors (x,y,z) points to (x1,x2),(y1,y2),(z1,z2)\n",
      "    ax.plot3D(*zip(np.resize(s[0:3],(1,3))[0],np.resize(e[0:3],(1,3))[0]), color=\"b\")\n",
      "\n",
      "    # Draw cube corners, this will draw 8 points twice but whatever\n",
      "    ax.scatter(s[0],s[1],s[2],color=\"g\",s=100)\n",
      "    ax.scatter(e[0],e[1],e[2],color=\"g\",s=100)\n",
      "\n",
      "\n",
      "#a = Arrow3D([0,1],[0,1],[0,1], mutation_scale=20, lw=1, arrowstyle=\"-|>\", color=\"k\")\n",
      "#ax.add_artist(a)\n",
      "plt.show()\n"
     ],
     "language": "python",
     "metadata": {},
     "outputs": [
      {
       "output_type": "stream",
       "stream": "stdout",
       "text": [
        "SSSSSSSSSS\n",
        "[-1 -1 -1]\n",
        "EEEEEEEEEE\n",
        "[-1 -1  1]\n",
        "SSSSSSSSSS\n",
        "[-1.         -1.         -1.19891237]\n",
        "EEEEEEEEEE\n",
        "[[-1.         -1.          0.80108763]]\n"
       ]
      },
      {
       "ename": "TypeError",
       "evalue": "plot() takes at least 3 arguments (2 given)",
       "output_type": "pyerr",
       "traceback": [
        "\u001b[1;31m---------------------------------------------------------------------------\u001b[0m\n\u001b[1;31mTypeError\u001b[0m                                 Traceback (most recent call last)",
        "\u001b[1;32m<ipython-input-72-6210e3a1a56b>\u001b[0m in \u001b[0;36m<module>\u001b[1;34m()\u001b[0m\n\u001b[0;32m     18\u001b[0m \u001b[1;33m\u001b[0m\u001b[0m\n\u001b[0;32m     19\u001b[0m     \u001b[1;31m# Zip() refactors (x,y,z) points to (x1,x2),(y1,y2),(z1,z2)\u001b[0m\u001b[1;33m\u001b[0m\u001b[1;33m\u001b[0m\u001b[0m\n\u001b[1;32m---> 20\u001b[1;33m     \u001b[0max\u001b[0m\u001b[1;33m.\u001b[0m\u001b[0mplot3D\u001b[0m\u001b[1;33m(\u001b[0m\u001b[1;33m*\u001b[0m\u001b[0mzip\u001b[0m\u001b[1;33m(\u001b[0m\u001b[0mnp\u001b[0m\u001b[1;33m.\u001b[0m\u001b[0mresize\u001b[0m\u001b[1;33m(\u001b[0m\u001b[0ms\u001b[0m\u001b[1;33m[\u001b[0m\u001b[1;36m0\u001b[0m\u001b[1;33m:\u001b[0m\u001b[1;36m3\u001b[0m\u001b[1;33m]\u001b[0m\u001b[1;33m,\u001b[0m\u001b[1;33m(\u001b[0m\u001b[1;36m1\u001b[0m\u001b[1;33m,\u001b[0m\u001b[1;36m3\u001b[0m\u001b[1;33m)\u001b[0m\u001b[1;33m)\u001b[0m\u001b[1;33m,\u001b[0m\u001b[0mnp\u001b[0m\u001b[1;33m.\u001b[0m\u001b[0mresize\u001b[0m\u001b[1;33m(\u001b[0m\u001b[0me\u001b[0m\u001b[1;33m[\u001b[0m\u001b[1;36m0\u001b[0m\u001b[1;33m:\u001b[0m\u001b[1;36m3\u001b[0m\u001b[1;33m]\u001b[0m\u001b[1;33m,\u001b[0m\u001b[1;33m(\u001b[0m\u001b[1;36m1\u001b[0m\u001b[1;33m,\u001b[0m\u001b[1;36m3\u001b[0m\u001b[1;33m)\u001b[0m\u001b[1;33m)\u001b[0m\u001b[1;33m)\u001b[0m\u001b[1;33m,\u001b[0m \u001b[0mcolor\u001b[0m\u001b[1;33m=\u001b[0m\u001b[1;34m\"b\"\u001b[0m\u001b[1;33m)\u001b[0m\u001b[1;33m\u001b[0m\u001b[0m\n\u001b[0m\u001b[0;32m     21\u001b[0m \u001b[1;33m\u001b[0m\u001b[0m\n\u001b[0;32m     22\u001b[0m     \u001b[1;31m# Draw cube corners, this will draw 8 points twice but whatever\u001b[0m\u001b[1;33m\u001b[0m\u001b[1;33m\u001b[0m\u001b[0m\n",
        "\u001b[1;31mTypeError\u001b[0m: plot() takes at least 3 arguments (2 given)"
       ]
      }
     ],
     "prompt_number": 72
    },
    {
     "cell_type": "code",
     "collapsed": false,
     "input": [],
     "language": "python",
     "metadata": {},
     "outputs": []
    }
   ],
   "metadata": {}
  }
 ]
}