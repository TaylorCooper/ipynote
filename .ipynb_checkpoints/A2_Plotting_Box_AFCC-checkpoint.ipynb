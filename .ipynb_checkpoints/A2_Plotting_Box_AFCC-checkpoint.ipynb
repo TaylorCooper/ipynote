{
 "metadata": {
  "name": "",
  "signature": "sha256:e331bb8c41aca07fc6715d189e67e59d1aae3b5ba93a300cf97186814647b0a8"
 },
 "nbformat": 3,
 "nbformat_minor": 0,
 "worksheets": []
}