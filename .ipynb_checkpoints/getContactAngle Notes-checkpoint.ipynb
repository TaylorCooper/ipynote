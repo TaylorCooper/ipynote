{
 "metadata": {
  "name": "",
  "signature": "sha256:6ced20f87d627d1cecd3cca05f50528d929c1733371ecf4aad54ed58eebdc320"
 },
 "nbformat": 3,
 "nbformat_minor": 0,
 "worksheets": [
  {
   "cells": [
    {
     "cell_type": "code",
     "collapsed": false,
     "input": [
      "vars = {\n",
      "    'PATH' : 'D:\\\\GitHub\\\\workspace\\\\A2_work\\\\SampleAnalysis\\\\',\n",
      "    'VSF' : 80,\n",
      "    'VEF' : 660,\n",
      "    'N' : 10,\n",
      "    'R' : 2,\n",
      "    'ROI' : (850,1080,800,1175), # row_min, row_max, col_min, col_max\n",
      "    'MASK' : (90,280,255), # col_min, col_max, value outside mask\n",
      "    'BR' : 90,\n",
      "    'TH' : 160,\n",
      "    'BED' : 150, # row (0 is at top of image)\n",
      "    'W' : vars['ROI'][3]-vars['ROI'][2],\n",
      "    'H' : vars['ROI'][1]-vars['ROI'][0]\n",
      "}\n"
     ],
     "language": "python",
     "metadata": {},
     "outputs": [],
     "prompt_number": 17
    },
    {
     "cell_type": "code",
     "collapsed": false,
     "input": [
      "import numpy as np\n",
      "x = np.array([1])\n",
      "y = np.array([1])\n",
      "\n",
      "np.polyfit(x,y,3)\n",
      "\n",
      "if x != [] and y != []:\n",
      "    print 'something'"
     ],
     "language": "python",
     "metadata": {},
     "outputs": [
      {
       "output_type": "stream",
       "stream": "stderr",
       "text": [
        "C:\\Python27\\lib\\site-packages\\numpy\\lib\\polynomial.py:587: RankWarning: Polyfit may be poorly conditioned\n",
        "  warnings.warn(msg, RankWarning)\n"
       ]
      }
     ],
     "prompt_number": 31
    },
    {
     "cell_type": "code",
     "collapsed": false,
     "input": [
      "# Demonstrate delay / warning using cv2.imshow\n",
      "\n",
      "import cv2 \n",
      "\n",
      "imgMS = cv2.imread('D:\\\\GitHub\\\\workspace\\\\A2_ContactAngle\\\\welcome.png')\n",
      "cv2.imshow('image',imgMS)\n",
      "print cv2.waitKey(1000) & 0xFF\n",
      "cv2.destroyAllWindows()\n",
      "\n",
      "a = '//path//pathy//path//2014lalalalalal.MOV'\n",
      "print a.split('2014')\n",
      "\n",
      "\"\"\"\n",
      "cv2.waitKey Notes:\n",
      "\n",
      "Arg 1:  Delay before exiting wait in ms (if 0 it waits forever,  1000 = 1sec delay)\n",
      "Returns: Ascii value of key pressed to exit the wait, any key press will exit\n",
      "\"\"\""
     ],
     "language": "python",
     "metadata": {},
     "outputs": [
      {
       "output_type": "stream",
       "stream": "stdout",
       "text": [
        "255\n",
        "['//path//pathy//path//', 'lalalalalal.MOV']\n"
       ]
      }
     ],
     "prompt_number": 7
    },
    {
     "cell_type": "code",
     "collapsed": false,
     "input": [
      "# Demonstrate deleting a directory\n",
      "import os, shutil\n",
      "\n",
      "if not os.path.isdir('D:\\\\GitHub\\\\workspace\\\\temp\\\\'):\n",
      "    os.mkdir('D:\\\\GitHub\\\\workspace\\\\temp\\\\')\n",
      "\n",
      "if os.path.isdir('D:\\\\GitHub\\\\workspace\\\\temp\\\\'):\n",
      "    shutil.rmtree('D:\\\\GitHub\\\\workspace\\\\temp\\\\')"
     ],
     "language": "python",
     "metadata": {},
     "outputs": [],
     "prompt_number": 8
    },
    {
     "cell_type": "code",
     "collapsed": false,
     "input": [
      "# Using csv to generate a log file\n",
      "import csv\n",
      "\n",
      "logFile = open('eggs.csv', 'wb')\n",
      "log = csv.writer(logFile, delimiter=',', quoting=csv.QUOTE_NONE)\n",
      "log.writerow(['frameNumber','radius','leftCA','rightCA']) # Header\n",
      "log.writerow([125,None,'Pupu'])\n",
      "logFile.close()"
     ],
     "language": "python",
     "metadata": {},
     "outputs": [],
     "prompt_number": 21
    },
    {
     "cell_type": "code",
     "collapsed": false,
     "input": [
      "# Get BED by user input\n",
      "import cv2\n",
      "\n",
      "\n",
      "class getContactAngle():\n",
      "\n",
      "    def __init__(self):\n",
      "        self.BED = 0\n",
      "    \n",
      "    # mouse callback function\n",
      "    def mouse_callback(self,event,x,y,flags,param):\n",
      "        if event == cv2.EVENT_LBUTTONDOWN:\n",
      "            self.BED = y\n",
      "            print 'You selected: ', x, y\n",
      "            \n",
      "    def getBED(self):\n",
      "        \n",
      "        param = 255\n",
      "        \n",
      "        img = cv2.imread('D:\\\\GitHub\\\\workspace\\\\A2_ContactAngle\\\\welcome.png')\n",
      "        windowName = 'Left click base of bubble. Press Esc to exit.'\n",
      "\n",
      "        # Can be resized\n",
      "        cv2.namedWindow(windowName,cv2.WINDOW_NORMAL)\n",
      "        # Reasonable size window \n",
      "        cv2.resizeWindow(windowName, 944*2, 251*2)\n",
      "        # Mouse callback\n",
      "        cv2.setMouseCallback(windowName, self.mouse_callback) \n",
      "        while True:\n",
      "            cv2.imshow(windowName, img)\n",
      "            k = cv2.waitKey(1000) & 0xFF\n",
      "            print 'BED is currently: ', self.BED\n",
      "            if k == 27:\n",
      "                break\n",
      "        cv2.destroyAllWindows()\n",
      "        \n",
      "gCA = getContactAngle()\n",
      "gCA.getBED()"
     ],
     "language": "python",
     "metadata": {},
     "outputs": [
      {
       "output_type": "stream",
       "stream": "stdout",
       "text": [
        "BED:  0 255\n",
        "BED: "
       ]
      },
      {
       "output_type": "stream",
       "stream": "stdout",
       "text": [
        " 0 255\n",
        "483 136 param 136\n",
        "BED: "
       ]
      },
      {
       "output_type": "stream",
       "stream": "stdout",
       "text": [
        " 136 255\n",
        "BED: "
       ]
      },
      {
       "output_type": "stream",
       "stream": "stdout",
       "text": [
        " 136 255\n",
        "BED: "
       ]
      },
      {
       "output_type": "stream",
       "stream": "stdout",
       "text": [
        " 136 255\n",
        "476"
       ]
      },
      {
       "output_type": "stream",
       "stream": "stdout",
       "text": [
        " 121 param 121\n",
        "BED: "
       ]
      },
      {
       "output_type": "stream",
       "stream": "stdout",
       "text": [
        " 121 255\n",
        "BED: "
       ]
      },
      {
       "output_type": "stream",
       "stream": "stdout",
       "text": [
        " 121 255\n"
       ]
      }
     ],
     "prompt_number": 33
    },
    {
     "cell_type": "code",
     "collapsed": false,
     "input": [
      "l = [15, 18, 2, 36, 12, 78, 5, 6, 9]\n",
      "print reduce(lambda x, y: x + y, l[3:6]) / len(l[3:6])"
     ],
     "language": "python",
     "metadata": {},
     "outputs": [
      {
       "output_type": "stream",
       "stream": "stdout",
       "text": [
        "42\n"
       ]
      }
     ],
     "prompt_number": 43
    },
    {
     "cell_type": "code",
     "collapsed": false,
     "input": [
      "name = '20140805-12_49_15-CA7_L002A_02_BED140.MOV'\n",
      "print name.split('-')\n",
      "info = name.split('-')[2].split('_')\n",
      "print info\n",
      "print info[1][:-4]\n",
      "print info[1][-4:-1]\n",
      "print info[1][-1]\n",
      "name = '20140805-16_04_59-CA8_L003A-13_BED108.MOV'\n",
      "print name.split('-')\n",
      "info = name.split('-')[2].split('_')\n",
      "print info\n",
      "print info[1][:-4]\n",
      "print info[1][-4:-1]\n",
      "print info[1][-1]"
     ],
     "language": "python",
     "metadata": {},
     "outputs": [
      {
       "output_type": "stream",
       "stream": "stdout",
       "text": [
        "['20140805', '12_49_15', 'CA7_L002A_02_BED140.MOV']\n",
        "['CA7', 'L002A', '02', 'BED140.MOV']\n",
        "L\n",
        "002\n",
        "A\n",
        "['20140805', '16_04_59', 'CA8_L003A', '13_BED108.MOV']\n",
        "['CA8', 'L003A']\n",
        "L\n",
        "003\n",
        "A\n"
       ]
      }
     ],
     "prompt_number": 11
    },
    {
     "cell_type": "code",
     "collapsed": false,
     "input": [
      "# Selecting windows for plotting\n",
      "print (1175-800)/2-120, (1175-800)/2+120\n",
      "print 108-20, 1080-750-80\n",
      "roi=(1500,2000,2275,2700)\n",
      "print roi[1]-roi[0], roi[3]-roi[2]"
     ],
     "language": "python",
     "metadata": {},
     "outputs": [
      {
       "output_type": "stream",
       "stream": "stdout",
       "text": [
        "67 307\n",
        "88 250\n",
        "500 425\n"
       ]
      }
     ],
     "prompt_number": 2
    },
    {
     "cell_type": "code",
     "collapsed": false,
     "input": [
      "name = \"D:\\\\GitHub\\\\AFCC Metal FSU Testing 2014\\\\20140808_Dataset\\\\CA1\\\\2014_07_30\\\\20140730-10_26_11-CA1_3DS001A-01_BED189.MOV\"\n",
      "print name.split('\\\\')\n",
      "print name.split('\\\\')[-1:][0].split('_BED')[0]\n",
      "print name.split('_BED')[0]+'_data.csv'"
     ],
     "language": "python",
     "metadata": {},
     "outputs": [
      {
       "output_type": "stream",
       "stream": "stdout",
       "text": [
        "['D:', 'GitHub', 'AFCC Metal FSU Testing 2014', '20140808_Dataset', 'CA1', '2014_07_30', '20140730-10_26_11-CA1_3DS001A-01_BED189.MOV']\n",
        "20140730-10_26_11-CA1_3DS001A-01\n",
        "D:\\GitHub\\AFCC Metal FSU Testing 2014\\20140808_Dataset\\CA1\\2014_07_30\\20140730-10_26_11-CA1_3DS001A-01_data.csv\n"
       ]
      }
     ],
     "prompt_number": 22
    },
    {
     "cell_type": "code",
     "collapsed": false,
     "input": [
      "import numpy as np\n",
      "x = np.arange(1,100,1)\n",
      "x += 150\n",
      "print x"
     ],
     "language": "python",
     "metadata": {},
     "outputs": [
      {
       "output_type": "stream",
       "stream": "stdout",
       "text": [
        "[151 152 153 154 155 156 157 158 159 160 161 162 163 164 165 166 167 168\n",
        " 169 170 171 172 173 174 175 176 177 178 179 180 181 182 183 184 185 186\n",
        " 187 188 189 190 191 192 193 194 195 196 197 198 199 200 201 202 203 204\n",
        " 205 206 207 208 209 210 211 212 213 214 215 216 217 218 219 220 221 222\n",
        " 223 224 225 226 227 228 229 230 231 232 233 234 235 236 237 238 239 240\n",
        " 241 242 243 244 245 246 247 248 249]\n"
       ]
      }
     ],
     "prompt_number": 4
    },
    {
     "cell_type": "code",
     "collapsed": false,
     "input": [
      "import cv2\n",
      "\n",
      "img = cv2.imread('D:\\\\Thaw.png')\n",
      "img = cv2.cvtColor(img,cv2.COLOR_BGR2GRAY)\n",
      "img = cv2.equalizeHist(img) # increases contrast but not in the way I want\n",
      "cv2.imwrite('D:\\\\Thaw-Hist.png', img)"
     ],
     "language": "python",
     "metadata": {},
     "outputs": [
      {
       "ename": "error",
       "evalue": "..\\..\\..\\src\\opencv\\modules\\imgproc\\src\\histogram.cpp:3120: error: (-215) src.type() == CV_8UC1\n",
       "output_type": "pyerr",
       "traceback": [
        "\u001b[1;31m---------------------------------------------------------------------------\u001b[0m\n\u001b[1;31merror\u001b[0m                                     Traceback (most recent call last)",
        "\u001b[1;32m<ipython-input-1-6ae62e7f4755>\u001b[0m in \u001b[0;36m<module>\u001b[1;34m()\u001b[0m\n\u001b[0;32m      2\u001b[0m \u001b[1;33m\u001b[0m\u001b[0m\n\u001b[0;32m      3\u001b[0m \u001b[0mimg\u001b[0m \u001b[1;33m=\u001b[0m \u001b[0mcv2\u001b[0m\u001b[1;33m.\u001b[0m\u001b[0mimread\u001b[0m\u001b[1;33m(\u001b[0m\u001b[1;34m'D:\\\\Thaw.png'\u001b[0m\u001b[1;33m)\u001b[0m\u001b[1;33m\u001b[0m\u001b[0m\n\u001b[1;32m----> 4\u001b[1;33m \u001b[0mimg\u001b[0m \u001b[1;33m=\u001b[0m \u001b[0mcv2\u001b[0m\u001b[1;33m.\u001b[0m\u001b[0mequalizeHist\u001b[0m\u001b[1;33m(\u001b[0m\u001b[0mimg\u001b[0m\u001b[1;33m)\u001b[0m \u001b[1;31m# increases contrast but not in the way I want\u001b[0m\u001b[1;33m\u001b[0m\u001b[0m\n\u001b[0m\u001b[0;32m      5\u001b[0m \u001b[0mcv2\u001b[0m\u001b[1;33m.\u001b[0m\u001b[0mimwrite\u001b[0m\u001b[1;33m(\u001b[0m\u001b[1;34m'D:\\\\Thaw-Hist.png'\u001b[0m\u001b[1;33m,\u001b[0m \u001b[0mimg\u001b[0m\u001b[1;33m)\u001b[0m\u001b[1;33m\u001b[0m\u001b[0m\n",
        "\u001b[1;31merror\u001b[0m: ..\\..\\..\\src\\opencv\\modules\\imgproc\\src\\histogram.cpp:3120: error: (-215) src.type() == CV_8UC1\n"
       ]
      }
     ],
     "prompt_number": 1
    },
    {
     "cell_type": "code",
     "collapsed": false,
     "input": [],
     "language": "python",
     "metadata": {},
     "outputs": [],
     "prompt_number": 0
    },
    {
     "cell_type": "code",
     "collapsed": false,
     "input": [],
     "language": "python",
     "metadata": {},
     "outputs": []
    }
   ],
   "metadata": {}
  }
 ]
}