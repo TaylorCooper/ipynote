{
 "metadata": {
  "name": "",
  "signature": "sha256:e7be34ea2f22f5fe5b7bc55ecfa0655769a93806f2ccfb60502795023f7b588a"
 },
 "nbformat": 3,
 "nbformat_minor": 0,
 "worksheets": [
  {
   "cells": [
    {
     "cell_type": "code",
     "collapsed": false,
     "input": [
      "import sys\n",
      "sys.path.insert(0, 'D:\\\\GitHub\\\\workspace\\\\A2_ContactAngle\\\\')\n",
      "import main # getContactAngle main\n",
      "\n",
      "headersImg = [\n",
      "          'Filename',\n",
      "          'Material',\n",
      "          'index',\n",
      "          'tiltAngle(deg)',\n",
      "          'experiment',\n",
      "          'leftCA(deg)',\n",
      "          'rightCA(deg)',\n",
      "          'MaxDiameter(px)',\n",
      "          'BED(px)',\n",
      "          ]\n",
      "\n",
      "varsImgStatic3DS = {\n",
      "    # Always provide the trailing \\\\ for 'PATH' if it's a filepath\n",
      "    'PATH' : 'D:\\\\_Work\\\\0000-AFCC_MetalFSU_A2\\\\20140808_Dataset\\\\Static_Measurements\\\\3DS\\\\',\n",
      "    'VSF' : None,\n",
      "    'VEF' : None, # Set high for CA7\n",
      "    'N' : None,\n",
      "    'R' : 2,\n",
      "    'ROI' : (1700,2000,2275,2700), # ??\n",
      "    'MASK' : (50,375,255), # For static measurements\n",
      "    'BR' : 50,\n",
      "    'TH' : 160,\n",
      "    'POLYDEG' : 5,\n",
      "    'DERIVOFF' : 5,\n",
      "    'MINSYGPOS' : 120,\n",
      "    'SYGOFF' : 6,\n",
      "    'DPI' : 100, # plot quality (lower = faster\n",
      "    'PLOTXOFF' : 250, # Graph offsets from image center \n",
      "    'PLOTYOFF' : -40, # Graph offsets\n",
      "    'DEBUG' : True,\n",
      "    'RESETBED' : False,\n",
      "    'ASSIGNBEDS' : False,\n",
      "    'REMOVEBEDS' : False,\n",
      "}\n",
      "\n",
      "gCA1 = main.getContactAngle(varsImgStatic3DS, headersImg)\n",
      "gCA1.analyzeStaticImages()\n"
     ],
     "language": "python",
     "metadata": {},
     "outputs": [
      {
       "output_type": "stream",
       "stream": "stdout",
       "text": [
        "Saving master data to:  D:\\_Work\\0000-AFCC_MetalFSU_A2\\masterLog_Tilt_07818128.csv\n",
        "Analyzing:  D:\\_Work\\0000-AFCC_MetalFSU_A2\\20140808_Dataset\\Static_Measurements\\3DS\\\\20140811-15_50_16-Rotate0_3DS001_01-1_BED191.JPG\n",
        "184"
       ]
      },
      {
       "output_type": "stream",
       "stream": "stdout",
       "text": [
        " 63.3614332609 68.8639631449\n",
        "idx-01-1\n",
        "Analyzing:  D:\\_Work\\0000-AFCC_MetalFSU_A2\\20140808_Dataset\\Static_Measurements\\3DS\\\\20140811-15_56_16-Rotate0_3DS001_02-1_BED193.JPG\n",
        "192"
       ]
      },
      {
       "output_type": "stream",
       "stream": "stdout",
       "text": [
        " 60.6287664181 62.7754829549\n",
        "idx-02-1\n",
        "Analyzing:  D:\\_Work\\0000-AFCC_MetalFSU_A2\\20140808_Dataset\\Static_Measurements\\3DS\\\\20140811-16_10_11-Rotate0_3DS001_03-1_BED195.JPG\n",
        "200"
       ]
      },
      {
       "output_type": "stream",
       "stream": "stdout",
       "text": [
        " 57.9733994609 60.9952175062\n",
        "idx-03-1\n",
        "Analyzing:  D:\\_Work\\0000-AFCC_MetalFSU_A2\\20140808_Dataset\\Static_Measurements\\3DS\\\\20140811-16_29_22-Rotate0_3DS001_04-1_BED192.JPG\n",
        "194"
       ]
      },
      {
       "output_type": "stream",
       "stream": "stdout",
       "text": [
        " 59.2436146116 64.1353193848\n",
        "idx-04-1\n",
        "Analyzing:  D:\\_Work\\0000-AFCC_MetalFSU_A2\\20140808_Dataset\\Static_Measurements\\3DS\\\\20140811-16_34_04-Rotate0_3DS001_05-1_BED195.JPG\n",
        "168"
       ]
      },
      {
       "output_type": "stream",
       "stream": "stdout",
       "text": [
        " 64.4166380792 67.8401474639\n",
        "idx-05-1\n",
        "Analyzing:  D:\\_Work\\0000-AFCC_MetalFSU_A2\\20140808_Dataset\\Static_Measurements\\3DS\\\\20140811-16_37_13-Rotate0_3DS001_06-1_ST_BED198.JPG\n",
        "162"
       ]
      },
      {
       "output_type": "stream",
       "stream": "stdout",
       "text": [
        " 69.0851208424 74.0145103882\n",
        "idx-06-1\n",
        "Analyzing:  D:\\_Work\\0000-AFCC_MetalFSU_A2\\20140808_Dataset\\Static_Measurements\\3DS\\\\20140811-16_39_13-Rotate0_3DS001_07-1_ST_BED197.JPG\n",
        "162"
       ]
      },
      {
       "output_type": "stream",
       "stream": "stdout",
       "text": [
        " 75.9570449698 76.4156737189\n",
        "idx-07-1\n",
        "Analyzing:  D:\\_Work\\0000-AFCC_MetalFSU_A2\\20140808_Dataset\\Static_Measurements\\3DS\\\\20140811-16_41_36-Rotate0_3DS001_08-1_ST_BED196.JPG\n",
        "174"
       ]
      },
      {
       "output_type": "stream",
       "stream": "stdout",
       "text": [
        " 69.2262418455 77.4015203049\n",
        "idx-08-1\n",
        "Analyzing:  D:\\_Work\\0000-AFCC_MetalFSU_A2\\20140808_Dataset\\Static_Measurements\\3DS\\\\20140811-16_43_19-Rotate0_3DS001_09-1_ST_BED197.JPG\n",
        "160"
       ]
      },
      {
       "output_type": "stream",
       "stream": "stdout",
       "text": [
        " 75.3192384101 77.8564622517\n",
        "idx-09-1\n",
        "Analyzing:  D:\\_Work\\0000-AFCC_MetalFSU_A2\\20140808_Dataset\\Static_Measurements\\3DS\\\\20140811-16_45_45-Rotate0_3DS001_10-1_ST_BED194.JPG\n",
        "172"
       ]
      },
      {
       "output_type": "stream",
       "stream": "stdout",
       "text": [
        " 69.9141931614 69.2656298264\n",
        "idx-10-1\n"
       ]
      }
     ],
     "prompt_number": 17
    },
    {
     "cell_type": "code",
     "collapsed": false,
     "input": [
      "import sys\n",
      "sys.path.insert(0, 'D:\\\\GitHub\\\\workspace\\\\A2_ContactAngle\\\\')\n",
      "import main # getContactAngle main\n",
      "\n",
      "headersImg = [\n",
      "          'Filename',\n",
      "          'Material',\n",
      "          'index',\n",
      "          'tiltAngle(deg)',\n",
      "          'experiment',\n",
      "          'leftCA(deg)',\n",
      "          'rightCA(deg)',\n",
      "          'MaxDiameter(px)',\n",
      "          'BED(px)',\n",
      "          ]\n",
      "\n",
      "varsImgStatic3DS = {\n",
      "    # Always provide the trailing \\\\ for 'PATH' if it's a filepath\n",
      "    'PATH' : 'D:\\\\_Work\\\\0000-AFCC_MetalFSU_A2\\\\20140808_Dataset\\\\Static_Measurements\\\\M01\\\\',\n",
      "    'VSF' : None,\n",
      "    'VEF' : None, # Set high for CA7\n",
      "    'N' : None,\n",
      "    'R' : 2,\n",
      "    'ROI' : (1700,2000,2200,2625), # ??\n",
      "    'MASK' : (100,325,255), # For static measurements\n",
      "    'BR' : 30,\n",
      "    'TH' : 170,\n",
      "    'POLYDEG' : 5,\n",
      "    'DERIVOFF' : 5,\n",
      "    'MINSYGPOS' : 120,\n",
      "    'SYGOFF' : 6,\n",
      "    'DPI' : 100, # plot quality (lower = faster\n",
      "    'PLOTXOFF' : 250, # Graph offsets from image center \n",
      "    'PLOTYOFF' : -40, # Graph offsets\n",
      "    'DEBUG' : True,\n",
      "    'RESETBED' : False,\n",
      "    'ASSIGNBEDS' : False,\n",
      "    'REMOVEBEDS' : False,\n",
      "}\n",
      "\n",
      "gCA2 = main.getContactAngle(varsImgStatic3DS, headersImg)\n",
      "gCA2.analyzeStaticImages()"
     ],
     "language": "python",
     "metadata": {},
     "outputs": [
      {
       "output_type": "stream",
       "stream": "stdout",
       "text": [
        "Saving master data to:  D:\\_Work\\0000-AFCC_MetalFSU_A2\\masterLog_Tilt_0781966.csv\n",
        "Analyzing:  D:\\_Work\\0000-AFCC_MetalFSU_A2\\20140808_Dataset\\Static_Measurements\\M01\\\\20140811-17_05_58-Rotate0_M01_01-1_SYG_BED113.JPG\n",
        "88"
       ]
      },
      {
       "output_type": "stream",
       "stream": "stdout",
       "text": [
        " 62.3441063749 61.6905781407\n",
        "idx-01-1\n",
        "Analyzing:  D:\\_Work\\0000-AFCC_MetalFSU_A2\\20140808_Dataset\\Static_Measurements\\M01\\\\20140811-17_11_07-Rotate0_M01_02-1_SYG_BED83.JPG\n",
        "82"
       ]
      },
      {
       "output_type": "stream",
       "stream": "stdout",
       "text": [
        " 67.8552039198 65.9941536865\n",
        "idx-02-1\n",
        "Analyzing:  D:\\_Work\\0000-AFCC_MetalFSU_A2\\20140808_Dataset\\Static_Measurements\\M01\\\\20140811-17_14_04-Rotate0_M01_03-1_SYG_BED102.JPG\n",
        "68"
       ]
      },
      {
       "output_type": "stream",
       "stream": "stdout",
       "text": [
        " 65.980844527 63.9414836187\n",
        "idx-03-1\n",
        "Analyzing:  D:\\_Work\\0000-AFCC_MetalFSU_A2\\20140808_Dataset\\Static_Measurements\\M01\\\\20140811-17_16_32-Rotate0_M01_04-1_SYG_BED101.JPG\n",
        "94"
       ]
      },
      {
       "output_type": "stream",
       "stream": "stdout",
       "text": [
        " 64.5671033477 68.4489511623\n",
        "idx-04-1\n",
        "Analyzing:  D:\\_Work\\0000-AFCC_MetalFSU_A2\\20140808_Dataset\\Static_Measurements\\M01\\\\20140811-17_18_33-Rotate0_M01_05-1_SYG_BED92.JPG\n",
        "90"
       ]
      },
      {
       "output_type": "stream",
       "stream": "stdout",
       "text": [
        " 65.7069806357 66.2641020293\n",
        "idx-05-1\n",
        "Analyzing:  D:\\_Work\\0000-AFCC_MetalFSU_A2\\20140808_Dataset\\Static_Measurements\\M01\\\\20140811-17_21_49-Rotate0_M01_06-1_SYG_BED116.JPG\n",
        "80"
       ]
      },
      {
       "output_type": "stream",
       "stream": "stdout",
       "text": [
        " 59.8008108586 57.5629033071\n",
        "idx-06-1\n"
       ]
      }
     ],
     "prompt_number": 19
    },
    {
     "cell_type": "code",
     "collapsed": false,
     "input": [
      "import sys\n",
      "sys.path.insert(0, 'D:\\\\GitHub\\\\workspace\\\\A2_ContactAngle\\\\')\n",
      "import main # getContactAngle main\n",
      "\n",
      "headersImg = [\n",
      "          'Filename',\n",
      "          'Material',\n",
      "          'index',\n",
      "          'tiltAngle(deg)',\n",
      "          'experiment',\n",
      "          'leftCA(deg)',\n",
      "          'rightCA(deg)',\n",
      "          'MaxDiameter(px)',\n",
      "          'BED(px)',\n",
      "          ]\n",
      "\n",
      "varsSyringVid = {\n",
      "    # Always provide the trailing \\\\ for 'PATH' if it's a filepath\n",
      "    'PATH' : 'D:\\\\_Work\\\\0000-AFCC_MetalFSU_A2\\\\20140808_Dataset\\\\Syringe_Needle_Effect\\\\',\n",
      "    'VSF' : 50,\n",
      "    'VEF' : 30000, # Set high for CA7\n",
      "    'N' :5,\n",
      "    'R' : 2,\n",
      "    'ROI' : (500,600,760,1000),\n",
      "    'MASK' : (90,160,255),\n",
      "    'BR' : 10,\n",
      "    'TH' : 190,\n",
      "    'POLYDEG' : 5,\n",
      "    'DERIVOFF' : 5,\n",
      "    'MINSYGPOS' : 108,\n",
      "    'SYGOFF' : 6,\n",
      "    'DPI' : 100, # plot quality (lower = faster\n",
      "    'PLOTXOFF' : 250, # Graph offsets from image center \n",
      "    'PLOTYOFF' : -40, # Graph offsets\n",
      "    'DEBUG' : True,\n",
      "    'RESETBED' : True,\n",
      "    'ASSIGNBEDS' : False,\n",
      "    'REMOVEBEDS' : False,\n",
      "}\n",
      "\n",
      "gCA3 = main.getContactAngle(varsSyringVid, headersImg)\n",
      "gCA3.analyzeVideos()\n",
      "\n",
      "\"\"\" \n",
      "Changes to run:\n",
      "\n",
      "            self.minFitPoints = 6 # Was 12\n",
      "\n",
      "\n",
      "            in img filter\n",
      "            # Temporary clean up\n",
      "            mask[:30,:] = 255\n",
      "\n",
      "\n",
      "            img = cv2.add(img,mask)\n",
      "            \n",
      "            # Temporary Locate syringe\n",
      "            mask = np.zeros([self.h,self.w], np.uint8)\n",
      "            mask[:5,118:122] = 255\n",
      "            img = cv2.subtract(img,mask)\n",
      "\n",
      "\n",
      "\"\"\""
     ],
     "language": "python",
     "metadata": {},
     "outputs": [
      {
       "output_type": "stream",
       "stream": "stdout",
       "text": [
        "Saving master data to:  D:\\_Work\\0000-AFCC_MetalFSU_A2\\masterLog_07862241.csv\n",
        "20140812-11_53_19-CA9_M01SS-02_BED58.MOV\n",
        "You selected: "
       ]
      },
      {
       "output_type": "stream",
       "stream": "stdout",
       "text": [
        " 151 59\n",
        "Renaming: "
       ]
      },
      {
       "output_type": "stream",
       "stream": "stdout",
       "text": [
        " D:\\_Work\\0000-AFCC_MetalFSU_A2\\20140808_Dataset\\Syringe_Needle_Effect\\\\20140812-11_53_19-CA9_M01SS-02_BED58.MOV\n",
        "New Name:  D:\\_Work\\0000-AFCC_MetalFSU_A2\\20140808_Dataset\\Syringe_Needle_Effect\\\\20140812-11_53_19-CA9_M01SS-02_BED59.MOV\n",
        "Analyzing:  D:\\_Work\\0000-AFCC_MetalFSU_A2\\20140808_Dataset\\Syringe_Needle_Effect\\\\20140812-11_53_19-CA9_M01SS-02_BED59.MOV\n",
        "Making:  D:\\_Work\\0000-AFCC_MetalFSU_A2\\20140808_Dataset\\Syringe_Needle_Effect\\\\20140812-11_53_19-CA9_M01SS-02_BED59\\\n",
        "0050"
       ]
      },
      {
       "output_type": "stream",
       "stream": "stdout",
       "text": [
        " 22 None None\n",
        "0055 22 None None\n",
        "0060"
       ]
      },
      {
       "output_type": "stream",
       "stream": "stdout",
       "text": [
        " 22 None None\n",
        "0065 22 None None\n",
        "0070"
       ]
      },
      {
       "output_type": "stream",
       "stream": "stdout",
       "text": [
        " 22 None None\n",
        "0075 22 None None\n",
        "0080"
       ]
      },
      {
       "output_type": "stream",
       "stream": "stdout",
       "text": [
        " 22 None None\n",
        "0085 22 None None\n",
        "0090"
       ]
      },
      {
       "output_type": "stream",
       "stream": "stdout",
       "text": [
        " 22 None None\n",
        "0095 22 None None\n",
        "0100"
       ]
      },
      {
       "output_type": "stream",
       "stream": "stdout",
       "text": [
        " 22 None None\n",
        "0105 22 None None\n",
        "0110"
       ]
      },
      {
       "output_type": "stream",
       "stream": "stdout",
       "text": [
        " 32 None None\n",
        "0115 34 None None\n",
        "0120"
       ]
      },
      {
       "output_type": "stream",
       "stream": "stdout",
       "text": [
        " 34 None None\n",
        "0125 34 None None\n",
        "0130"
       ]
      },
      {
       "output_type": "stream",
       "stream": "stdout",
       "text": [
        " 34 None None\n",
        "0135 34 None None\n",
        "0140"
       ]
      },
      {
       "output_type": "stream",
       "stream": "stdout",
       "text": [
        " 34 None None\n",
        "0145 38 None None\n",
        "0150"
       ]
      },
      {
       "output_type": "stream",
       "stream": "stdout",
       "text": [
        " 42 None 19.7624209351\n",
        "0155"
       ]
      },
      {
       "output_type": "stream",
       "stream": "stdout",
       "text": [
        " 42 None 19.7624209351\n",
        "0160"
       ]
      },
      {
       "output_type": "stream",
       "stream": "stdout",
       "text": [
        " 42 None 19.7624209351\n",
        "0165"
       ]
      },
      {
       "output_type": "stream",
       "stream": "stdout",
       "text": [
        " 42 None 19.7624209351\n",
        "0170"
       ]
      },
      {
       "output_type": "stream",
       "stream": "stdout",
       "text": [
        " 42 None 29.281427113\n",
        "0175"
       ]
      },
      {
       "output_type": "stream",
       "stream": "stdout",
       "text": [
        " 42 None 19.7624209351\n",
        "0180"
       ]
      },
      {
       "output_type": "stream",
       "stream": "stdout",
       "text": [
        " 42 None 19.7624209351\n",
        "0185"
       ]
      },
      {
       "output_type": "stream",
       "stream": "stdout",
       "text": [
        " 42 None 19.7624209351\n",
        "0190"
       ]
      },
      {
       "output_type": "stream",
       "stream": "stdout",
       "text": [
        " 42 None 19.7624209351\n",
        "0195"
       ]
      },
      {
       "output_type": "stream",
       "stream": "stdout",
       "text": [
        " 42 None 19.7624209351\n",
        "0200"
       ]
      },
      {
       "output_type": "stream",
       "stream": "stdout",
       "text": [
        " 42 None 19.7624209351\n",
        "0205"
       ]
      },
      {
       "output_type": "stream",
       "stream": "stdout",
       "text": [
        " 42 None 19.7624209351\n",
        "0210"
       ]
      },
      {
       "output_type": "stream",
       "stream": "stdout",
       "text": [
        " 42 None 19.7624209351\n",
        "0215"
       ]
      },
      {
       "output_type": "stream",
       "stream": "stdout",
       "text": [
        " 42 None 19.7624209351\n",
        "0220"
       ]
      },
      {
       "output_type": "stream",
       "stream": "stdout",
       "text": [
        " 42 None 19.7624209351\n",
        "0225"
       ]
      },
      {
       "output_type": "stream",
       "stream": "stdout",
       "text": [
        " 42 None 25.4633451087\n",
        "0230"
       ]
      },
      {
       "output_type": "stream",
       "stream": "stdout",
       "text": [
        " 42 None 25.4633451087\n",
        "0235"
       ]
      },
      {
       "output_type": "stream",
       "stream": "stdout",
       "text": [
        " 42 None 24.7751405548\n",
        "0240"
       ]
      },
      {
       "output_type": "stream",
       "stream": "stdout",
       "text": [
        " 46 34.8228559132 35.0000217548\n",
        "0245"
       ]
      },
      {
       "output_type": "stream",
       "stream": "stdout",
       "text": [
        " 46 38.8180139502 35.0000217548\n",
        "0250"
       ]
      },
      {
       "output_type": "stream",
       "stream": "stdout",
       "text": [
        " 50 42.0915196131 36.3357328574\n",
        "0255"
       ]
      },
      {
       "output_type": "stream",
       "stream": "stdout",
       "text": [
        " 50 42.0915196131 36.3357328574\n",
        "0260"
       ]
      },
      {
       "output_type": "stream",
       "stream": "stdout",
       "text": [
        " 50 39.0368373168 36.3357328574\n",
        "0265"
       ]
      },
      {
       "output_type": "stream",
       "stream": "stdout",
       "text": [
        " 50 42.0915196131 36.3357328574\n",
        "0270"
       ]
      },
      {
       "output_type": "stream",
       "stream": "stdout",
       "text": [
        " 50 42.0915196131 36.3357328574\n",
        "0275"
       ]
      },
      {
       "output_type": "stream",
       "stream": "stdout",
       "text": [
        " 50 35.2876694218 36.3357328574\n",
        "0280"
       ]
      },
      {
       "output_type": "stream",
       "stream": "stdout",
       "text": [
        " 50 42.0915196131 36.3357328574\n",
        "0285"
       ]
      },
      {
       "output_type": "stream",
       "stream": "stdout",
       "text": [
        " 50 42.0915196131 36.3357328574\n",
        "0290"
       ]
      },
      {
       "output_type": "stream",
       "stream": "stdout",
       "text": [
        " 50 33.9423973203 36.3357328574\n",
        "0295"
       ]
      },
      {
       "output_type": "stream",
       "stream": "stdout",
       "text": [
        " 50 35.2876694218 36.3357328574\n",
        "0300"
       ]
      },
      {
       "output_type": "stream",
       "stream": "stdout",
       "text": [
        " 50 36.3357328567 40.2837711529\n",
        "0305"
       ]
      },
      {
       "output_type": "stream",
       "stream": "stdout",
       "text": [
        " 50 48.2096702839 36.3357328574\n",
        "0310"
       ]
      },
      {
       "output_type": "stream",
       "stream": "stdout",
       "text": [
        " 50 34.6181344127 42.6127916089\n",
        "0315"
       ]
      },
      {
       "output_type": "stream",
       "stream": "stdout",
       "text": [
        " 50 34.6181344127 36.3357328574\n",
        "0320"
       ]
      },
      {
       "output_type": "stream",
       "stream": "stdout",
       "text": [
        " 50 36.3357328567 40.2837711529\n",
        "0325"
       ]
      },
      {
       "output_type": "stream",
       "stream": "stdout",
       "text": [
        " 50 40.1237766868 40.9236519591\n",
        "0330"
       ]
      },
      {
       "output_type": "stream",
       "stream": "stdout",
       "text": [
        " 50 43.9069353762 46.8670594977\n",
        "0335"
       ]
      },
      {
       "output_type": "stream",
       "stream": "stdout",
       "text": [
        " 50 46.8879864622 44.1668239371\n",
        "0340"
       ]
      },
      {
       "output_type": "stream",
       "stream": "stdout",
       "text": [
        " 50 36.3357328574 35.6575972256\n",
        "0345"
       ]
      },
      {
       "output_type": "stream",
       "stream": "stdout",
       "text": [
        " 50 38.2888812229 30.7882451962\n",
        "0350"
       ]
      },
      {
       "output_type": "stream",
       "stream": "stdout",
       "text": [
        " 46 32.9654491207 27.6158128968\n",
        "0355"
       ]
      },
      {
       "output_type": "stream",
       "stream": "stdout",
       "text": [
        " 40 28.6104597097 26.0033458985\n",
        "0360 38 None None\n",
        "0365"
       ]
      },
      {
       "output_type": "stream",
       "stream": "stdout",
       "text": [
        " 30 None None\n",
        "0370 22 None None\n",
        "0375"
       ]
      },
      {
       "output_type": "stream",
       "stream": "stdout",
       "text": [
        " 22 None None\n",
        "0380 32 None None\n",
        "0385"
       ]
      },
      {
       "output_type": "stream",
       "stream": "stdout",
       "text": [
        " 38 None None\n",
        "0390"
       ]
      },
      {
       "output_type": "stream",
       "stream": "stdout",
       "text": [
        " 42 None 22.2034784758\n",
        "0395"
       ]
      },
      {
       "output_type": "stream",
       "stream": "stdout",
       "text": [
        " 46 26.4030340691 32.3864243138\n",
        "0400"
       ]
      },
      {
       "output_type": "stream",
       "stream": "stdout",
       "text": [
        " 50 44.1157644695 34.6021922215\n",
        "0405"
       ]
      },
      {
       "output_type": "stream",
       "stream": "stdout",
       "text": [
        " 50 39.0368373168 36.3357328568\n",
        "0410"
       ]
      },
      {
       "output_type": "stream",
       "stream": "stdout",
       "text": [
        " 50 54.6574099849 50.06047045\n",
        "0415"
       ]
      },
      {
       "output_type": "stream",
       "stream": "stdout",
       "text": [
        " 50 54.6574099849 52.652277599\n",
        "0420"
       ]
      },
      {
       "output_type": "stream",
       "stream": "stdout",
       "text": [
        " 50 94.4522599818 130.938043715\n",
        "0425"
       ]
      },
      {
       "output_type": "stream",
       "stream": "stdout",
       "text": [
        " 50 102.882179851 137.652501434\n",
        "0430"
       ]
      },
      {
       "output_type": "stream",
       "stream": "stdout",
       "text": [
        " 50 109.50301738 124.317070047\n",
        "0435"
       ]
      },
      {
       "output_type": "stream",
       "stream": "stdout",
       "text": [
        " 50 103.945864085 120.368331414\n",
        "0440"
       ]
      },
      {
       "output_type": "stream",
       "stream": "stdout",
       "text": [
        " 50 100.699032749 113.647512996\n",
        "0445"
       ]
      },
      {
       "output_type": "stream",
       "stream": "stdout",
       "text": [
        " 50 115.690416063 108.443053028\n",
        "0450"
       ]
      },
      {
       "output_type": "stream",
       "stream": "stdout",
       "text": [
        " 50 107.13567405 137.4040297\n",
        "0455"
       ]
      },
      {
       "output_type": "stream",
       "stream": "stdout",
       "text": [
        " 50 103.447497372 142.367125758\n",
        "0460"
       ]
      },
      {
       "output_type": "stream",
       "stream": "stdout",
       "text": [
        " 50 66.7211641564 56.8553839308\n",
        "0465"
       ]
      },
      {
       "output_type": "stream",
       "stream": "stdout",
       "text": [
        " 50 51.3873641891 44.5384704433\n",
        "0470"
       ]
      },
      {
       "output_type": "stream",
       "stream": "stdout",
       "text": [
        " 50 35.9434932824 35.8637927484\n",
        "0475"
       ]
      },
      {
       "output_type": "stream",
       "stream": "stdout",
       "text": [
        " 46 33.4288640841 35.0000217548\n",
        "0480"
       ]
      },
      {
       "output_type": "stream",
       "stream": "stdout",
       "text": [
        " 46 35.0000217551 34.9692881184\n",
        "0485 38 None None\n",
        "0490"
       ]
      },
      {
       "output_type": "stream",
       "stream": "stdout",
       "text": [
        " 34 None None\n",
        "0495 20 None None\n",
        "0500"
       ]
      },
      {
       "output_type": "stream",
       "stream": "stdout",
       "text": [
        " None None None\n",
        "0505 22 None None\n",
        "0510"
       ]
      },
      {
       "output_type": "stream",
       "stream": "stdout",
       "text": [
        " 30 None None\n",
        "0515 38 None None\n",
        "0520"
       ]
      },
      {
       "output_type": "stream",
       "stream": "stdout",
       "text": [
        " 42 None 24.7751405548\n",
        "0525"
       ]
      },
      {
       "output_type": "stream",
       "stream": "stdout",
       "text": [
        " 42 19.4400348039 26.579081469\n",
        "0530"
       ]
      },
      {
       "output_type": "stream",
       "stream": "stdout",
       "text": [
        " 50 38.3379041617 34.6021922215\n",
        "0535"
       ]
      },
      {
       "output_type": "stream",
       "stream": "stdout",
       "text": [
        " 50 36.3357328567 40.2837711529\n",
        "0540"
       ]
      },
      {
       "output_type": "stream",
       "stream": "stdout",
       "text": [
        " 50 49.0663306803 46.7099904973\n",
        "0545"
       ]
      },
      {
       "output_type": "stream",
       "stream": "stdout",
       "text": [
        " 50 52.440108199 42.7179303243\n",
        "0550"
       ]
      },
      {
       "output_type": "stream",
       "stream": "stdout",
       "text": [
        " 50 103.35941116 126.708472723\n",
        "0555"
       ]
      },
      {
       "output_type": "stream",
       "stream": "stdout",
       "text": [
        " 50 103.35941116 127.346438671\n",
        "0560"
       ]
      },
      {
       "output_type": "stream",
       "stream": "stdout",
       "text": [
        " 50 103.35941116 129.734296732\n",
        "0565"
       ]
      },
      {
       "output_type": "stream",
       "stream": "stdout",
       "text": [
        " 50 103.35941116 124.176931122\n",
        "0570"
       ]
      },
      {
       "output_type": "stream",
       "stream": "stdout",
       "text": [
        " 50 108.315416717 126.448930037\n",
        "0575"
       ]
      },
      {
       "output_type": "stream",
       "stream": "stdout",
       "text": [
        " 50 97.6014360214 122.697446506\n",
        "0580"
       ]
      },
      {
       "output_type": "stream",
       "stream": "stdout",
       "text": [
        " 50 97.7862179968 125.001215107\n",
        "0585"
       ]
      },
      {
       "output_type": "stream",
       "stream": "stdout",
       "text": [
        " 50 77.6633163859 81.7216169277\n",
        "0590"
       ]
      },
      {
       "output_type": "stream",
       "stream": "stdout",
       "text": [
        " 50 56.0167056969 52.1277173212\n",
        "0595"
       ]
      },
      {
       "output_type": "stream",
       "stream": "stdout",
       "text": [
        " 50 35.658698511 32.6702503647\n",
        "0600"
       ]
      },
      {
       "output_type": "stream",
       "stream": "stdout",
       "text": [
        " 50 39.1880508438 36.1095460164\n",
        "0605"
       ]
      },
      {
       "output_type": "stream",
       "stream": "stdout",
       "text": [
        " 40 27.6093573965 26.7573182496\n",
        "0610 36 None None\n",
        "0615"
       ]
      },
      {
       "output_type": "stream",
       "stream": "stdout",
       "text": [
        " 30 None None\n",
        "0620 20 None None\n",
        "0625"
       ]
      },
      {
       "output_type": "stream",
       "stream": "stdout",
       "text": [
        " 26 None None\n",
        "0630 34 None None\n",
        "0635"
       ]
      },
      {
       "output_type": "stream",
       "stream": "stdout",
       "text": [
        " 42 None 22.9057696693\n",
        "0640"
       ]
      },
      {
       "output_type": "stream",
       "stream": "stdout",
       "text": [
        " 46 26.4030340691 31.6047510775\n",
        "0645"
       ]
      },
      {
       "output_type": "stream",
       "stream": "stdout",
       "text": [
        " 50 38.3379041617 35.4980102709\n",
        "0650"
       ]
      },
      {
       "output_type": "stream",
       "stream": "stdout",
       "text": [
        " 50 47.4835234433 49.6195517983\n",
        "0655"
       ]
      },
      {
       "output_type": "stream",
       "stream": "stdout",
       "text": [
        " 50 72.4161714803 74.5759767602\n",
        "0660"
       ]
      },
      {
       "output_type": "stream",
       "stream": "stdout",
       "text": [
        " 50 98.7912552972 130.407517283\n",
        "0665"
       ]
      },
      {
       "output_type": "stream",
       "stream": "stdout",
       "text": [
        " 50 94.8636785603 122.483309992\n",
        "0670"
       ]
      },
      {
       "output_type": "stream",
       "stream": "stdout",
       "text": [
        " 50 100.663581597 114.878912739\n",
        "0675"
       ]
      },
      {
       "output_type": "stream",
       "stream": "stdout",
       "text": [
        " 50 96.9850639799 112.240784329\n",
        "0680"
       ]
      },
      {
       "output_type": "stream",
       "stream": "stdout",
       "text": [
        " 50 98.4064732881 134.691133098\n",
        "0685"
       ]
      },
      {
       "output_type": "stream",
       "stream": "stdout",
       "text": [
        " 50 98.7343874027 133.071611582\n",
        "0690"
       ]
      },
      {
       "output_type": "stream",
       "stream": "stdout",
       "text": [
        " 50 53.4559217348 47.4853627761\n",
        "0695"
       ]
      },
      {
       "output_type": "stream",
       "stream": "stdout",
       "text": [
        " 50 44.1367103694 34.5448346306\n",
        "0700"
       ]
      },
      {
       "output_type": "stream",
       "stream": "stdout",
       "text": [
        " 46 37.1408434067 28.1458646223\n",
        "0705 38 None None\n",
        "0710"
       ]
      },
      {
       "output_type": "stream",
       "stream": "stdout",
       "text": [
        " 34 None None\n",
        "0715 34 None None\n",
        "0720"
       ]
      },
      {
       "output_type": "stream",
       "stream": "stdout",
       "text": [
        " 34 None None\n",
        "0725 38 None None\n",
        "0730"
       ]
      },
      {
       "output_type": "stream",
       "stream": "stdout",
       "text": [
        " 46 26.3937936239 28.7890961314\n",
        "0735"
       ]
      },
      {
       "output_type": "stream",
       "stream": "stdout",
       "text": [
        " 50 43.949294198 41.7502304394\n",
        "0740"
       ]
      },
      {
       "output_type": "stream",
       "stream": "stdout",
       "text": [
        " 50 43.3467607453 40.6335912736\n",
        "0745"
       ]
      },
      {
       "output_type": "stream",
       "stream": "stdout",
       "text": [
        " 50 80.7288717696 84.6233847434\n",
        "0750"
       ]
      },
      {
       "output_type": "stream",
       "stream": "stdout",
       "text": [
        " 50 98.0921710771 129.859516342\n",
        "0755"
       ]
      },
      {
       "output_type": "stream",
       "stream": "stdout",
       "text": [
        " 50 95.9373820592 116.002212434\n",
        "0760"
       ]
      },
      {
       "output_type": "stream",
       "stream": "stdout",
       "text": [
        " 50 104.191223044 114.429907956\n",
        "0765"
       ]
      },
      {
       "output_type": "stream",
       "stream": "stdout",
       "text": [
        " 50 127.591976711 122.033431266\n",
        "0770"
       ]
      },
      {
       "output_type": "stream",
       "stream": "stdout",
       "text": [
        " 50 138.077491773 132.442463812\n",
        "0775"
       ]
      },
      {
       "output_type": "stream",
       "stream": "stdout",
       "text": [
        " 50 150.744596268 148.187431669\n",
        "0780"
       ]
      },
      {
       "output_type": "stream",
       "stream": "stdout",
       "text": [
        " 50 143.785855994 142.891327756\n",
        "0785"
       ]
      },
      {
       "output_type": "stream",
       "stream": "stdout",
       "text": [
        " 50 96.6840586985 116.491865907\n",
        "0790"
       ]
      },
      {
       "output_type": "stream",
       "stream": "stdout",
       "text": [
        " 50 107.14629653 132.200637226\n",
        "0795"
       ]
      },
      {
       "output_type": "stream",
       "stream": "stdout",
       "text": [
        " 50 75.4083815833 67.8672709752\n",
        "0800"
       ]
      },
      {
       "output_type": "stream",
       "stream": "stdout",
       "text": [
        " 50 46.0161869973 43.0390271101\n",
        "0805"
       ]
      },
      {
       "output_type": "stream",
       "stream": "stdout",
       "text": [
        " 46 33.5337300524 30.6884583496\n",
        "0810"
       ]
      },
      {
       "output_type": "stream",
       "stream": "stdout",
       "text": [
        " 38 None 16.6992442189\n",
        "0815 24 None None\n",
        "0820"
       ]
      },
      {
       "output_type": "stream",
       "stream": "stdout",
       "text": [
        " 16 None None\n",
        "0825 16 None None\n",
        "0830"
       ]
      },
      {
       "output_type": "stream",
       "stream": "stdout",
       "text": [
        " 16 None None\n",
        "0835 None None None\n",
        "0840"
       ]
      },
      {
       "output_type": "stream",
       "stream": "stdout",
       "text": [
        " None None None\n",
        "0845 None None None\n",
        "0850"
       ]
      },
      {
       "output_type": "stream",
       "stream": "stdout",
       "text": [
        " None None None\n",
        "0855 None None None\n",
        "0860"
       ]
      },
      {
       "output_type": "stream",
       "stream": "stdout",
       "text": [
        " None None None\n",
        "0865 None None None\n",
        "0870"
       ]
      },
      {
       "output_type": "stream",
       "stream": "stdout",
       "text": [
        " None None None\n",
        "0875 None None None\n",
        "0880"
       ]
      },
      {
       "output_type": "stream",
       "stream": "stdout",
       "text": [
        " None None None\n",
        "['20140812-11_53_19-CA9_M01SS-02_BED58.MOV', 'CA9', 'M', '01S', 'S', 102.29688403596236, 122.56108543888023, 50, 59]"
       ]
      },
      {
       "output_type": "stream",
       "stream": "stdout",
       "text": [
        "\n",
        "0050.png\n",
        "0055.png\n",
        "0060.png\n",
        "0065.png\n",
        "0070.png\n",
        "0075.png\n",
        "0080.png\n",
        "0085.png\n",
        "0090.png\n",
        "0095.png\n",
        "0100.png\n",
        "0105.png\n",
        "0110.png\n",
        "0115.png\n",
        "0120.png\n",
        "0125.png\n",
        "0130.png\n",
        "0135.png\n",
        "0140.png\n",
        "0145.png\n",
        "0150.png\n",
        "0155.png\n",
        "0160.png\n",
        "0165.png\n",
        "0170.png\n",
        "0175.png\n",
        "0180.png\n",
        "0185.png\n",
        "0190.png\n",
        "0195.png\n",
        "0200.png\n",
        "0205.png\n",
        "0210.png\n",
        "0215.png\n",
        "0220.png\n",
        "0225.png\n",
        "0230.png\n",
        "0235.png\n",
        "0240.png\n",
        "0245.png\n",
        "0250.png\n",
        "0255.png\n",
        "0260.png\n",
        "0265.png\n",
        "0270.png\n",
        "0275.png\n",
        "0280.png\n",
        "0285.png\n",
        "0290.png\n",
        "0295.png\n",
        "0300.png\n",
        "0305.png\n",
        "0310.png\n",
        "0315.png\n",
        "0320.png\n",
        "0325.png\n",
        "0330.png\n",
        "0335.png\n",
        "0340.png\n",
        "0345.png\n",
        "0350.png\n",
        "0355.png\n",
        "0360.png\n",
        "0365.png\n",
        "0370.png\n",
        "0375.png\n",
        "0380.png\n",
        "0385.png\n",
        "0390.png\n",
        "0395.png\n",
        "0400.png\n",
        "0405.png\n",
        "0410.png\n",
        "0415.png\n",
        "0420.png\n",
        "0425-plt.svg\n",
        "0425.png\n",
        "0430-plt.svg\n",
        "0430.png\n",
        "0435.png\n",
        "0440-plt.svg\n",
        "0440.png\n",
        "0445-plt.svg\n",
        "0445.png\n",
        "0450-plt.svg\n",
        "0450.png\n",
        "0455-plt.svg\n",
        "0455.png\n",
        "0460-plt.svg\n",
        "0460.png\n",
        "0465.png\n",
        "0470.png\n",
        "0475.png\n",
        "0480.png\n",
        "0485.png\n",
        "0490.png\n",
        "0495.png\n",
        "0500.png\n",
        "0505.png\n",
        "0510.png\n",
        "0515.png\n",
        "0520.png\n",
        "0525.png\n",
        "0530.png\n",
        "0535.png\n",
        "0540.png\n",
        "0545.png\n",
        "0550-plt.svg\n",
        "0550.png\n",
        "0555-plt.svg\n",
        "0555.png\n",
        "0560-plt.svg\n",
        "0560.png\n",
        "0565-plt.svg\n",
        "0565.png\n",
        "0570-plt.svg\n",
        "0570.png\n",
        "0575.png\n",
        "0580-plt.svg\n",
        "0580.png\n",
        "0585-plt.svg\n",
        "0585.png\n",
        "0590.png\n",
        "0595.png\n",
        "0600.png\n",
        "0605.png\n",
        "0610.png\n",
        "0615.png\n",
        "0620.png\n",
        "0625.png\n",
        "0630.png\n",
        "0635.png\n",
        "0640.png\n",
        "0645.png\n",
        "0650.png\n",
        "0655.png\n",
        "0660-plt.svg\n",
        "0660.png\n",
        "0665.png\n",
        "0670-plt.svg\n",
        "0670.png\n",
        "0675-plt.svg\n",
        "0675.png\n",
        "0680.png\n",
        "0685.png\n",
        "0690.png\n",
        "0695.png\n",
        "0700.png\n",
        "0705.png\n",
        "0710.png\n",
        "0715.png\n",
        "0720.png\n",
        "0725.png\n",
        "0730.png\n",
        "0735.png\n",
        "0740.png\n",
        "0745.png\n",
        "0750-plt.svg\n",
        "0750.png\n",
        "0755.png\n",
        "0760-plt.svg\n",
        "0760.png\n",
        "0765-plt.svg\n",
        "0765.png\n",
        "0770-plt.svg\n",
        "0770.png\n",
        "0775.png\n",
        "0780-plt.svg\n",
        "0780.png\n",
        "0785.png\n",
        "0790.png\n",
        "0795.png\n",
        "0800.png\n",
        "0805.png\n",
        "0810.png\n",
        "0815.png\n",
        "0820.png\n",
        "0825.png\n",
        "0830.png\n",
        "0835.png\n",
        "0840.png\n",
        "0845.png\n",
        "0850.png\n",
        "0855.png\n",
        "0860.png\n",
        "0865.png\n",
        "0870.png\n",
        "0875.png\n",
        "0880.png\n",
        "20140812-11_53_19-CA9_M01SS-02_data.csv\n",
        "20140812-11_53_19-CA9_M01SS-02_data.png\n",
        "0050.png\n",
        "0055.png\n",
        "0060.png\n",
        "0065.png\n",
        "0070.png\n",
        "0075.png\n",
        "0080.png\n",
        "0085.png\n",
        "0090.png\n",
        "0095.png\n",
        "0100.png\n",
        "0105.png\n",
        "0110.png\n",
        "0115.png\n",
        "0120.png\n",
        "0125.png\n",
        "0130.png\n",
        "0135.png\n",
        "0140.png\n",
        "0145.png\n",
        "0150.png\n",
        "0155.png\n",
        "0160.png\n",
        "0165.png\n",
        "0170.png\n",
        "0175.png\n",
        "0180.png\n",
        "0185.png\n",
        "0190.png\n",
        "0195.png\n",
        "0200.png\n",
        "0205.png\n",
        "0210.png\n",
        "0215.png\n",
        "0220.png\n",
        "0225.png\n",
        "0230-plt.svg\n",
        "0230.png\n",
        "0235-plt.svg\n",
        "0235.png\n",
        "0240-plt.svg\n",
        "0240.png\n",
        "0245-plt.svg\n",
        "0245.png\n",
        "0250-plt.svg\n",
        "0250.png\n",
        "0255-plt.svg\n",
        "0255.png\n",
        "0260-plt.svg\n",
        "0260.png\n",
        "0265-plt.svg\n",
        "0265.png\n",
        "0270-plt.svg\n",
        "0270.png\n",
        "0275-plt.svg\n",
        "0275.png\n",
        "0280-plt.svg\n",
        "0280.png\n",
        "0285-plt.svg\n",
        "0285.png\n",
        "0290-plt.svg\n",
        "0290.png\n",
        "0295-plt.svg\n",
        "0295.png\n",
        "0300-plt.svg\n",
        "0300.png\n",
        "0305-plt.svg\n",
        "0305.png\n",
        "0310-plt.svg\n",
        "0310.png\n",
        "0315-plt.svg\n",
        "0315.png\n",
        "0320-plt.svg\n",
        "0320.png\n",
        "0325-plt.svg\n",
        "0325.png\n",
        "0330-plt.svg\n",
        "0330.png\n",
        "0335-plt.svg\n",
        "0335.png\n",
        "0340-plt.svg\n",
        "0340.png\n",
        "0345-plt.svg\n",
        "0345.png\n",
        "0350.png\n",
        "0355.png\n",
        "0360.png\n",
        "0365.png\n",
        "0370.png\n",
        "0375.png\n",
        "0380.png\n",
        "0385.png\n",
        "0390.png\n",
        "0395.png\n",
        "0400.png\n",
        "0405-plt.svg\n",
        "0405.png\n",
        "0410-plt.svg\n",
        "0410.png\n",
        "0415-plt.svg\n",
        "0415.png\n",
        "0420-plt.svg\n",
        "0420.png\n",
        "0425-plt.svg\n",
        "0425.png\n",
        "0430-plt.svg\n",
        "0430.png\n",
        "0435-plt.svg\n",
        "0435.png\n",
        "0440-plt.svg\n",
        "0440.png\n",
        "0445-plt.svg\n",
        "0445.png\n",
        "0450-plt.svg\n",
        "0450.png\n",
        "0455-plt.svg\n",
        "0455.png\n",
        "0460-plt.svg\n",
        "0460.png\n",
        "0465-plt.svg\n",
        "0465.png\n",
        "0470-plt.svg\n",
        "0470.png\n",
        "0475-plt.svg\n",
        "0475.png\n",
        "0480.png\n",
        "0485.png\n",
        "0490.png\n",
        "0495.png\n",
        "0500.png\n",
        "0505.png\n",
        "0510.png\n",
        "0515.png\n",
        "0520.png\n",
        "0525.png\n",
        "0530.png\n",
        "0535-plt.svg\n",
        "0535.png\n",
        "0540-plt.svg\n",
        "0540.png\n",
        "0545-plt.svg\n",
        "0545.png\n",
        "0550-plt.svg\n",
        "0550.png\n",
        "0555-plt.svg\n",
        "0555.png\n",
        "0560-plt.svg\n",
        "0560.png\n",
        "0565-plt.svg\n",
        "0565.png\n",
        "0570-plt.svg\n",
        "0570.png\n",
        "0575-plt.svg\n",
        "0575.png\n",
        "0580-plt.svg\n",
        "0580.png\n",
        "0585-plt.svg\n",
        "0585.png\n",
        "0590-plt.svg\n",
        "0590.png\n",
        "0595-plt.svg\n",
        "0595.png\n",
        "0600-plt.svg\n",
        "0600.png\n",
        "0605-plt.svg\n",
        "0605.png\n",
        "0610.png\n",
        "0615.png\n",
        "0620.png\n",
        "0625.png\n",
        "0630.png\n",
        "0635-plt.svg\n",
        "0635.png\n",
        "0640-plt.svg\n",
        "0640.png\n",
        "0645-plt.svg\n",
        "0645.png\n",
        "0650-plt.svg\n",
        "0650.png\n",
        "0655-plt.svg\n",
        "0655.png\n",
        "0660-plt.svg\n",
        "0660.png\n",
        "0665-plt.svg\n",
        "0665.png\n",
        "0670-plt.svg\n",
        "0670.png\n",
        "0675-plt.svg\n",
        "0675.png\n",
        "0680-plt.svg\n",
        "0680.png\n",
        "0685-plt.svg\n",
        "0685.png\n",
        "0690-plt.svg\n",
        "0690.png\n",
        "0695-plt.svg\n",
        "0695.png\n",
        "0700-plt.svg\n",
        "0700.png\n",
        "0705-plt.svg\n",
        "0705.png\n",
        "0710.png\n",
        "0715.png\n",
        "0720.png\n",
        "0725.png\n",
        "0730-plt.svg\n",
        "0730.png\n",
        "0735-plt.svg\n",
        "0735.png\n",
        "0740-plt.svg\n",
        "0740.png\n",
        "0745-plt.svg\n",
        "0745.png\n",
        "0750-plt.svg\n",
        "0750.png\n",
        "0755-plt.svg\n",
        "0755.png\n",
        "0760-plt.svg\n",
        "0760.png\n",
        "0765-plt.svg\n",
        "0765.png\n",
        "0770-plt.svg\n",
        "0770.png\n",
        "0775-plt.svg\n",
        "0775.png\n",
        "0780-plt.svg\n",
        "0780.png\n",
        "0785-plt.svg\n",
        "0785.png\n",
        "0790-plt.svg\n",
        "0790.png\n",
        "0795-plt.svg\n",
        "0795.png\n",
        "0800-plt.svg\n",
        "0800.png\n",
        "0805-plt.svg\n",
        "0805.png\n",
        "0810-plt.svg\n",
        "0810.png\n",
        "0815.png\n",
        "0820.png\n",
        "0825.png\n",
        "0830.png\n",
        "0835.png\n",
        "0840.png\n",
        "0845.png\n",
        "0850.png\n",
        "0855.png\n",
        "0860.png\n",
        "0865.png\n",
        "0870.png\n",
        "0875.png\n",
        "0880.png\n",
        "20140812-11_53_19-CA9_M01SS-02_data.csv\n",
        "20140812-11_53_19-CA9_M01SS-02_data.png\n",
        "0050.png\n",
        "0055.png\n",
        "0060.png\n",
        "0065.png\n",
        "0070.png\n",
        "0075.png\n",
        "0080.png\n",
        "0085.png\n",
        "0090.png\n",
        "0095.png\n",
        "0100.png\n",
        "0105.png\n",
        "0110.png\n",
        "0115.png\n",
        "0120.png\n",
        "0125.png\n",
        "0130.png\n",
        "0135.png\n",
        "0140.png\n",
        "0145.png\n",
        "0150.png\n",
        "0155.png\n",
        "0160.png\n",
        "0165.png\n",
        "0170.png\n",
        "0175.png\n",
        "0180.png\n",
        "0185.png\n",
        "0190.png\n",
        "0195.png\n",
        "0200.png\n",
        "0205.png\n",
        "0210.png\n",
        "0215.png\n",
        "0220.png\n",
        "0225.png\n",
        "0230.png\n",
        "0235.png\n",
        "0240.png\n",
        "0245.png\n",
        "0250.png\n",
        "0255.png\n",
        "0260.png\n",
        "0265.png\n",
        "0270.png\n",
        "0275.png\n",
        "0280.png\n",
        "0285.png\n",
        "0290.png\n",
        "0295.png\n",
        "0300.png\n",
        "0305.png\n",
        "0310.png\n",
        "0315.png\n",
        "0320.png\n",
        "0325.png\n",
        "0330-plt.svg\n",
        "0330.png\n",
        "0335-plt.svg\n",
        "0335.png\n",
        "0340.png\n",
        "0345.png\n",
        "0350.png\n",
        "0355.png\n",
        "0360.png\n",
        "0365.png\n",
        "0370.png\n",
        "0375.png\n",
        "0380.png\n",
        "0385.png\n",
        "0390.png\n",
        "0395.png\n",
        "0400.png\n",
        "0405.png\n",
        "0410-plt.svg\n",
        "0410.png\n",
        "0415-plt.svg\n",
        "0415.png\n",
        "0420-plt.svg\n",
        "0420.png\n",
        "0425-plt.svg\n",
        "0425.png\n",
        "0430-plt.svg\n",
        "0430.png\n",
        "0435-plt.svg\n",
        "0435.png\n",
        "0440-plt.svg\n",
        "0440.png\n",
        "0445-plt.svg\n",
        "0445.png\n",
        "0450-plt.svg\n",
        "0450.png\n",
        "0455-plt.svg\n",
        "0455.png\n",
        "0460-plt.svg\n",
        "0460.png\n",
        "0465-plt.svg\n",
        "0465.png\n",
        "0470-plt.svg\n",
        "0470.png\n",
        "0475.png\n",
        "0480.png\n",
        "0485.png\n",
        "0490.png\n",
        "0495.png\n",
        "0500.png\n",
        "0505.png\n",
        "0510.png\n",
        "0515.png\n",
        "0520.png\n",
        "0525.png\n",
        "0530.png\n",
        "0535.png\n",
        "0540.png\n",
        "0545-plt.svg\n",
        "0545.png\n",
        "0550-plt.svg\n",
        "0550.png\n",
        "0555-plt.svg\n",
        "0555.png\n",
        "0560-plt.svg\n",
        "0560.png\n",
        "0565-plt.svg\n",
        "0565.png\n",
        "0570-plt.svg\n",
        "0570.png\n",
        "0575.png\n",
        "0580.png\n",
        "0585.png\n",
        "0590.png\n",
        "0595.png\n",
        "0600.png\n",
        "0605.png\n",
        "0610.png\n",
        "0615.png\n",
        "0620.png\n",
        "0625.png\n",
        "0630.png\n",
        "0635.png\n",
        "0640.png\n",
        "0645.png\n",
        "0650.png\n",
        "0655.png\n",
        "0660.png\n",
        "0665.png\n",
        "0670.png\n",
        "0675.png\n",
        "0680.png\n",
        "0685.png\n",
        "0690.png\n",
        "0695.png\n",
        "0700.png\n",
        "0705.png\n",
        "0710.png\n",
        "0715.png\n",
        "0720.png\n",
        "0725.png\n",
        "0730.png\n",
        "0735.png\n",
        "0740.png\n",
        "0745.png\n",
        "0750.png\n",
        "0755.png\n",
        "0760.png\n",
        "0765.png\n",
        "0770.png\n",
        "0775.png\n",
        "0780.png\n",
        "0785.png\n",
        "0790.png\n",
        "0795.png\n",
        "0800.png\n",
        "0805.png\n",
        "0810.png\n",
        "0815.png\n",
        "0820.png\n",
        "0825.png\n",
        "0830.png\n",
        "0835.png\n",
        "0840.png\n",
        "0845.png\n",
        "0850.png\n",
        "0855.png\n",
        "0860.png\n",
        "0865.png\n",
        "0870.png\n",
        "0875.png\n",
        "0880.png\n",
        "20140812-11_53_19-CA9_M01SS-02_data.csv\n",
        "20140812-11_53_19-CA9_M01SS-02_data.png\n"
       ]
      }
     ],
     "prompt_number": 1
    },
    {
     "cell_type": "code",
     "collapsed": false,
     "input": [],
     "language": "python",
     "metadata": {},
     "outputs": [],
     "prompt_number": 0
    },
    {
     "cell_type": "code",
     "collapsed": false,
     "input": [],
     "language": "python",
     "metadata": {},
     "outputs": []
    }
   ],
   "metadata": {}
  }
 ]
}