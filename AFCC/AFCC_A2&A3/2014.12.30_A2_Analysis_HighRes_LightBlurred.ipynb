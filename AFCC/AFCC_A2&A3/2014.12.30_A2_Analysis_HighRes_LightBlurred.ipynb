{
 "metadata": {
  "name": "",
  "signature": "sha256:6d0220286d20f8c2f46248d3efa4fe612ab0d7fc46f9c64e9f13a851cbc248e0"
 },
 "nbformat": 3,
 "nbformat_minor": 0,
 "worksheets": [
  {
   "cells": [
    {
     "cell_type": "code",
     "collapsed": false,
     "input": [
      "###\n",
      "###  2014.12.30\n",
      "###  ANALYSIS 1 4-Lightblurred (122 videos total)\n",
      "###  F:\\AFCC Metal FSU Testing 2014\\A3\\Analysis1\\4-LightBlurred\n",
      "###  Final protocol for data analysis - softer filtering - final all\n",
      "###\n",
      "\n",
      "import sys\n",
      "sys.path.insert(0, 'D:\\\\GitHub\\\\workspace\\\\A2_ContactAngle\\\\')\n",
      "import main # getContactAngle main\n",
      "\n",
      "headersVid = [\n",
      "          'Filename',\n",
      "          'FolderID',\n",
      "          'FabID',\n",
      "          'Sample#',\n",
      "          'Region',\n",
      "          'AdvCALeft(deg)',\n",
      "          'AdvCARight(deg)',\n",
      "          'MaxDiameter(px)',\n",
      "          'BED(px)'       \n",
      "          ]\n",
      "\n",
      "varsDebugVid = {\n",
      "    'PATH' : 'F:\\\\AFCC Metal FSU Testing 2014\\\\A3\\\\Analysis1\\\\4-LightBlurred\\\\',\n",
      "    'VSF' : 100, # Video start frame\n",
      "    'VEF' : 30000, # Video end frame (max frame)\n",
      "    'N' : 10, # Analyze every Nth frame\n",
      "    'R' : 0.8, # Rotation in degrees\n",
      "    'ROI' : (100,800,10,1910), # Rowmin, Rowmax, Colmin,Colmax\n",
      "    'MASK' : (10,1890,255), # Colmin, colmax\n",
      "    'BR' : 70, # Brightness increase (255 = white)\n",
      "    'TH' : 160, # Binary threshold\n",
      "    'POLYDEG' : 30,  # Degree of polyfit\n",
      "    'DERIVOFF' : 10, # Contact angle measurement offset from BED\n",
      "    'MINSYGPOS' : 200, # Minimum syringe position in pixels from left side\n",
      "    'SYGOFF' : 18, # Offset from syringe for measureing vertically\n",
      "    'VIDMID' : 100, # BED selection point\n",
      "    'BUBMAX' : 900, # Maximum bubble width\n",
      "    'MINFITPTS' : 20, # Minimum dataset size to attempt analysis\n",
      "    'DPI' : 100, # Plot dots per inch, ignored for .svg\n",
      "    'PLOTXOFF' : 700, # Graph offset from image center in X direction \n",
      "    'PLOTYOFF' : 120, # Graph offset from image center in Y+ direction\n",
      "    'DEBUG' : True, # Plots and saves images\n",
      "    'RESETBED' : False, # Will ignore _BED if present\n",
      "    'ASSIGNBEDS' : False, # Will ignore analysis and assign beds, responds to RESETBED\n",
      "    'REMOVEBEDS' : False, # Will ignore assignBeds and analysis and remove _BED\n",
      "}\n",
      "\n",
      "gCA1 = main.getContactAngle(varsDebugVid, headersVid)\n",
      "gCA1.analyzeVideos()\n"
     ],
     "language": "python",
     "metadata": {},
     "outputs": []
    },
    {
     "cell_type": "code",
     "collapsed": false,
     "input": [],
     "language": "python",
     "metadata": {},
     "outputs": []
    }
   ],
   "metadata": {}
  }
 ]
}