{
 "metadata": {
  "name": "",
  "signature": "sha256:6b357aa41a9736780aba76a4687587d22ec6c44c17dbfc4c03d3de49ac099d66"
 },
 "nbformat": 3,
 "nbformat_minor": 0,
 "worksheets": [
  {
   "cells": [
    {
     "cell_type": "code",
     "collapsed": false,
     "input": [
      "###\n",
      "###  2014.12.30\n",
      "###  ANALYSIS 1 4-Lightblurred (122 videos total)\n",
      "###  F:\\AFCC Metal FSU Testing 2014\\A3\\Analysis2_PC-PMMA\n",
      "###  Final protocol for data analysis - softer filtering - final all\n",
      "###\n",
      "\n",
      "import sys\n",
      "sys.path.insert(0, 'D:\\\\GitHub\\\\workspace\\\\A2_ContactAngle\\\\')\n",
      "import main # getContactAngle main\n",
      "\n",
      "headersVid = [\n",
      "          'Filename',\n",
      "          'FolderID',\n",
      "          'FabID',\n",
      "          'Sample#',\n",
      "          'Region',\n",
      "          'AdvCALeft(deg)',\n",
      "          'AdvCARight(deg)',\n",
      "          'MaxDiameter(px)',\n",
      "          'BED(px)'       \n",
      "          ]\n",
      "\n",
      "varsDebugVid = {\n",
      "    'PATH' : 'F:\\\\AFCC Metal FSU Testing 2014\\\\A3\\\\Analysis2_PC-PMMA\\\\',\n",
      "    'VSF' : 100, # Video start frame\n",
      "    'VEF' : 30000, # Video end frame (max frame)\n",
      "    'N' : 10, # Analyze every Nth frame\n",
      "    'R' : 0.8, # Rotation in degrees\n",
      "    'ROI' : (100,800,10,1910), # Rowmin, Rowmax, Colmin,Colmax\n",
      "    'MASK' : (10,1890,255), # Colmin, colmax\n",
      "    'BR' : 100, # Brightness increase (255 = white)\n",
      "    'TH' : 160, # Binary threshold\n",
      "    'POLYDEG' : 30,  # Degree of polyfit\n",
      "    'DERIVOFF' : 10, # Contact angle measurement offset from BED\n",
      "    'MINSYGPOS' : 400, # Minimum syringe position in pixels from left side\n",
      "    'SYGOFF' : 18, # Offset from syringe for measureing vertically\n",
      "    'VIDMID' : 100, # BED selection point\n",
      "    'BUBMAX' : 900, # Maximum bubble width\n",
      "    'MINFITPTS' : 20, # Minimum dataset size to attempt analysis\n",
      "    'DPI' : 100, # Plot dots per inch, ignored for .svg\n",
      "    'PLOTXOFF' : 700, # Graph offset from image center in X direction \n",
      "    'PLOTYOFF' : 120, # Graph offset from image center in Y+ direction\n",
      "    'DEBUG' : True, # Plots and saves images\n",
      "    'RESETBED' : False, # Will ignore _BED if present\n",
      "    'ASSIGNBEDS' : False, # Will ignore analysis and assign beds, responds to RESETBED\n",
      "    'REMOVEBEDS' : False, # Will ignore assignBeds and analysis and remove _BED\n",
      "}\n",
      "\n",
      "gCA1 = main.getContactAngle(varsDebugVid, headersVid)\n",
      "gCA1.analyzeVideos()\n"
     ],
     "language": "python",
     "metadata": {},
     "outputs": []
    },
    {
     "cell_type": "code",
     "collapsed": false,
     "input": [],
     "language": "python",
     "metadata": {},
     "outputs": []
    }
   ],
   "metadata": {}
  }
 ]
}