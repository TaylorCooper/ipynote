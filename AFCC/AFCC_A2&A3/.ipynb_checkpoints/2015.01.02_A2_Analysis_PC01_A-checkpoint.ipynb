{
 "metadata": {
  "name": "",
  "signature": "sha256:6a007a8e8d273ef28e96e7af324d68ba61525ee8c22c24903b2bb6f94e8688e8"
 },
 "nbformat": 3,
 "nbformat_minor": 0,
 "worksheets": [
  {
   "cells": [
    {
     "cell_type": "code",
     "collapsed": false,
     "input": [
      "###\n",
      "###  2014.12.30\n",
      "###  ANALYSIS 1 4-Lightblurred (122 videos total)\n",
      "###  F:\\AFCC Metal FSU Testing 2014\\A3\\PC01_A_boarderline\n",
      "###  Final protocol for data analysis - softer filtering - final all\n",
      "###\n",
      "\n",
      "import sys\n",
      "sys.path.insert(0, 'D:\\\\GitHub\\\\workspace\\\\A2_ContactAngle\\\\')\n",
      "import main # getContactAngle main\n",
      "\n",
      "headersVid = [\n",
      "          'Filename',\n",
      "          'FolderID',\n",
      "          'FabID',\n",
      "          'Sample#',\n",
      "          'Region',\n",
      "          'AdvCALeft(deg)',\n",
      "          'AdvCARight(deg)',\n",
      "          'MaxDiameter(px)',\n",
      "          'BED(px)'       \n",
      "          ]\n",
      "\n",
      "varsDebugVid = {\n",
      "    'PATH' : 'F:\\\\AFCC Metal FSU Testing 2014\\\\A3\\\\PC01_A_boarderline\\\\',\n",
      "    'VSF' : 100, # Video start frame\n",
      "    'VEF' : 30000, # Video end frame (max frame)\n",
      "    'N' : 10, # Analyze every Nth frame\n",
      "    'R' : 0.8, # Rotation in degrees\n",
      "    'ROI' : (100,800,10,1910), # Rowmin, Rowmax, Colmin,Colmax\n",
      "    'MASK' : (10,1890,255), # Colmin, colmax\n",
      "    'BR' : 120, # Brightness increase (255 = white)\n",
      "    'TH' : 160, # Binary threshold\n",
      "    'POLYDEG' : 2,  # Degree of polyfit\n",
      "    'DERIVOFF' : 50, # Contact angle measurement offset from BED, in pixel/10\n",
      "    'MINSYGPOS' : 400, # Minimum syringe position in pixels from left side\n",
      "    'SYGOFF' : 18, # Offset from syringe for measureing vertically\n",
      "    'VIDMID' : 100, # BED selection point\n",
      "    'BUBMAX' : 900, # Maximum bubble width\n",
      "    'MINFITPTS' : 10, # Minimum dataset size to attempt analysis\n",
      "    'MAXFITPTS' : 60, # Maximum points for fit attempt, prevents garbage pts.\n",
      "    'DPI' : 100, # Plot dots per inch, ignored for .svg\n",
      "    'PLOTXOFF' : 1000, # Graph offset from image center in X direction \n",
      "    'PLOTYOFF' : 120, # Graph offset from image center in Y+ direction\n",
      "    'DEBUG' : True, # Plots and saves images\n",
      "    'RESETBED' : False, # Will ignore _BED if present\n",
      "    'ASSIGNBEDS' : False, # Will ignore analysis and assign beds, responds to RESETBED\n",
      "    'REMOVEBEDS' : False, # Will ignore assignBeds and analysis and remove _BED\n",
      "}\n",
      "\n",
      "gCA1 = main.getContactAngle(varsDebugVid, headersVid)\n",
      "gCA1.analyzeVideos()\n"
     ],
     "language": "python",
     "metadata": {},
     "outputs": [
      {
       "output_type": "stream",
       "stream": "stdout",
       "text": [
        "Saving master data to:  F:\\AFCC Metal FSU Testing 2014\\A3\\masterLog_20227901.csv\n",
        "20141218-22_41_33-CA3_DB_PC01_A-01_BED580.MOV\n",
        "Analyzing:  F:\\AFCC Metal FSU Testing 2014\\A3\\PC01_A_boarderline\\\\20141218-22_41_33-CA3_DB_PC01_A-01_BED580.MOV\n",
        "0100"
       ]
      },
      {
       "output_type": "stream",
       "stream": "stdout",
       "text": [
        " 287 58.9067037923 58.3327885578\n",
        "0110"
       ]
      },
      {
       "output_type": "stream",
       "stream": "stdout",
       "text": [
        " 289 59.1110382257 58.5490963641\n",
        "0120"
       ]
      },
      {
       "output_type": "stream",
       "stream": "stdout",
       "text": [
        " 293 59.6523422414 59.0819355909\n",
        "0130"
       ]
      },
      {
       "output_type": "stream",
       "stream": "stdout",
       "text": [
        " 297 59.64230854 59.3579982357\n",
        "0140"
       ]
      },
      {
       "output_type": "stream",
       "stream": "stdout",
       "text": [
        " 301 59.8991474531 59.3619584505\n",
        "0150"
       ]
      },
      {
       "output_type": "stream",
       "stream": "stdout",
       "text": [
        " 305 60.4405763201 60.4202109742\n",
        "0160"
       ]
      },
      {
       "output_type": "stream",
       "stream": "stdout",
       "text": [
        " 309 60.3410501544 60.0162666573\n",
        "0170"
       ]
      },
      {
       "output_type": "stream",
       "stream": "stdout",
       "text": [
        " 313 60.9816838219 60.6830168409\n",
        "0180"
       ]
      },
      {
       "output_type": "stream",
       "stream": "stdout",
       "text": [
        " 319 61.2340493909 60.8517426877\n",
        "0190"
       ]
      },
      {
       "output_type": "stream",
       "stream": "stdout",
       "text": [
        " 323 61.4850079165 61.2513112606\n",
        "0200"
       ]
      },
      {
       "output_type": "stream",
       "stream": "stdout",
       "text": [
        " 327 61.7868742178 61.8452524419\n",
        "0210"
       ]
      },
      {
       "output_type": "stream",
       "stream": "stdout",
       "text": [
        " 333 61.7577059196 61.6300425152\n",
        "0220"
       ]
      },
      {
       "output_type": "stream",
       "stream": "stdout",
       "text": [
        " 339 62.2211639318 61.8170855191\n",
        "0230"
       ]
      },
      {
       "output_type": "stream",
       "stream": "stdout",
       "text": [
        " 343 62.3074600523 62.3283677397\n",
        "0240"
       ]
      },
      {
       "output_type": "stream",
       "stream": "stdout",
       "text": [
        " 349 62.1974034478 62.0279819305\n",
        "0250"
       ]
      },
      {
       "output_type": "stream",
       "stream": "stdout",
       "text": [
        " 353 62.5807407706 62.4190676213\n",
        "0260"
       ]
      },
      {
       "output_type": "stream",
       "stream": "stdout",
       "text": [
        " 359 62.4388913707 62.424408816\n",
        "0270"
       ]
      },
      {
       "output_type": "stream",
       "stream": "stdout",
       "text": [
        " 365 62.6858904152 63.1203374642\n",
        "0280"
       ]
      },
      {
       "output_type": "stream",
       "stream": "stdout",
       "text": [
        " 373 62.4415385115 62.5131194868\n",
        "0290"
       ]
      },
      {
       "output_type": "stream",
       "stream": "stdout",
       "text": [
        " 375 62.4889455959 63.0335750055\n",
        "0300"
       ]
      },
      {
       "output_type": "stream",
       "stream": "stdout",
       "text": [
        " 381 62.724835647 62.8876077577\n",
        "0310"
       ]
      },
      {
       "output_type": "stream",
       "stream": "stdout",
       "text": [
        " 387 62.4701453749 62.9806488409\n",
        "0320"
       ]
      },
      {
       "output_type": "stream",
       "stream": "stdout",
       "text": [
        " 391 62.8828214634 63.3632814812\n",
        "0330"
       ]
      },
      {
       "output_type": "stream",
       "stream": "stdout",
       "text": [
        " 397 62.3731122839 63.4040572886\n",
        "0340"
       ]
      },
      {
       "output_type": "stream",
       "stream": "stdout",
       "text": [
        " 403 63.0250313476 63.2062674774\n",
        "0350"
       ]
      },
      {
       "output_type": "stream",
       "stream": "stdout",
       "text": [
        " 407 63.1624063763 63.7294265231\n",
        "0360"
       ]
      },
      {
       "output_type": "stream",
       "stream": "stdout",
       "text": [
        " 415 63.3592378285 63.9119006826\n",
        "0370"
       ]
      },
      {
       "output_type": "stream",
       "stream": "stdout",
       "text": [
        " 417 63.2379301246 63.4030335922\n",
        "0380"
       ]
      },
      {
       "output_type": "stream",
       "stream": "stdout",
       "text": [
        " 421 63.4021727385 63.6630822656\n",
        "0390"
       ]
      },
      {
       "output_type": "stream",
       "stream": "stdout",
       "text": [
        " 429 64.0393506933 64.3977149364\n",
        "0400"
       ]
      },
      {
       "output_type": "stream",
       "stream": "stdout",
       "text": [
        " 433 63.916182458 64.3001405436\n",
        "0410"
       ]
      },
      {
       "output_type": "stream",
       "stream": "stdout",
       "text": [
        " 437 64.1435107902 63.9667496519\n",
        "0420"
       ]
      },
      {
       "output_type": "stream",
       "stream": "stdout",
       "text": [
        " 443 63.8167840871 64.7733445218\n",
        "0430"
       ]
      },
      {
       "output_type": "stream",
       "stream": "stdout",
       "text": [
        " 447 64.2327009653 64.918527232\n",
        "0440"
       ]
      },
      {
       "output_type": "stream",
       "stream": "stdout",
       "text": [
        " 453 63.8654027282 64.6630528512\n",
        "0450"
       ]
      },
      {
       "output_type": "stream",
       "stream": "stdout",
       "text": [
        " 461 63.9476900981 64.7901928345\n",
        "0460"
       ]
      },
      {
       "output_type": "stream",
       "stream": "stdout",
       "text": [
        " 465 63.4858046013 64.710631807\n",
        "0470"
       ]
      },
      {
       "output_type": "stream",
       "stream": "stdout",
       "text": [
        " 471 63.6141757756 65.3996598306\n",
        "0480"
       ]
      },
      {
       "output_type": "stream",
       "stream": "stdout",
       "text": [
        " 475 63.6376471489 64.7473083552\n",
        "0490"
       ]
      },
      {
       "output_type": "stream",
       "stream": "stdout",
       "text": [
        " 481 63.7145184595 64.4478094636\n",
        "0500"
       ]
      },
      {
       "output_type": "stream",
       "stream": "stdout",
       "text": [
        " 487 64.2132437243 64.4124382521\n",
        "0510"
       ]
      },
      {
       "output_type": "stream",
       "stream": "stdout",
       "text": [
        " 491 64.0894867935 64.6078359261\n",
        "0520"
       ]
      },
      {
       "output_type": "stream",
       "stream": "stdout",
       "text": [
        " 495 64.0906816955 64.5349445646\n",
        "0530"
       ]
      },
      {
       "output_type": "stream",
       "stream": "stdout",
       "text": [
        " 499 64.6592984573 64.9707425358\n",
        "0540"
       ]
      },
      {
       "output_type": "stream",
       "stream": "stdout",
       "text": [
        " 503 65.0751419739 64.8734214959\n",
        "0550"
       ]
      },
      {
       "output_type": "stream",
       "stream": "stdout",
       "text": [
        " 507 65.3055089822 65.2137939356\n",
        "0560"
       ]
      },
      {
       "output_type": "stream",
       "stream": "stdout",
       "text": [
        " 513 64.9856610545 65.4700584903\n",
        "0570"
       ]
      },
      {
       "output_type": "stream",
       "stream": "stdout",
       "text": [
        " 517 65.4690230418 65.1267638772\n",
        "0580"
       ]
      },
      {
       "output_type": "stream",
       "stream": "stdout",
       "text": [
        " 519 65.6910905216 65.3497825197\n",
        "0590"
       ]
      },
      {
       "output_type": "stream",
       "stream": "stdout",
       "text": [
        " 523 65.8727412281 65.3022120613\n",
        "0600"
       ]
      },
      {
       "output_type": "stream",
       "stream": "stdout",
       "text": [
        " 527 66.0612388739 65.3874485873\n",
        "0610"
       ]
      },
      {
       "output_type": "stream",
       "stream": "stdout",
       "text": [
        " 533 65.5212036195 65.7775733364\n",
        "0620"
       ]
      },
      {
       "output_type": "stream",
       "stream": "stdout",
       "text": [
        " 537 65.5222054575 66.2957261661\n",
        "0630"
       ]
      },
      {
       "output_type": "stream",
       "stream": "stdout",
       "text": [
        " 539 65.8622529182 66.4755494123\n",
        "0640"
       ]
      },
      {
       "output_type": "stream",
       "stream": "stdout",
       "text": [
        " 543 66.1951002255 65.7999706051\n",
        "0650"
       ]
      },
      {
       "output_type": "stream",
       "stream": "stdout",
       "text": [
        " 547 66.4554635811 66.363025044\n",
        "0660"
       ]
      },
      {
       "output_type": "stream",
       "stream": "stdout",
       "text": [
        " 551 67.0696382634 66.4371246556\n",
        "0670"
       ]
      },
      {
       "output_type": "stream",
       "stream": "stdout",
       "text": [
        " 557 66.3477288587 66.0674174363\n",
        "0680"
       ]
      },
      {
       "output_type": "stream",
       "stream": "stdout",
       "text": [
        " 561 65.8214295757 66.3583623267\n",
        "0690"
       ]
      },
      {
       "output_type": "stream",
       "stream": "stdout",
       "text": [
        " 567 65.8816653517 65.6323190806\n",
        "0700"
       ]
      },
      {
       "output_type": "stream",
       "stream": "stdout",
       "text": [
        " 569 66.6421726271 66.1241668299\n",
        "0710"
       ]
      },
      {
       "output_type": "stream",
       "stream": "stdout",
       "text": [
        " 573 65.8756093499 66.1685922368\n",
        "0720"
       ]
      },
      {
       "output_type": "stream",
       "stream": "stdout",
       "text": [
        " 575 66.4267699776 66.3951655836\n",
        "0730"
       ]
      },
      {
       "output_type": "stream",
       "stream": "stdout",
       "text": [
        " 579 66.5266646257 66.5641339099\n",
        "0740"
       ]
      },
      {
       "output_type": "stream",
       "stream": "stdout",
       "text": [
        " 583 66.2369702295 66.6117276537\n",
        "0750"
       ]
      },
      {
       "output_type": "stream",
       "stream": "stdout",
       "text": [
        " 591 66.1634515101 66.5192342502\n",
        "0760"
       ]
      },
      {
       "output_type": "stream",
       "stream": "stdout",
       "text": [
        " 595 66.3078442485 66.6443919928\n",
        "0770"
       ]
      },
      {
       "output_type": "stream",
       "stream": "stdout",
       "text": [
        " 597 66.4298910865 65.9351498585\n",
        "0780"
       ]
      },
      {
       "output_type": "stream",
       "stream": "stdout",
       "text": [
        " 603 66.3665570413 66.7916010712\n",
        "0790"
       ]
      },
      {
       "output_type": "stream",
       "stream": "stdout",
       "text": [
        " 607 66.6962136996 66.2732880818\n",
        "0800"
       ]
      },
      {
       "output_type": "stream",
       "stream": "stdout",
       "text": [
        " 611 65.913760439 66.3861183768\n",
        "0810"
       ]
      },
      {
       "output_type": "stream",
       "stream": "stdout",
       "text": [
        " 615 65.9897295974 66.6539008825\n",
        "0820"
       ]
      },
      {
       "output_type": "stream",
       "stream": "stdout",
       "text": [
        " 625 65.2598675262 66.5001068411\n",
        "0830"
       ]
      },
      {
       "output_type": "stream",
       "stream": "stdout",
       "text": [
        " 633 64.4376377579 65.7703660518\n",
        "0840"
       ]
      },
      {
       "output_type": "stream",
       "stream": "stdout",
       "text": [
        " 641 64.2171712753 66.4813892076\n",
        "0850"
       ]
      },
      {
       "output_type": "stream",
       "stream": "stdout",
       "text": [
        " 651 63.7240421788 65.3905436236\n",
        "0860"
       ]
      },
      {
       "output_type": "stream",
       "stream": "stdout",
       "text": [
        " 661 62.0215221505 64.7821829811\n",
        "0870"
       ]
      },
      {
       "output_type": "stream",
       "stream": "stdout",
       "text": [
        " 665 62.1799110809 65.0042015653\n",
        "0880"
       ]
      },
      {
       "output_type": "stream",
       "stream": "stdout",
       "text": [
        " 667 63.2207949445 64.8604734975\n",
        "0890"
       ]
      },
      {
       "output_type": "stream",
       "stream": "stdout",
       "text": [
        " 681 61.1898466211 63.8988237454\n",
        "0900"
       ]
      },
      {
       "output_type": "stream",
       "stream": "stdout",
       "text": [
        " 685 62.3643666984 63.8074683073\n",
        "0910"
       ]
      },
      {
       "output_type": "stream",
       "stream": "stdout",
       "text": [
        " 693 61.7099394673 63.801255526\n",
        "0920"
       ]
      },
      {
       "output_type": "stream",
       "stream": "stdout",
       "text": [
        " 697 61.7258683057 63.4358342534\n",
        "0930"
       ]
      },
      {
       "output_type": "stream",
       "stream": "stdout",
       "text": [
        " 703 61.1693228615 62.8229954551\n",
        "0940"
       ]
      },
      {
       "output_type": "stream",
       "stream": "stdout",
       "text": [
        " 713 60.8867636279 62.9635255082\n",
        "0950"
       ]
      },
      {
       "output_type": "stream",
       "stream": "stdout",
       "text": [
        " 719 60.362689891 62.5192336101\n",
        "0960"
       ]
      },
      {
       "output_type": "stream",
       "stream": "stdout",
       "text": [
        " 721 61.6470068713 62.8532120862\n",
        "0970"
       ]
      },
      {
       "output_type": "stream",
       "stream": "stdout",
       "text": [
        " 723 61.8188899759 62.8353539038\n",
        "0980"
       ]
      },
      {
       "output_type": "stream",
       "stream": "stdout",
       "text": [
        " 725 62.3533991637 62.4825367679\n",
        "0990"
       ]
      },
      {
       "output_type": "stream",
       "stream": "stdout",
       "text": [
        " 727 62.5837128904 63.2241533937\n",
        "1000"
       ]
      },
      {
       "output_type": "stream",
       "stream": "stdout",
       "text": [
        " 729 63.103665984 62.6477296842\n",
        "1010"
       ]
      },
      {
       "output_type": "stream",
       "stream": "stdout",
       "text": [
        " 731 63.0991774282 62.9807120829\n",
        "1020"
       ]
      },
      {
       "output_type": "stream",
       "stream": "stdout",
       "text": [
        " 733 63.4003533783 62.7207011794\n",
        "1030"
       ]
      },
      {
       "output_type": "stream",
       "stream": "stdout",
       "text": [
        " 741 62.1935343184 62.5017759422\n",
        "1040"
       ]
      },
      {
       "output_type": "stream",
       "stream": "stdout",
       "text": [
        " 806 59.4277656036 61.5244992306\n",
        "1050"
       ]
      },
      {
       "output_type": "stream",
       "stream": "stdout",
       "text": [
        " 884 49.0206142838 54.512715233\n",
        "1060"
       ]
      },
      {
       "output_type": "stream",
       "stream": "stdout",
       "text": [
        " 885 55.8914685438 54.0972488177\n",
        "1070"
       ]
      },
      {
       "output_type": "stream",
       "stream": "stdout",
       "text": [
        " 885 54.8562217438 55.3276074324\n",
        "1080"
       ]
      },
      {
       "output_type": "stream",
       "stream": "stdout",
       "text": [
        " 885 56.7721894898 55.462401903\n",
        "1090"
       ]
      },
      {
       "output_type": "stream",
       "stream": "stdout",
       "text": [
        " 885 54.5697480988 54.8434706434\n",
        "1100"
       ]
      },
      {
       "output_type": "stream",
       "stream": "stdout",
       "text": [
        " 885 55.0815139367 55.7086354361\n",
        "1110"
       ]
      },
      {
       "output_type": "stream",
       "stream": "stdout",
       "text": [
        " 885 55.3964028255 55.4252413811\n",
        "1120"
       ]
      },
      {
       "output_type": "stream",
       "stream": "stdout",
       "text": [
        " 885 57.6337030147 57.8542669599\n",
        "1130"
       ]
      },
      {
       "output_type": "stream",
       "stream": "stdout",
       "text": [
        " 885 57.6876079901 57.6629061869\n",
        "1140"
       ]
      },
      {
       "output_type": "stream",
       "stream": "stdout",
       "text": [
        " 885 58.0670815045 57.7382733461\n",
        "1150"
       ]
      },
      {
       "output_type": "stream",
       "stream": "stdout",
       "text": [
        " 885 58.6445880039 57.8244602593\n",
        "1160"
       ]
      },
      {
       "output_type": "stream",
       "stream": "stdout",
       "text": [
        " 885 58.6206391167 57.7410427875\n",
        "1170"
       ]
      },
      {
       "output_type": "stream",
       "stream": "stdout",
       "text": [
        " 885 58.1282292613 57.7823936468\n",
        "1180"
       ]
      },
      {
       "output_type": "stream",
       "stream": "stdout",
       "text": [
        " 885 57.9791776052 57.6830199179\n",
        "1190"
       ]
      },
      {
       "output_type": "stream",
       "stream": "stdout",
       "text": [
        " 885 58.040794119 57.7678956252\n",
        "1200"
       ]
      },
      {
       "output_type": "stream",
       "stream": "stdout",
       "text": [
        " 885 57.2206070507 57.6352493949\n",
        "1210"
       ]
      },
      {
       "output_type": "stream",
       "stream": "stdout",
       "text": [
        " 885 57.5129685962 57.7967790114\n",
        "1220"
       ]
      },
      {
       "output_type": "stream",
       "stream": "stdout",
       "text": [
        " 885 57.2432029611 57.6903553643\n",
        "1230"
       ]
      },
      {
       "output_type": "stream",
       "stream": "stdout",
       "text": [
        " 885 57.9937747518 57.5104575201\n",
        "1240"
       ]
      },
      {
       "output_type": "stream",
       "stream": "stdout",
       "text": [
        " 885 57.6087875645 57.6471111572\n",
        "1250"
       ]
      },
      {
       "output_type": "stream",
       "stream": "stdout",
       "text": [
        " 885 58.7657869184 57.8948002483\n",
        "1260"
       ]
      },
      {
       "output_type": "stream",
       "stream": "stdout",
       "text": [
        " 885 57.0315839135 57.1365534764\n",
        "1270"
       ]
      },
      {
       "output_type": "stream",
       "stream": "stdout",
       "text": [
        " 885 57.9184632047 57.7330464386\n",
        "1280"
       ]
      },
      {
       "output_type": "stream",
       "stream": "stdout",
       "text": [
        " 885 57.9700804545 57.4571463286\n",
        "1290"
       ]
      },
      {
       "output_type": "stream",
       "stream": "stdout",
       "text": [
        " 885 57.8710015958 57.6126849462\n",
        "1300"
       ]
      },
      {
       "output_type": "stream",
       "stream": "stdout",
       "text": [
        " 885 56.8430467025 57.7028066501\n",
        "1310"
       ]
      },
      {
       "output_type": "stream",
       "stream": "stdout",
       "text": [
        " 885 57.4095838044 57.4592051493\n",
        "1320"
       ]
      },
      {
       "output_type": "stream",
       "stream": "stdout",
       "text": [
        " 885 57.5357176686 57.4773812306\n",
        "1330"
       ]
      },
      {
       "output_type": "stream",
       "stream": "stdout",
       "text": [
        " 885 56.8824898732 57.0675592424\n",
        "1340"
       ]
      },
      {
       "output_type": "stream",
       "stream": "stdout",
       "text": [
        " 885 57.5468030342 57.4573262829\n",
        "1350"
       ]
      },
      {
       "output_type": "stream",
       "stream": "stdout",
       "text": [
        " 885 57.1698221002 57.0789294701\n",
        "1360"
       ]
      },
      {
       "output_type": "stream",
       "stream": "stdout",
       "text": [
        " 885 57.0878826096 57.0161736328\n",
        "1370"
       ]
      },
      {
       "output_type": "stream",
       "stream": "stdout",
       "text": [
        " 885 56.1495052386 56.9510626384\n",
        "1380"
       ]
      },
      {
       "output_type": "stream",
       "stream": "stdout",
       "text": [
        " 885 56.7288395164 56.4613424558\n",
        "1390"
       ]
      },
      {
       "output_type": "stream",
       "stream": "stdout",
       "text": [
        " 885 56.9890300823 56.8891369648\n",
        "1400"
       ]
      },
      {
       "output_type": "stream",
       "stream": "stdout",
       "text": [
        " 885 55.8892621625 56.2909073673\n",
        "1410"
       ]
      },
      {
       "output_type": "stream",
       "stream": "stdout",
       "text": [
        " 885 55.2985200872 56.4864051096\n",
        "1420"
       ]
      },
      {
       "output_type": "stream",
       "stream": "stdout",
       "text": [
        " 885 55.6921345062 55.9103085024\n",
        "1430"
       ]
      },
      {
       "output_type": "stream",
       "stream": "stdout",
       "text": [
        " 885 55.2346365442 56.30405271\n",
        "1440"
       ]
      },
      {
       "output_type": "stream",
       "stream": "stdout",
       "text": [
        " 885 56.2677340341 55.8812661328\n",
        "1450"
       ]
      },
      {
       "output_type": "stream",
       "stream": "stdout",
       "text": [
        " 885 55.7952857215 55.6396517984\n",
        "1460"
       ]
      },
      {
       "output_type": "stream",
       "stream": "stdout",
       "text": [
        " 885 55.1220335444 55.5444456898\n",
        "1470"
       ]
      },
      {
       "output_type": "stream",
       "stream": "stdout",
       "text": [
        " 885 54.7425366648 55.4222964802\n",
        "1480"
       ]
      },
      {
       "output_type": "stream",
       "stream": "stdout",
       "text": [
        " 885 54.541559341 55.1503544533\n",
        "1490"
       ]
      },
      {
       "output_type": "stream",
       "stream": "stdout",
       "text": [
        " 885 54.183178431 55.0530357988\n",
        "1500"
       ]
      },
      {
       "output_type": "stream",
       "stream": "stdout",
       "text": [
        " 885 53.6297023788 54.6962139421\n",
        "1510"
       ]
      },
      {
       "output_type": "stream",
       "stream": "stdout",
       "text": [
        " 884 53.3451229999 54.222562692\n",
        "1520"
       ]
      },
      {
       "output_type": "stream",
       "stream": "stdout",
       "text": [
        " 886 53.0905584299 53.8797933289\n",
        "1530"
       ]
      },
      {
       "output_type": "stream",
       "stream": "stdout",
       "text": [
        " 884 52.1978090995 53.6755436627\n",
        "1540"
       ]
      },
      {
       "output_type": "stream",
       "stream": "stdout",
       "text": [
        " 885 52.1898063092 53.9941087882\n",
        "1550"
       ]
      },
      {
       "output_type": "stream",
       "stream": "stdout",
       "text": [
        " 886 52.1852637467 53.630800004\n",
        "1560"
       ]
      },
      {
       "output_type": "stream",
       "stream": "stdout",
       "text": [
        " 884 52.0567040053 53.7051758735\n",
        "1570"
       ]
      },
      {
       "output_type": "stream",
       "stream": "stdout",
       "text": [
        " 886 50.7986401261 53.1332509086\n",
        "1580"
       ]
      },
      {
       "output_type": "stream",
       "stream": "stdout",
       "text": [
        " 884 49.9971994921 52.6440056664\n",
        "1590"
       ]
      },
      {
       "output_type": "stream",
       "stream": "stdout",
       "text": [
        " 883 49.8608752032 52.707118986\n",
        "1600"
       ]
      },
      {
       "output_type": "stream",
       "stream": "stdout",
       "text": [
        " 883 49.5668768771 52.1464051483\n",
        "1610"
       ]
      },
      {
       "output_type": "stream",
       "stream": "stdout",
       "text": [
        " 883 48.7989404418 52.1499983392\n",
        "1620"
       ]
      },
      {
       "output_type": "stream",
       "stream": "stdout",
       "text": [
        " 883 48.7052639124 51.738068591\n",
        "1630"
       ]
      },
      {
       "output_type": "stream",
       "stream": "stdout",
       "text": [
        " 883 48.253587024 51.3550856158\n",
        "1640"
       ]
      },
      {
       "output_type": "stream",
       "stream": "stdout",
       "text": [
        " 883 47.8821886318 51.3532843709\n",
        "1650"
       ]
      },
      {
       "output_type": "stream",
       "stream": "stdout",
       "text": [
        " 883 47.1463278422 50.976854203\n",
        "1660"
       ]
      },
      {
       "output_type": "stream",
       "stream": "stdout",
       "text": [
        " 883 46.8468962216 50.5339683769\n",
        "1670"
       ]
      },
      {
       "output_type": "stream",
       "stream": "stdout",
       "text": [
        " 883 46.0798260252 50.1561125395\n",
        "1680"
       ]
      },
      {
       "output_type": "stream",
       "stream": "stdout",
       "text": [
        " 881 45.5553805573 49.8447091578\n",
        "1690"
       ]
      },
      {
       "output_type": "stream",
       "stream": "stdout",
       "text": [
        " 881 45.6737617668 49.6718591949\n",
        "1700"
       ]
      },
      {
       "output_type": "stream",
       "stream": "stdout",
       "text": [
        " 879 45.1144556468 49.2481084547\n",
        "1710"
       ]
      },
      {
       "output_type": "stream",
       "stream": "stdout",
       "text": [
        " 843 36.9389467953 43.1669087137\n",
        "1720"
       ]
      },
      {
       "output_type": "stream",
       "stream": "stdout",
       "text": [
        " 843 37.8066060619 43.4960364483\n",
        "1730"
       ]
      },
      {
       "output_type": "stream",
       "stream": "stdout",
       "text": [
        " 835 36.7421097913 43.7179460225\n",
        "1740"
       ]
      },
      {
       "output_type": "stream",
       "stream": "stdout",
       "text": [
        " 831 35.7637355639 43.538095907\n",
        "1750"
       ]
      },
      {
       "output_type": "stream",
       "stream": "stdout",
       "text": [
        " 831 35.5833462494 43.3565560973\n",
        "1760"
       ]
      },
      {
       "output_type": "stream",
       "stream": "stdout",
       "text": [
        " 827 34.7362099233 43.2412342781\n",
        "1770"
       ]
      },
      {
       "output_type": "stream",
       "stream": "stdout",
       "text": [
        " 827 34.5628697391 43.0647684806\n",
        "1780"
       ]
      },
      {
       "output_type": "stream",
       "stream": "stdout",
       "text": [
        " 827 34.3367490955 42.8775027327\n",
        "1790"
       ]
      },
      {
       "output_type": "stream",
       "stream": "stdout",
       "text": [
        " 825 33.75343228 42.5722719074\n",
        "1800"
       ]
      },
      {
       "output_type": "stream",
       "stream": "stdout",
       "text": [
        " 821 32.8692817716 42.1315180027\n",
        "1810"
       ]
      },
      {
       "output_type": "stream",
       "stream": "stdout",
       "text": [
        " 821 32.3424946761 41.7969826158\n",
        "1820"
       ]
      },
      {
       "output_type": "stream",
       "stream": "stdout",
       "text": [
        " 819 31.8652136351 41.8916100954\n",
        "1830"
       ]
      },
      {
       "output_type": "stream",
       "stream": "stdout",
       "text": [
        " 817 31.5058684432 41.7116843442\n",
        "1840"
       ]
      },
      {
       "output_type": "stream",
       "stream": "stdout",
       "text": [
        " 817 31.0736376651 41.0446206633\n",
        "1850"
       ]
      },
      {
       "output_type": "stream",
       "stream": "stdout",
       "text": [
        " 815 30.7926066481 41.0094631856\n",
        "1860"
       ]
      },
      {
       "output_type": "stream",
       "stream": "stdout",
       "text": [
        " 815 30.8826536757 40.8357837247\n",
        "1870"
       ]
      },
      {
       "output_type": "stream",
       "stream": "stdout",
       "text": [
        " 811 30.0536923968 41.1493249522\n",
        "1880"
       ]
      },
      {
       "output_type": "stream",
       "stream": "stdout",
       "text": [
        " 809 29.5789871363 40.9160424537\n",
        "1890"
       ]
      },
      {
       "output_type": "stream",
       "stream": "stdout",
       "text": [
        " 807 29.3396248376 40.3830121492\n",
        "1900"
       ]
      },
      {
       "output_type": "stream",
       "stream": "stdout",
       "text": [
        " 805 29.1289238867 40.2598436698\n",
        "1910"
       ]
      },
      {
       "output_type": "stream",
       "stream": "stdout",
       "text": [
        " 801 28.7216037817 40.6889390221\n",
        "1920"
       ]
      },
      {
       "output_type": "stream",
       "stream": "stdout",
       "text": [
        " 799 28.1540758592 40.427547814\n",
        "1930"
       ]
      },
      {
       "output_type": "stream",
       "stream": "stdout",
       "text": [
        " 797 27.6059094342 40.1577067248\n",
        "1940"
       ]
      },
      {
       "output_type": "stream",
       "stream": "stdout",
       "text": [
        " 795 27.4918779198 40.0114738131\n",
        "1950"
       ]
      },
      {
       "output_type": "stream",
       "stream": "stdout",
       "text": [
        " 791 27.2460631153 40.1563453911\n",
        "1960"
       ]
      },
      {
       "output_type": "stream",
       "stream": "stdout",
       "text": [
        " 787 27.3029673661 40.3628487752\n",
        "1970"
       ]
      },
      {
       "output_type": "stream",
       "stream": "stdout",
       "text": [
        " 781 27.1137817533 40.0250760404\n",
        "1980"
       ]
      },
      {
       "output_type": "stream",
       "stream": "stdout",
       "text": [
        " 779 26.7086287333 40.4612729381\n",
        "1990"
       ]
      },
      {
       "output_type": "stream",
       "stream": "stdout",
       "text": [
        " 773 26.6396689107 40.2766177442\n",
        "2000"
       ]
      },
      {
       "output_type": "stream",
       "stream": "stdout",
       "text": [
        " 769 25.9604222398 40.5082550929\n",
        "2010"
       ]
      },
      {
       "output_type": "stream",
       "stream": "stdout",
       "text": [
        " 767 25.8435074131 40.377104034\n",
        "2020"
       ]
      },
      {
       "output_type": "stream",
       "stream": "stdout",
       "text": [
        " 765 25.6832979013 40.3473448163\n",
        "2030"
       ]
      },
      {
       "output_type": "stream",
       "stream": "stdout",
       "text": [
        " 761 25.6358685546 40.3038549294\n",
        "2040"
       ]
      },
      {
       "output_type": "stream",
       "stream": "stdout",
       "text": [
        " 757 25.3211092384 40.8177321237\n",
        "2050"
       ]
      },
      {
       "output_type": "stream",
       "stream": "stdout",
       "text": [
        " 755 25.0453487714 41.5629159095\n",
        "2060"
       ]
      },
      {
       "output_type": "stream",
       "stream": "stdout",
       "text": [
        " 753 24.5282672872 41.5391122069\n",
        "2070"
       ]
      },
      {
       "output_type": "stream",
       "stream": "stdout",
       "text": [
        " 749 24.4159420338 42.0012476323\n",
        "2080"
       ]
      },
      {
       "output_type": "stream",
       "stream": "stdout",
       "text": [
        " 747 23.6953829082 42.3406846154\n",
        "2090"
       ]
      },
      {
       "output_type": "stream",
       "stream": "stdout",
       "text": [
        " 743 23.3176000954 43.1793490804\n",
        "2100"
       ]
      },
      {
       "output_type": "stream",
       "stream": "stdout",
       "text": [
        " 737 23.200333151 44.0145808528\n",
        "2110"
       ]
      },
      {
       "output_type": "stream",
       "stream": "stdout",
       "text": [
        " 734 22.5671786811 44.8024353761\n",
        "2120"
       ]
      },
      {
       "output_type": "stream",
       "stream": "stdout",
       "text": [
        " 731 21.7896073139 45.557786504\n",
        "2130"
       ]
      },
      {
       "output_type": "stream",
       "stream": "stdout",
       "text": [
        " 725 20.853630114 47.0378430102\n",
        "2140"
       ]
      },
      {
       "output_type": "stream",
       "stream": "stdout",
       "text": [
        " 723 20.0104065702 48.4981020828\n",
        "2150"
       ]
      },
      {
       "output_type": "stream",
       "stream": "stdout",
       "text": [
        " 718 19.1964516659 51.1153190101\n",
        "2160"
       ]
      },
      {
       "output_type": "stream",
       "stream": "stdout",
       "text": [
        " 714 18.4261829929 54.1209178141\n",
        "2170"
       ]
      },
      {
       "output_type": "stream",
       "stream": "stdout",
       "text": [
        " 711 17.5700438627 57.0926959279\n",
        "2180"
       ]
      },
      {
       "output_type": "stream",
       "stream": "stdout",
       "text": [
        " 708 16.5861212036 60.9426199722\n",
        "2190"
       ]
      },
      {
       "output_type": "stream",
       "stream": "stdout",
       "text": [
        " 702 15.5555454308 66.158180077\n",
        "2200"
       ]
      },
      {
       "output_type": "stream",
       "stream": "stdout",
       "text": [
        " 698 14.601556841 69.9647708586\n",
        "2210"
       ]
      },
      {
       "output_type": "stream",
       "stream": "stdout",
       "text": [
        " 697 13.2045401075 76.2314489933\n",
        "2220"
       ]
      },
      {
       "output_type": "stream",
       "stream": "stdout",
       "text": [
        " 691 11.7541148442 80.4712930619\n",
        "2230"
       ]
      },
      {
       "output_type": "stream",
       "stream": "stdout",
       "text": [
        " 688 10.2160265796 85.6600719784\n",
        "2240"
       ]
      },
      {
       "output_type": "stream",
       "stream": "stdout",
       "text": [
        " 684 9.07481367725 91.6516011807\n",
        "2250"
       ]
      },
      {
       "output_type": "stream",
       "stream": "stdout",
       "text": [
        " 682 8.0881253548 94.7069354329\n",
        "2260"
       ]
      },
      {
       "output_type": "stream",
       "stream": "stdout",
       "text": [
        " 680 7.6285412701 99.7543026187\n",
        "2270"
       ]
      },
      {
       "output_type": "stream",
       "stream": "stdout",
       "text": [
        " 677 6.82522527836 102.168851343\n",
        "2280"
       ]
      },
      {
       "output_type": "stream",
       "stream": "stdout",
       "text": [
        " 673 6.35352844495 104.156173942\n",
        "2290"
       ]
      },
      {
       "output_type": "stream",
       "stream": "stdout",
       "text": [
        " 673 5.86626361137 105.389503875\n",
        "2300"
       ]
      },
      {
       "output_type": "stream",
       "stream": "stdout",
       "text": [
        " 669 4.85249887624 106.153575869\n",
        "2310"
       ]
      },
      {
       "output_type": "stream",
       "stream": "stdout",
       "text": [
        " 665 4.07453755306 106.489860935\n",
        "2320"
       ]
      },
      {
       "output_type": "stream",
       "stream": "stdout",
       "text": [
        " 663 3.63373503093 106.695545691\n",
        "2330"
       ]
      },
      {
       "output_type": "stream",
       "stream": "stdout",
       "text": [
        " 659 3.20428576163 105.236203106\n",
        "2340"
       ]
      },
      {
       "output_type": "stream",
       "stream": "stdout",
       "text": [
        " 633 3.22504948881 None\n",
        "2350"
       ]
      },
      {
       "output_type": "stream",
       "stream": "stdout",
       "text": [
        " 633 3.98608831031 None\n",
        "2360"
       ]
      },
      {
       "output_type": "stream",
       "stream": "stdout",
       "text": [
        " 633 3.96404649139 None\n",
        "2370"
       ]
      },
      {
       "output_type": "stream",
       "stream": "stdout",
       "text": [
        " 633 4.58236113785 None\n",
        "2380"
       ]
      },
      {
       "output_type": "stream",
       "stream": "stdout",
       "text": [
        " 633 5.01431808872 None\n",
        "2390"
       ]
      },
      {
       "output_type": "stream",
       "stream": "stdout",
       "text": [
        " 633 5.39167985361 None\n",
        "2400"
       ]
      },
      {
       "output_type": "stream",
       "stream": "stdout",
       "text": [
        " 633 5.5203811806 None\n",
        "2410"
       ]
      },
      {
       "output_type": "stream",
       "stream": "stdout",
       "text": [
        " 155 None None\n",
        "['20141218-22_41_33-CA3_DB_PC01_A-01_BED580.MOV', 'CA3', '', 'D', 'B', 63.182225184130459, 63.615864894404147, 886, 580]"
       ]
      },
      {
       "output_type": "stream",
       "stream": "stdout",
       "text": [
        "\n",
        "20141218-22_46_34-CA3_DB_PC01_A-03_BED605.MOV\n",
        "Analyzing:  F:\\AFCC Metal FSU Testing 2014\\A3\\PC01_A_boarderline\\\\20141218-22_46_34-CA3_DB_PC01_A-03_BED605.MOV\n",
        "0100"
       ]
      },
      {
       "output_type": "stream",
       "stream": "stdout",
       "text": [
        " 272 58.7023220062 59.499249842\n",
        "0110"
       ]
      },
      {
       "output_type": "stream",
       "stream": "stdout",
       "text": [
        " 274 59.3397429692 59.6274635195\n",
        "0120"
       ]
      },
      {
       "output_type": "stream",
       "stream": "stdout",
       "text": [
        " 276 59.4907170987 60.3433328621\n",
        "0130"
       ]
      },
      {
       "output_type": "stream",
       "stream": "stdout",
       "text": [
        " 282 59.4253561449 60.3358786736\n",
        "0140"
       ]
      },
      {
       "output_type": "stream",
       "stream": "stdout",
       "text": [
        " 284 59.8394952646 60.7255146802\n",
        "0150"
       ]
      },
      {
       "output_type": "stream",
       "stream": "stdout",
       "text": [
        " 290 60.649939136 61.0197053133\n",
        "0160"
       ]
      },
      {
       "output_type": "stream",
       "stream": "stdout",
       "text": [
        " 292 60.7927353415 62.1025836545\n",
        "0170"
       ]
      },
      {
       "output_type": "stream",
       "stream": "stdout",
       "text": [
        " 294 61.4747461777 61.9477785333\n",
        "0180"
       ]
      },
      {
       "output_type": "stream",
       "stream": "stdout",
       "text": [
        " 304 60.6513888429 61.6008312625\n",
        "0190"
       ]
      },
      {
       "output_type": "stream",
       "stream": "stdout",
       "text": [
        " 308 61.6172482755 61.8814720211\n",
        "0200"
       ]
      },
      {
       "output_type": "stream",
       "stream": "stdout",
       "text": [
        " 312 62.6134149626 62.1145618623\n",
        "0210"
       ]
      },
      {
       "output_type": "stream",
       "stream": "stdout",
       "text": [
        " 312 62.6554920442 62.786201224\n",
        "0220"
       ]
      },
      {
       "output_type": "stream",
       "stream": "stdout",
       "text": [
        " 327 61.6903456668 61.0897240931\n",
        "0230"
       ]
      },
      {
       "output_type": "stream",
       "stream": "stdout",
       "text": [
        " 330 62.343352153 62.2281113084\n",
        "0240"
       ]
      },
      {
       "output_type": "stream",
       "stream": "stdout",
       "text": [
        " 334 62.0912068816 62.5679024931\n",
        "0250"
       ]
      },
      {
       "output_type": "stream",
       "stream": "stdout",
       "text": [
        " 336 63.5050704706 63.3040772423\n",
        "0260"
       ]
      },
      {
       "output_type": "stream",
       "stream": "stdout",
       "text": [
        " 427 53.7437185314 63.2276066146\n",
        "0270"
       ]
      },
      {
       "output_type": "stream",
       "stream": "stdout",
       "text": [
        " 432 54.791230597 65.6907463651\n",
        "0280"
       ]
      },
      {
       "output_type": "stream",
       "stream": "stdout",
       "text": [
        " 433 56.5051837706 68.8419181986\n",
        "0290"
       ]
      },
      {
       "output_type": "stream",
       "stream": "stdout",
       "text": [
        " 433 57.2480863818 69.2038037121\n",
        "0300"
       ]
      },
      {
       "output_type": "stream",
       "stream": "stdout",
       "text": [
        " 433 57.5495178989 69.0690238844\n",
        "0310"
       ]
      },
      {
       "output_type": "stream",
       "stream": "stdout",
       "text": [
        " 433 57.9918150391 69.7831519531\n",
        "0320"
       ]
      },
      {
       "output_type": "stream",
       "stream": "stdout",
       "text": [
        " 433 58.9112035041 70.1007407475\n",
        "0330"
       ]
      },
      {
       "output_type": "stream",
       "stream": "stdout",
       "text": [
        " 441 62.3696518283 66.8588504838\n",
        "0340"
       ]
      },
      {
       "output_type": "stream",
       "stream": "stdout",
       "text": [
        " 441 63.3157675601 67.4849809029\n",
        "0350"
       ]
      },
      {
       "output_type": "stream",
       "stream": "stdout",
       "text": [
        " 443 63.4965613499 67.2153358896\n",
        "0360"
       ]
      },
      {
       "output_type": "stream",
       "stream": "stdout",
       "text": [
        " 445 63.8729305862 67.4253315193\n",
        "0370"
       ]
      },
      {
       "output_type": "stream",
       "stream": "stdout",
       "text": [
        " 445 63.8628758178 67.9407509152\n",
        "0380"
       ]
      },
      {
       "output_type": "stream",
       "stream": "stdout",
       "text": [
        " 449 64.7169353458 67.1274297325\n",
        "0390"
       ]
      },
      {
       "output_type": "stream",
       "stream": "stdout",
       "text": [
        " 453 65.343008652 66.4828818069\n",
        "0400"
       ]
      },
      {
       "output_type": "stream",
       "stream": "stdout",
       "text": [
        " 456 65.002843653 66.5333478368\n",
        "0410"
       ]
      },
      {
       "output_type": "stream",
       "stream": "stdout",
       "text": [
        " 439 55.3281470228 51.8566261691\n",
        "0420"
       ]
      },
      {
       "output_type": "stream",
       "stream": "stdout",
       "text": [
        " 439 57.1153554442 53.9410646071\n",
        "0430"
       ]
      },
      {
       "output_type": "stream",
       "stream": "stdout",
       "text": [
        " 439 58.5092915925 55.3194635259\n",
        "0440"
       ]
      },
      {
       "output_type": "stream",
       "stream": "stdout",
       "text": [
        " 439 59.5126856039 57.0652458802\n",
        "0450"
       ]
      },
      {
       "output_type": "stream",
       "stream": "stdout",
       "text": [
        " 440 60.5442333717 58.5032097573\n",
        "0460"
       ]
      },
      {
       "output_type": "stream",
       "stream": "stdout",
       "text": [
        " 439 61.3828536459 60.1657426142\n",
        "0470"
       ]
      },
      {
       "output_type": "stream",
       "stream": "stdout",
       "text": [
        " 442 62.5966860425 61.2608207578\n",
        "0480"
       ]
      },
      {
       "output_type": "stream",
       "stream": "stdout",
       "text": [
        " 442 63.5754730487 62.0740134937\n",
        "0490"
       ]
      },
      {
       "output_type": "stream",
       "stream": "stdout",
       "text": [
        " 442 63.9021526883 62.7095415421\n",
        "0500"
       ]
      },
      {
       "output_type": "stream",
       "stream": "stdout",
       "text": [
        " 444 64.5051405296 63.6445192297\n",
        "0510"
       ]
      },
      {
       "output_type": "stream",
       "stream": "stdout",
       "text": [
        " 443 65.0318580087 64.1787791607\n",
        "0520"
       ]
      },
      {
       "output_type": "stream",
       "stream": "stdout",
       "text": [
        " 446 65.3006393066 64.6949170749\n",
        "0530"
       ]
      },
      {
       "output_type": "stream",
       "stream": "stdout",
       "text": [
        " 454 65.5746768061 64.7190224335\n",
        "0540"
       ]
      },
      {
       "output_type": "stream",
       "stream": "stdout",
       "text": [
        " 457 65.2577269187 65.1124515806\n",
        "0550"
       ]
      },
      {
       "output_type": "stream",
       "stream": "stdout",
       "text": [
        " 459 66.3713860721 65.6008084334\n",
        "0560"
       ]
      },
      {
       "output_type": "stream",
       "stream": "stdout",
       "text": [
        " 461 66.3430754028 66.2209057393\n",
        "0570"
       ]
      },
      {
       "output_type": "stream",
       "stream": "stdout",
       "text": [
        " 461 67.7110480286 66.91355432\n",
        "0580"
       ]
      },
      {
       "output_type": "stream",
       "stream": "stdout",
       "text": [
        " 467 67.6123547948 66.4680503716\n",
        "0590"
       ]
      },
      {
       "output_type": "stream",
       "stream": "stdout",
       "text": [
        " 470 67.5197332729 66.1869737226\n",
        "0600"
       ]
      },
      {
       "output_type": "stream",
       "stream": "stdout",
       "text": [
        " 474 67.6565174871 66.744295408\n",
        "0610"
       ]
      },
      {
       "output_type": "stream",
       "stream": "stdout",
       "text": [
        " 483 67.1036055788 66.286539809\n",
        "0620"
       ]
      },
      {
       "output_type": "stream",
       "stream": "stdout",
       "text": [
        " 490 66.2554333846 66.273935169\n",
        "0630"
       ]
      },
      {
       "output_type": "stream",
       "stream": "stdout",
       "text": [
        " 493 66.4059197794 66.6307650354\n",
        "0640"
       ]
      },
      {
       "output_type": "stream",
       "stream": "stdout",
       "text": [
        " 494 67.4355851131 66.5154959146\n",
        "0650"
       ]
      },
      {
       "output_type": "stream",
       "stream": "stdout",
       "text": [
        " 500 66.7419030538 66.468693432\n",
        "0660"
       ]
      },
      {
       "output_type": "stream",
       "stream": "stdout",
       "text": [
        " 505 67.4220740331 66.7625349792\n",
        "0670"
       ]
      },
      {
       "output_type": "stream",
       "stream": "stdout",
       "text": [
        " 506 67.6951511706 66.9398180683\n",
        "0680"
       ]
      },
      {
       "output_type": "stream",
       "stream": "stdout",
       "text": [
        " 512 67.8388413068 67.3105994842\n",
        "0690"
       ]
      },
      {
       "output_type": "stream",
       "stream": "stdout",
       "text": [
        " 521 66.3831495 67.2746199707\n",
        "0700"
       ]
      },
      {
       "output_type": "stream",
       "stream": "stdout",
       "text": [
        " 526 65.39819661 67.1015993839\n",
        "0710"
       ]
      },
      {
       "output_type": "stream",
       "stream": "stdout",
       "text": [
        " 528 66.9427909508 67.1589901933\n",
        "0720"
       ]
      },
      {
       "output_type": "stream",
       "stream": "stdout",
       "text": [
        " 535 65.7464453084 67.2251840154\n",
        "0730"
       ]
      },
      {
       "output_type": "stream",
       "stream": "stdout",
       "text": [
        " 534 67.3111112347 67.3809878302\n",
        "0740"
       ]
      },
      {
       "output_type": "stream",
       "stream": "stdout",
       "text": [
        " 535 68.0029862582 67.8348012181\n",
        "0750"
       ]
      },
      {
       "output_type": "stream",
       "stream": "stdout",
       "text": [
        " 544 66.9010739245 67.4091105378\n",
        "0760"
       ]
      },
      {
       "output_type": "stream",
       "stream": "stdout",
       "text": [
        " 547 66.9910650552 67.6330340647\n",
        "0770"
       ]
      },
      {
       "output_type": "stream",
       "stream": "stdout",
       "text": [
        " 549 67.7593861216 68.0545506797\n",
        "0780"
       ]
      },
      {
       "output_type": "stream",
       "stream": "stdout",
       "text": [
        " 551 68.3254654796 68.1286571608\n",
        "0790"
       ]
      },
      {
       "output_type": "stream",
       "stream": "stdout",
       "text": [
        " 555 68.7480522587 68.1287471418\n",
        "0800"
       ]
      },
      {
       "output_type": "stream",
       "stream": "stdout",
       "text": [
        " 557 68.4418089181 68.2512055074\n",
        "0810"
       ]
      },
      {
       "output_type": "stream",
       "stream": "stdout",
       "text": [
        " 561 68.9441724931 68.2324697906\n",
        "0820"
       ]
      },
      {
       "output_type": "stream",
       "stream": "stdout",
       "text": [
        " 567 68.8990024557 67.7484793799\n",
        "0830"
       ]
      },
      {
       "output_type": "stream",
       "stream": "stdout",
       "text": [
        " 569 68.7062570087 68.1741890395\n",
        "0840"
       ]
      },
      {
       "output_type": "stream",
       "stream": "stdout",
       "text": [
        " 575 67.5995849301 67.7620912624\n",
        "0850"
       ]
      },
      {
       "output_type": "stream",
       "stream": "stdout",
       "text": [
        " 583 67.377177193 67.5809600158\n",
        "0860"
       ]
      },
      {
       "output_type": "stream",
       "stream": "stdout",
       "text": [
        " 587 67.8299951819 67.5126070927\n",
        "0870"
       ]
      },
      {
       "output_type": "stream",
       "stream": "stdout",
       "text": [
        " 589 68.2966899795 67.5305430026\n",
        "0880"
       ]
      },
      {
       "output_type": "stream",
       "stream": "stdout",
       "text": [
        " 593 68.5260728328 67.9043466255\n",
        "0890"
       ]
      },
      {
       "output_type": "stream",
       "stream": "stdout",
       "text": [
        " 595 68.7305190293 67.9013600852\n",
        "0900"
       ]
      },
      {
       "output_type": "stream",
       "stream": "stdout",
       "text": [
        " 601 68.1653154809 67.5998831267\n",
        "0910"
       ]
      },
      {
       "output_type": "stream",
       "stream": "stdout",
       "text": [
        " 605 68.0039545164 68.1742737366\n",
        "0920"
       ]
      },
      {
       "output_type": "stream",
       "stream": "stdout",
       "text": [
        " 615 67.1626879167 67.7611179762\n",
        "0930"
       ]
      },
      {
       "output_type": "stream",
       "stream": "stdout",
       "text": [
        " 617 67.699365119 67.4014893773\n",
        "0940"
       ]
      },
      {
       "output_type": "stream",
       "stream": "stdout",
       "text": [
        " 619 68.00438841 67.5480161749\n",
        "0950"
       ]
      },
      {
       "output_type": "stream",
       "stream": "stdout",
       "text": [
        " 621 68.7281592832 68.0292237242\n",
        "0960"
       ]
      },
      {
       "output_type": "stream",
       "stream": "stdout",
       "text": [
        " 633 67.3024285744 67.0080272362\n",
        "0970"
       ]
      },
      {
       "output_type": "stream",
       "stream": "stdout",
       "text": [
        " 635 67.3057474651 67.2463919664\n",
        "0980"
       ]
      },
      {
       "output_type": "stream",
       "stream": "stdout",
       "text": [
        " 637 67.4305747724 67.3963720959\n",
        "0990"
       ]
      },
      {
       "output_type": "stream",
       "stream": "stdout",
       "text": [
        " 637 68.1008096981 67.7547407449\n",
        "1000"
       ]
      },
      {
       "output_type": "stream",
       "stream": "stdout",
       "text": [
        " 647 67.0765081779 67.4186611982\n",
        "1010"
       ]
      },
      {
       "output_type": "stream",
       "stream": "stdout",
       "text": [
        " 653 66.7855342155 67.3724381444\n",
        "1020"
       ]
      },
      {
       "output_type": "stream",
       "stream": "stdout",
       "text": [
        " 654 67.3477094165 67.2481622285\n",
        "1030"
       ]
      },
      {
       "output_type": "stream",
       "stream": "stdout",
       "text": [
        " 655 68.2129701676 67.8711597318\n",
        "1040"
       ]
      },
      {
       "output_type": "stream",
       "stream": "stdout",
       "text": [
        " 661 67.6689326366 67.7210952402\n",
        "1050"
       ]
      },
      {
       "output_type": "stream",
       "stream": "stdout",
       "text": [
        " 663 68.6483362547 67.2597058234\n",
        "1060"
       ]
      },
      {
       "output_type": "stream",
       "stream": "stdout",
       "text": [
        " 663 68.9085963058 67.7565612346\n",
        "1070"
       ]
      },
      {
       "output_type": "stream",
       "stream": "stdout",
       "text": [
        " 675 66.6193250908 67.3097440629\n",
        "1080"
       ]
      },
      {
       "output_type": "stream",
       "stream": "stdout",
       "text": [
        " 706 65.5501966252 66.0578284544\n",
        "1090"
       ]
      },
      {
       "output_type": "stream",
       "stream": "stdout",
       "text": [
        " 763 59.3683458157 57.0589463397\n",
        "1100"
       ]
      },
      {
       "output_type": "stream",
       "stream": "stdout",
       "text": [
        " 767 61.5289196917 60.7548562307\n",
        "1110"
       ]
      },
      {
       "output_type": "stream",
       "stream": "stdout",
       "text": [
        " 767 62.6727153452 61.3826714695\n",
        "1120"
       ]
      },
      {
       "output_type": "stream",
       "stream": "stdout",
       "text": [
        " 767 62.9937892615 61.1600297836\n",
        "1130"
       ]
      },
      {
       "output_type": "stream",
       "stream": "stdout",
       "text": [
        " 767 63.2898393575 61.5470090528\n",
        "1140"
       ]
      },
      {
       "output_type": "stream",
       "stream": "stdout",
       "text": [
        " 767 63.429382258 61.4267123895\n",
        "1150"
       ]
      },
      {
       "output_type": "stream",
       "stream": "stdout",
       "text": [
        " 767 63.6727355206 61.752568958\n",
        "1160"
       ]
      },
      {
       "output_type": "stream",
       "stream": "stdout",
       "text": [
        " 767 63.4291789849 61.4884672261\n",
        "1170"
       ]
      },
      {
       "output_type": "stream",
       "stream": "stdout",
       "text": [
        " 767 63.2897072343 61.3504968991\n",
        "1180"
       ]
      },
      {
       "output_type": "stream",
       "stream": "stdout",
       "text": [
        " 767 63.6109137354 61.4622211152\n",
        "1190"
       ]
      },
      {
       "output_type": "stream",
       "stream": "stdout",
       "text": [
        " 767 62.9542838048 61.4608114034\n",
        "1200"
       ]
      },
      {
       "output_type": "stream",
       "stream": "stdout",
       "text": [
        " 767 62.9974421105 61.4151682161\n",
        "1210"
       ]
      },
      {
       "output_type": "stream",
       "stream": "stdout",
       "text": [
        " 767 63.0159546045 61.3992234408\n",
        "1220"
       ]
      },
      {
       "output_type": "stream",
       "stream": "stdout",
       "text": [
        " 769 62.1888764879 59.9694168053\n",
        "1230"
       ]
      },
      {
       "output_type": "stream",
       "stream": "stdout",
       "text": [
        " 769 62.4133443969 60.3265827111\n",
        "1240"
       ]
      },
      {
       "output_type": "stream",
       "stream": "stdout",
       "text": [
        " 769 62.4545847122 60.4597287762\n",
        "1250"
       ]
      },
      {
       "output_type": "stream",
       "stream": "stdout",
       "text": [
        " 769 61.6847979752 60.2874744109\n",
        "1260"
       ]
      },
      {
       "output_type": "stream",
       "stream": "stdout",
       "text": [
        " 769 62.2510509507 60.2677737797\n",
        "1270"
       ]
      },
      {
       "output_type": "stream",
       "stream": "stdout",
       "text": [
        " 769 61.8529624991 60.6424396638\n",
        "1280"
       ]
      },
      {
       "output_type": "stream",
       "stream": "stdout",
       "text": [
        " 769 61.835270459 60.1809248269\n",
        "1290"
       ]
      },
      {
       "output_type": "stream",
       "stream": "stdout",
       "text": [
        " 767 61.5965157713 60.4195386325\n",
        "1300"
       ]
      },
      {
       "output_type": "stream",
       "stream": "stdout",
       "text": [
        " 767 61.737019542 59.9622829922\n",
        "1310"
       ]
      },
      {
       "output_type": "stream",
       "stream": "stdout",
       "text": [
        " 769 61.6090055566 60.3358967244\n",
        "1320"
       ]
      },
      {
       "output_type": "stream",
       "stream": "stdout",
       "text": [
        " 767 61.636203577 59.6511652288\n",
        "1330"
       ]
      },
      {
       "output_type": "stream",
       "stream": "stdout",
       "text": [
        " 767 61.5903004101 59.6511652288\n",
        "1340"
       ]
      },
      {
       "output_type": "stream",
       "stream": "stdout",
       "text": [
        " 769 61.4418929377 59.7768946216\n",
        "1350"
       ]
      },
      {
       "output_type": "stream",
       "stream": "stdout",
       "text": [
        " 767 61.3897754512 59.6744608351\n",
        "1360"
       ]
      },
      {
       "output_type": "stream",
       "stream": "stdout",
       "text": [
        " 767 61.2380419709 59.5464040858\n",
        "1370"
       ]
      },
      {
       "output_type": "stream",
       "stream": "stdout",
       "text": [
        " 767 60.7379561641 59.24660042\n",
        "1380"
       ]
      },
      {
       "output_type": "stream",
       "stream": "stdout",
       "text": [
        " 767 61.0427560093 58.976231278\n",
        "1390"
       ]
      },
      {
       "output_type": "stream",
       "stream": "stdout",
       "text": [
        " 767 60.8596423901 59.0509131536\n",
        "1400"
       ]
      },
      {
       "output_type": "stream",
       "stream": "stdout",
       "text": [
        " 767 60.7273950265 58.5499185932\n",
        "1410"
       ]
      },
      {
       "output_type": "stream",
       "stream": "stdout",
       "text": [
        " 767 60.3695666914 58.4037589601\n",
        "1420"
       ]
      },
      {
       "output_type": "stream",
       "stream": "stdout",
       "text": [
        " 767 59.8825127532 58.3330297222\n",
        "1430"
       ]
      },
      {
       "output_type": "stream",
       "stream": "stdout",
       "text": [
        " 767 59.881017528 57.8185048109\n",
        "1440"
       ]
      },
      {
       "output_type": "stream",
       "stream": "stdout",
       "text": [
        " 767 59.6715536377 57.7187078234\n",
        "1450"
       ]
      },
      {
       "output_type": "stream",
       "stream": "stdout",
       "text": [
        " 767 59.5496789108 57.3747145216\n",
        "1460"
       ]
      },
      {
       "output_type": "stream",
       "stream": "stdout",
       "text": [
        " 767 58.9825246004 57.0519119469\n",
        "1470"
       ]
      },
      {
       "output_type": "stream",
       "stream": "stdout",
       "text": [
        " 767 58.9401007658 57.1547461078\n",
        "1480"
       ]
      },
      {
       "output_type": "stream",
       "stream": "stdout",
       "text": [
        " 767 58.2914473879 56.5201433307\n",
        "1490"
       ]
      },
      {
       "output_type": "stream",
       "stream": "stdout",
       "text": [
        " 767 57.8525791717 56.8964585638\n",
        "1500"
       ]
      },
      {
       "output_type": "stream",
       "stream": "stdout",
       "text": [
        " 767 57.9863953862 56.1492090528\n",
        "1510"
       ]
      },
      {
       "output_type": "stream",
       "stream": "stdout",
       "text": [
        " 767 57.5546113913 55.7161297042\n",
        "1520"
       ]
      },
      {
       "output_type": "stream",
       "stream": "stdout",
       "text": [
        " 767 57.1937339089 55.5602188321\n",
        "1530"
       ]
      },
      {
       "output_type": "stream",
       "stream": "stdout",
       "text": [
        " 767 56.749193241 55.2313580255\n",
        "1540"
       ]
      },
      {
       "output_type": "stream",
       "stream": "stdout",
       "text": [
        " 767 56.8094308058 55.0815192945\n",
        "1550"
       ]
      },
      {
       "output_type": "stream",
       "stream": "stdout",
       "text": [
        " 767 56.0419504837 54.5778602547\n",
        "1560"
       ]
      },
      {
       "output_type": "stream",
       "stream": "stdout",
       "text": [
        " 720 49.854135829 51.4974708416\n",
        "1570"
       ]
      },
      {
       "output_type": "stream",
       "stream": "stdout",
       "text": [
        " 719 51.993173336 51.7215872551\n",
        "1580"
       ]
      },
      {
       "output_type": "stream",
       "stream": "stdout",
       "text": [
        " 717 51.7678455244 51.2326596018\n",
        "1590"
       ]
      },
      {
       "output_type": "stream",
       "stream": "stdout",
       "text": [
        " 719 51.2404637634 51.1179023475\n",
        "1600"
       ]
      },
      {
       "output_type": "stream",
       "stream": "stdout",
       "text": [
        " 717 50.9630168432 50.7908524899\n",
        "1610"
       ]
      },
      {
       "output_type": "stream",
       "stream": "stdout",
       "text": [
        " 717 50.7935839205 49.7908758202\n",
        "1620"
       ]
      },
      {
       "output_type": "stream",
       "stream": "stdout",
       "text": [
        " 717 50.3288589659 49.921576291\n",
        "1630"
       ]
      },
      {
       "output_type": "stream",
       "stream": "stdout",
       "text": [
        " 717 49.5194717877 48.6951987563\n",
        "1640"
       ]
      },
      {
       "output_type": "stream",
       "stream": "stdout",
       "text": [
        " 717 48.9838600896 48.3931536583\n",
        "1650"
       ]
      },
      {
       "output_type": "stream",
       "stream": "stdout",
       "text": [
        " 717 48.5198426527 48.1051947315\n",
        "1660"
       ]
      },
      {
       "output_type": "stream",
       "stream": "stdout",
       "text": [
        " 717 47.7699237415 47.8565218944\n",
        "1670"
       ]
      },
      {
       "output_type": "stream",
       "stream": "stdout",
       "text": [
        " 717 47.1981479472 47.0371673152\n",
        "1680"
       ]
      },
      {
       "output_type": "stream",
       "stream": "stdout",
       "text": [
        " 717 46.8713611257 46.6050163314\n",
        "1690"
       ]
      },
      {
       "output_type": "stream",
       "stream": "stdout",
       "text": [
        " 715 46.6502846754 46.0641115176\n",
        "1700"
       ]
      },
      {
       "output_type": "stream",
       "stream": "stdout",
       "text": [
        " 715 46.7622224245 46.5160441404\n",
        "1710"
       ]
      },
      {
       "output_type": "stream",
       "stream": "stdout",
       "text": [
        " 713 45.7840502689 45.3287316364\n",
        "1720"
       ]
      },
      {
       "output_type": "stream",
       "stream": "stdout",
       "text": [
        " 711 46.2340551301 45.1727228694\n",
        "1730"
       ]
      },
      {
       "output_type": "stream",
       "stream": "stdout",
       "text": [
        " 709 46.2665324018 45.0367096992\n",
        "1740"
       ]
      },
      {
       "output_type": "stream",
       "stream": "stdout",
       "text": [
        " 707 45.9019507115 44.5526984845\n",
        "1750"
       ]
      },
      {
       "output_type": "stream",
       "stream": "stdout",
       "text": [
        " 707 45.2706294245 43.9440210878\n",
        "1760"
       ]
      },
      {
       "output_type": "stream",
       "stream": "stdout",
       "text": [
        " 707 45.241104817 43.7429321319\n",
        "1770"
       ]
      },
      {
       "output_type": "stream",
       "stream": "stdout",
       "text": [
        " 707 44.4037931971 44.2329468052\n",
        "1780"
       ]
      },
      {
       "output_type": "stream",
       "stream": "stdout",
       "text": [
        " 703 44.5573266211 43.7530295018\n",
        "1790"
       ]
      },
      {
       "output_type": "stream",
       "stream": "stdout",
       "text": [
        " 697 44.8937973164 43.1467050325\n",
        "1800"
       ]
      },
      {
       "output_type": "stream",
       "stream": "stdout",
       "text": [
        " 695 44.5965626769 43.6462862748\n",
        "1810"
       ]
      },
      {
       "output_type": "stream",
       "stream": "stdout",
       "text": [
        " 693 44.3396770744 43.2849868421\n",
        "1820"
       ]
      },
      {
       "output_type": "stream",
       "stream": "stdout",
       "text": [
        " 691 44.2488207387 43.0642846502\n",
        "1830"
       ]
      },
      {
       "output_type": "stream",
       "stream": "stdout",
       "text": [
        " 685 44.1857353057 43.3355442514\n",
        "1840"
       ]
      },
      {
       "output_type": "stream",
       "stream": "stdout",
       "text": [
        " 683 43.7259375762 42.573080373\n",
        "1850"
       ]
      },
      {
       "output_type": "stream",
       "stream": "stdout",
       "text": [
        " 679 44.0655178048 42.6257939865\n",
        "1860"
       ]
      },
      {
       "output_type": "stream",
       "stream": "stdout",
       "text": [
        " 677 43.6108919453 42.6069220223\n",
        "1870"
       ]
      },
      {
       "output_type": "stream",
       "stream": "stdout",
       "text": [
        " 673 43.6747569833 42.5395003347\n",
        "1880"
       ]
      },
      {
       "output_type": "stream",
       "stream": "stdout",
       "text": [
        " 669 43.5304594352 42.302266998\n",
        "1890"
       ]
      },
      {
       "output_type": "stream",
       "stream": "stdout",
       "text": [
        " 661 43.6658837953 42.5368494538\n",
        "1900"
       ]
      },
      {
       "output_type": "stream",
       "stream": "stdout",
       "text": [
        " 657 43.7574773342 42.1064551939\n",
        "1910"
       ]
      },
      {
       "output_type": "stream",
       "stream": "stdout",
       "text": [
        " 653 43.4511856788 41.837589735\n",
        "1920"
       ]
      },
      {
       "output_type": "stream",
       "stream": "stdout",
       "text": [
        " 649 43.2182978088 42.5538707371\n",
        "1930"
       ]
      },
      {
       "output_type": "stream",
       "stream": "stdout",
       "text": [
        " 641 43.5933671077 42.2210271608\n",
        "1940"
       ]
      },
      {
       "output_type": "stream",
       "stream": "stdout",
       "text": [
        " 637 43.4303719051 41.9530845136\n",
        "1950"
       ]
      },
      {
       "output_type": "stream",
       "stream": "stdout",
       "text": [
        " 633 43.2295042026 41.9434577798\n",
        "1960"
       ]
      },
      {
       "output_type": "stream",
       "stream": "stdout",
       "text": [
        " 625 43.2307706917 41.900447364\n",
        "1970"
       ]
      },
      {
       "output_type": "stream",
       "stream": "stdout",
       "text": [
        " 619 43.0894021259 41.5712020127\n",
        "1980"
       ]
      },
      {
       "output_type": "stream",
       "stream": "stdout",
       "text": [
        " 612 43.1504346021 42.0125581971\n",
        "1990"
       ]
      },
      {
       "output_type": "stream",
       "stream": "stdout",
       "text": [
        " 607 42.6742412556 41.502643444\n",
        "2000"
       ]
      },
      {
       "output_type": "stream",
       "stream": "stdout",
       "text": [
        " 603 42.563186787 41.1262286632\n",
        "2010"
       ]
      },
      {
       "output_type": "stream",
       "stream": "stdout",
       "text": [
        " 596 42.7562147287 41.0215240596\n",
        "2020"
       ]
      },
      {
       "output_type": "stream",
       "stream": "stdout",
       "text": [
        " 585 43.434665304 41.3304364395\n",
        "2030"
       ]
      },
      {
       "output_type": "stream",
       "stream": "stdout",
       "text": [
        " 578 43.386958036 41.2977904916\n",
        "2040"
       ]
      },
      {
       "output_type": "stream",
       "stream": "stdout",
       "text": [
        " 571 43.1586053537 41.4842210522\n",
        "2050"
       ]
      },
      {
       "output_type": "stream",
       "stream": "stdout",
       "text": [
        " 565 42.9283060655 41.1451349135\n",
        "2060"
       ]
      },
      {
       "output_type": "stream",
       "stream": "stdout",
       "text": [
        " 558 42.3968424546 40.8780882225\n",
        "2070"
       ]
      },
      {
       "output_type": "stream",
       "stream": "stdout",
       "text": [
        " 551 42.4972221503 40.7346131321\n",
        "2080"
       ]
      },
      {
       "output_type": "stream",
       "stream": "stdout",
       "text": [
        " 541 42.1808577065 41.1655676904\n",
        "2090"
       ]
      },
      {
       "output_type": "stream",
       "stream": "stdout",
       "text": [
        " 534 42.5061773746 40.678256997\n",
        "2100"
       ]
      },
      {
       "output_type": "stream",
       "stream": "stdout",
       "text": [
        " 526 42.3164278984 40.5003651834\n",
        "2110"
       ]
      },
      {
       "output_type": "stream",
       "stream": "stdout",
       "text": [
        " 519 42.1467435537 40.4606677851\n",
        "2120"
       ]
      },
      {
       "output_type": "stream",
       "stream": "stdout",
       "text": [
        " 509 42.0496879244 40.3554341397\n",
        "2130"
       ]
      },
      {
       "output_type": "stream",
       "stream": "stdout",
       "text": [
        " 497 42.6301546608 40.5096549463\n",
        "2140"
       ]
      },
      {
       "output_type": "stream",
       "stream": "stdout",
       "text": [
        " 489 42.5316977962 40.0922441773\n",
        "2150"
       ]
      },
      {
       "output_type": "stream",
       "stream": "stdout",
       "text": [
        " 481 42.403539147 39.7784065932\n",
        "2160"
       ]
      },
      {
       "output_type": "stream",
       "stream": "stdout",
       "text": [
        " 471 42.1068767559 39.1367841063\n",
        "2170"
       ]
      },
      {
       "output_type": "stream",
       "stream": "stdout",
       "text": [
        " 463 42.3661214163 38.4996203738\n",
        "2180"
       ]
      },
      {
       "output_type": "stream",
       "stream": "stdout",
       "text": [
        " 450 42.0348464582 38.4043537232\n",
        "2190"
       ]
      },
      {
       "output_type": "stream",
       "stream": "stdout",
       "text": [
        " 439 42.0097906695 38.4291194677\n",
        "2200"
       ]
      },
      {
       "output_type": "stream",
       "stream": "stdout",
       "text": [
        " 427 42.0782369105 38.3236553946\n",
        "2210"
       ]
      },
      {
       "output_type": "stream",
       "stream": "stdout",
       "text": [
        " 414 41.1412410682 37.5476266842\n",
        "2220"
       ]
      },
      {
       "output_type": "stream",
       "stream": "stdout",
       "text": [
        " 401 41.3062374469 37.4021777003\n",
        "2230"
       ]
      },
      {
       "output_type": "stream",
       "stream": "stdout",
       "text": [
        " 389 40.9957597433 36.8849960919\n",
        "2240"
       ]
      },
      {
       "output_type": "stream",
       "stream": "stdout",
       "text": [
        " 373 40.3364802609 36.3711574574\n",
        "2250"
       ]
      },
      {
       "output_type": "stream",
       "stream": "stdout",
       "text": [
        " 357 39.967408522 36.2177534244\n",
        "2260"
       ]
      },
      {
       "output_type": "stream",
       "stream": "stdout",
       "text": [
        " 338 39.2066055884 35.2023875923\n",
        "2270"
       ]
      },
      {
       "output_type": "stream",
       "stream": "stdout",
       "text": [
        " 319 38.8963795038 34.5414274825\n",
        "2280"
       ]
      },
      {
       "output_type": "stream",
       "stream": "stdout",
       "text": [
        " 295 38.4796415071 33.775572683\n",
        "2290"
       ]
      },
      {
       "output_type": "stream",
       "stream": "stdout",
       "text": [
        " 270 37.1775927412 33.1449822314\n",
        "2300"
       ]
      },
      {
       "output_type": "stream",
       "stream": "stdout",
       "text": [
        " 240 35.9231340269 32.0902819307\n",
        "2310"
       ]
      },
      {
       "output_type": "stream",
       "stream": "stdout",
       "text": [
        " 198 34.7187720057 30.3494733911\n",
        "2320"
       ]
      },
      {
       "output_type": "stream",
       "stream": "stdout",
       "text": [
        " 138 None 48.3888125761\n",
        "2330"
       ]
      },
      {
       "output_type": "stream",
       "stream": "stdout",
       "text": [
        " 111 None 178.166831096\n",
        "2340"
       ]
      },
      {
       "output_type": "stream",
       "stream": "stdout",
       "text": [
        " 109 None 178.165337321\n",
        "2350"
       ]
      },
      {
       "output_type": "stream",
       "stream": "stdout",
       "text": [
        " 109 None 178.163358316\n",
        "['20141218-22_46_34-CA3_DB_PC01_A-03_BED605.MOV', 'CA3', '', 'D', 'B', 63.561753165391025, 67.375216103928395, 769, 605]"
       ]
      },
      {
       "output_type": "stream",
       "stream": "stdout",
       "text": [
        "\n",
        "20141218-22_48_53-CA3_DB_PC01_A-04_BED617.MOV\n",
        "Analyzing:  F:\\AFCC Metal FSU Testing 2014\\A3\\PC01_A_boarderline\\\\20141218-22_48_53-CA3_DB_PC01_A-04_BED617.MOV\n",
        "0100"
       ]
      },
      {
       "output_type": "stream",
       "stream": "stdout",
       "text": [
        " 251 57.7382765118 58.9763288123\n",
        "0110"
       ]
      },
      {
       "output_type": "stream",
       "stream": "stdout",
       "text": [
        " 253 58.2667643764 59.3308609451\n",
        "0120"
       ]
      },
      {
       "output_type": "stream",
       "stream": "stdout",
       "text": [
        " 253 59.4266458566 60.8101744595\n",
        "0130"
       ]
      },
      {
       "output_type": "stream",
       "stream": "stdout",
       "text": [
        " 256 59.8029075341 61.3845771883\n",
        "0140"
       ]
      },
      {
       "output_type": "stream",
       "stream": "stdout",
       "text": [
        " 258 60.3853527664 62.0052718439\n",
        "0150"
       ]
      },
      {
       "output_type": "stream",
       "stream": "stdout",
       "text": [
        " 263 60.8549149855 63.8037583809\n",
        "0160"
       ]
      },
      {
       "output_type": "stream",
       "stream": "stdout",
       "text": [
        " 269 59.900782402 63.4707034595\n",
        "0170"
       ]
      },
      {
       "output_type": "stream",
       "stream": "stdout",
       "text": [
        " 271 60.7599256542 63.5281370254\n",
        "0180"
       ]
      },
      {
       "output_type": "stream",
       "stream": "stdout",
       "text": [
        " 273 61.5319289093 66.4890483503\n",
        "0190"
       ]
      },
      {
       "output_type": "stream",
       "stream": "stdout",
       "text": [
        " 275 61.908805928 65.7450748532\n",
        "0200"
       ]
      },
      {
       "output_type": "stream",
       "stream": "stdout",
       "text": [
        " 303 59.0660179533 59.7266237606\n",
        "0210"
       ]
      },
      {
       "output_type": "stream",
       "stream": "stdout",
       "text": [
        " 307 60.1704327944 59.8636796679\n",
        "0220"
       ]
      },
      {
       "output_type": "stream",
       "stream": "stdout",
       "text": [
        " 309 60.1236433421 60.9572228995\n",
        "0230"
       ]
      },
      {
       "output_type": "stream",
       "stream": "stdout",
       "text": [
        " 315 60.2426153432 61.4971684612\n",
        "0240"
       ]
      },
      {
       "output_type": "stream",
       "stream": "stdout",
       "text": [
        " 325 60.5416784268 60.1274048041\n",
        "0250"
       ]
      },
      {
       "output_type": "stream",
       "stream": "stdout",
       "text": [
        " 358 56.2081354566 54.0570294838\n",
        "0260"
       ]
      },
      {
       "output_type": "stream",
       "stream": "stdout",
       "text": [
        " 357 54.8469686442 52.8018626076\n",
        "0270"
       ]
      },
      {
       "output_type": "stream",
       "stream": "stdout",
       "text": [
        " 358 55.8959405367 54.7483647576\n",
        "0280"
       ]
      },
      {
       "output_type": "stream",
       "stream": "stdout",
       "text": [
        " 358 57.1361724082 56.1873826338\n",
        "0290"
       ]
      },
      {
       "output_type": "stream",
       "stream": "stdout",
       "text": [
        " 359 58.3186781323 57.7021379486\n",
        "0300"
       ]
      },
      {
       "output_type": "stream",
       "stream": "stdout",
       "text": [
        " 360 59.8673625265 59.2520137867\n",
        "0310"
       ]
      },
      {
       "output_type": "stream",
       "stream": "stdout",
       "text": [
        " 361 60.7011821955 61.2963815007\n",
        "0320"
       ]
      },
      {
       "output_type": "stream",
       "stream": "stdout",
       "text": [
        " 361 61.1016912882 61.6991652445\n",
        "0330"
       ]
      },
      {
       "output_type": "stream",
       "stream": "stdout",
       "text": [
        " 362 61.6608885877 62.7783183549\n",
        "0340"
       ]
      },
      {
       "output_type": "stream",
       "stream": "stdout",
       "text": [
        " 375 58.4926226722 57.9751430434\n",
        "0350"
       ]
      },
      {
       "output_type": "stream",
       "stream": "stdout",
       "text": [
        " 381 60.2391674882 58.560407146\n",
        "0360"
       ]
      },
      {
       "output_type": "stream",
       "stream": "stdout",
       "text": [
        " 381 61.6298601691 60.6505472679\n",
        "0370"
       ]
      },
      {
       "output_type": "stream",
       "stream": "stdout",
       "text": [
        " 381 62.880428119 62.2969800599\n",
        "0380"
       ]
      },
      {
       "output_type": "stream",
       "stream": "stdout",
       "text": [
        " 383 63.306479428 63.6151677112\n",
        "0390"
       ]
      },
      {
       "output_type": "stream",
       "stream": "stdout",
       "text": [
        " 385 63.5377038683 64.6557142446\n",
        "0400"
       ]
      },
      {
       "output_type": "stream",
       "stream": "stdout",
       "text": [
        " 389 64.214237971 64.9852618715\n",
        "0410"
       ]
      },
      {
       "output_type": "stream",
       "stream": "stdout",
       "text": [
        " 391 64.0633189277 65.5914067617\n",
        "0420"
       ]
      },
      {
       "output_type": "stream",
       "stream": "stdout",
       "text": [
        " 393 64.2008532918 65.487202664\n",
        "0430"
       ]
      },
      {
       "output_type": "stream",
       "stream": "stdout",
       "text": [
        " 395 64.9661281261 65.7928882104\n",
        "0440"
       ]
      },
      {
       "output_type": "stream",
       "stream": "stdout",
       "text": [
        " 397 65.1112238841 66.3357972417\n",
        "0450"
       ]
      },
      {
       "output_type": "stream",
       "stream": "stdout",
       "text": [
        " 401 65.4588160315 66.6883050174\n",
        "0460"
       ]
      },
      {
       "output_type": "stream",
       "stream": "stdout",
       "text": [
        " 401 66.5330028947 67.3681142928\n",
        "0470"
       ]
      },
      {
       "output_type": "stream",
       "stream": "stdout",
       "text": [
        " 460 58.8510238373 58.9598106499\n",
        "0480"
       ]
      },
      {
       "output_type": "stream",
       "stream": "stdout",
       "text": [
        " 461 59.409730715 59.8278005931\n",
        "0490"
       ]
      },
      {
       "output_type": "stream",
       "stream": "stdout",
       "text": [
        " 461 59.9237987037 60.94631548\n",
        "0500"
       ]
      },
      {
       "output_type": "stream",
       "stream": "stdout",
       "text": [
        " 461 60.7143067995 61.0268507984\n",
        "0510"
       ]
      },
      {
       "output_type": "stream",
       "stream": "stdout",
       "text": [
        " 461 62.1238174273 61.6176238473\n",
        "0520"
       ]
      },
      {
       "output_type": "stream",
       "stream": "stdout",
       "text": [
        " 462 62.2829124922 62.0972455672\n",
        "0530"
       ]
      },
      {
       "output_type": "stream",
       "stream": "stdout",
       "text": [
        " 463 63.6151492366 63.3784901872\n",
        "0540"
       ]
      },
      {
       "output_type": "stream",
       "stream": "stdout",
       "text": [
        " 463 63.2233587522 65.0658745225\n",
        "0550"
       ]
      },
      {
       "output_type": "stream",
       "stream": "stdout",
       "text": [
        " 465 64.2520618661 65.590667405\n",
        "0560"
       ]
      },
      {
       "output_type": "stream",
       "stream": "stdout",
       "text": [
        " 464 64.6543271911 65.8047125295\n",
        "0570"
       ]
      },
      {
       "output_type": "stream",
       "stream": "stdout",
       "text": [
        " 466 65.6230030741 66.6151745518\n",
        "0580"
       ]
      },
      {
       "output_type": "stream",
       "stream": "stdout",
       "text": [
        " 467 64.1532752114 66.0001959171\n",
        "0590"
       ]
      },
      {
       "output_type": "stream",
       "stream": "stdout",
       "text": [
        " 467 65.5408927315 67.2464687697\n",
        "0600"
       ]
      },
      {
       "output_type": "stream",
       "stream": "stdout",
       "text": [
        " 471 65.3989366337 67.8290520862\n",
        "0610"
       ]
      },
      {
       "output_type": "stream",
       "stream": "stdout",
       "text": [
        " 471 66.2002456836 68.3678461559\n",
        "0620"
       ]
      },
      {
       "output_type": "stream",
       "stream": "stdout",
       "text": [
        " 474 66.0090624029 69.0534271872\n",
        "0630"
       ]
      },
      {
       "output_type": "stream",
       "stream": "stdout",
       "text": [
        " 476 65.7699183847 68.4926035531\n",
        "0640"
       ]
      },
      {
       "output_type": "stream",
       "stream": "stdout",
       "text": [
        " 478 65.7956208976 68.6240783486\n",
        "0650"
       ]
      },
      {
       "output_type": "stream",
       "stream": "stdout",
       "text": [
        " 484 65.5170460891 69.1434266308\n",
        "0660"
       ]
      },
      {
       "output_type": "stream",
       "stream": "stdout",
       "text": [
        " 485 64.9502253206 69.0760347288\n",
        "0670"
       ]
      },
      {
       "output_type": "stream",
       "stream": "stdout",
       "text": [
        " 488 65.5094915129 69.2761230003\n",
        "0680"
       ]
      },
      {
       "output_type": "stream",
       "stream": "stdout",
       "text": [
        " 490 65.2041598057 68.7502303619\n",
        "0690"
       ]
      },
      {
       "output_type": "stream",
       "stream": "stdout",
       "text": [
        " 493 65.6241490429 69.7095198796\n",
        "0700"
       ]
      },
      {
       "output_type": "stream",
       "stream": "stdout",
       "text": [
        " 496 66.487909994 69.3625229855\n",
        "0710"
       ]
      },
      {
       "output_type": "stream",
       "stream": "stdout",
       "text": [
        " 507 64.1419333747 69.4794929305\n",
        "0720"
       ]
      },
      {
       "output_type": "stream",
       "stream": "stdout",
       "text": [
        " 511 64.5169528635 68.6310932634\n",
        "0730"
       ]
      },
      {
       "output_type": "stream",
       "stream": "stdout",
       "text": [
        " 516 64.1059825912 69.1978912626\n",
        "0740"
       ]
      },
      {
       "output_type": "stream",
       "stream": "stdout",
       "text": [
        " 519 65.9503334413 69.0462454889\n",
        "0750"
       ]
      },
      {
       "output_type": "stream",
       "stream": "stdout",
       "text": [
        " 521 65.4706681891 68.6654296583\n",
        "0760"
       ]
      },
      {
       "output_type": "stream",
       "stream": "stdout",
       "text": [
        " 524 65.6811372115 69.0881986633\n",
        "0770"
       ]
      },
      {
       "output_type": "stream",
       "stream": "stdout",
       "text": [
        " 528 65.2998719454 68.4329972756\n",
        "0780"
       ]
      },
      {
       "output_type": "stream",
       "stream": "stdout",
       "text": [
        " 535 64.8110370185 68.7793425209\n",
        "0790"
       ]
      },
      {
       "output_type": "stream",
       "stream": "stdout",
       "text": [
        " 542 64.2777901615 68.7218600774\n",
        "0800"
       ]
      },
      {
       "output_type": "stream",
       "stream": "stdout",
       "text": [
        " 545 64.092128075 68.0372121571\n",
        "0810"
       ]
      },
      {
       "output_type": "stream",
       "stream": "stdout",
       "text": [
        " 550 63.6861366759 69.7863401504\n",
        "0820"
       ]
      },
      {
       "output_type": "stream",
       "stream": "stdout",
       "text": [
        " 555 64.5358842759 67.7810908773\n",
        "0830"
       ]
      },
      {
       "output_type": "stream",
       "stream": "stdout",
       "text": [
        " 560 64.0833156681 68.8918756936\n",
        "0840"
       ]
      },
      {
       "output_type": "stream",
       "stream": "stdout",
       "text": [
        " 565 63.7833273679 67.6402551617\n",
        "0850"
       ]
      },
      {
       "output_type": "stream",
       "stream": "stdout",
       "text": [
        " 569 64.2555092382 68.161190376\n",
        "0860"
       ]
      },
      {
       "output_type": "stream",
       "stream": "stdout",
       "text": [
        " 572 63.8105061459 68.0967310031\n",
        "0870"
       ]
      },
      {
       "output_type": "stream",
       "stream": "stdout",
       "text": [
        " 579 63.4462103927 68.0243968312\n",
        "0880"
       ]
      },
      {
       "output_type": "stream",
       "stream": "stdout",
       "text": [
        " 581 63.7110265599 68.222443674\n",
        "0890"
       ]
      },
      {
       "output_type": "stream",
       "stream": "stdout",
       "text": [
        " 609 57.8249550488 60.044284815\n",
        "0900"
       ]
      },
      {
       "output_type": "stream",
       "stream": "stdout",
       "text": [
        " 609 59.390314063 61.4243367061\n",
        "0910"
       ]
      },
      {
       "output_type": "stream",
       "stream": "stdout",
       "text": [
        " 609 59.9317917193 61.973578656\n",
        "0920"
       ]
      },
      {
       "output_type": "stream",
       "stream": "stdout",
       "text": [
        " 609 60.143019568 62.3231247906\n",
        "0930"
       ]
      },
      {
       "output_type": "stream",
       "stream": "stdout",
       "text": [
        " 611 61.2203933755 64.1711403079\n",
        "0940"
       ]
      },
      {
       "output_type": "stream",
       "stream": "stdout",
       "text": [
        " 610 62.0071972383 64.2104757145\n",
        "0950"
       ]
      },
      {
       "output_type": "stream",
       "stream": "stdout",
       "text": [
        " 611 62.9189936244 64.7177569968\n",
        "0960"
       ]
      },
      {
       "output_type": "stream",
       "stream": "stdout",
       "text": [
        " 613 63.3738001391 65.7355281195\n",
        "0970"
       ]
      },
      {
       "output_type": "stream",
       "stream": "stdout",
       "text": [
        " 615 63.4654551784 65.590099861\n",
        "0980"
       ]
      },
      {
       "output_type": "stream",
       "stream": "stdout",
       "text": [
        " 619 62.9131778381 66.3312879813\n",
        "0990"
       ]
      },
      {
       "output_type": "stream",
       "stream": "stdout",
       "text": [
        " 623 63.7911625067 66.1389195829\n",
        "1000"
       ]
      },
      {
       "output_type": "stream",
       "stream": "stdout",
       "text": [
        " 627 63.6461216715 65.5669443073\n",
        "1010"
       ]
      },
      {
       "output_type": "stream",
       "stream": "stdout",
       "text": [
        " 633 63.0901908263 65.2243543746\n",
        "1020"
       ]
      },
      {
       "output_type": "stream",
       "stream": "stdout",
       "text": [
        " 640 63.6480405367 65.667229755\n",
        "1030"
       ]
      },
      {
       "output_type": "stream",
       "stream": "stdout",
       "text": [
        " 641 63.8740447174 65.8510062414\n",
        "1040"
       ]
      },
      {
       "output_type": "stream",
       "stream": "stdout",
       "text": [
        " 641 63.8731075896 65.901257061\n",
        "1050"
       ]
      },
      {
       "output_type": "stream",
       "stream": "stdout",
       "text": [
        " 649 64.2140161484 65.2773909968\n",
        "1060"
       ]
      },
      {
       "output_type": "stream",
       "stream": "stdout",
       "text": [
        " 655 62.4024845726 65.8492361797\n",
        "1070"
       ]
      },
      {
       "output_type": "stream",
       "stream": "stdout",
       "text": [
        " 661 63.3063656417 65.3440595699\n",
        "1080"
       ]
      },
      {
       "output_type": "stream",
       "stream": "stdout",
       "text": [
        " 666 64.0510228922 65.7795630677\n",
        "1090"
       ]
      },
      {
       "output_type": "stream",
       "stream": "stdout",
       "text": [
        " 669 63.471610706 65.8543194332\n",
        "1100"
       ]
      },
      {
       "output_type": "stream",
       "stream": "stdout",
       "text": [
        " 676 64.4492278025 66.2239525188\n",
        "1110"
       ]
      },
      {
       "output_type": "stream",
       "stream": "stdout",
       "text": [
        " 678 64.2995093419 66.7171803649\n",
        "1120"
       ]
      },
      {
       "output_type": "stream",
       "stream": "stdout",
       "text": [
        " 683 64.5151829938 65.03274212\n",
        "1130"
       ]
      },
      {
       "output_type": "stream",
       "stream": "stdout",
       "text": [
        " 742 53.2160790821 55.6727269636\n",
        "1140"
       ]
      },
      {
       "output_type": "stream",
       "stream": "stdout",
       "text": [
        " 739 53.1725452128 54.5752361774\n",
        "1150"
       ]
      },
      {
       "output_type": "stream",
       "stream": "stdout",
       "text": [
        " 740 52.9416657747 55.33627287\n",
        "1160"
       ]
      },
      {
       "output_type": "stream",
       "stream": "stdout",
       "text": [
        " 739 53.150020368 54.8309566565\n",
        "1170"
       ]
      },
      {
       "output_type": "stream",
       "stream": "stdout",
       "text": [
        " 739 53.1267959713 54.7929335703\n",
        "1180"
       ]
      },
      {
       "output_type": "stream",
       "stream": "stdout",
       "text": [
        " 739 54.009620881 54.1247748823\n",
        "1190"
       ]
      },
      {
       "output_type": "stream",
       "stream": "stdout",
       "text": [
        " 739 53.1163930742 54.5139785423\n",
        "1200"
       ]
      },
      {
       "output_type": "stream",
       "stream": "stdout",
       "text": [
        " 739 52.688582173 54.601754099\n",
        "1210"
       ]
      },
      {
       "output_type": "stream",
       "stream": "stdout",
       "text": [
        " 739 52.3340566666 54.9813888933\n",
        "1220"
       ]
      },
      {
       "output_type": "stream",
       "stream": "stdout",
       "text": [
        " 739 52.5930734043 54.3428087082\n",
        "1230"
       ]
      },
      {
       "output_type": "stream",
       "stream": "stdout",
       "text": [
        " 739 52.9131805937 54.0393505982\n",
        "1240"
       ]
      },
      {
       "output_type": "stream",
       "stream": "stdout",
       "text": [
        " 739 52.9800183542 54.2576326171\n",
        "1250"
       ]
      },
      {
       "output_type": "stream",
       "stream": "stdout",
       "text": [
        " 739 52.7115221705 53.9845632441\n",
        "1260"
       ]
      },
      {
       "output_type": "stream",
       "stream": "stdout",
       "text": [
        " 739 52.6460096417 54.6115621738\n",
        "1270"
       ]
      },
      {
       "output_type": "stream",
       "stream": "stdout",
       "text": [
        " 739 52.3603558939 54.1120041047\n",
        "1280"
       ]
      },
      {
       "output_type": "stream",
       "stream": "stdout",
       "text": [
        " 739 52.2881181399 53.7858103183\n",
        "1290"
       ]
      },
      {
       "output_type": "stream",
       "stream": "stdout",
       "text": [
        " 739 51.867034881 53.4827432597\n",
        "1300"
       ]
      },
      {
       "output_type": "stream",
       "stream": "stdout",
       "text": [
        " 739 53.00345165 54.1463203312\n",
        "1310"
       ]
      },
      {
       "output_type": "stream",
       "stream": "stdout",
       "text": [
        " 739 52.5208239358 54.140753597\n",
        "1320"
       ]
      },
      {
       "output_type": "stream",
       "stream": "stdout",
       "text": [
        " 739 52.2847763435 53.7688532872\n",
        "1330"
       ]
      },
      {
       "output_type": "stream",
       "stream": "stdout",
       "text": [
        " 735 52.0480150118 53.8125241762\n",
        "1340"
       ]
      },
      {
       "output_type": "stream",
       "stream": "stdout",
       "text": [
        " 735 52.3899274986 53.911078783\n",
        "1350"
       ]
      },
      {
       "output_type": "stream",
       "stream": "stdout",
       "text": [
        " 733 51.2130294341 53.3140111023\n",
        "1360"
       ]
      },
      {
       "output_type": "stream",
       "stream": "stdout",
       "text": [
        " 733 51.8683480258 53.2890767593\n",
        "1370"
       ]
      },
      {
       "output_type": "stream",
       "stream": "stdout",
       "text": [
        " 735 51.7092525704 53.6900430267\n",
        "1380"
       ]
      },
      {
       "output_type": "stream",
       "stream": "stdout",
       "text": [
        " 733 50.3277389896 53.0542602718\n",
        "1390"
       ]
      },
      {
       "output_type": "stream",
       "stream": "stdout",
       "text": [
        " 735 51.1114816389 53.045146465\n",
        "1400"
       ]
      },
      {
       "output_type": "stream",
       "stream": "stdout",
       "text": [
        " 735 50.5166409001 53.0609806765\n",
        "1410"
       ]
      },
      {
       "output_type": "stream",
       "stream": "stdout",
       "text": [
        " 733 50.3168894276 52.3315162552\n",
        "1420"
       ]
      },
      {
       "output_type": "stream",
       "stream": "stdout",
       "text": [
        " 731 50.5239387653 52.290522026\n",
        "1430"
       ]
      },
      {
       "output_type": "stream",
       "stream": "stdout",
       "text": [
        " 733 49.7027260038 52.444798381\n",
        "1440"
       ]
      },
      {
       "output_type": "stream",
       "stream": "stdout",
       "text": [
        " 733 50.4364264534 51.8396164583\n",
        "1450"
       ]
      },
      {
       "output_type": "stream",
       "stream": "stdout",
       "text": [
        " 733 50.271900628 51.7125674119\n",
        "1460"
       ]
      },
      {
       "output_type": "stream",
       "stream": "stdout",
       "text": [
        " 735 50.1494779922 51.4801903813\n",
        "1470"
       ]
      },
      {
       "output_type": "stream",
       "stream": "stdout",
       "text": [
        " 733 49.9652582542 51.1975230084\n",
        "1480"
       ]
      },
      {
       "output_type": "stream",
       "stream": "stdout",
       "text": [
        " 731 49.475042308 51.0429290144\n",
        "1490"
       ]
      },
      {
       "output_type": "stream",
       "stream": "stdout",
       "text": [
        " 731 49.4831657469 50.2229516636\n",
        "1500"
       ]
      },
      {
       "output_type": "stream",
       "stream": "stdout",
       "text": [
        " 731 48.6594643587 50.4698143749\n",
        "1510"
       ]
      },
      {
       "output_type": "stream",
       "stream": "stdout",
       "text": [
        " 733 48.7559677039 50.3748161\n",
        "1520"
       ]
      },
      {
       "output_type": "stream",
       "stream": "stdout",
       "text": [
        " 731 48.1333992587 49.6392001474\n",
        "1530"
       ]
      },
      {
       "output_type": "stream",
       "stream": "stdout",
       "text": [
        " 731 47.7156301605 49.8549977734\n",
        "1540"
       ]
      },
      {
       "output_type": "stream",
       "stream": "stdout",
       "text": [
        " 731 47.6809208082 49.0939716051\n",
        "1550"
       ]
      },
      {
       "output_type": "stream",
       "stream": "stdout",
       "text": [
        " 731 46.8741895042 48.2189831031\n",
        "1560"
       ]
      },
      {
       "output_type": "stream",
       "stream": "stdout",
       "text": [
        " 731 46.2661667423 48.6062608355\n",
        "1570"
       ]
      },
      {
       "output_type": "stream",
       "stream": "stdout",
       "text": [
        " 731 46.6895325902 47.9029501354\n",
        "1580"
       ]
      },
      {
       "output_type": "stream",
       "stream": "stdout",
       "text": [
        " 731 46.2965085488 48.0880586013\n",
        "1590"
       ]
      },
      {
       "output_type": "stream",
       "stream": "stdout",
       "text": [
        " 731 46.006792543 47.6873519991\n",
        "1600"
       ]
      },
      {
       "output_type": "stream",
       "stream": "stdout",
       "text": [
        " 731 45.2587020513 47.4068553706\n",
        "1610"
       ]
      },
      {
       "output_type": "stream",
       "stream": "stdout",
       "text": [
        " 731 45.8435570751 46.9852008578\n",
        "1620"
       ]
      },
      {
       "output_type": "stream",
       "stream": "stdout",
       "text": [
        " 729 44.9777459995 46.7320915017\n",
        "1630"
       ]
      },
      {
       "output_type": "stream",
       "stream": "stdout",
       "text": [
        " 729 44.2810212714 45.7053954614\n",
        "1640"
       ]
      },
      {
       "output_type": "stream",
       "stream": "stdout",
       "text": [
        " 729 44.5406041507 45.6373256994\n",
        "1650"
       ]
      },
      {
       "output_type": "stream",
       "stream": "stdout",
       "text": [
        " 727 43.9042213471 45.4395942931\n",
        "1660"
       ]
      },
      {
       "output_type": "stream",
       "stream": "stdout",
       "text": [
        " 725 44.4054175647 45.4378988103\n",
        "1670"
       ]
      },
      {
       "output_type": "stream",
       "stream": "stdout",
       "text": [
        " 723 43.8224635912 44.4469382405\n",
        "1680"
       ]
      },
      {
       "output_type": "stream",
       "stream": "stdout",
       "text": [
        " 721 43.5160068765 44.50793906\n",
        "1690"
       ]
      },
      {
       "output_type": "stream",
       "stream": "stdout",
       "text": [
        " 719 43.2657491436 44.2367446596\n",
        "1700"
       ]
      },
      {
       "output_type": "stream",
       "stream": "stdout",
       "text": [
        " 717 43.4045154085 44.4684845822\n",
        "1710"
       ]
      },
      {
       "output_type": "stream",
       "stream": "stdout",
       "text": [
        " 715 42.7738019727 44.1095784125\n",
        "1720"
       ]
      },
      {
       "output_type": "stream",
       "stream": "stdout",
       "text": [
        " 713 42.6529687805 44.0042880353\n",
        "1730"
       ]
      },
      {
       "output_type": "stream",
       "stream": "stdout",
       "text": [
        " 711 43.1132201054 43.7119388768\n",
        "1740"
       ]
      },
      {
       "output_type": "stream",
       "stream": "stdout",
       "text": [
        " 709 42.8167131754 44.3310342965\n",
        "1750"
       ]
      },
      {
       "output_type": "stream",
       "stream": "stdout",
       "text": [
        " 707 42.52996246 43.4083096471\n",
        "1760"
       ]
      },
      {
       "output_type": "stream",
       "stream": "stdout",
       "text": [
        " 703 42.3138476561 43.1468516214\n",
        "1770"
       ]
      },
      {
       "output_type": "stream",
       "stream": "stdout",
       "text": [
        " 701 42.2378728297 43.3851448545\n",
        "1780"
       ]
      },
      {
       "output_type": "stream",
       "stream": "stdout",
       "text": [
        " 697 41.7866554112 43.1049048066\n",
        "1790"
       ]
      },
      {
       "output_type": "stream",
       "stream": "stdout",
       "text": [
        " 695 41.8881189838 43.1967955158\n",
        "1800"
       ]
      },
      {
       "output_type": "stream",
       "stream": "stdout",
       "text": [
        " 691 41.7093731747 42.3076854013\n",
        "1810"
       ]
      },
      {
       "output_type": "stream",
       "stream": "stdout",
       "text": [
        " 689 42.287541756 42.6368213317\n",
        "1820"
       ]
      },
      {
       "output_type": "stream",
       "stream": "stdout",
       "text": [
        " 685 41.2596161305 42.7945723447\n",
        "1830"
       ]
      },
      {
       "output_type": "stream",
       "stream": "stdout",
       "text": [
        " 677 41.3559311866 42.7493183805\n",
        "1840"
       ]
      },
      {
       "output_type": "stream",
       "stream": "stdout",
       "text": [
        " 673 40.6569271374 42.7066383058\n",
        "1850"
       ]
      },
      {
       "output_type": "stream",
       "stream": "stdout",
       "text": [
        " 669 41.6766778184 42.9209161001\n",
        "1860"
       ]
      },
      {
       "output_type": "stream",
       "stream": "stdout",
       "text": [
        " 665 41.5625067026 43.1544968856\n",
        "1870"
       ]
      },
      {
       "output_type": "stream",
       "stream": "stdout",
       "text": [
        " 657 41.2915193071 43.3243550008\n",
        "1880"
       ]
      },
      {
       "output_type": "stream",
       "stream": "stdout",
       "text": [
        " 651 41.4882938126 42.6203001088\n",
        "1890"
       ]
      },
      {
       "output_type": "stream",
       "stream": "stdout",
       "text": [
        " 645 41.0325329662 42.8473788409\n",
        "1900"
       ]
      },
      {
       "output_type": "stream",
       "stream": "stdout",
       "text": [
        " 641 41.963664144 42.9826439972\n",
        "1910"
       ]
      },
      {
       "output_type": "stream",
       "stream": "stdout",
       "text": [
        " 637 41.1705316253 43.3147804018\n",
        "1920"
       ]
      },
      {
       "output_type": "stream",
       "stream": "stdout",
       "text": [
        " 629 41.0478984697 43.4543179808\n",
        "1930"
       ]
      },
      {
       "output_type": "stream",
       "stream": "stdout",
       "text": [
        " 623 41.3307774201 43.9409895724\n",
        "1940"
       ]
      },
      {
       "output_type": "stream",
       "stream": "stdout",
       "text": [
        " 615 41.277980068 44.511665137\n",
        "1950"
       ]
      },
      {
       "output_type": "stream",
       "stream": "stdout",
       "text": [
        " 609 41.1579966875 43.9775143931\n",
        "1960"
       ]
      },
      {
       "output_type": "stream",
       "stream": "stdout",
       "text": [
        " 603 41.4179236419 43.8987407969\n",
        "1970"
       ]
      },
      {
       "output_type": "stream",
       "stream": "stdout",
       "text": [
        " 597 42.0789932298 43.6571995732\n",
        "1980"
       ]
      },
      {
       "output_type": "stream",
       "stream": "stdout",
       "text": [
        " 593 40.690939736 43.0631168054\n",
        "1990"
       ]
      },
      {
       "output_type": "stream",
       "stream": "stdout",
       "text": [
        " 588 40.6103047433 43.2815636121\n",
        "2000"
       ]
      },
      {
       "output_type": "stream",
       "stream": "stdout",
       "text": [
        " 581 40.9330627982 43.425492175\n",
        "2010"
       ]
      },
      {
       "output_type": "stream",
       "stream": "stdout",
       "text": [
        " 575 41.2532878568 43.7369652125\n",
        "2020"
       ]
      },
      {
       "output_type": "stream",
       "stream": "stdout",
       "text": [
        " 569 42.129022583 43.1008739994\n",
        "2030"
       ]
      },
      {
       "output_type": "stream",
       "stream": "stdout",
       "text": [
        " 563 41.2725610186 43.3543213945\n",
        "2040"
       ]
      },
      {
       "output_type": "stream",
       "stream": "stdout",
       "text": [
        " 555 41.1414740916 43.875411376\n",
        "2050"
       ]
      },
      {
       "output_type": "stream",
       "stream": "stdout",
       "text": [
        " 549 40.8394880894 43.9749316834\n",
        "2060"
       ]
      },
      {
       "output_type": "stream",
       "stream": "stdout",
       "text": [
        " 541 40.1532304826 43.7590177067\n",
        "2070"
       ]
      },
      {
       "output_type": "stream",
       "stream": "stdout",
       "text": [
        " 533 40.5924234283 43.9242267422\n",
        "2080"
       ]
      },
      {
       "output_type": "stream",
       "stream": "stdout",
       "text": [
        " 529 40.5563191525 43.3510650266\n",
        "2090"
       ]
      },
      {
       "output_type": "stream",
       "stream": "stdout",
       "text": [
        " 521 40.5031297052 43.8757456932\n",
        "2100"
       ]
      },
      {
       "output_type": "stream",
       "stream": "stdout",
       "text": [
        " 514 40.6324682866 43.7233216867\n",
        "2110"
       ]
      },
      {
       "output_type": "stream",
       "stream": "stdout",
       "text": [
        " 505 40.909163082 43.4762211047\n",
        "2120"
       ]
      },
      {
       "output_type": "stream",
       "stream": "stdout",
       "text": [
        " 498 40.613525536 43.7641447165\n",
        "2130"
       ]
      },
      {
       "output_type": "stream",
       "stream": "stdout",
       "text": [
        " 491 40.3518993467 43.0795179441\n",
        "2140"
       ]
      },
      {
       "output_type": "stream",
       "stream": "stdout",
       "text": [
        " 484 39.6216265752 43.1124053742\n",
        "2150"
       ]
      },
      {
       "output_type": "stream",
       "stream": "stdout",
       "text": [
        " 475 39.7921929705 42.8398426584\n",
        "2160"
       ]
      },
      {
       "output_type": "stream",
       "stream": "stdout",
       "text": [
        " 463 40.3001294561 43.0674280528\n",
        "2170"
       ]
      },
      {
       "output_type": "stream",
       "stream": "stdout",
       "text": [
        " 454 39.965321792 42.9116375025\n",
        "2180"
       ]
      },
      {
       "output_type": "stream",
       "stream": "stdout",
       "text": [
        " 445 40.5097965426 43.04833924\n",
        "2190"
       ]
      },
      {
       "output_type": "stream",
       "stream": "stdout",
       "text": [
        " 435 40.015964081 42.8649332022\n",
        "2200"
       ]
      },
      {
       "output_type": "stream",
       "stream": "stdout",
       "text": [
        " 426 39.7133393974 42.3490560594\n",
        "2210"
       ]
      },
      {
       "output_type": "stream",
       "stream": "stdout",
       "text": [
        " 413 39.5606445388 41.8713998849\n",
        "2220"
       ]
      },
      {
       "output_type": "stream",
       "stream": "stdout",
       "text": [
        " 402 39.5235886604 41.9020586313\n",
        "2230"
       ]
      },
      {
       "output_type": "stream",
       "stream": "stdout",
       "text": [
        " 387 39.2404887537 42.0598630018\n",
        "2240"
       ]
      },
      {
       "output_type": "stream",
       "stream": "stdout",
       "text": [
        " 375 38.5005979368 41.4730124921\n",
        "2250"
       ]
      },
      {
       "output_type": "stream",
       "stream": "stdout",
       "text": [
        " 359 38.4721662428 41.4187939822\n",
        "2260"
       ]
      },
      {
       "output_type": "stream",
       "stream": "stdout",
       "text": [
        " 347 37.4637833407 40.676776779\n",
        "2270"
       ]
      },
      {
       "output_type": "stream",
       "stream": "stdout",
       "text": [
        " 329 37.0371767775 39.8256016768\n",
        "2280"
       ]
      },
      {
       "output_type": "stream",
       "stream": "stdout",
       "text": [
        " 309 36.4246386235 39.687333419\n",
        "2290"
       ]
      },
      {
       "output_type": "stream",
       "stream": "stdout",
       "text": [
        " 289 35.2183354126 39.0129073219\n",
        "2300"
       ]
      },
      {
       "output_type": "stream",
       "stream": "stdout",
       "text": [
        " 267 33.9504511588 37.4061784669\n",
        "2310"
       ]
      },
      {
       "output_type": "stream",
       "stream": "stdout",
       "text": [
        " 239 33.1733471267 36.239280106\n",
        "2320"
       ]
      },
      {
       "output_type": "stream",
       "stream": "stdout",
       "text": [
        " 205 31.8842488638 35.175710452\n",
        "2330"
       ]
      },
      {
       "output_type": "stream",
       "stream": "stdout",
       "text": [
        " 149 30.7097446023 42.3779649532\n",
        "2340"
       ]
      },
      {
       "output_type": "stream",
       "stream": "stdout",
       "text": [
        " 123 None 2.16398620531\n",
        "2350"
       ]
      },
      {
       "output_type": "stream",
       "stream": "stdout",
       "text": [
        " 123 None 2.15871427129\n",
        "2360"
       ]
      },
      {
       "output_type": "stream",
       "stream": "stdout",
       "text": [
        " 123 None 2.16289257588\n",
        "2370"
       ]
      },
      {
       "output_type": "stream",
       "stream": "stdout",
       "text": [
        " 121 None 2.14716790878\n",
        "2380"
       ]
      },
      {
       "output_type": "stream",
       "stream": "stdout",
       "text": [
        " 123 None 2.1599974135\n",
        "['20141218-22_48_53-CA3_DB_PC01_A-04_BED617.MOV', 'CA3', '', 'D', 'B', 60.120550109813301, 59.062032485775454, 742, 617]"
       ]
      },
      {
       "output_type": "stream",
       "stream": "stdout",
       "text": [
        "\n",
        "20141218-22_51_21-CA3_DB_PC01_A-05_BED617.MOV\n",
        "Analyzing:  F:\\AFCC Metal FSU Testing 2014\\A3\\PC01_A_boarderline\\\\20141218-22_51_21-CA3_DB_PC01_A-05_BED617.MOV\n",
        "0100"
       ]
      },
      {
       "output_type": "stream",
       "stream": "stdout",
       "text": [
        " 301 61.7671187822 63.0901323895\n",
        "0110"
       ]
      },
      {
       "output_type": "stream",
       "stream": "stdout",
       "text": [
        " 307 61.3756257549 61.8543978033\n",
        "0120"
       ]
      },
      {
       "output_type": "stream",
       "stream": "stdout",
       "text": [
        " 313 61.1096388241 61.0946956132\n",
        "0130"
       ]
      },
      {
       "output_type": "stream",
       "stream": "stdout",
       "text": [
        " 317 61.0255700272 61.3620295925\n",
        "0140"
       ]
      },
      {
       "output_type": "stream",
       "stream": "stdout",
       "text": [
        " 321 61.6502449967 61.6927257792\n",
        "0150"
       ]
      },
      {
       "output_type": "stream",
       "stream": "stdout",
       "text": [
        " 323 62.0588930872 61.963503106\n",
        "0160"
       ]
      },
      {
       "output_type": "stream",
       "stream": "stdout",
       "text": [
        " 327 61.8838882192 62.355252178\n",
        "0170"
       ]
      },
      {
       "output_type": "stream",
       "stream": "stdout",
       "text": [
        " 331 62.1954130806 62.3685565379\n",
        "0180"
       ]
      },
      {
       "output_type": "stream",
       "stream": "stdout",
       "text": [
        " 337 62.2200466675 62.6249783804\n",
        "0190"
       ]
      },
      {
       "output_type": "stream",
       "stream": "stdout",
       "text": [
        " 337 62.7442180966 63.7605612829\n",
        "0200"
       ]
      },
      {
       "output_type": "stream",
       "stream": "stdout",
       "text": [
        " 342 63.5105124581 64.4858661556\n",
        "0210"
       ]
      },
      {
       "output_type": "stream",
       "stream": "stdout",
       "text": [
        " 349 62.4732438317 63.2700455061\n",
        "0220"
       ]
      },
      {
       "output_type": "stream",
       "stream": "stdout",
       "text": [
        " 356 62.8651256221 62.4311253516\n",
        "0230"
       ]
      },
      {
       "output_type": "stream",
       "stream": "stdout",
       "text": [
        " 361 62.4884886932 62.5771618808\n",
        "0240"
       ]
      },
      {
       "output_type": "stream",
       "stream": "stdout",
       "text": [
        " 364 63.2037622905 64.052734618\n",
        "0250"
       ]
      },
      {
       "output_type": "stream",
       "stream": "stdout",
       "text": [
        " 371 63.2001242873 63.4686359834\n",
        "0260"
       ]
      },
      {
       "output_type": "stream",
       "stream": "stdout",
       "text": [
        " 375 63.1223282282 63.4079079953\n",
        "0270"
       ]
      },
      {
       "output_type": "stream",
       "stream": "stdout",
       "text": [
        " 379 63.0137397864 64.0388711419\n",
        "0280"
       ]
      },
      {
       "output_type": "stream",
       "stream": "stdout",
       "text": [
        " 387 63.2552710104 63.3592378285\n",
        "0290"
       ]
      },
      {
       "output_type": "stream",
       "stream": "stdout",
       "text": [
        " 393 62.7277287681 63.2157622298\n",
        "0300"
       ]
      },
      {
       "output_type": "stream",
       "stream": "stdout",
       "text": [
        " 397 63.1271638366 63.4053252533\n",
        "0310"
       ]
      },
      {
       "output_type": "stream",
       "stream": "stdout",
       "text": [
        " 397 63.7833758265 64.9641059785\n",
        "0320"
       ]
      },
      {
       "output_type": "stream",
       "stream": "stdout",
       "text": [
        " 406 63.0447467319 63.7929286588\n",
        "0330"
       ]
      },
      {
       "output_type": "stream",
       "stream": "stdout",
       "text": [
        " 411 63.406382266 63.9201845407\n",
        "0340"
       ]
      },
      {
       "output_type": "stream",
       "stream": "stdout",
       "text": [
        " 417 63.5407701641 64.3008479575\n",
        "0350"
       ]
      },
      {
       "output_type": "stream",
       "stream": "stdout",
       "text": [
        " 421 63.0906386087 64.2298609592\n",
        "0360"
       ]
      },
      {
       "output_type": "stream",
       "stream": "stdout",
       "text": [
        " 425 63.566675206 65.0850182068\n",
        "0370"
       ]
      },
      {
       "output_type": "stream",
       "stream": "stdout",
       "text": [
        " 427 64.0682039744 65.2103573817\n",
        "0380"
       ]
      },
      {
       "output_type": "stream",
       "stream": "stdout",
       "text": [
        " 429 64.3826583278 66.6195399353\n",
        "0390"
       ]
      },
      {
       "output_type": "stream",
       "stream": "stdout",
       "text": [
        " 437 64.7156619897 65.2167883955\n",
        "0400"
       ]
      },
      {
       "output_type": "stream",
       "stream": "stdout",
       "text": [
        " 441 64.5774244984 65.677574224\n",
        "0410"
       ]
      },
      {
       "output_type": "stream",
       "stream": "stdout",
       "text": [
        " 449 63.8154635599 65.663876307\n",
        "0420"
       ]
      },
      {
       "output_type": "stream",
       "stream": "stdout",
       "text": [
        " 455 64.3474867933 65.0861754651\n",
        "0430"
       ]
      },
      {
       "output_type": "stream",
       "stream": "stdout",
       "text": [
        " 461 64.1469862717 64.7367659404\n",
        "0440"
       ]
      },
      {
       "output_type": "stream",
       "stream": "stdout",
       "text": [
        " 467 63.9564800524 64.9703419959\n",
        "0450"
       ]
      },
      {
       "output_type": "stream",
       "stream": "stdout",
       "text": [
        " 473 63.5250359301 64.9935761753\n",
        "0460"
       ]
      },
      {
       "output_type": "stream",
       "stream": "stdout",
       "text": [
        " 479 63.8737363843 65.0859620735\n",
        "0470"
       ]
      },
      {
       "output_type": "stream",
       "stream": "stdout",
       "text": [
        " 483 63.7191252985 65.3785105085\n",
        "0480"
       ]
      },
      {
       "output_type": "stream",
       "stream": "stdout",
       "text": [
        " 490 63.4788131926 65.378171715\n",
        "0490"
       ]
      },
      {
       "output_type": "stream",
       "stream": "stdout",
       "text": [
        " 493 63.2153522653 65.6071834808\n",
        "0500"
       ]
      },
      {
       "output_type": "stream",
       "stream": "stdout",
       "text": [
        " 493 63.6610996111 67.2592313597\n",
        "0510"
       ]
      },
      {
       "output_type": "stream",
       "stream": "stdout",
       "text": [
        " 577 57.6394573583 57.3442768498\n",
        "0520"
       ]
      },
      {
       "output_type": "stream",
       "stream": "stdout",
       "text": [
        " 574 59.0542971516 59.3119460656\n",
        "0530"
       ]
      },
      {
       "output_type": "stream",
       "stream": "stdout",
       "text": [
        " 574 59.3275975816 59.7743660741\n",
        "0540"
       ]
      },
      {
       "output_type": "stream",
       "stream": "stdout",
       "text": [
        " 573 59.5965638767 60.9171977027\n",
        "0550"
       ]
      },
      {
       "output_type": "stream",
       "stream": "stdout",
       "text": [
        " 573 60.2119673176 61.2877761188\n",
        "0560"
       ]
      },
      {
       "output_type": "stream",
       "stream": "stdout",
       "text": [
        " 573 60.1165998522 61.7775121761\n",
        "0570"
       ]
      },
      {
       "output_type": "stream",
       "stream": "stdout",
       "text": [
        " 573 60.3353050631 62.6774822191\n",
        "0580"
       ]
      },
      {
       "output_type": "stream",
       "stream": "stdout",
       "text": [
        " 573 60.8463825778 63.1229129316\n",
        "0590"
       ]
      },
      {
       "output_type": "stream",
       "stream": "stdout",
       "text": [
        " 575 61.3701880951 64.4586186581\n",
        "0600"
       ]
      },
      {
       "output_type": "stream",
       "stream": "stdout",
       "text": [
        " 575 61.6499226839 65.4292675662\n",
        "0610"
       ]
      },
      {
       "output_type": "stream",
       "stream": "stdout",
       "text": [
        " 575 62.0861969368 65.8401470477\n",
        "0620"
       ]
      },
      {
       "output_type": "stream",
       "stream": "stdout",
       "text": [
        " 575 62.6073343693 66.5043544145\n",
        "0630"
       ]
      },
      {
       "output_type": "stream",
       "stream": "stdout",
       "text": [
        " 575 62.9753283296 67.4075655582\n",
        "0640"
       ]
      },
      {
       "output_type": "stream",
       "stream": "stdout",
       "text": [
        " 579 62.8309722456 66.6900024296\n",
        "0650"
       ]
      },
      {
       "output_type": "stream",
       "stream": "stdout",
       "text": [
        " 583 62.8063826134 66.7232962951\n",
        "0660"
       ]
      },
      {
       "output_type": "stream",
       "stream": "stdout",
       "text": [
        " 587 62.4121675512 66.512883898\n",
        "0670"
       ]
      },
      {
       "output_type": "stream",
       "stream": "stdout",
       "text": [
        " 591 62.6209721361 66.5973020083\n",
        "0680"
       ]
      },
      {
       "output_type": "stream",
       "stream": "stdout",
       "text": [
        " 591 62.3124362891 67.4482756789\n",
        "0690"
       ]
      },
      {
       "output_type": "stream",
       "stream": "stdout",
       "text": [
        " 618 59.1417943086 66.0277889038\n",
        "0700"
       ]
      },
      {
       "output_type": "stream",
       "stream": "stdout",
       "text": [
        " 617 59.2810502235 65.662337838\n",
        "0710"
       ]
      },
      {
       "output_type": "stream",
       "stream": "stdout",
       "text": [
        " 617 59.6390663894 68.0352899773\n",
        "0720"
       ]
      },
      {
       "output_type": "stream",
       "stream": "stdout",
       "text": [
        " 617 59.8203431319 68.4126555565\n",
        "0730"
       ]
      },
      {
       "output_type": "stream",
       "stream": "stdout",
       "text": [
        " 617 60.067343232 68.8038310456\n",
        "0740"
       ]
      },
      {
       "output_type": "stream",
       "stream": "stdout",
       "text": [
        " 617 60.3401950015 70.4893100939\n",
        "0750"
       ]
      },
      {
       "output_type": "stream",
       "stream": "stdout",
       "text": [
        " 617 60.4094411922 71.3544307789\n",
        "0760"
       ]
      },
      {
       "output_type": "stream",
       "stream": "stdout",
       "text": [
        " 618 60.4654029365 72.3154763967\n",
        "0770"
       ]
      },
      {
       "output_type": "stream",
       "stream": "stdout",
       "text": [
        " 617 61.1661468434 71.8845498694\n",
        "0780"
       ]
      },
      {
       "output_type": "stream",
       "stream": "stdout",
       "text": [
        " 654 58.229265332 52.8650661012\n",
        "0790"
       ]
      },
      {
       "output_type": "stream",
       "stream": "stdout",
       "text": [
        " 653 59.0545706954 54.2646240596\n",
        "0800"
       ]
      },
      {
       "output_type": "stream",
       "stream": "stdout",
       "text": [
        " 653 59.661564802 55.0235168831\n",
        "0810"
       ]
      },
      {
       "output_type": "stream",
       "stream": "stdout",
       "text": [
        " 655 59.9764036284 56.0113739561\n",
        "0820"
       ]
      },
      {
       "output_type": "stream",
       "stream": "stdout",
       "text": [
        " 655 60.4597301166 56.9236253009\n",
        "0830"
       ]
      },
      {
       "output_type": "stream",
       "stream": "stdout",
       "text": [
        " 655 61.0199878614 57.748952518\n",
        "0840"
       ]
      },
      {
       "output_type": "stream",
       "stream": "stdout",
       "text": [
        " 655 61.2374425201 58.3344215731\n",
        "0850"
       ]
      },
      {
       "output_type": "stream",
       "stream": "stdout",
       "text": [
        " 655 61.8043342928 58.9128151928\n",
        "0860"
       ]
      },
      {
       "output_type": "stream",
       "stream": "stdout",
       "text": [
        " 655 62.4459694874 60.2507845103\n",
        "0870"
       ]
      },
      {
       "output_type": "stream",
       "stream": "stdout",
       "text": [
        " 656 62.403837152 60.6002146338\n",
        "0880"
       ]
      },
      {
       "output_type": "stream",
       "stream": "stdout",
       "text": [
        " 655 62.4937962421 61.1151491965\n",
        "0890"
       ]
      },
      {
       "output_type": "stream",
       "stream": "stdout",
       "text": [
        " 656 62.5779648435 62.1938876205\n",
        "0900"
       ]
      },
      {
       "output_type": "stream",
       "stream": "stdout",
       "text": [
        " 656 63.0325122524 62.3597644297\n",
        "0910"
       ]
      },
      {
       "output_type": "stream",
       "stream": "stdout",
       "text": [
        " 656 63.0701336791 64.2119322056\n",
        "0920"
       ]
      },
      {
       "output_type": "stream",
       "stream": "stdout",
       "text": [
        " 719 60.6013820004 51.3802617472\n",
        "0930"
       ]
      },
      {
       "output_type": "stream",
       "stream": "stdout",
       "text": [
        " 719 60.4382456609 52.2534852569\n",
        "0940"
       ]
      },
      {
       "output_type": "stream",
       "stream": "stdout",
       "text": [
        " 735 59.8279197099 50.633251441\n",
        "0950"
       ]
      },
      {
       "output_type": "stream",
       "stream": "stdout",
       "text": [
        " 735 60.5598377076 52.0642351007\n",
        "0960"
       ]
      },
      {
       "output_type": "stream",
       "stream": "stdout",
       "text": [
        " 735 60.2735038076 53.1445381944\n",
        "0970"
       ]
      },
      {
       "output_type": "stream",
       "stream": "stdout",
       "text": [
        " 736 60.5566447429 54.0010109913\n",
        "0980"
       ]
      },
      {
       "output_type": "stream",
       "stream": "stdout",
       "text": [
        " 735 60.8274372469 54.4326355672\n",
        "0990"
       ]
      },
      {
       "output_type": "stream",
       "stream": "stdout",
       "text": [
        " 735 60.6285642812 55.1834862151\n",
        "1000"
       ]
      },
      {
       "output_type": "stream",
       "stream": "stdout",
       "text": [
        " 735 60.7633093694 55.5247875812\n",
        "1010"
       ]
      },
      {
       "output_type": "stream",
       "stream": "stdout",
       "text": [
        " 807 56.1881338493 49.9593280004\n",
        "1020"
       ]
      },
      {
       "output_type": "stream",
       "stream": "stdout",
       "text": [
        " 805 56.5588792662 50.8077888698\n",
        "1030"
       ]
      },
      {
       "output_type": "stream",
       "stream": "stdout",
       "text": [
        " 805 57.0814781445 51.488345725\n",
        "1040"
       ]
      },
      {
       "output_type": "stream",
       "stream": "stdout",
       "text": [
        " 805 57.6553457762 52.0204304448\n",
        "1050"
       ]
      },
      {
       "output_type": "stream",
       "stream": "stdout",
       "text": [
        " 805 57.4287848654 52.4529120381\n",
        "1060"
       ]
      },
      {
       "output_type": "stream",
       "stream": "stdout",
       "text": [
        " 805 57.9892856182 53.2451496308\n",
        "1070"
       ]
      },
      {
       "output_type": "stream",
       "stream": "stdout",
       "text": [
        " 807 58.1419508296 54.1100601643\n",
        "1080"
       ]
      },
      {
       "output_type": "stream",
       "stream": "stdout",
       "text": [
        " 821 58.9972395743 52.5353412098\n",
        "1090"
       ]
      },
      {
       "output_type": "stream",
       "stream": "stdout",
       "text": [
        " 811 59.6088254654 55.8343067265\n",
        "1100"
       ]
      },
      {
       "output_type": "stream",
       "stream": "stdout",
       "text": [
        " 809 58.8577040318 56.4742851571\n",
        "1110"
       ]
      },
      {
       "output_type": "stream",
       "stream": "stdout",
       "text": [
        " 811 59.0232783301 56.671278688\n",
        "1120"
       ]
      },
      {
       "output_type": "stream",
       "stream": "stdout",
       "text": [
        " 811 59.7364792245 56.6965222459\n",
        "1130"
       ]
      },
      {
       "output_type": "stream",
       "stream": "stdout",
       "text": [
        " 809 59.4661341901 56.7144353807\n",
        "1140"
       ]
      },
      {
       "output_type": "stream",
       "stream": "stdout",
       "text": [
        " 809 60.3331450571 56.8633598662\n",
        "1150"
       ]
      },
      {
       "output_type": "stream",
       "stream": "stdout",
       "text": [
        " 809 59.7985965562 56.9047085506\n",
        "1160"
       ]
      },
      {
       "output_type": "stream",
       "stream": "stdout",
       "text": [
        " 809 59.5470785093 56.7692082825\n",
        "1170"
       ]
      },
      {
       "output_type": "stream",
       "stream": "stdout",
       "text": [
        " 809 59.9683045265 56.5320481558\n",
        "1180"
       ]
      },
      {
       "output_type": "stream",
       "stream": "stdout",
       "text": [
        " 809 59.6315268143 56.8797446155\n",
        "1190"
       ]
      },
      {
       "output_type": "stream",
       "stream": "stdout",
       "text": [
        " 809 60.0983224419 56.5321467397\n",
        "1200"
       ]
      },
      {
       "output_type": "stream",
       "stream": "stdout",
       "text": [
        " 809 59.7691355335 56.4458036616\n",
        "1210"
       ]
      },
      {
       "output_type": "stream",
       "stream": "stdout",
       "text": [
        " 809 59.9692402725 56.6051665212\n",
        "1220"
       ]
      },
      {
       "output_type": "stream",
       "stream": "stdout",
       "text": [
        " 809 59.7160274813 56.4602469\n",
        "1230"
       ]
      },
      {
       "output_type": "stream",
       "stream": "stdout",
       "text": [
        " 809 60.0320585668 56.3457428814\n",
        "1240"
       ]
      },
      {
       "output_type": "stream",
       "stream": "stdout",
       "text": [
        " 809 60.0223605209 55.9322924748\n",
        "1250"
       ]
      },
      {
       "output_type": "stream",
       "stream": "stdout",
       "text": [
        " 809 60.1636138881 56.2563923551\n",
        "1260"
       ]
      },
      {
       "output_type": "stream",
       "stream": "stdout",
       "text": [
        " 809 59.5274937609 55.9815128603\n",
        "1270"
       ]
      },
      {
       "output_type": "stream",
       "stream": "stdout",
       "text": [
        " 811 59.409573246 55.3527738361\n",
        "1280"
       ]
      },
      {
       "output_type": "stream",
       "stream": "stdout",
       "text": [
        " 811 59.1570296337 54.9291254282\n",
        "1290"
       ]
      },
      {
       "output_type": "stream",
       "stream": "stdout",
       "text": [
        " 811 59.0733297655 55.5009673538\n",
        "1300"
       ]
      },
      {
       "output_type": "stream",
       "stream": "stdout",
       "text": [
        " 811 58.8083686912 55.4146866845\n",
        "1310"
       ]
      },
      {
       "output_type": "stream",
       "stream": "stdout",
       "text": [
        " 811 59.0627321391 54.942138304\n",
        "1320"
       ]
      },
      {
       "output_type": "stream",
       "stream": "stdout",
       "text": [
        " 811 59.0458532341 55.0599366022\n",
        "1330"
       ]
      },
      {
       "output_type": "stream",
       "stream": "stdout",
       "text": [
        " 811 58.7213737292 55.0899938309\n",
        "1340"
       ]
      },
      {
       "output_type": "stream",
       "stream": "stdout",
       "text": [
        " 811 58.6536569074 54.7770763997\n",
        "1350"
       ]
      },
      {
       "output_type": "stream",
       "stream": "stdout",
       "text": [
        " 809 58.3411549999 55.1159939569\n",
        "1360"
       ]
      },
      {
       "output_type": "stream",
       "stream": "stdout",
       "text": [
        " 811 59.1402583845 54.638735857\n",
        "1370"
       ]
      },
      {
       "output_type": "stream",
       "stream": "stdout",
       "text": [
        " 811 58.8571663386 54.5174587189\n",
        "1380"
       ]
      },
      {
       "output_type": "stream",
       "stream": "stdout",
       "text": [
        " 811 58.8526386719 54.3470848889\n",
        "1390"
       ]
      },
      {
       "output_type": "stream",
       "stream": "stdout",
       "text": [
        " 811 58.6680471447 54.2117471067\n",
        "1400"
       ]
      },
      {
       "output_type": "stream",
       "stream": "stdout",
       "text": [
        " 810 58.6706215616 54.1808188174\n",
        "1410"
       ]
      },
      {
       "output_type": "stream",
       "stream": "stdout",
       "text": [
        " 809 58.0191089362 53.7165217395\n",
        "1420"
       ]
      },
      {
       "output_type": "stream",
       "stream": "stdout",
       "text": [
        " 811 58.1717282531 53.7881337166\n",
        "1430"
       ]
      },
      {
       "output_type": "stream",
       "stream": "stdout",
       "text": [
        " 811 58.5338973924 53.528579026\n",
        "1440"
       ]
      },
      {
       "output_type": "stream",
       "stream": "stdout",
       "text": [
        " 811 58.2199548216 53.0525042934\n",
        "1450"
       ]
      },
      {
       "output_type": "stream",
       "stream": "stdout",
       "text": [
        " 810 57.8639804146 52.7359948148\n",
        "1460"
       ]
      },
      {
       "output_type": "stream",
       "stream": "stdout",
       "text": [
        " 810 58.0474338771 53.3180608662\n",
        "1470"
       ]
      },
      {
       "output_type": "stream",
       "stream": "stdout",
       "text": [
        " 811 57.5423534308 52.3918006425\n",
        "1480"
       ]
      },
      {
       "output_type": "stream",
       "stream": "stdout",
       "text": [
        " 811 59.1110929993 54.4054439077\n",
        "1490"
       ]
      },
      {
       "output_type": "stream",
       "stream": "stdout",
       "text": [
        " 811 59.1464904702 54.175973113\n",
        "1500"
       ]
      },
      {
       "output_type": "stream",
       "stream": "stdout",
       "text": [
        " 811 58.4671856275 54.44783976\n",
        "1510"
       ]
      },
      {
       "output_type": "stream",
       "stream": "stdout",
       "text": [
        " 811 58.5928949817 53.8390606155\n",
        "1520"
       ]
      },
      {
       "output_type": "stream",
       "stream": "stdout",
       "text": [
        " 811 58.3821622685 53.6425870747\n",
        "1530"
       ]
      },
      {
       "output_type": "stream",
       "stream": "stdout",
       "text": [
        " 811 58.2506936622 53.0312529136\n",
        "1540"
       ]
      },
      {
       "output_type": "stream",
       "stream": "stdout",
       "text": [
        " 811 57.6611300531 52.4358569836\n",
        "1550"
       ]
      },
      {
       "output_type": "stream",
       "stream": "stdout",
       "text": [
        " 811 57.948709835 52.03023654\n",
        "1560"
       ]
      },
      {
       "output_type": "stream",
       "stream": "stdout",
       "text": [
        " 811 57.3309035102 51.8865259913\n",
        "1570"
       ]
      },
      {
       "output_type": "stream",
       "stream": "stdout",
       "text": [
        " 811 56.9648091911 51.1209800638\n",
        "1580"
       ]
      },
      {
       "output_type": "stream",
       "stream": "stdout",
       "text": [
        " 811 57.2955387788 51.4829032034\n",
        "1590"
       ]
      },
      {
       "output_type": "stream",
       "stream": "stdout",
       "text": [
        " 811 56.7966372295 50.7170069533\n",
        "1600"
       ]
      },
      {
       "output_type": "stream",
       "stream": "stdout",
       "text": [
        " 811 56.7554689815 50.0049909627\n",
        "1610"
       ]
      },
      {
       "output_type": "stream",
       "stream": "stdout",
       "text": [
        " 809 56.4720312722 49.8466938021\n",
        "1620"
       ]
      },
      {
       "output_type": "stream",
       "stream": "stdout",
       "text": [
        " 811 56.0659628562 49.4853999482\n",
        "1630"
       ]
      },
      {
       "output_type": "stream",
       "stream": "stdout",
       "text": [
        " 809 55.8230333271 48.830967745\n",
        "1640"
       ]
      },
      {
       "output_type": "stream",
       "stream": "stdout",
       "text": [
        " 809 55.2740295905 48.1823553332\n",
        "1650"
       ]
      },
      {
       "output_type": "stream",
       "stream": "stdout",
       "text": [
        " 809 55.3831304267 47.9764989894\n",
        "1660"
       ]
      },
      {
       "output_type": "stream",
       "stream": "stdout",
       "text": [
        " 809 55.1026094484 47.2649344033\n",
        "1670"
       ]
      },
      {
       "output_type": "stream",
       "stream": "stdout",
       "text": [
        " 807 54.2389766987 46.89754246\n",
        "1680"
       ]
      },
      {
       "output_type": "stream",
       "stream": "stdout",
       "text": [
        " 807 53.6354514771 46.6689111902\n",
        "1690"
       ]
      },
      {
       "output_type": "stream",
       "stream": "stdout",
       "text": [
        " 807 54.400066798 46.6854448772\n",
        "1700"
       ]
      },
      {
       "output_type": "stream",
       "stream": "stdout",
       "text": [
        " 805 53.8994787172 46.0720421359\n",
        "1710"
       ]
      },
      {
       "output_type": "stream",
       "stream": "stdout",
       "text": [
        " 803 53.7653765839 46.0656735949\n",
        "1720"
       ]
      },
      {
       "output_type": "stream",
       "stream": "stdout",
       "text": [
        " 801 53.926981032 45.8258247763\n",
        "1730"
       ]
      },
      {
       "output_type": "stream",
       "stream": "stdout",
       "text": [
        " 697 None 49.6398905787\n",
        "1740"
       ]
      },
      {
       "output_type": "stream",
       "stream": "stdout",
       "text": [
        " 696 None 50.0059263704\n",
        "1750"
       ]
      },
      {
       "output_type": "stream",
       "stream": "stdout",
       "text": [
        " 694 None 49.5152038723\n",
        "1760"
       ]
      },
      {
       "output_type": "stream",
       "stream": "stdout",
       "text": [
        " 696 None 49.117402298\n",
        "1770"
       ]
      },
      {
       "output_type": "stream",
       "stream": "stdout",
       "text": [
        " 694 None 48.3275004719\n",
        "1780"
       ]
      },
      {
       "output_type": "stream",
       "stream": "stdout",
       "text": [
        " 693 None 47.3553549811\n",
        "1790"
       ]
      },
      {
       "output_type": "stream",
       "stream": "stdout",
       "text": [
        " 694 None 46.8877152871\n",
        "1800"
       ]
      },
      {
       "output_type": "stream",
       "stream": "stdout",
       "text": [
        " 692 None 46.6263774809\n",
        "1810"
       ]
      },
      {
       "output_type": "stream",
       "stream": "stdout",
       "text": [
        " 688 None 46.3402286704\n",
        "1820"
       ]
      },
      {
       "output_type": "stream",
       "stream": "stdout",
       "text": [
        " 684 None 46.4912320277\n",
        "1830"
       ]
      },
      {
       "output_type": "stream",
       "stream": "stdout",
       "text": [
        " 678 None 45.7430107794\n",
        "1840"
       ]
      },
      {
       "output_type": "stream",
       "stream": "stdout",
       "text": [
        " 672 None 45.5433077829\n",
        "1850"
       ]
      },
      {
       "output_type": "stream",
       "stream": "stdout",
       "text": [
        " 668 None 46.0646101612\n",
        "1860"
       ]
      },
      {
       "output_type": "stream",
       "stream": "stdout",
       "text": [
        " 661 None 45.1324142647\n",
        "1870"
       ]
      },
      {
       "output_type": "stream",
       "stream": "stdout",
       "text": [
        " 655 None 44.8782414685\n",
        "1880"
       ]
      },
      {
       "output_type": "stream",
       "stream": "stdout",
       "text": [
        " 648 None 45.1945917963\n",
        "1890"
       ]
      },
      {
       "output_type": "stream",
       "stream": "stdout",
       "text": [
        " 640 None 45.5264182489\n",
        "1900"
       ]
      },
      {
       "output_type": "stream",
       "stream": "stdout",
       "text": [
        " 634 None 45.8493715982\n",
        "1910"
       ]
      },
      {
       "output_type": "stream",
       "stream": "stdout",
       "text": [
        " 626 None 45.9183027683\n",
        "1920"
       ]
      },
      {
       "output_type": "stream",
       "stream": "stdout",
       "text": [
        " 620 None 45.2555989261\n",
        "1930"
       ]
      },
      {
       "output_type": "stream",
       "stream": "stdout",
       "text": [
        " 614 None 45.5032246627\n",
        "1940"
       ]
      },
      {
       "output_type": "stream",
       "stream": "stdout",
       "text": [
        " 606 None 45.5612127589\n",
        "1950"
       ]
      },
      {
       "output_type": "stream",
       "stream": "stdout",
       "text": [
        " 596 None 45.6745968841\n",
        "1960"
       ]
      },
      {
       "output_type": "stream",
       "stream": "stdout",
       "text": [
        " 590 None 45.8957304523\n",
        "1970"
       ]
      },
      {
       "output_type": "stream",
       "stream": "stdout",
       "text": [
        " 584 None 45.6104220593\n",
        "1980"
       ]
      },
      {
       "output_type": "stream",
       "stream": "stdout",
       "text": [
        " 576 None 45.5882708556\n",
        "1990"
       ]
      },
      {
       "output_type": "stream",
       "stream": "stdout",
       "text": [
        " 570 None 45.5442068536\n",
        "2000"
       ]
      },
      {
       "output_type": "stream",
       "stream": "stdout",
       "text": [
        " 562 None 45.6482742649\n",
        "2010"
       ]
      },
      {
       "output_type": "stream",
       "stream": "stdout",
       "text": [
        " 555 None 45.4310473155\n",
        "2020"
       ]
      },
      {
       "output_type": "stream",
       "stream": "stdout",
       "text": [
        " 546 None 45.3349315287\n",
        "2030"
       ]
      },
      {
       "output_type": "stream",
       "stream": "stdout",
       "text": [
        " 539 None 45.9316006448\n",
        "2040"
       ]
      },
      {
       "output_type": "stream",
       "stream": "stdout",
       "text": [
        " 530 None 45.1738541593\n",
        "2050"
       ]
      },
      {
       "output_type": "stream",
       "stream": "stdout",
       "text": [
        " 526 None 44.5241467125\n",
        "2060"
       ]
      },
      {
       "output_type": "stream",
       "stream": "stdout",
       "text": [
        " 518 None 44.6348904272\n",
        "2070"
       ]
      },
      {
       "output_type": "stream",
       "stream": "stdout",
       "text": [
        " 511 None 44.0070444357\n",
        "2080"
       ]
      },
      {
       "output_type": "stream",
       "stream": "stdout",
       "text": [
        " 502 None 44.1038224486\n",
        "2090"
       ]
      },
      {
       "output_type": "stream",
       "stream": "stdout",
       "text": [
        " 493 None 43.9264667945\n",
        "2100"
       ]
      },
      {
       "output_type": "stream",
       "stream": "stdout",
       "text": [
        " 485 None 44.1566062196\n",
        "2110"
       ]
      },
      {
       "output_type": "stream",
       "stream": "stdout",
       "text": [
        " 475 None 43.4789567791\n",
        "2120"
       ]
      },
      {
       "output_type": "stream",
       "stream": "stdout",
       "text": [
        " 467 None 42.8496355669\n",
        "2130"
       ]
      },
      {
       "output_type": "stream",
       "stream": "stdout",
       "text": [
        " 463 None 42.7070244376\n",
        "2140"
       ]
      },
      {
       "output_type": "stream",
       "stream": "stdout",
       "text": [
        " 451 None 42.5599433532\n",
        "2150"
       ]
      },
      {
       "output_type": "stream",
       "stream": "stdout",
       "text": [
        " 439 None 42.0830949174\n",
        "2160"
       ]
      },
      {
       "output_type": "stream",
       "stream": "stdout",
       "text": [
        " 427 None 42.1238938416\n",
        "2170"
       ]
      },
      {
       "output_type": "stream",
       "stream": "stdout",
       "text": [
        " 416 None 42.0147115848\n",
        "2180"
       ]
      },
      {
       "output_type": "stream",
       "stream": "stdout",
       "text": [
        " 403 None 41.4011179271\n",
        "2190"
       ]
      },
      {
       "output_type": "stream",
       "stream": "stdout",
       "text": [
        " 389 None 41.3189380923\n",
        "2200"
       ]
      },
      {
       "output_type": "stream",
       "stream": "stdout",
       "text": [
        " 377 None 40.4162134824\n",
        "2210"
       ]
      },
      {
       "output_type": "stream",
       "stream": "stdout",
       "text": [
        " 363 None 39.9415709919\n",
        "2220"
       ]
      },
      {
       "output_type": "stream",
       "stream": "stdout",
       "text": [
        " 347 None 39.6826318745\n",
        "2230"
       ]
      },
      {
       "output_type": "stream",
       "stream": "stdout",
       "text": [
        " 333 None 39.0011736055\n",
        "2240"
       ]
      },
      {
       "output_type": "stream",
       "stream": "stdout",
       "text": [
        " 313 None 38.1861984612\n",
        "2250"
       ]
      },
      {
       "output_type": "stream",
       "stream": "stdout",
       "text": [
        " 295 None 37.1111282457\n",
        "2260"
       ]
      },
      {
       "output_type": "stream",
       "stream": "stdout",
       "text": [
        " 275 None 35.2045191662\n",
        "2270"
       ]
      },
      {
       "output_type": "stream",
       "stream": "stdout",
       "text": [
        " 251 None 33.5042092331\n",
        "2280"
       ]
      },
      {
       "output_type": "stream",
       "stream": "stdout",
       "text": [
        " 221 None 30.7537339169\n",
        "2290"
       ]
      },
      {
       "output_type": "stream",
       "stream": "stdout",
       "text": [
        " 183 None 27.0899520698\n",
        "2300"
       ]
      },
      {
       "output_type": "stream",
       "stream": "stdout",
       "text": [
        " 116 None 49.5434579123\n",
        "2310"
       ]
      },
      {
       "output_type": "stream",
       "stream": "stdout",
       "text": [
        " 115 None 2.07825576525\n",
        "2320"
       ]
      },
      {
       "output_type": "stream",
       "stream": "stdout",
       "text": [
        " 115 None 2.08864890996\n",
        "2330"
       ]
      },
      {
       "output_type": "stream",
       "stream": "stdout",
       "text": [
        " 115 None 2.0899136664\n",
        "2340"
       ]
      },
      {
       "output_type": "stream",
       "stream": "stdout",
       "text": [
        " 115 None 2.08930459159\n",
        "['20141218-22_51_21-CA3_DB_PC01_A-05_BED617.MOV', 'CA3', '', 'D', 'B', 63.399361326243117, 64.538575707835548, 821, 617]"
       ]
      },
      {
       "output_type": "stream",
       "stream": "stdout",
       "text": [
        "\n",
        "0100-plt.svg\n",
        "0100.png\n",
        "0110-plt.svg\n",
        "0110.png\n",
        "0120-plt.svg\n",
        "0120.png\n",
        "0130-plt.svg\n",
        "0130.png\n",
        "0140-plt.svg\n",
        "0140.png\n",
        "0150-plt.svg\n",
        "0150.png\n",
        "0160-plt.svg\n",
        "0160.png\n",
        "0170-plt.svg\n",
        "0170.png\n",
        "0180-plt.svg\n",
        "0180.png\n",
        "0190-plt.svg\n",
        "0190.png\n",
        "0200-plt.svg\n",
        "0200.png\n",
        "0210-plt.svg\n",
        "0210.png\n",
        "0220-plt.svg\n",
        "0220.png\n",
        "0230-plt.svg\n",
        "0230.png\n",
        "0240-plt.svg\n",
        "0240.png\n",
        "0250-plt.svg\n",
        "0250.png\n",
        "0260-plt.svg\n",
        "0260.png\n",
        "0270-plt.svg\n",
        "0270.png\n",
        "0280-plt.svg\n",
        "0280.png\n",
        "0290-plt.svg\n",
        "0290.png\n",
        "0300-plt.svg\n",
        "0300.png\n",
        "0310-plt.svg\n",
        "0310.png\n",
        "0320-plt.svg\n",
        "0320.png\n",
        "0330-plt.svg\n",
        "0330.png\n",
        "0340-plt.svg\n",
        "0340.png\n",
        "0350-plt.svg\n",
        "0350.png\n",
        "0360-plt.svg\n",
        "0360.png\n",
        "0370-plt.svg\n",
        "0370.png\n",
        "0380-plt.svg\n",
        "0380.png\n",
        "0390-plt.svg\n",
        "0390.png\n",
        "0400-plt.svg\n",
        "0400.png\n",
        "0410-plt.svg\n",
        "0410.png\n",
        "0420-plt.svg\n",
        "0420.png\n",
        "0430-plt.svg\n",
        "0430.png\n",
        "0440-plt.svg\n",
        "0440.png\n",
        "0450-plt.svg\n",
        "0450.png\n",
        "0460-plt.svg\n",
        "0460.png\n",
        "0470-plt.svg\n",
        "0470.png\n",
        "0480-plt.svg\n",
        "0480.png\n",
        "0490-plt.svg\n",
        "0490.png\n",
        "0500-plt.svg\n",
        "0500.png\n",
        "0510-plt.svg\n",
        "0510.png\n",
        "0520-plt.svg\n",
        "0520.png\n",
        "0530-plt.svg\n",
        "0530.png\n",
        "0540-plt.svg\n",
        "0540.png\n",
        "0550-plt.svg\n",
        "0550.png\n",
        "0560-plt.svg\n",
        "0560.png\n",
        "0570-plt.svg\n",
        "0570.png\n",
        "0580-plt.svg\n",
        "0580.png\n",
        "0590-plt.svg\n",
        "0590.png\n",
        "0600-plt.svg\n",
        "0600.png\n",
        "0610-plt.svg\n",
        "0610.png\n",
        "0620-plt.svg\n",
        "0620.png\n",
        "0630-plt.svg\n",
        "0630.png\n",
        "0640-plt.svg\n",
        "0640.png\n",
        "0650-plt.svg\n",
        "0650.png\n",
        "0660-plt.svg\n",
        "0660.png\n",
        "0670-plt.svg\n",
        "0670.png\n",
        "0680-plt.svg\n",
        "0680.png\n",
        "0690-plt.svg\n",
        "0690.png\n",
        "0700-plt.svg\n",
        "0700.png\n",
        "0710-plt.svg\n",
        "0710.png\n",
        "0720-plt.svg\n",
        "0720.png\n",
        "0730-plt.svg\n",
        "0730.png\n",
        "0740-plt.svg\n",
        "0740.png\n",
        "0750-plt.svg\n",
        "0750.png\n",
        "0760-plt.svg\n",
        "0760.png\n",
        "0770-plt.svg\n",
        "0770.png\n",
        "0780-plt.svg\n",
        "0780.png\n",
        "0790-plt.svg\n",
        "0790.png\n",
        "0800-plt.svg\n",
        "0800.png\n",
        "0810-plt.svg\n",
        "0810.png\n",
        "0820-plt.svg\n",
        "0820.png\n",
        "0830-plt.svg\n",
        "0830.png\n",
        "0840-plt.svg\n",
        "0840.png\n",
        "0850-plt.svg\n",
        "0850.png\n",
        "0860-plt.svg\n",
        "0860.png\n",
        "0870-plt.svg\n",
        "0870.png\n",
        "0880-plt.svg\n",
        "0880.png\n",
        "0890-plt.svg\n",
        "0890.png\n",
        "0900-plt.svg\n",
        "0900.png\n",
        "0910-plt.svg\n",
        "0910.png\n",
        "0920-plt.svg\n",
        "0920.png\n",
        "0930-plt.svg\n",
        "0930.png\n",
        "0940-plt.svg\n",
        "0940.png\n",
        "0950-plt.svg\n",
        "0950.png\n",
        "0960-plt.svg\n",
        "0960.png\n",
        "0970-plt.svg\n",
        "0970.png\n",
        "0980-plt.svg\n",
        "0980.png\n",
        "0990-plt.svg\n",
        "0990.png\n",
        "1000-plt.svg\n",
        "1000.png\n",
        "1010-plt.svg\n",
        "1010.png\n",
        "1020-plt.svg\n",
        "1020.png\n",
        "1030-plt.svg\n",
        "1030.png\n",
        "1040-plt.svg\n",
        "1040.png\n",
        "1050-plt.svg\n",
        "1050.png\n",
        "1060-plt.svg\n",
        "1060.png\n",
        "1070-plt.svg\n",
        "1070.png\n",
        "1080-plt.svg\n",
        "1080.png\n",
        "1090-plt.svg\n",
        "1090.png\n",
        "1100-plt.svg\n",
        "1100.png\n",
        "1110-plt.svg\n",
        "1110.png\n",
        "1120-plt.svg\n",
        "1120.png\n",
        "1130-plt.svg\n",
        "1130.png\n",
        "1140-plt.svg\n",
        "1140.png\n",
        "1150-plt.svg\n",
        "1150.png\n",
        "1160-plt.svg\n",
        "1160.png\n",
        "1170-plt.svg\n",
        "1170.png\n",
        "1180-plt.svg\n",
        "1180.png\n",
        "1190-plt.svg\n",
        "1190.png\n",
        "1200-plt.svg\n",
        "1200.png\n",
        "1210-plt.svg\n",
        "1210.png\n",
        "1220-plt.svg\n",
        "1220.png\n",
        "1230-plt.svg\n",
        "1230.png\n",
        "1240-plt.svg\n",
        "1240.png\n",
        "1250-plt.svg\n",
        "1250.png\n",
        "1260-plt.svg\n",
        "1260.png\n",
        "1270-plt.svg\n",
        "1270.png\n",
        "1280-plt.svg\n",
        "1280.png\n",
        "1290-plt.svg\n",
        "1290.png\n",
        "1300-plt.svg\n",
        "1300.png\n",
        "1310-plt.svg\n",
        "1310.png\n",
        "1320-plt.svg\n",
        "1320.png\n",
        "1330-plt.svg\n",
        "1330.png\n",
        "1340-plt.svg\n",
        "1340.png\n",
        "1350-plt.svg\n",
        "1350.png\n",
        "1360-plt.svg\n",
        "1360.png\n",
        "1370-plt.svg\n",
        "1370.png\n",
        "1380-plt.svg\n",
        "1380.png\n",
        "1390-plt.svg\n",
        "1390.png\n",
        "1400-plt.svg\n",
        "1400.png\n",
        "1410-plt.svg\n",
        "1410.png\n",
        "1420-plt.svg\n",
        "1420.png\n",
        "1430-plt.svg\n",
        "1430.png\n",
        "1440-plt.svg\n",
        "1440.png\n",
        "1450-plt.svg\n",
        "1450.png\n",
        "1460-plt.svg\n",
        "1460.png\n",
        "1470-plt.svg\n",
        "1470.png\n",
        "1480-plt.svg\n",
        "1480.png\n",
        "1490-plt.svg\n",
        "1490.png\n",
        "1500-plt.svg\n",
        "1500.png\n",
        "1510-plt.svg\n",
        "1510.png\n",
        "1520-plt.svg\n",
        "1520.png\n",
        "1530-plt.svg\n",
        "1530.png\n",
        "1540-plt.svg\n",
        "1540.png\n",
        "1550-plt.svg\n",
        "1550.png\n",
        "1560-plt.svg\n",
        "1560.png\n",
        "1570-plt.svg\n",
        "1570.png\n",
        "1580-plt.svg\n",
        "1580.png\n",
        "1590-plt.svg\n",
        "1590.png\n",
        "1600-plt.svg\n",
        "1600.png\n",
        "1610-plt.svg\n",
        "1610.png\n",
        "1620-plt.svg\n",
        "1620.png\n",
        "1630-plt.svg\n",
        "1630.png\n",
        "1640-plt.svg\n",
        "1640.png\n",
        "1650-plt.svg\n",
        "1650.png\n",
        "1660-plt.svg\n",
        "1660.png\n",
        "1670-plt.svg\n",
        "1670.png\n",
        "1680-plt.svg\n",
        "1680.png\n",
        "1690-plt.svg\n",
        "1690.png\n",
        "1700-plt.svg\n",
        "1700.png\n",
        "1710-plt.svg\n",
        "1710.png\n",
        "1720-plt.svg\n",
        "1720.png\n",
        "1730-plt.svg\n",
        "1730.png\n",
        "1740-plt.svg\n",
        "1740.png\n",
        "1750-plt.svg\n",
        "1750.png\n",
        "1760-plt.svg\n",
        "1760.png\n",
        "1770-plt.svg\n",
        "1770.png\n",
        "1780-plt.svg\n",
        "1780.png\n",
        "1790-plt.svg\n",
        "1790.png\n",
        "1800-plt.svg\n",
        "1800.png\n",
        "1810-plt.svg\n",
        "1810.png\n",
        "1820-plt.svg\n",
        "1820.png\n",
        "1830-plt.svg\n",
        "1830.png\n",
        "1840-plt.svg\n",
        "1840.png\n",
        "1850-plt.svg\n",
        "1850.png\n",
        "1860-plt.svg\n",
        "1860.png\n",
        "1870-plt.svg\n",
        "1870.png\n",
        "1880-plt.svg\n",
        "1880.png\n",
        "1890-plt.svg\n",
        "1890.png\n",
        "1900-plt.svg\n",
        "1900.png\n",
        "1910-plt.svg\n",
        "1910.png\n",
        "1920-plt.svg\n",
        "1920.png\n",
        "1930-plt.svg\n",
        "1930.png\n",
        "1940-plt.svg\n",
        "1940.png\n",
        "1950-plt.svg\n",
        "1950.png\n",
        "1960-plt.svg\n",
        "1960.png\n",
        "1970-plt.svg\n",
        "1970.png\n",
        "1980-plt.svg\n",
        "1980.png\n",
        "1990-plt.svg\n",
        "1990.png\n",
        "2000-plt.svg\n",
        "2000.png\n",
        "2010-plt.svg\n",
        "2010.png\n",
        "20141218-22_41_33-CA3_DB_PC01_A-01_data.csv\n",
        "20141218-22_41_33-CA3_DB_PC01_A-01_data.svg\n",
        "2020-plt.svg\n",
        "2020.png\n",
        "2030-plt.svg\n",
        "2030.png\n",
        "2040-plt.svg\n",
        "2040.png\n",
        "2050-plt.svg\n",
        "2050.png\n",
        "2060-plt.svg\n",
        "2060.png\n",
        "2070-plt.svg\n",
        "2070.png\n",
        "2080-plt.svg\n",
        "2080.png\n",
        "2090-plt.svg\n",
        "2090.png\n",
        "2100-plt.svg\n",
        "2100.png\n",
        "2110-plt.svg\n",
        "2110.png\n",
        "2120-plt.svg\n",
        "2120.png\n",
        "2130-plt.svg\n",
        "2130.png\n",
        "2140-plt.svg\n",
        "2140.png\n",
        "2150-plt.svg\n",
        "2150.png\n",
        "2160-plt.svg\n",
        "2160.png\n",
        "2170-plt.svg\n",
        "2170.png\n",
        "2180-plt.svg\n",
        "2180.png\n",
        "2190-plt.svg\n",
        "2190.png\n",
        "2200-plt.svg\n",
        "2200.png\n",
        "2210-plt.svg\n",
        "2210.png\n",
        "2220-plt.svg\n",
        "2220.png\n",
        "2230-plt.svg\n",
        "2230.png\n",
        "2240-plt.svg\n",
        "2240.png\n",
        "2250-plt.svg\n",
        "2250.png\n",
        "2260-plt.svg\n",
        "2260.png\n",
        "2270-plt.svg\n",
        "2270.png\n",
        "2280-plt.svg\n",
        "2280.png\n",
        "2290-plt.svg\n",
        "2290.png\n",
        "2300-plt.svg\n",
        "2300.png\n",
        "2310-plt.svg\n",
        "2310.png\n",
        "2320-plt.svg\n",
        "2320.png\n",
        "2330-plt.svg\n",
        "2330.png\n",
        "2340-plt.svg\n",
        "2340.png\n",
        "2350-plt.svg\n",
        "2350.png\n",
        "2360-plt.svg\n",
        "2360.png\n",
        "2370-plt.svg\n",
        "2370.png\n",
        "2380-plt.svg\n",
        "2380.png\n",
        "2390-plt.svg\n",
        "2390.png\n",
        "2400-plt.svg\n",
        "2400.png\n",
        "2410.png\n",
        "0100-plt.svg\n",
        "0100.png\n",
        "0110-plt.svg\n",
        "0110.png\n",
        "0120-plt.svg\n",
        "0120.png\n",
        "0130-plt.svg\n",
        "0130.png\n",
        "0140-plt.svg\n",
        "0140.png\n",
        "0150-plt.svg\n",
        "0150.png\n",
        "0160-plt.svg\n",
        "0160.png\n",
        "0170-plt.svg\n",
        "0170.png\n",
        "0180-plt.svg\n",
        "0180.png\n",
        "0190-plt.svg\n",
        "0190.png\n",
        "0200-plt.svg\n",
        "0200.png\n",
        "0210-plt.svg\n",
        "0210.png\n",
        "0220-plt.svg\n",
        "0220.png\n",
        "0230-plt.svg\n",
        "0230.png\n",
        "0240-plt.svg\n",
        "0240.png\n",
        "0250-plt.svg\n",
        "0250.png\n",
        "0260-plt.svg\n",
        "0260.png\n",
        "0270-plt.svg\n",
        "0270.png\n",
        "0280-plt.svg\n",
        "0280.png\n",
        "0290-plt.svg\n",
        "0290.png\n",
        "0300-plt.svg\n",
        "0300.png\n",
        "0310-plt.svg\n",
        "0310.png\n",
        "0320-plt.svg\n",
        "0320.png\n",
        "0330-plt.svg\n",
        "0330.png\n",
        "0340-plt.svg\n",
        "0340.png\n",
        "0350-plt.svg\n",
        "0350.png\n",
        "0360-plt.svg\n",
        "0360.png\n",
        "0370-plt.svg\n",
        "0370.png\n",
        "0380-plt.svg\n",
        "0380.png\n",
        "0390-plt.svg\n",
        "0390.png\n",
        "0400-plt.svg\n",
        "0400.png\n",
        "0410-plt.svg\n",
        "0410.png\n",
        "0420-plt.svg\n",
        "0420.png\n",
        "0430-plt.svg\n",
        "0430.png\n",
        "0440-plt.svg\n",
        "0440.png\n",
        "0450-plt.svg\n",
        "0450.png\n",
        "0460-plt.svg\n",
        "0460.png\n",
        "0470-plt.svg\n",
        "0470.png\n",
        "0480-plt.svg\n",
        "0480.png\n",
        "0490-plt.svg\n",
        "0490.png\n",
        "0500-plt.svg\n",
        "0500.png\n",
        "0510-plt.svg\n",
        "0510.png\n",
        "0520-plt.svg\n",
        "0520.png\n",
        "0530-plt.svg\n",
        "0530.png\n",
        "0540-plt.svg\n",
        "0540.png\n",
        "0550-plt.svg\n",
        "0550.png\n",
        "0560-plt.svg\n",
        "0560.png\n",
        "0570-plt.svg\n",
        "0570.png\n",
        "0580-plt.svg\n",
        "0580.png\n",
        "0590-plt.svg\n",
        "0590.png\n",
        "0600-plt.svg\n",
        "0600.png\n",
        "0610-plt.svg\n",
        "0610.png\n",
        "0620-plt.svg\n",
        "0620.png\n",
        "0630-plt.svg\n",
        "0630.png\n",
        "0640-plt.svg\n",
        "0640.png\n",
        "0650-plt.svg\n",
        "0650.png\n",
        "0660-plt.svg\n",
        "0660.png\n",
        "0670-plt.svg\n",
        "0670.png\n",
        "0680-plt.svg\n",
        "0680.png\n",
        "0690-plt.svg\n",
        "0690.png\n",
        "0700-plt.svg\n",
        "0700.png\n",
        "0710-plt.svg\n",
        "0710.png\n",
        "0720-plt.svg\n",
        "0720.png\n",
        "0730-plt.svg\n",
        "0730.png\n",
        "0740-plt.svg\n",
        "0740.png\n",
        "0750-plt.svg\n",
        "0750.png\n",
        "0760-plt.svg\n",
        "0760.png\n",
        "0770-plt.svg\n",
        "0770.png\n",
        "0780-plt.svg\n",
        "0780.png\n",
        "0790-plt.svg\n",
        "0790.png\n",
        "0800-plt.svg\n",
        "0800.png\n",
        "0810-plt.svg\n",
        "0810.png\n",
        "0820-plt.svg\n",
        "0820.png\n",
        "0830-plt.svg\n",
        "0830.png\n",
        "0840-plt.svg\n",
        "0840.png\n",
        "0850-plt.svg\n",
        "0850.png\n",
        "0860-plt.svg\n",
        "0860.png\n",
        "0870-plt.svg\n",
        "0870.png\n",
        "0880-plt.svg\n",
        "0880.png\n",
        "0890-plt.svg\n",
        "0890.png\n",
        "0900-plt.svg\n",
        "0900.png\n",
        "0910-plt.svg\n",
        "0910.png\n",
        "0920-plt.svg\n",
        "0920.png\n",
        "0930-plt.svg\n",
        "0930.png\n",
        "0940-plt.svg\n",
        "0940.png\n",
        "0950-plt.svg\n",
        "0950.png\n",
        "0960-plt.svg\n",
        "0960.png\n",
        "0970-plt.svg\n",
        "0970.png\n",
        "0980-plt.svg\n",
        "0980.png\n",
        "0990-plt.svg\n",
        "0990.png\n",
        "1000-plt.svg\n",
        "1000.png\n",
        "1010-plt.svg\n",
        "1010.png\n",
        "1020-plt.svg\n",
        "1020.png\n",
        "1030-plt.svg\n",
        "1030.png\n",
        "1040-plt.svg\n",
        "1040.png\n",
        "1050-plt.svg\n",
        "1050.png\n",
        "1060-plt.svg\n",
        "1060.png\n",
        "1070-plt.svg\n",
        "1070.png\n",
        "1080-plt.svg\n",
        "1080.png\n",
        "1090-plt.svg\n",
        "1090.png\n",
        "1100-plt.svg\n",
        "1100.png\n",
        "1110-plt.svg\n",
        "1110.png\n",
        "1120-plt.svg\n",
        "1120.png\n",
        "1130-plt.svg\n",
        "1130.png\n",
        "1140-plt.svg\n",
        "1140.png\n",
        "1150-plt.svg\n",
        "1150.png\n",
        "1160-plt.svg\n",
        "1160.png\n",
        "1170-plt.svg\n",
        "1170.png\n",
        "1180-plt.svg\n",
        "1180.png\n",
        "1190-plt.svg\n",
        "1190.png\n",
        "1200-plt.svg\n",
        "1200.png\n",
        "1210-plt.svg\n",
        "1210.png\n",
        "1220-plt.svg\n",
        "1220.png\n",
        "1230-plt.svg\n",
        "1230.png\n",
        "1240-plt.svg\n",
        "1240.png\n",
        "1250-plt.svg\n",
        "1250.png\n",
        "1260-plt.svg\n",
        "1260.png\n",
        "1270-plt.svg\n",
        "1270.png\n",
        "1280-plt.svg\n",
        "1280.png\n",
        "1290-plt.svg\n",
        "1290.png\n",
        "1300-plt.svg\n",
        "1300.png\n",
        "1310-plt.svg\n",
        "1310.png\n",
        "1320-plt.svg\n",
        "1320.png\n",
        "1330-plt.svg\n",
        "1330.png\n",
        "1340-plt.svg\n",
        "1340.png\n",
        "1350-plt.svg\n",
        "1350.png\n",
        "1360-plt.svg\n",
        "1360.png\n",
        "1370-plt.svg\n",
        "1370.png\n",
        "1380-plt.svg\n",
        "1380.png\n",
        "1390-plt.svg\n",
        "1390.png\n",
        "1400-plt.svg\n",
        "1400.png\n",
        "1410-plt.svg\n",
        "1410.png\n",
        "1420-plt.svg\n",
        "1420.png\n",
        "1430-plt.svg\n",
        "1430.png\n",
        "1440-plt.svg\n",
        "1440.png\n",
        "1450-plt.svg\n",
        "1450.png\n",
        "1460-plt.svg\n",
        "1460.png\n",
        "1470-plt.svg\n",
        "1470.png\n",
        "1480-plt.svg\n",
        "1480.png\n",
        "1490-plt.svg\n",
        "1490.png\n",
        "1500-plt.svg\n",
        "1500.png\n",
        "1510-plt.svg\n",
        "1510.png\n",
        "1520-plt.svg\n",
        "1520.png\n",
        "1530-plt.svg\n",
        "1530.png\n",
        "1540-plt.svg\n",
        "1540.png\n",
        "1550-plt.svg\n",
        "1550.png\n",
        "1560-plt.svg\n",
        "1560.png\n",
        "1570-plt.svg\n",
        "1570.png\n",
        "1580-plt.svg\n",
        "1580.png\n",
        "1590-plt.svg\n",
        "1590.png\n",
        "1600-plt.svg\n",
        "1600.png\n",
        "1610-plt.svg\n",
        "1610.png\n",
        "1620-plt.svg\n",
        "1620.png\n",
        "1630-plt.svg\n",
        "1630.png\n",
        "1640-plt.svg\n",
        "1640.png\n",
        "1650-plt.svg\n",
        "1650.png\n",
        "1660-plt.svg\n",
        "1660.png\n",
        "1670-plt.svg\n",
        "1670.png\n",
        "1680-plt.svg\n",
        "1680.png\n",
        "1690-plt.svg\n",
        "1690.png\n",
        "1700-plt.svg\n",
        "1700.png\n",
        "1710-plt.svg\n",
        "1710.png\n",
        "1720-plt.svg\n",
        "1720.png\n",
        "1730-plt.svg\n",
        "1730.png\n",
        "1740-plt.svg\n",
        "1740.png\n",
        "1750-plt.svg\n",
        "1750.png\n",
        "1760-plt.svg\n",
        "1760.png\n",
        "1770-plt.svg\n",
        "1770.png\n",
        "1780-plt.svg\n",
        "1780.png\n",
        "1790-plt.svg\n",
        "1790.png\n",
        "1800-plt.svg\n",
        "1800.png\n",
        "1810-plt.svg\n",
        "1810.png\n",
        "1820-plt.svg\n",
        "1820.png\n",
        "1830-plt.svg\n",
        "1830.png\n",
        "1840-plt.svg\n",
        "1840.png\n",
        "1850-plt.svg\n",
        "1850.png\n",
        "1860-plt.svg\n",
        "1860.png\n",
        "1870-plt.svg\n",
        "1870.png\n",
        "1880-plt.svg\n",
        "1880.png\n",
        "1890-plt.svg\n",
        "1890.png\n",
        "1900-plt.svg\n",
        "1900.png\n",
        "1910-plt.svg\n",
        "1910.png\n",
        "1920-plt.svg\n",
        "1920.png\n",
        "1930-plt.svg\n",
        "1930.png\n",
        "1940-plt.svg\n",
        "1940.png\n",
        "1950-plt.svg\n",
        "1950.png\n",
        "1960-plt.svg\n",
        "1960.png\n",
        "1970-plt.svg\n",
        "1970.png\n",
        "1980-plt.svg\n",
        "1980.png\n",
        "1990-plt.svg\n",
        "1990.png\n",
        "2000-plt.svg\n",
        "2000.png\n",
        "2010-plt.svg\n",
        "2010.png\n",
        "20141218-22_46_34-CA3_DB_PC01_A-03_data.csv\n",
        "20141218-22_46_34-CA3_DB_PC01_A-03_data.svg\n",
        "2020-plt.svg\n",
        "2020.png\n",
        "2030-plt.svg\n",
        "2030.png\n",
        "2040-plt.svg\n",
        "2040.png\n",
        "2050-plt.svg\n",
        "2050.png\n",
        "2060-plt.svg\n",
        "2060.png\n",
        "2070-plt.svg\n",
        "2070.png\n",
        "2080-plt.svg\n",
        "2080.png\n",
        "2090-plt.svg\n",
        "2090.png\n",
        "2100-plt.svg\n",
        "2100.png\n",
        "2110-plt.svg\n",
        "2110.png\n",
        "2120-plt.svg\n",
        "2120.png\n",
        "2130-plt.svg\n",
        "2130.png\n",
        "2140-plt.svg\n",
        "2140.png\n",
        "2150-plt.svg\n",
        "2150.png\n",
        "2160-plt.svg\n",
        "2160.png\n",
        "2170-plt.svg\n",
        "2170.png\n",
        "2180-plt.svg\n",
        "2180.png\n",
        "2190-plt.svg\n",
        "2190.png\n",
        "2200-plt.svg\n",
        "2200.png\n",
        "2210-plt.svg\n",
        "2210.png\n",
        "2220-plt.svg\n",
        "2220.png\n",
        "2230-plt.svg\n",
        "2230.png\n",
        "2240-plt.svg\n",
        "2240.png\n",
        "2250-plt.svg\n",
        "2250.png\n",
        "2260-plt.svg\n",
        "2260.png\n",
        "2270-plt.svg\n",
        "2270.png\n",
        "2280-plt.svg\n",
        "2280.png\n",
        "2290-plt.svg\n",
        "2290.png\n",
        "2300-plt.svg\n",
        "2300.png\n",
        "2310-plt.svg\n",
        "2310.png\n",
        "2320-plt.svg\n",
        "2320.png\n",
        "2330-plt.svg\n",
        "2330.png\n",
        "2340-plt.svg\n",
        "2340.png\n",
        "2350-plt.svg\n",
        "2350.png\n",
        "0100-plt.svg\n",
        "0100.png\n",
        "0110-plt.svg\n",
        "0110.png\n",
        "0120-plt.svg\n",
        "0120.png\n",
        "0130-plt.svg\n",
        "0130.png\n",
        "0140-plt.svg\n",
        "0140.png\n",
        "0150-plt.svg\n",
        "0150.png\n",
        "0160-plt.svg\n",
        "0160.png\n",
        "0170-plt.svg\n",
        "0170.png\n",
        "0180-plt.svg\n",
        "0180.png\n",
        "0190-plt.svg\n",
        "0190.png\n",
        "0200-plt.svg\n",
        "0200.png\n",
        "0210-plt.svg\n",
        "0210.png\n",
        "0220-plt.svg\n",
        "0220.png\n",
        "0230-plt.svg\n",
        "0230.png\n",
        "0240-plt.svg\n",
        "0240.png\n",
        "0250-plt.svg\n",
        "0250.png\n",
        "0260-plt.svg\n",
        "0260.png\n",
        "0270-plt.svg\n",
        "0270.png\n",
        "0280-plt.svg\n",
        "0280.png\n",
        "0290-plt.svg\n",
        "0290.png\n",
        "0300-plt.svg\n",
        "0300.png\n",
        "0310-plt.svg\n",
        "0310.png\n",
        "0320-plt.svg\n",
        "0320.png\n",
        "0330-plt.svg\n",
        "0330.png\n",
        "0340-plt.svg\n",
        "0340.png\n",
        "0350-plt.svg\n",
        "0350.png\n",
        "0360-plt.svg\n",
        "0360.png\n",
        "0370-plt.svg\n",
        "0370.png\n",
        "0380-plt.svg\n",
        "0380.png\n",
        "0390-plt.svg\n",
        "0390.png\n",
        "0400-plt.svg\n",
        "0400.png\n",
        "0410-plt.svg\n",
        "0410.png\n",
        "0420-plt.svg\n",
        "0420.png\n",
        "0430-plt.svg\n",
        "0430.png\n",
        "0440-plt.svg\n",
        "0440.png\n",
        "0450-plt.svg\n",
        "0450.png\n",
        "0460-plt.svg\n",
        "0460.png\n",
        "0470-plt.svg\n",
        "0470.png\n",
        "0480-plt.svg\n",
        "0480.png\n",
        "0490-plt.svg\n",
        "0490.png\n",
        "0500-plt.svg\n",
        "0500.png\n",
        "0510-plt.svg\n",
        "0510.png\n",
        "0520-plt.svg\n",
        "0520.png\n",
        "0530-plt.svg\n",
        "0530.png\n",
        "0540-plt.svg\n",
        "0540.png\n",
        "0550-plt.svg\n",
        "0550.png\n",
        "0560-plt.svg\n",
        "0560.png\n",
        "0570-plt.svg\n",
        "0570.png\n",
        "0580-plt.svg\n",
        "0580.png\n",
        "0590-plt.svg\n",
        "0590.png\n",
        "0600-plt.svg\n",
        "0600.png\n",
        "0610-plt.svg\n",
        "0610.png\n",
        "0620-plt.svg\n",
        "0620.png\n",
        "0630-plt.svg\n",
        "0630.png\n",
        "0640-plt.svg\n",
        "0640.png\n",
        "0650-plt.svg\n",
        "0650.png\n",
        "0660-plt.svg\n",
        "0660.png\n",
        "0670-plt.svg\n",
        "0670.png\n",
        "0680-plt.svg\n",
        "0680.png\n",
        "0690-plt.svg\n",
        "0690.png\n",
        "0700-plt.svg\n",
        "0700.png\n",
        "0710-plt.svg\n",
        "0710.png\n",
        "0720-plt.svg\n",
        "0720.png\n",
        "0730-plt.svg\n",
        "0730.png\n",
        "0740-plt.svg\n",
        "0740.png\n",
        "0750-plt.svg\n",
        "0750.png\n",
        "0760-plt.svg\n",
        "0760.png\n",
        "0770-plt.svg\n",
        "0770.png\n",
        "0780-plt.svg\n",
        "0780.png\n",
        "0790-plt.svg\n",
        "0790.png\n",
        "0800-plt.svg\n",
        "0800.png\n",
        "0810-plt.svg\n",
        "0810.png\n",
        "0820-plt.svg\n",
        "0820.png\n",
        "0830-plt.svg\n",
        "0830.png\n",
        "0840-plt.svg\n",
        "0840.png\n",
        "0850-plt.svg\n",
        "0850.png\n",
        "0860-plt.svg\n",
        "0860.png\n",
        "0870-plt.svg\n",
        "0870.png\n",
        "0880-plt.svg\n",
        "0880.png\n",
        "0890-plt.svg\n",
        "0890.png\n",
        "0900-plt.svg\n",
        "0900.png\n",
        "0910-plt.svg\n",
        "0910.png\n",
        "0920-plt.svg\n",
        "0920.png\n",
        "0930-plt.svg\n",
        "0930.png\n",
        "0940-plt.svg\n",
        "0940.png\n",
        "0950-plt.svg\n",
        "0950.png\n",
        "0960-plt.svg\n",
        "0960.png\n",
        "0970-plt.svg\n",
        "0970.png\n",
        "0980-plt.svg\n",
        "0980.png\n",
        "0990-plt.svg\n",
        "0990.png\n",
        "1000-plt.svg\n",
        "1000.png\n",
        "1010-plt.svg\n",
        "1010.png\n",
        "1020-plt.svg\n",
        "1020.png\n",
        "1030-plt.svg\n",
        "1030.png\n",
        "1040-plt.svg\n",
        "1040.png\n",
        "1050-plt.svg\n",
        "1050.png\n",
        "1060-plt.svg\n",
        "1060.png\n",
        "1070-plt.svg\n",
        "1070.png\n",
        "1080-plt.svg\n",
        "1080.png\n",
        "1090-plt.svg\n",
        "1090.png\n",
        "1100-plt.svg\n",
        "1100.png\n",
        "1110-plt.svg\n",
        "1110.png\n",
        "1120-plt.svg\n",
        "1120.png\n",
        "1130-plt.svg\n",
        "1130.png\n",
        "1140-plt.svg\n",
        "1140.png\n",
        "1150-plt.svg\n",
        "1150.png\n",
        "1160-plt.svg\n",
        "1160.png\n",
        "1170-plt.svg\n",
        "1170.png\n",
        "1180-plt.svg\n",
        "1180.png\n",
        "1190-plt.svg\n",
        "1190.png\n",
        "1200-plt.svg\n",
        "1200.png\n",
        "1210-plt.svg\n",
        "1210.png\n",
        "1220-plt.svg\n",
        "1220.png\n",
        "1230-plt.svg\n",
        "1230.png\n",
        "1240-plt.svg\n",
        "1240.png\n",
        "1250-plt.svg\n",
        "1250.png\n",
        "1260-plt.svg\n",
        "1260.png\n",
        "1270-plt.svg\n",
        "1270.png\n",
        "1280-plt.svg\n",
        "1280.png\n",
        "1290-plt.svg\n",
        "1290.png\n",
        "1300-plt.svg\n",
        "1300.png\n",
        "1310-plt.svg\n",
        "1310.png\n",
        "1320-plt.svg\n",
        "1320.png\n",
        "1330-plt.svg\n",
        "1330.png\n",
        "1340-plt.svg\n",
        "1340.png\n",
        "1350-plt.svg\n",
        "1350.png\n",
        "1360-plt.svg\n",
        "1360.png\n",
        "1370-plt.svg\n",
        "1370.png\n",
        "1380-plt.svg\n",
        "1380.png\n",
        "1390-plt.svg\n",
        "1390.png\n",
        "1400-plt.svg\n",
        "1400.png\n",
        "1410-plt.svg\n",
        "1410.png\n",
        "1420-plt.svg\n",
        "1420.png\n",
        "1430-plt.svg\n",
        "1430.png\n",
        "1440-plt.svg\n",
        "1440.png\n",
        "1450-plt.svg\n",
        "1450.png\n",
        "1460-plt.svg\n",
        "1460.png\n",
        "1470-plt.svg\n",
        "1470.png\n",
        "1480-plt.svg\n",
        "1480.png\n",
        "1490-plt.svg\n",
        "1490.png\n",
        "1500-plt.svg\n",
        "1500.png\n",
        "1510-plt.svg\n",
        "1510.png\n",
        "1520-plt.svg\n",
        "1520.png\n",
        "1530-plt.svg\n",
        "1530.png\n",
        "1540-plt.svg\n",
        "1540.png\n",
        "1550-plt.svg\n",
        "1550.png\n",
        "1560-plt.svg\n",
        "1560.png\n",
        "1570-plt.svg\n",
        "1570.png\n",
        "1580-plt.svg\n",
        "1580.png\n",
        "1590-plt.svg\n",
        "1590.png\n",
        "1600-plt.svg\n",
        "1600.png\n",
        "1610-plt.svg\n",
        "1610.png\n",
        "1620-plt.svg\n",
        "1620.png\n",
        "1630-plt.svg\n",
        "1630.png\n",
        "1640-plt.svg\n",
        "1640.png\n",
        "1650-plt.svg\n",
        "1650.png\n",
        "1660-plt.svg\n",
        "1660.png\n",
        "1670-plt.svg\n",
        "1670.png\n",
        "1680-plt.svg\n",
        "1680.png\n",
        "1690-plt.svg\n",
        "1690.png\n",
        "1700-plt.svg\n",
        "1700.png\n",
        "1710-plt.svg\n",
        "1710.png\n",
        "1720-plt.svg\n",
        "1720.png\n",
        "1730-plt.svg\n",
        "1730.png\n",
        "1740-plt.svg\n",
        "1740.png\n",
        "1750-plt.svg\n",
        "1750.png\n",
        "1760-plt.svg\n",
        "1760.png\n",
        "1770-plt.svg\n",
        "1770.png\n",
        "1780-plt.svg\n",
        "1780.png\n",
        "1790-plt.svg\n",
        "1790.png\n",
        "1800-plt.svg\n",
        "1800.png\n",
        "1810-plt.svg\n",
        "1810.png\n",
        "1820-plt.svg\n",
        "1820.png\n",
        "1830-plt.svg\n",
        "1830.png\n",
        "1840-plt.svg\n",
        "1840.png\n",
        "1850-plt.svg\n",
        "1850.png\n",
        "1860-plt.svg\n",
        "1860.png\n",
        "1870-plt.svg\n",
        "1870.png\n",
        "1880-plt.svg\n",
        "1880.png\n",
        "1890-plt.svg\n",
        "1890.png\n",
        "1900-plt.svg\n",
        "1900.png\n",
        "1910-plt.svg\n",
        "1910.png\n",
        "1920-plt.svg\n",
        "1920.png\n",
        "1930-plt.svg\n",
        "1930.png\n",
        "1940-plt.svg\n",
        "1940.png\n",
        "1950-plt.svg\n",
        "1950.png\n",
        "1960-plt.svg\n",
        "1960.png\n",
        "1970-plt.svg\n",
        "1970.png\n",
        "1980-plt.svg\n",
        "1980.png\n",
        "1990-plt.svg\n",
        "1990.png\n",
        "2000-plt.svg\n",
        "2000.png\n",
        "2010-plt.svg\n",
        "2010.png\n",
        "20141218-22_48_53-CA3_DB_PC01_A-04_data.csv\n",
        "20141218-22_48_53-CA3_DB_PC01_A-04_data.svg\n",
        "2020-plt.svg\n",
        "2020.png\n",
        "2030-plt.svg\n",
        "2030.png\n",
        "2040-plt.svg\n",
        "2040.png\n",
        "2050-plt.svg\n",
        "2050.png\n",
        "2060-plt.svg\n",
        "2060.png\n",
        "2070-plt.svg\n",
        "2070.png\n",
        "2080-plt.svg\n",
        "2080.png\n",
        "2090-plt.svg\n",
        "2090.png\n",
        "2100-plt.svg\n",
        "2100.png\n",
        "2110-plt.svg\n",
        "2110.png\n",
        "2120-plt.svg\n",
        "2120.png\n",
        "2130-plt.svg\n",
        "2130.png\n",
        "2140-plt.svg\n",
        "2140.png\n",
        "2150-plt.svg\n",
        "2150.png\n",
        "2160-plt.svg\n",
        "2160.png\n",
        "2170-plt.svg\n",
        "2170.png\n",
        "2180-plt.svg\n",
        "2180.png\n",
        "2190-plt.svg\n",
        "2190.png\n",
        "2200-plt.svg\n",
        "2200.png\n",
        "2210-plt.svg\n",
        "2210.png\n",
        "2220-plt.svg\n",
        "2220.png\n",
        "2230-plt.svg\n",
        "2230.png\n",
        "2240-plt.svg\n",
        "2240.png\n",
        "2250-plt.svg\n",
        "2250.png\n",
        "2260-plt.svg\n",
        "2260.png\n",
        "2270-plt.svg\n",
        "2270.png\n",
        "2280-plt.svg\n",
        "2280.png\n",
        "2290-plt.svg\n",
        "2290.png\n",
        "2300-plt.svg\n",
        "2300.png\n",
        "2310-plt.svg\n",
        "2310.png\n",
        "2320-plt.svg\n",
        "2320.png\n",
        "2330-plt.svg\n",
        "2330.png\n",
        "2340-plt.svg\n",
        "2340.png\n",
        "2350-plt.svg\n",
        "2350.png\n",
        "2360-plt.svg\n",
        "2360.png\n",
        "2370-plt.svg\n",
        "2370.png\n",
        "2380-plt.svg\n",
        "2380.png\n",
        "0100-plt.svg\n",
        "0100.png\n",
        "0110-plt.svg\n",
        "0110.png\n",
        "0120-plt.svg\n",
        "0120.png\n",
        "0130-plt.svg\n",
        "0130.png\n",
        "0140-plt.svg\n",
        "0140.png\n",
        "0150-plt.svg\n",
        "0150.png\n",
        "0160-plt.svg\n",
        "0160.png\n",
        "0170-plt.svg\n",
        "0170.png\n",
        "0180-plt.svg\n",
        "0180.png\n",
        "0190-plt.svg\n",
        "0190.png\n",
        "0200-plt.svg\n",
        "0200.png\n",
        "0210-plt.svg\n",
        "0210.png\n",
        "0220-plt.svg\n",
        "0220.png\n",
        "0230-plt.svg\n",
        "0230.png\n",
        "0240-plt.svg\n",
        "0240.png\n",
        "0250-plt.svg\n",
        "0250.png\n",
        "0260-plt.svg\n",
        "0260.png\n",
        "0270-plt.svg\n",
        "0270.png\n",
        "0280-plt.svg\n",
        "0280.png\n",
        "0290-plt.svg\n",
        "0290.png\n",
        "0300-plt.svg\n",
        "0300.png\n",
        "0310-plt.svg\n",
        "0310.png\n",
        "0320-plt.svg\n",
        "0320.png\n",
        "0330-plt.svg\n",
        "0330.png\n",
        "0340-plt.svg\n",
        "0340.png\n",
        "0350-plt.svg\n",
        "0350.png\n",
        "0360-plt.svg\n",
        "0360.png\n",
        "0370-plt.svg\n",
        "0370.png\n",
        "0380-plt.svg\n",
        "0380.png\n",
        "0390-plt.svg\n",
        "0390.png\n",
        "0400-plt.svg\n",
        "0400.png\n",
        "0410-plt.svg\n",
        "0410.png\n",
        "0420-plt.svg\n",
        "0420.png\n",
        "0430-plt.svg\n",
        "0430.png\n",
        "0440-plt.svg\n",
        "0440.png\n",
        "0450-plt.svg\n",
        "0450.png\n",
        "0460-plt.svg\n",
        "0460.png\n",
        "0470-plt.svg\n",
        "0470.png\n",
        "0480-plt.svg\n",
        "0480.png\n",
        "0490-plt.svg\n",
        "0490.png\n",
        "0500-plt.svg\n",
        "0500.png\n",
        "0510-plt.svg\n",
        "0510.png\n",
        "0520-plt.svg\n",
        "0520.png\n",
        "0530-plt.svg\n",
        "0530.png\n",
        "0540-plt.svg\n",
        "0540.png\n",
        "0550-plt.svg\n",
        "0550.png\n",
        "0560-plt.svg\n",
        "0560.png\n",
        "0570-plt.svg\n",
        "0570.png\n",
        "0580-plt.svg\n",
        "0580.png\n",
        "0590-plt.svg\n",
        "0590.png\n",
        "0600-plt.svg\n",
        "0600.png\n",
        "0610-plt.svg\n",
        "0610.png\n",
        "0620-plt.svg\n",
        "0620.png\n",
        "0630-plt.svg\n",
        "0630.png\n",
        "0640-plt.svg\n",
        "0640.png\n",
        "0650-plt.svg\n",
        "0650.png\n",
        "0660-plt.svg\n",
        "0660.png\n",
        "0670-plt.svg\n",
        "0670.png\n",
        "0680-plt.svg\n",
        "0680.png\n",
        "0690-plt.svg\n",
        "0690.png\n",
        "0700-plt.svg\n",
        "0700.png\n",
        "0710-plt.svg\n",
        "0710.png\n",
        "0720-plt.svg\n",
        "0720.png\n",
        "0730-plt.svg\n",
        "0730.png\n",
        "0740-plt.svg\n",
        "0740.png\n",
        "0750-plt.svg\n",
        "0750.png\n",
        "0760-plt.svg\n",
        "0760.png\n",
        "0770-plt.svg\n",
        "0770.png\n",
        "0780-plt.svg\n",
        "0780.png\n",
        "0790-plt.svg\n",
        "0790.png\n",
        "0800-plt.svg\n",
        "0800.png\n",
        "0810-plt.svg\n",
        "0810.png\n",
        "0820-plt.svg\n",
        "0820.png\n",
        "0830-plt.svg\n",
        "0830.png\n",
        "0840-plt.svg\n",
        "0840.png\n",
        "0850-plt.svg\n",
        "0850.png\n",
        "0860-plt.svg\n",
        "0860.png\n",
        "0870-plt.svg\n",
        "0870.png\n",
        "0880-plt.svg\n",
        "0880.png\n",
        "0890-plt.svg\n",
        "0890.png\n",
        "0900-plt.svg\n",
        "0900.png\n",
        "0910-plt.svg\n",
        "0910.png\n",
        "0920-plt.svg\n",
        "0920.png\n",
        "0930-plt.svg\n",
        "0930.png\n",
        "0940-plt.svg\n",
        "0940.png\n",
        "0950-plt.svg\n",
        "0950.png\n",
        "0960-plt.svg\n",
        "0960.png\n",
        "0970-plt.svg\n",
        "0970.png\n",
        "0980-plt.svg\n",
        "0980.png\n",
        "0990-plt.svg\n",
        "0990.png\n",
        "1000-plt.svg\n",
        "1000.png\n",
        "1010-plt.svg\n",
        "1010.png\n",
        "1020-plt.svg\n",
        "1020.png\n",
        "1030-plt.svg\n",
        "1030.png\n",
        "1040-plt.svg\n",
        "1040.png\n",
        "1050-plt.svg\n",
        "1050.png\n",
        "1060-plt.svg\n",
        "1060.png\n",
        "1070-plt.svg\n",
        "1070.png\n",
        "1080-plt.svg\n",
        "1080.png\n",
        "1090-plt.svg\n",
        "1090.png\n",
        "1100-plt.svg\n",
        "1100.png\n",
        "1110-plt.svg\n",
        "1110.png\n",
        "1120-plt.svg\n",
        "1120.png\n",
        "1130-plt.svg\n",
        "1130.png\n",
        "1140-plt.svg\n",
        "1140.png\n",
        "1150-plt.svg\n",
        "1150.png\n",
        "1160-plt.svg\n",
        "1160.png\n",
        "1170-plt.svg\n",
        "1170.png\n",
        "1180-plt.svg\n",
        "1180.png\n",
        "1190-plt.svg\n",
        "1190.png\n",
        "1200-plt.svg\n",
        "1200.png\n",
        "1210-plt.svg\n",
        "1210.png\n",
        "1220-plt.svg\n",
        "1220.png\n",
        "1230-plt.svg\n",
        "1230.png\n",
        "1240-plt.svg\n",
        "1240.png\n",
        "1250-plt.svg\n",
        "1250.png\n",
        "1260-plt.svg\n",
        "1260.png\n",
        "1270-plt.svg\n",
        "1270.png\n",
        "1280-plt.svg\n",
        "1280.png\n",
        "1290-plt.svg\n",
        "1290.png\n",
        "1300-plt.svg\n",
        "1300.png\n",
        "1310-plt.svg\n",
        "1310.png\n",
        "1320-plt.svg\n",
        "1320.png\n",
        "1330-plt.svg\n",
        "1330.png\n",
        "1340-plt.svg\n",
        "1340.png\n",
        "1350-plt.svg\n",
        "1350.png\n",
        "1360-plt.svg\n",
        "1360.png\n",
        "1370-plt.svg\n",
        "1370.png\n",
        "1380-plt.svg\n",
        "1380.png\n",
        "1390-plt.svg\n",
        "1390.png\n",
        "1400-plt.svg\n",
        "1400.png\n",
        "1410-plt.svg\n",
        "1410.png\n",
        "1420-plt.svg\n",
        "1420.png\n",
        "1430-plt.svg\n",
        "1430.png\n",
        "1440-plt.svg\n",
        "1440.png\n",
        "1450-plt.svg\n",
        "1450.png\n",
        "1460-plt.svg\n",
        "1460.png\n",
        "1470-plt.svg\n",
        "1470.png\n",
        "1480-plt.svg\n",
        "1480.png\n",
        "1490-plt.svg\n",
        "1490.png\n",
        "1500-plt.svg\n",
        "1500.png\n",
        "1510-plt.svg\n",
        "1510.png\n",
        "1520-plt.svg\n",
        "1520.png\n",
        "1530-plt.svg\n",
        "1530.png\n",
        "1540-plt.svg\n",
        "1540.png\n",
        "1550-plt.svg\n",
        "1550.png\n",
        "1560-plt.svg\n",
        "1560.png\n",
        "1570-plt.svg\n",
        "1570.png\n",
        "1580-plt.svg\n",
        "1580.png\n",
        "1590-plt.svg\n",
        "1590.png\n",
        "1600-plt.svg\n",
        "1600.png\n",
        "1610-plt.svg\n",
        "1610.png\n",
        "1620-plt.svg\n",
        "1620.png\n",
        "1630-plt.svg\n",
        "1630.png\n",
        "1640-plt.svg\n",
        "1640.png\n",
        "1650-plt.svg\n",
        "1650.png\n",
        "1660-plt.svg\n",
        "1660.png\n",
        "1670-plt.svg\n",
        "1670.png\n",
        "1680-plt.svg\n",
        "1680.png\n",
        "1690-plt.svg\n",
        "1690.png\n",
        "1700-plt.svg\n",
        "1700.png\n",
        "1710-plt.svg\n",
        "1710.png\n",
        "1720-plt.svg\n",
        "1720.png\n",
        "1730-plt.svg\n",
        "1730.png\n",
        "1740-plt.svg\n",
        "1740.png\n",
        "1750-plt.svg\n",
        "1750.png\n",
        "1760-plt.svg\n",
        "1760.png\n",
        "1770-plt.svg\n",
        "1770.png\n",
        "1780-plt.svg\n",
        "1780.png\n",
        "1790-plt.svg\n",
        "1790.png\n",
        "1800-plt.svg\n",
        "1800.png\n",
        "1810-plt.svg\n",
        "1810.png\n",
        "1820-plt.svg\n",
        "1820.png\n",
        "1830-plt.svg\n",
        "1830.png\n",
        "1840-plt.svg\n",
        "1840.png\n",
        "1850-plt.svg\n",
        "1850.png\n",
        "1860-plt.svg\n",
        "1860.png\n",
        "1870-plt.svg\n",
        "1870.png\n",
        "1880-plt.svg\n",
        "1880.png\n",
        "1890-plt.svg\n",
        "1890.png\n",
        "1900-plt.svg\n",
        "1900.png\n",
        "1910-plt.svg\n",
        "1910.png\n",
        "1920-plt.svg\n",
        "1920.png\n",
        "1930-plt.svg\n",
        "1930.png\n",
        "1940-plt.svg\n",
        "1940.png\n",
        "1950-plt.svg\n",
        "1950.png\n",
        "1960-plt.svg\n",
        "1960.png\n",
        "1970-plt.svg\n",
        "1970.png\n",
        "1980-plt.svg\n",
        "1980.png\n",
        "1990-plt.svg\n",
        "1990.png\n",
        "2000-plt.svg\n",
        "2000.png\n",
        "2010-plt.svg\n",
        "2010.png\n",
        "20141218-22_51_21-CA3_DB_PC01_A-05_data.csv\n",
        "20141218-22_51_21-CA3_DB_PC01_A-05_data.svg\n",
        "2020-plt.svg\n",
        "2020.png\n",
        "2030-plt.svg\n",
        "2030.png\n",
        "2040-plt.svg\n",
        "2040.png\n",
        "2050-plt.svg\n",
        "2050.png\n",
        "2060-plt.svg\n",
        "2060.png\n",
        "2070-plt.svg\n",
        "2070.png\n",
        "2080-plt.svg\n",
        "2080.png\n",
        "2090-plt.svg\n",
        "2090.png\n",
        "2100-plt.svg\n",
        "2100.png\n",
        "2110-plt.svg\n",
        "2110.png\n",
        "2120-plt.svg\n",
        "2120.png\n",
        "2130-plt.svg\n",
        "2130.png\n",
        "2140-plt.svg\n",
        "2140.png\n",
        "2150-plt.svg\n",
        "2150.png\n",
        "2160-plt.svg\n",
        "2160.png\n",
        "2170-plt.svg\n",
        "2170.png\n",
        "2180-plt.svg\n",
        "2180.png\n",
        "2190-plt.svg\n",
        "2190.png\n",
        "2200-plt.svg\n",
        "2200.png\n",
        "2210-plt.svg\n",
        "2210.png\n",
        "2220-plt.svg\n",
        "2220.png\n",
        "2230-plt.svg\n",
        "2230.png\n",
        "2240-plt.svg\n",
        "2240.png\n",
        "2250-plt.svg\n",
        "2250.png\n",
        "2260-plt.svg\n",
        "2260.png\n",
        "2270-plt.svg\n",
        "2270.png\n",
        "2280-plt.svg\n",
        "2280.png\n",
        "2290-plt.svg\n",
        "2290.png\n",
        "2300-plt.svg\n",
        "2300.png\n",
        "2310-plt.svg\n",
        "2310.png\n",
        "2320-plt.svg\n",
        "2320.png\n",
        "2330-plt.svg\n",
        "2330.png\n",
        "2340-plt.svg\n",
        "2340.png\n"
       ]
      }
     ],
     "prompt_number": 1
    },
    {
     "cell_type": "code",
     "collapsed": false,
     "input": [
      "###\n",
      "###  2014.12.30\n",
      "###  ANALYSIS 1 4-Lightblurred (122 videos total)\n",
      "###  F:\\AFCC Metal FSU Testing 2014\\A3\\PC01_A_rejected\n",
      "###  Final protocol for data analysis - softer filtering - final all\n",
      "###\n",
      "\n",
      "import sys\n",
      "sys.path.insert(0, 'D:\\\\GitHub\\\\workspace\\\\A2_ContactAngle\\\\')\n",
      "import main # getContactAngle main\n",
      "\n",
      "headersVid = [\n",
      "          'Filename',\n",
      "          'FolderID',\n",
      "          'FabID',\n",
      "          'Sample#',\n",
      "          'Region',\n",
      "          'AdvCALeft(deg)',\n",
      "          'AdvCARight(deg)',\n",
      "          'MaxDiameter(px)',\n",
      "          'BED(px)'       \n",
      "          ]\n",
      "\n",
      "varsDebugVid = {\n",
      "    'PATH' : 'F:\\\\AFCC Metal FSU Testing 2014\\\\A3\\\\PC01_A_rejected\\\\',\n",
      "    'VSF' : 100, # Video start frame\n",
      "    'VEF' : 30000, # Video end frame (max frame)\n",
      "    'N' : 10, # Analyze every Nth frame\n",
      "    'R' : 0.8, # Rotation in degrees\n",
      "    'ROI' : (100,800,10,1910), # Rowmin, Rowmax, Colmin,Colmax\n",
      "    'MASK' : (10,1890,255), # Colmin, colmax\n",
      "    'BR' : 120, # Brightness increase (255 = white)\n",
      "    'TH' : 160, # Binary threshold\n",
      "    'POLYDEG' : 2,  # Degree of polyfit\n",
      "    'DERIVOFF' : 50, # Contact angle measurement offset from BED, in pixel/10\n",
      "    'MINSYGPOS' : 400, # Minimum syringe position in pixels from left side\n",
      "    'SYGOFF' : 18, # Offset from syringe for measureing vertically\n",
      "    'VIDMID' : 100, # BED selection point\n",
      "    'BUBMAX' : 900, # Maximum bubble width\n",
      "    'MINFITPTS' : 10, # Minimum dataset size to attempt analysis\n",
      "    'MAXFITPTS' : 60, # Maximum points for fit attempt, prevents garbage pts.\n",
      "    'DPI' : 100, # Plot dots per inch, ignored for .svg\n",
      "    'PLOTXOFF' : 1000, # Graph offset from image center in X direction \n",
      "    'PLOTYOFF' : 120, # Graph offset from image center in Y+ direction\n",
      "    'DEBUG' : True, # Plots and saves images\n",
      "    'RESETBED' : False, # Will ignore _BED if present\n",
      "    'ASSIGNBEDS' : False, # Will ignore analysis and assign beds, responds to RESETBED\n",
      "    'REMOVEBEDS' : False, # Will ignore assignBeds and analysis and remove _BED\n",
      "}\n",
      "\n",
      "gCA1 = main.getContactAngle(varsDebugVid, headersVid)\n",
      "gCA1.analyzeVideos()\n"
     ],
     "language": "python",
     "metadata": {},
     "outputs": []
    },
    {
     "cell_type": "code",
     "collapsed": false,
     "input": [],
     "language": "python",
     "metadata": {},
     "outputs": []
    }
   ],
   "metadata": {}
  }
 ]
}