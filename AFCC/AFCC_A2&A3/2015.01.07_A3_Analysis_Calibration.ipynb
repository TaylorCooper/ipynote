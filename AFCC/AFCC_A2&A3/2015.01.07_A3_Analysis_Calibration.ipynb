{
 "metadata": {
  "name": "",
  "signature": "sha256:68c7276f247d2915d7f415d75fd55be29cd6e60baedb92539260e97637cb4499"
 },
 "nbformat": 3,
 "nbformat_minor": 0,
 "worksheets": [
  {
   "cells": [
    {
     "cell_type": "code",
     "collapsed": false,
     "input": [
      "###\n",
      "###  2014.01.07\n",
      "###  ANALYSIS of 11 videos total\n",
      "###  F:\\AFCC Metal FSU Testing 2014\\A3\\CalibrationSamples\n",
      "###  Final protocol for data analysis - softer filtering - final all\n",
      "###  Tuned derivoff and maxfitpts to \n",
      "###\n",
      "\n",
      "import sys\n",
      "sys.path.insert(0, 'D:\\\\GitHub\\\\workspace\\\\A2_ContactAngle\\\\')\n",
      "import main # getContactAngle main\n",
      "\n",
      "headersVid = [\n",
      "          'Filename',\n",
      "          'FolderID',\n",
      "          'FabID',\n",
      "          'Sample#',\n",
      "          'Region',\n",
      "          'AdvCALeft(deg)',\n",
      "          'AdvCARight(deg)',\n",
      "          'MaxDiameter(px)',\n",
      "          'BED(px)'       \n",
      "          ]\n",
      "\n",
      "varsDebugVid = {\n",
      "    'PATH' : 'F:\\\\AFCC Metal FSU Testing 2014\\\\A3\\\\CalibrationSamples\\\\',\n",
      "    'VSF' : 100, # Video start frame\n",
      "    'VEF' : 30000, # Video end frame (max frame)\n",
      "    'N' : 10, # Analyze every Nth frame\n",
      "    'R' : 1.3, # Rotation in degrees\n",
      "    'ROI' : (100,800,10,1910), # Rowmin, Rowmax, Colmin,Colmax\n",
      "    'MASK' : (10,1890,255), # Colmin, colmax\n",
      "    'BR' : 130, # Brightness increase (255 = white)\n",
      "    'TH' : 160, # Binary threshold\n",
      "    'POLYDEG' : 2,  # Degree of polyfit\n",
      "    'DERIVOFF' : 5, # Contact angle measurement offset from BED, in pixel/10\n",
      "    'MINSYGPOS' : 400, # Minimum syringe position in pixels from left side\n",
      "    'SYGOFF' : 18, # Offset from syringe for measureing vertically\n",
      "    'VIDMID' : 100, # BED selection point\n",
      "    'BUBMAX' : 900, # Maximum bubble width\n",
      "    'MINFITPTS' : 2, # Minimum dataset size to attempt analysis\n",
      "    'MAXFITPTS' : 35, # Maximum points for fit attempt, prevents garbage pts.\n",
      "    'DPI' : 100, # Plot dots per inch, ignored for .svg\n",
      "    'PLOTXOFF' : 1000, # Graph offset from image center in X direction \n",
      "    'PLOTYOFF' : 120, # Graph offset from image center in Y+ direction\n",
      "    'DEBUG' : True, # Plots and saves images\n",
      "    'RESETBED' : False, # Will ignore _BED if present\n",
      "    'ASSIGNBEDS' : False, # Will ignore analysis and assign beds, responds to RESETBED\n",
      "    'REMOVEBEDS' : False, # Will ignore assignBeds and analysis and remove _BED\n",
      "}\n",
      "\n",
      "gCA1 = main.getContactAngle(varsDebugVid, headersVid)\n",
      "gCA1.analyzeVideos()"
     ],
     "language": "python",
     "metadata": {},
     "outputs": []
    },
    {
     "cell_type": "code",
     "collapsed": false,
     "input": [],
     "language": "python",
     "metadata": {},
     "outputs": []
    }
   ],
   "metadata": {}
  }
 ]
}