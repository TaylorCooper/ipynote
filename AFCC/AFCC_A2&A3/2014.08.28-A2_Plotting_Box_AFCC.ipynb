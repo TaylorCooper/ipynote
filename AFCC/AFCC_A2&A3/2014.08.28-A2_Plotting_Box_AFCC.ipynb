{
 "metadata": {
  "name": "",
  "signature": "sha256:752bcf260689a3eef6fb9c63a698bb87e9c568ebc76b1f7c432a7b1d95d6049c"
 },
 "nbformat": 3,
 "nbformat_minor": 0,
 "worksheets": [
  {
   "cells": [
    {
     "cell_type": "code",
     "collapsed": false,
     "input": [
      "import pandas as pd  # Pandas dataframes very cool for data analysis stuff\n",
      "import numpy as np  # Numpy is math functionality \n",
      "\n",
      "import pylab as pl\n",
      "import matplotlib as mpl\n",
      "import matplotlib.pyplot as plt\n",
      "import matplotlib.ticker as tkr\n",
      "import time, csv, os\n",
      "\n",
      "%pylab inline  \n",
      "\n",
      "path = \"D:\\\\_Work\\\\0000-AFCC_MetalFSU_A2\\\\2014.08.28_Analysis\\\\\"\n",
      "print 'Plotting from:', path\n",
      "df = pd.read_csv(path+'afccDataSummary.csv', sep=',', header=0)"
     ],
     "language": "python",
     "metadata": {},
     "outputs": [
      {
       "output_type": "stream",
       "stream": "stdout",
       "text": [
        "Populating the interactive namespace from numpy and matplotlib\n",
        "Plotting from: D:\\_Work\\0000-AFCC_MetalFSU_A2\\2014.08.28_Analysis\\\n"
       ]
      }
     ],
     "prompt_number": 3
    },
    {
     "cell_type": "code",
     "collapsed": false,
     "input": [
      "expts = [1317600134,1318001194,1317900821,1317700435,1317700295]\n",
      "\n",
      "def plotterAFCC(d):\n",
      "    \"\"\"Plot a left, right side by side of some stuff\n",
      "    \"\"\"\n",
      "\n",
      "    figName = d[0]\n",
      "    yleft = d[1]\n",
      "    yright = d[2]\n",
      "    tleft = d[3]\n",
      "    tright = d[4]\n",
      "    ymax = d[5]\n",
      "    col1 = d[6]\n",
      "    col2 = d[7]    \n",
      "    \n",
      "    fig = plt.figure(figsize=(12,4))\n",
      "\n",
      "    # Create first plot\n",
      "    ax = fig.add_subplot(121) # rows,cols,index 121 = 1row, 2cols, top left graph\n",
      "\n",
      "    labels = ['']\n",
      "\n",
      "    for i,entry in enumerate(expts):\n",
      "        y = df[df['Experiment']==entry][col1]\n",
      "        labels.append(str(entry)+'  N='+str(len(y)))\n",
      "\n",
      "        # Add some random \"jitter\" to the x-axis\n",
      "        x = np.random.normal(i+1, 0.04, size=len(y))\n",
      "        ax.plot(x, y, 'r.', alpha=0.5)\n",
      "        ax.scatter(i+1, y.mean(), zorder=10000, alpha=0.7)\n",
      "\n",
      "    # X tick nonsense\n",
      "    ax.xaxis.set_major_locator(tkr.MaxNLocator(6))\n",
      "    ax.set_xticklabels(labels)\n",
      "    plt.xticks(rotation=70)\n",
      "    for xticka in ax.xaxis.get_major_ticks():\n",
      "        xticka.label1.set_fontsize(6)\n",
      "\n",
      "    # Labels and scaling\n",
      "    ax.set_ylabel(yleft, size=7)\n",
      "    ax.set_xlabel('Experiment', size=7)\n",
      "    ax.set_title(tleft, size=8)\n",
      "    ax.set_ylim([0,ymax])\n",
      "\n",
      "\n",
      "    # Create second plot\n",
      "    ax = fig.add_subplot(122) # rows,cols,index 121 = 1row, 2cols, top left graph\n",
      "    labels = ['']\n",
      "\n",
      "    for i,entry in enumerate(expts):\n",
      "        y = df[df['Experiment']==entry][col2]\n",
      "        labels.append(str(entry)+'  N='+str(len(y)))\n",
      "\n",
      "        # Add some random \"jitter\" to the x-axis\n",
      "        x = np.random.normal(i+1, 0.04, size=len(y))\n",
      "        ax.plot(x, y, 'r.', alpha=0.5)\n",
      "        ax.scatter(i+1, y.mean(), zorder=10000, alpha=0.7)\n",
      "        print entry\n",
      "        print y.mean()\n",
      "        print y.std()\n",
      "\n",
      "    ax.xaxis.set_major_locator(tkr.MaxNLocator(6))\n",
      "    ax.set_xticklabels(labels)\n",
      "    plt.xticks(rotation=70)\n",
      "    for xticka in ax.xaxis.get_major_ticks():\n",
      "        xticka.label1.set_fontsize(6)\n",
      "    ax.set_ylabel(yright, size=7)\n",
      "    ax.set_xlabel('Experiment', size=7)\n",
      "    ax.set_title(tright, size=8)\n",
      "    ax.set_ylim([0,ymax])\n",
      "\n",
      "    savefig(figName, dpi=350, papertype='b10', orientation='portrait', bbox_inches='tight')#, format='pdf')\n",
      "    show()"
     ],
     "language": "python",
     "metadata": {},
     "outputs": [],
     "prompt_number": 10
    },
    {
     "cell_type": "code",
     "collapsed": false,
     "input": [
      "###\n",
      "### AFCC ANODE AND CATHODE CA BY EXPERIMENT\n",
      "###\n",
      "\n",
      "figName = path + 'AFCC_CA_vs_Exp.png' \n",
      "yleft = 'Cathode Sessile Contact Angle (deg)'\n",
      "yright = 'Anode Sessile Contact Angle (deg)'\n",
      "tleft = 'Cathode Sessile Contact Angle (deg) vs. Experiment'\n",
      "tright = 'Anode Sessile Contact Angle (deg) vs. Experiment'\n",
      "ymax = 100\n",
      "col1 = 'caCathode'\n",
      "col2 = 'caAnode'\n",
      "\n",
      "variables = [figName,yleft,yright,tleft,tright,ymax,col1,col2]             \n",
      "plotterAFCC(variables)"
     ],
     "language": "python",
     "metadata": {},
     "outputs": [
      {
       "output_type": "stream",
       "stream": "stdout",
       "text": [
        "1317600134\n",
        "80.554\n",
        "1.0956869991\n",
        "1318001194\n",
        "71.928\n",
        "4.98227558451\n",
        "1317900821\n",
        "74.996\n",
        "1.64988787498\n",
        "1317700435\n",
        "74.888\n",
        "2.64240799272\n",
        "1317700295\n",
        "74.084\n",
        "1.99795645598\n"
       ]
      },
      {
       "metadata": {},
       "output_type": "display_data",
       "png": "[encoded data removed]",
       "text": [
        "<matplotlib.figure.Figure at 0xcf19eb0>"
       ]
      }
     ],
     "prompt_number": 11
    },
    {
     "cell_type": "code",
     "collapsed": false,
     "input": [],
     "language": "python",
     "metadata": {},
     "outputs": []
    }
   ],
   "metadata": {}
  }
 ]
}