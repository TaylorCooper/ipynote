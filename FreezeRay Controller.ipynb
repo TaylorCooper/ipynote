{
 "metadata": {
  "name": "",
  "signature": "sha256:5be564f47a51208e774e7286d044673ae7ae1639d0a569b010cac79ae13cca2f"
 },
 "nbformat": 3,
 "nbformat_minor": 0,
 "worksheets": [
  {
   "cells": [
    {
     "cell_type": "code",
     "collapsed": false,
     "input": [
      "### DTR Stuff:\n",
      "    \n",
      "#         # Toggle DTR to reset Arduino\n",
      "#         self.ser.setDTR(False)\n",
      "#         time.sleep(1)\n",
      "#         self.ser.flushInput() # Flush received data\n",
      "#         self.ser.setDTR(True)\n",
      "#         \n",
      "#         beginMsg = 'Arduino Mega 2560 communication established!'\n",
      "#         print beginMsg\n",
      "#         self.dbF.writerow([beginMsg])\n",
      "\n",
      "import csv, time\n",
      "\n",
      "def getSeconds(s):\n",
      "    \"\"\" Convert stings of this format to seconds.\n",
      "    10h-10m-10s\n",
      "    3s\n",
      "    7m-9s\n",
      "    1h-5s\n",
      "    \"\"\"\n",
      "    duration = 0\n",
      "    \n",
      "    for i in s.split('-'):\n",
      "        if 'h' in i: duration = duration + int(i.split('h')[0])*3600\n",
      "        if 'm' in i: duration = duration + int(i.split('m')[0])*60\n",
      "        if 's' in i: duration = duration + int(i.split('s')[0])\n",
      "            \n",
      "    return duration\n",
      "\n",
      "\n",
      "recipeFile = open('D:\\\\GitHub\\\\workspace\\\\A4_FreezeRay\\\\recipe.csv', 'rb')\n",
      "recipe = csv.reader(recipeFile)\n",
      "firstLine = True\n",
      "\n",
      "# Duration, TC On, Fan Effort, Air Pump Effort, Syg Vol, User Resume\n",
      "stepVars = [None]*7\n",
      "\n",
      "# Read recipe\n",
      "for row in recipe:\n",
      "    \n",
      "    if firstLine: # Skip header\n",
      "        firstLine = False\n",
      "        continue\n",
      "    \n",
      "    print stepVars\n",
      "    # Execute instructions\n",
      "    for idx,item in enumerate(row):\n",
      "        if item[0] == '#': continue # Ignore comments\n",
      "        if item != stepVars[idx]: stepVars[idx] = item\n",
      "    \n",
      "    # Enable or disable TC\n",
      "    if stepVars[1] == 'Y':\n",
      "        tc.send('1c',)\n",
      "    else\n",
      "        tc.send()\n",
      "    \n",
      "    print getSeconds(stepVars[0])\n",
      "    \n",
      "    print stepVars\n",
      "    stepVars = [None]*7\n"
     ],
     "language": "python",
     "metadata": {},
     "outputs": [
      {
       "output_type": "stream",
       "stream": "stdout",
       "text": [
        "[None, None, None, None, None, None, None]\n",
        "1\n",
        "['1s', 'N', '25', '0', '0', '0', 'Y']\n",
        "[None, None, None, None, None, None, None]\n",
        "1\n",
        "['1s', 'Y', '25', '50', '0', '0', 'N']\n",
        "[None, None, None, None, None, None, None]\n",
        "1\n",
        "['1s', 'Y', '25', '50', '100', '0', 'N']\n",
        "[None, None, None, None, None, None, None]\n",
        "1\n",
        "['1s', 'Y', '-10.5', '100', '0', '20', 'Y']\n"
       ]
      }
     ],
     "prompt_number": 27
    },
    {
     "cell_type": "code",
     "collapsed": false,
     "input": [
      "import msvcrt, collections\n",
      "\n",
      "print \"Press Enter to continue...\"\n",
      "waiting = True\n",
      "\n",
      "while waiting:\n",
      "    if msvcrt.getch() == '\\r': waiting = False    "
     ],
     "language": "python",
     "metadata": {},
     "outputs": []
    },
    {
     "cell_type": "code",
     "collapsed": false,
     "input": [
      "###\n",
      "### Pump displacement testing\n",
      "###\n",
      "\n",
      "# This code generates strings s1,s2 etc\n",
      "\n",
      "import collections, serial, time\n",
      "\n",
      "class spSerial():\n",
      "    \"\"\"\n",
      "    Description:  Sends commands to pump over serial.\n",
      "    Input: COM port and recipe file\n",
      "    Output: Commands to syringe pump\n",
      "    \"\"\"\n",
      "    \n",
      "    def __init__(self, port, diameter=7.0):\n",
      "        \"\"\" Initialize syringe pump communication\n",
      "        \"\"\"\n",
      "        \n",
      "        self.port = port\n",
      "        self.buffer = collections.deque() # Deques make nice buffers\n",
      "\n",
      "        # Open port, nominal baudrate = 19200, TC required 9600 though\n",
      "        ### May need to initialize Baud Rate with multiple py serial instances\n",
      "        self.ser = serial.Serial(self.port, baudrate=9600, timeout=1)\n",
      "        time.sleep(1) # Give serial port time to set up\n",
      "        \n",
      "        # Initialize diameter\n",
      "        self.send('*RESET',delay=1) # Reset pump, wait longer\n",
      "        self.send('DIA'+str(diameter)) # Assign syringe diameter\n",
      "\n",
      "\n",
      "    def closeSer(self):\n",
      "        \"\"\" Close serial port when done.\n",
      "        \"\"\"\n",
      "        \n",
      "        self.send('STP') # Stop the pump\n",
      "        print 'spSerial:: Signing Off!'\n",
      "        self.ser.close()\n",
      "\n",
      "\n",
      "    def read(self):\n",
      "        \"\"\" Read chars from the serial port buffer well it is not empty.\n",
      "        \"\"\"        \n",
      "        s = \"\"\n",
      "        \n",
      "        # Read serial into buffer and then pop out to s for return\n",
      "        while self.ser.inWaiting() > 0:\n",
      "\n",
      "            l = self.ser.read(1) #Read 1 BYTE\n",
      "            self.buffer.append(l)\n",
      "            \n",
      "            while len(self.buffer) > 0:\n",
      "                s = s + self.buffer.popleft()\n",
      "\n",
      "        return s\n",
      "    \n",
      "    def send(self, s, delay=0.2):\n",
      "        \"\"\" String is written directly to serial port.\n",
      "        \"\"\"\n",
      "        \n",
      "        # Send and receive cmd\n",
      "        cmd = s + '\\x0D' # Carriage return required\n",
      "        self.ser.write(cmd)\n",
      "        time.sleep(delay) # Delay in seconds before response\n",
      "        r = self.read()\n",
      "        \n",
      "        # Let the user know what happened, no error handling\n",
      "        row = 'spSerial:: Sent_Cmd: ', s, ' ||  Received:', r\n",
      "        print row\n",
      "    \n",
      "    \n",
      "    def basicCommand(self, vol, rate=1000):\n",
      "        \"\"\" A basic command for the syringe pump, will infuse positive volumes\n",
      "        and withdraw negative volumes.\n",
      "        \n",
      "        Note: if this function is called again before it completes it will\n",
      "        interrupt the previous command.\n",
      "        \"\"\"\n",
      "        \n",
      "        if vol < 0: # With draw\n",
      "            self.send('DIR WDR')\n",
      "            vol = abs(vol)\n",
      "        else:\n",
      "            self.send('DIR INF')            \n",
      "        \n",
      "        self.send('RAT '+ str(rate) +' UM')\n",
      "        self.send('VOL '+ str(vol))\n",
      "        self.send('RUN')\n",
      "        \n",
      "sp = spSerial('COM5')\n",
      "sp.basicCommand(1000,1900)\n",
      "for i in range(60):\n",
      "    time.sleep(0.5)\n",
      "    print i, '____',\n",
      "    sp.send('DIS')\n",
      "    \n",
      "sp.basicCommand(-1000,1900)\n",
      "for i in range(60):\n",
      "    time.sleep(0.5)\n",
      "    print i, '____',\n",
      "    sp.send('DIS') \n",
      "\n"
     ],
     "language": "python",
     "metadata": {},
     "outputs": [
      {
       "output_type": "stream",
       "stream": "stdout",
       "text": [
        "264.7 0.000\n",
        "500.0 220.4\n",
        "500.0 500.0\n",
        "19.73 0.000\n",
        "1000.0 1000.0\n"
       ]
      }
     ],
     "prompt_number": 17
    },
    {
     "cell_type": "code",
     "collapsed": false,
     "input": [
      "# Reads like: STX \"0200\" I/W/S I XXXXX W XXXXX Units ETX\n",
      "# Or start ch, \"0200\", (INF,WID,STP), 5digit number infused, 5 digit number withdrawn  \n",
      "\n",
      "s1='\\x0200II264.7W0.000UL\\x03'\n",
      "s2='\\x0200WI500.0W220.4UL\\x03'\n",
      "s3='\\x0200SI500.0W500.0UL\\x03'\n",
      "s4='\\x0200II19.73W0.000UL\\x03'\n",
      "s5='\\x0200SI1000.W1000.UL\\x03'\n",
      "\n",
      "init = s4.split('I')[-1:][0].split('W')\n",
      "I = init[0]\n",
      "W = init[-1:][0][:5]\n",
      "units = init[-1:][0][5:7]\n",
      "\n",
      "print float(I),float(W), units"
     ],
     "language": "python",
     "metadata": {},
     "outputs": [
      {
       "output_type": "stream",
       "stream": "stdout",
       "text": [
        "19.73 0.0 2\n"
       ]
      }
     ],
     "prompt_number": 33
    },
    {
     "cell_type": "code",
     "collapsed": false,
     "input": [
      "import time\n",
      "\n",
      "t0 = time.time()\n",
      "\n",
      "time.sleep(6)\n",
      "\n",
      "t1 = time.time()\n",
      "\n",
      "print t1 - t0"
     ],
     "language": "python",
     "metadata": {},
     "outputs": [
      {
       "output_type": "stream",
       "stream": "stdout",
       "text": [
        "6.00099992752\n"
       ]
      }
     ],
     "prompt_number": 49
    },
    {
     "cell_type": "code",
     "collapsed": false,
     "input": [
      "# Formatting for arduino return commands\n",
      "r1=('Q', ['0', '0', '-30000'])\n",
      "r2=('F', ['255'])\n",
      "r3=('Q', ['255', '0', '-30000'])\n",
      "r4=('P', ['255'])\n",
      "r5=('Q', ['255', '255', '-30000'])\n",
      "\n",
      "print 100*int(r3[1][0])/255.0"
     ],
     "language": "python",
     "metadata": {},
     "outputs": [
      {
       "output_type": "stream",
       "stream": "stdout",
       "text": [
        "100.0\n"
       ]
      }
     ],
     "prompt_number": 52
    },
    {
     "cell_type": "code",
     "collapsed": false,
     "input": [
      "s1='\\x0200II264.7W0.000UL\\x03'\n",
      "s1[-1]"
     ],
     "language": "python",
     "metadata": {},
     "outputs": [
      {
       "metadata": {},
       "output_type": "pyout",
       "prompt_number": 53,
       "text": [
        "'\\x03'"
       ]
      }
     ],
     "prompt_number": 53
    },
    {
     "cell_type": "code",
     "collapsed": false,
     "input": [
      "step = ['20s','Y',25,50,50,50,'N','# Comment']\n",
      "\n",
      "def formatData(temp):\n",
      "    \"\"\"Format temperature SP for TE Tech TC.\n",
      "    Input: temp in celsius, float or int \n",
      "    Output: string formated for DDDDDDDDD value of TC cmds\n",
      "    e.g. input 1 >> output 00000064\n",
      "    e.g. input -1 >> output ffffff9c (2's complement)\n",
      "    e.g. input 1.25 >> output 0000007d \n",
      "    \"\"\"\n",
      "\n",
      "    bits = 32 # Required for this protocol\n",
      "    temp = int(temp*100) # Multiply by 100 to preserve decimal places\n",
      "\n",
      "\n",
      "    if temp == 0:\n",
      "        r ='0x00000000'\n",
      "    elif temp < 0:  # 2's complement for negatives\n",
      "        temp = 2**bits + temp\n",
      "        r = hex(temp)[:-1] # Remove trailing L for Long\n",
      "    else:\n",
      "        temph = hex(temp)\n",
      "        r = '0x'+'0'*(10-len(temph)) + temph[2:]\n",
      "    \n",
      "    return r[2:]\n",
      "    \n",
      "print formatData(float(step[2]))\n",
      "print formatData(0)\n",
      "print formatData(1)\n",
      "print formatData(-1)\n",
      "print formatData(1000)\n",
      "print formatData(-1000)"
     ],
     "language": "python",
     "metadata": {},
     "outputs": [
      {
       "output_type": "stream",
       "stream": "stdout",
       "text": [
        "000009c4\n",
        "00000000\n",
        "00000064\n",
        "ffffff9c\n",
        "000186a0\n",
        "fffe7960\n"
       ]
      }
     ],
     "prompt_number": 63
    },
    {
     "cell_type": "code",
     "collapsed": false,
     "input": [
      "s = 42949662.96\n",
      "if s > 1000:\n",
      "    s = s*100 - 2**32\n",
      "\n",
      "    print s\n",
      "print round(s+0.111111,2)\n",
      "print s+0.111111"
     ],
     "language": "python",
     "metadata": {},
     "outputs": [
      {
       "output_type": "stream",
       "stream": "stdout",
       "text": [
        "-1000.0\n",
        "-999.89\n",
        "-999.888889\n"
       ]
      }
     ],
     "prompt_number": 69
    },
    {
     "cell_type": "code",
     "collapsed": false,
     "input": [
      "alarm = '0000000080'\n",
      "alarm = bin(int(alarm[:-2],16))[2:]\n",
      "alarm = (8-len(alarm))*'0'+ alarm\n",
      "print str(alarm)\n",
      "alarm = '\"'+alarm+'\"'"
     ],
     "language": "python",
     "metadata": {},
     "outputs": [
      {
       "output_type": "stream",
       "stream": "stdout",
       "text": [
        "00000000\n"
       ]
      }
     ],
     "prompt_number": 76
    },
    {
     "cell_type": "code",
     "collapsed": false,
     "input": [
      "recipeName = \"20141124_M05_R01_E01_recipe.csv\"\n",
      "path = \"D:\\\\GitHub\\\\workspace\\\\A4_FreezeRay\\\\\"\n",
      "dbLP = path + recipeName.split('_recipe')[0] + '_debuglog'\n",
      "dtLP = path + recipeName.split('_recipe')[0] + '_datalog'\n",
      "recipe = path + recipeName\n",
      "\n",
      "print dbLP\n",
      "print dtLP\n",
      "print recipe"
     ],
     "language": "python",
     "metadata": {},
     "outputs": [
      {
       "output_type": "stream",
       "stream": "stdout",
       "text": [
        "D:\\GitHub\\workspace\\A4_FreezeRay\\20141124_M05_R01_E01_debuglog\n",
        "D:\\GitHub\\workspace\\A4_FreezeRay\\20141124_M05_R01_E01_datalog\n",
        "D:\\GitHub\\workspace\\A4_FreezeRay\\20141124_M05_R01_E01_recipe.csv\n"
       ]
      }
     ],
     "prompt_number": 1
    },
    {
     "cell_type": "code",
     "collapsed": false,
     "input": [
      "step = ['1', 'Wait', 17, 32.61, 33.0, 22.91, 0.0, ' 00000000 ', '-', 0.0, 0.0, 0.0, 0.0, 'UL', '# This is a comment, This step will do nothing and wait for the user to resume after 1s']\n",
      "\n",
      "debugMsg = 'controller:: self.step: '\n",
      "for i in step:\n",
      "    debugMsg = debugMsg + ' | ' + str(i)\n",
      "\n",
      "\n",
      "print debugMsg"
     ],
     "language": "python",
     "metadata": {},
     "outputs": [
      {
       "output_type": "stream",
       "stream": "stdout",
       "text": [
        "controller:: self.step:  | 1 | Wait | 17 | 32.61 | 33.0 | 22.91 | 0.0 |  00000000  | - | 0.0 | 0.0 | 0.0 | 0.0 | UL | # This is a comment, This step will do nothing and wait for the user to resume after 1s\n"
       ]
      }
     ],
     "prompt_number": 4
    },
    {
     "cell_type": "code",
     "collapsed": false,
     "input": [
      "alarm='01000100'\n",
      "r = ''\n",
      "for i in alarm: r = r + i + '.'\n",
      "print r[:-1]"
     ],
     "language": "python",
     "metadata": {},
     "outputs": [
      {
       "output_type": "stream",
       "stream": "stdout",
       "text": [
        "0.1.0.0.0.1.0.0\n"
       ]
      }
     ],
     "prompt_number": 7
    },
    {
     "cell_type": "code",
     "collapsed": false,
     "input": [],
     "language": "python",
     "metadata": {},
     "outputs": []
    }
   ],
   "metadata": {}
  }
 ]
}