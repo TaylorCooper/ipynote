{
 "metadata": {
  "name": "",
  "signature": "sha256:814cc3421c6abedc87ac7961b5be2be09ca7ddb5d7cfc1fe9794181fe68606cd"
 },
 "nbformat": 3,
 "nbformat_minor": 0,
 "worksheets": [
  {
   "cells": [
    {
     "cell_type": "code",
     "collapsed": false,
     "input": [
      "import numpy as np\n",
      "import matplotlib.pyplot as plt\n",
      "from mpl_toolkits.mplot3d import Axes3D\n",
      "\n",
      "#  Set up basic variables\n",
      "# Angle of petal contained in xy plane, this angle is the actual angle used in rotor construction\n",
      "theta = np.pi/4\n",
      "# The rotating planes center that rotates around the center axis, located on z = 0 plane\n",
      "radius = 90 # units are mm\n",
      "# Angle of petal contained on a plane between the radius and z axis\n",
      "phi = np.pi/4  \n",
      "# The angle of the rotor, for M2 this will be 96 angles between ~pi/4 to ~3pi/4\n",
      "sci = [0, np.pi/2, np.pi, 3*np.pi/2]  \n",
      "\n",
      "point = []\n",
      "normal = []\n",
      "\n",
      "for angle in sci:\n",
      "     point.append(np.array([np.sin(angle), np.cos(angle), 0]))\n",
      "     normal.append(np.array([np.cos(phi)*np.sin(theta+angle), np.cos(phi)*np.cos(theta+angle), np.sin(phi)]))\n",
      "        \n",
      "# create x,y\n",
      "xx, yy = np.meshgrid(range(-75,75), range(-75,75)) # Units are mm, this is the approximate extent of the plane\n",
      "\n",
      "plt3d = plt.figure().gca(projection='3d')\n",
      "\n",
      "# Actual imaging cyclinder is 300mm diamter, 170mm tall, with an inner dead zone at a diamter of 60mm\n",
      "l = 200 # Units are in mm, \n",
      "plt3d.set_xlim(-l,l)  # Units are mm, actual\n",
      "plt3d.set_ylim(-l,l)\n",
      "plt3d.set_zlim(-l,l)\n",
      "\n",
      "stuff = True\n",
      "\n",
      "# calculate corresponding z\n",
      "for p,n in zip(point,normal):\n",
      "    # a plane is a*x+b*y+c*z+d=0\n",
      "    # [a,b,c] is the normal. Thus, we have to calculate\n",
      "    # d and we're set\n",
      "    d = -np.sum(p*n)# dot product\n",
      "    z = (-n[0]*(xx+radius*p[0]) - n[1]*(yy+radius*p[1]) - d)*1./n[2]\n",
      "    \n",
      "    # plot the surfaces\n",
      "    plt3d.plot_surface(xx+radius*p[0],yy+radius*p[1],z, color='blue', zorder=0)\n",
      "\n",
      "plt.show()"
     ],
     "language": "python",
     "metadata": {},
     "outputs": [],
     "prompt_number": 14
    },
    {
     "cell_type": "code",
     "collapsed": false,
     "input": [],
     "language": "python",
     "metadata": {},
     "outputs": [],
     "prompt_number": 13
    },
    {
     "cell_type": "code",
     "collapsed": false,
     "input": [
      "for i in range(10):\n",
      "    print i*i"
     ],
     "language": "python",
     "metadata": {},
     "outputs": [
      {
       "output_type": "stream",
       "stream": "stdout",
       "text": [
        "0\n",
        "1\n",
        "4\n",
        "9\n",
        "16\n",
        "25\n",
        "36\n",
        "49\n",
        "64\n",
        "81\n"
       ]
      }
     ],
     "prompt_number": 15
    },
    {
     "cell_type": "code",
     "collapsed": false,
     "input": [],
     "language": "python",
     "metadata": {},
     "outputs": [],
     "prompt_number": 12
    },
    {
     "cell_type": "code",
     "collapsed": false,
     "input": [],
     "language": "python",
     "metadata": {},
     "outputs": [],
     "prompt_number": 12
    },
    {
     "cell_type": "code",
     "collapsed": false,
     "input": [],
     "language": "python",
     "metadata": {},
     "outputs": [],
     "prompt_number": 12
    },
    {
     "cell_type": "code",
     "collapsed": false,
     "input": [],
     "language": "python",
     "metadata": {},
     "outputs": []
    }
   ],
   "metadata": {}
  }
 ]
}