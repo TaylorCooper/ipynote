{
 "metadata": {
  "name": "",
  "signature": "sha256:82f17a8c9a77ed0f40a77b3c86b1d020ed89dfaebf148754530198318be07d10"
 },
 "nbformat": 3,
 "nbformat_minor": 0,
 "worksheets": [
  {
   "cells": [
    {
     "cell_type": "code",
     "collapsed": false,
     "input": [
      "import csv\n",
      "\n",
      "path = \"C:\\\\Users\\\\Taylor\\\\Desktop\\\\thisThings.csv\"\n",
      "yourlist = []\n",
      "skipFirstRow = True\n",
      "reader = csv.reader(open(path))\n",
      "\n",
      "for row in reader:\n",
      "    \n",
      "    if skipFirstRow:\n",
      "        skipFirstRow = False\n",
      "        continue\n",
      "    \n",
      "    if row[0] not in yourlist:\n",
      "        yourlist.append(row[0])\n",
      "\n",
      "print yourlist\n",
      "print len(yourlist)"
     ],
     "language": "python",
     "metadata": {},
     "outputs": [
      {
       "output_type": "stream",
       "stream": "stdout",
       "text": [
        "['one', 'two', 'three', 'four', 'nine']\n",
        "5\n"
       ]
      }
     ],
     "prompt_number": 2
    },
    {
     "cell_type": "code",
     "collapsed": false,
     "input": [],
     "language": "python",
     "metadata": {},
     "outputs": []
    }
   ],
   "metadata": {}
  }
 ]
}