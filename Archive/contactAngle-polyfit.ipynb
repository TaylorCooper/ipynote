{
 "metadata": {
  "name": "",
  "signature": "sha256:898930ec7da169749f30928afeb1963129c2663a699d2be65786450805521ccd"
 },
 "nbformat": 3,
 "nbformat_minor": 0,
 "worksheets": [
  {
   "cells": [
    {
     "cell_type": "code",
     "collapsed": false,
     "input": [
      "import numpy as np\n",
      "import cv2, os\n",
      "%pylab inline"
     ],
     "language": "python",
     "metadata": {},
     "outputs": [
      {
       "output_type": "stream",
       "stream": "stdout",
       "text": [
        "Populating the interactive namespace from numpy and matplotlib\n"
       ]
      }
     ],
     "prompt_number": 33
    },
    {
     "cell_type": "code",
     "collapsed": false,
     "input": [
      "def findEdge(arr, useBED):\n",
      "    # j is position in arr, pxVal is value of the pixel\n",
      "    for j,pxVal in enumerate(arr):\n",
      "        if j > BED and useBED: # if no point is found before BED return false\n",
      "            return False \n",
      "        if pxVal < 30: # if a point is found return that points y value\n",
      "            return j\n",
      "\n",
      "def getContactAngle(img, img_T, name):\n",
      "    # More efficient to convert this to a np array later\n",
      "    xLeft = []\n",
      "    yLeft = []\n",
      "    xRight = []\n",
      "    yRight = []\n",
      "\n",
      "    syringeFound = False\n",
      "    done = False\n",
      "    \n",
      "    # Coarse fit from top (used to inform bottom fit)\n",
      "    for i,pxVal in enumerate(np.nditer(img[0])):\n",
      "\n",
      "        # Condition for finding left side of syringe\n",
      "        if pxVal < 30 and syringeFound == False: \n",
      "\n",
      "            # Look at every point distance 2 from syringe to distance 100\n",
      "            for k in xrange(i-5,i-100,-2):\n",
      "                j = findEdge(img_T[k], True)\n",
      "                if j:\n",
      "                    xLeft.append(k) # column or x\n",
      "                    yLeft.append(230-j) # row or y\n",
      "                else:\n",
      "                    break # if no pixel found before BED break\n",
      "\n",
      "            syringeFound = True # Raise flag\n",
      "\n",
      "        # Condition for finding right side of syringe\n",
      "        if pxVal > 220 and syringeFound == True:\n",
      "\n",
      "            # Look at every point distance 2 from syringe to distance 100\n",
      "            for k in xrange(i+5,i+100,2):\n",
      "                j = findEdge(img_T[k], True)\n",
      "                if j:\n",
      "                    xRight.append(k) # column or x\n",
      "                    yRight.append(230-j) # row or y\n",
      "                else:\n",
      "                    break # if no pixel found before BED break        \n",
      "\n",
      "            done = True\n",
      "            \n",
      "        # If both edges of the syringe have been read you're done\n",
      "        if done: \n",
      "            break\n",
      "    \n",
      "    # X is a function of Y, Y is a relation of X (i.e. Y is not a 1-1 function of X)\n",
      "    xFromLeft = [] # Actually a y value but becomes x viewed from left\n",
      "    yFromLeft = [] # Actually an x value but becomes y viewed from left\n",
      "    xFromRight = [] # Actually a y value but becomes x viewed from right\n",
      "    yFromRight = [] # Actually an x value but becomes y viewed from right\n",
      "    \n",
      "    if xLeft == [] or xRight ==[]:\n",
      "        return None, None\n",
      "    \n",
      "    # Fit horizontally using an offset derived from xLeft yLeft\n",
      "    for x in xrange(BED+1,(h-max(yLeft)),-1):  # iterate over rows from BED up to highest bubble point\n",
      "        \n",
      "        y = findEdge(img[x][min(xLeft)-5:], False)+min(xLeft)-5\n",
      "        \n",
      "        xFromLeft.append(230-x)\n",
      "        yFromLeft.append(y)\n",
      "        \n",
      "    # Fit horizontally using an offset derived from xRight yRight\n",
      "    for x in xrange(BED+1,(h-max(yRight)),-1):  # iterate over rows from BED up to highest bubble point\n",
      "        \n",
      "        # Major issue encountered here\n",
      "        # For some reason you must do this asignment, you cannot do all these operations and [::-1]\n",
      "        # Also np.nditer only iterates in one direction no matter what you send it... very confusing\n",
      "        array = img[x][:max(xRight)+5] \n",
      "        \n",
      "        # Send reversed array because you need look from right\n",
      "        y = max(xRight)-findEdge(array[::-1], False)+5\n",
      "        \n",
      "        xFromRight.append(230-x)\n",
      "        yFromRight.append(y)\n",
      "    \n",
      "    # Plot left\n",
      "    # Note the code below is confusing because I'm plotting from then rotating by 90\n",
      "    # Convert to np.arrays\n",
      "    xFromLeft = np.asarray(xFromLeft)\n",
      "    yFromLeft = np.asarray(yFromLeft)\n",
      "\n",
      "    # Fit Left side data set with 3rd degree polynomial\n",
      "    coefLeft = np.polyfit(xFromLeft,yFromLeft,5)\n",
      "    polyLeft = np.poly1d(coefLeft)\n",
      "\n",
      "    # Get values to plot fit, assume min and max locations\n",
      "    xsLeft = arange(xFromLeft[0], xFromLeft[-1], 0.1)\n",
      "    ysLeft = polyLeft(xsLeft)\n",
      "    \n",
      "    # Get derivate @ BED and values to plot dervative\n",
      "    # Do not calculate derivative at exact edge, pictures are too noisy for that\n",
      "    derivLeft = polyLeft.deriv()\n",
      "    mL = 1/derivLeft(xFromLeft[0]+10) # Invert because flipping graph\n",
      "    bL = xFromLeft[0] - mL*yFromLeft[0] # Also inverted\n",
      "    x1L,y1L = (-1000, mL*-1000+bL)\n",
      "    x2L,y2L = (1000, mL*1000+bL)\n",
      "    \n",
      "    # Plot right  \n",
      "    # Note the code below is confusing because I'm plotting from then rotating by 90\n",
      "    # Convert to np.arrays\n",
      "    xFromRight = np.asarray(xFromRight)\n",
      "    yFromRight = np.asarray(yFromRight)\n",
      "\n",
      "    # Fit Right side data set with 3rd degree polynomial\n",
      "    coefRight = np.polyfit(xFromRight,yFromRight,5)\n",
      "    polyRight = np.poly1d(coefRight)\n",
      "\n",
      "    # Get values to plot fit, assume min and max locations\n",
      "    xsRight = arange(xFromRight[0], xFromRight[-1], 0.1)\n",
      "    ysRight = polyRight(xsRight)\n",
      "        \n",
      "    # Get derivate @ BED and values to plot dervative\n",
      "    # Do not calculate derivative at exact edge, pictures are too noisy for that\n",
      "    derivRight = polyRight.deriv()\n",
      "    mR = 1/derivRight(xFromRight[0]+10) # Invert because flipping graph\n",
      "    bR = xFromRight[0] - mR*yFromRight[0] # Also inverted\n",
      "    x1R,y1R = (-1000, mR*-1000+bR)\n",
      "    x2R,y2R = (1000, mR*1000+bR)\n",
      "    \n",
      "    # Plot Left lines\n",
      "    plot((x1L,x2L),(y1L,y2L),'b')\n",
      "    plot(yFromLeft,xFromLeft,'r.') # Inverted\n",
      "    plot(ysLeft, xsLeft, 'g') # Inverted\n",
      "    axhline(230-BED)\n",
      "    \n",
      "    # Plot Right lines\n",
      "    plot((x1R,x2R),(y1R,y2R),'b')\n",
      "    plot(yFromRight,xFromRight,'r.') # Inverted\n",
      "    plot(ysRight, xsRight, 'g') # Inverted\n",
      "    axhline(230-BED)\n",
      "    \n",
      "    ylim(60,240)\n",
      "    xlim(70,330)\n",
      "\n",
      "    fileName = 'D:\\\\GitHub\\\\workspace\\\\A2_work\\\\work\\\\Plots\\\\'+name[-4:]+'-plt.png'\n",
      "    savefig(fileName, dpi=150, papertype='b10', orientation='portrait', bbox_inches='tight')\n",
      "    \n",
      "    # Fast img saves\n",
      "    #fileName = 'D:\\\\GitHub\\\\workspace\\\\A2_work\\\\work\\\\Plots\\\\'+name[-4:]+'-plt.svg'\n",
      "    #savefig(fileName, bbox_inches='tight')\n",
      "    clf()\n",
      "    \n",
      "    # Get contact angles\n",
      "    caL = np.arctan(mL)*180/np.pi\n",
      "    caR = -1*np.arctan(mR)*180/np.pi\n",
      "    if caL < 0: caL = 180+caL\n",
      "    if caR < 0: caR = 180+caR      \n",
      "\n",
      "    return caL, caR\n",
      "\n",
      "# BED = 113 # Bubble edge depth as set by user\n",
      "# h = 230\n",
      "# w = 375\n",
      "# inputPath = \"D:\\\\GitHub\\\\workspace\\\\A2_work\\\\work\\\\\"\n",
      "\n",
      "# # Temp\n",
      "# img2 = cv2.imread(inputPath+'0350.png')\n",
      "# img2 = img2[:,:375] # cut out unwanted stuff\n",
      "# img = cv2.cvtColor(img2,cv2.COLOR_BGR2GRAY) # convert to gray\n",
      "# getContactAngle(img, img.T, 'doesnt matter')\n"
     ],
     "language": "python",
     "metadata": {},
     "outputs": [],
     "prompt_number": 58
    },
    {
     "cell_type": "code",
     "collapsed": false,
     "input": [
      "BED = 113 # Bubble edge depth as set by user\n",
      "h = 230\n",
      "w = 375\n",
      "inputPath = \"D:\\\\GitHub\\\\workspace\\\\A2_work\\\\work\\\\\"\n",
      "\n",
      "leftAngle = []\n",
      "rightAngle = []\n",
      "count = []\n",
      "\n",
      "for (root, subFolders, files) in os.walk(inputPath):\n",
      "\n",
      "    #Second condition forces this to run in only the index dir\n",
      "    for item in files:\n",
      "        \n",
      "        if '.png' in item and 'plt' not in item:\n",
      "            img2 = cv2.imread(root+'\\\\'+item)\n",
      "            img2 = img2[:,:375] # cut out unwanted stuff\n",
      "            img = cv2.cvtColor(img2,cv2.COLOR_BGR2GRAY) # convert to gray\n",
      "            \n",
      "            leftCA, rightCA = getContactAngle(img, img.T, root+'\\\\'+item[:-4])\n",
      "\n",
      "            if 'Summary' not in item:\n",
      "                leftAngle.append(leftCA)           \n",
      "                rightAngle.append(rightCA)\n",
      "                count.append(int(item[:-4]))\n",
      "            print item, leftCA, rightCA\n",
      "        \n",
      "        if '0660' in item:\n",
      "            break\n",
      "\n",
      "# Plot left CA and right CA vs image number and add a legend and axis labels\n",
      "plot(count,leftAngle,'r')\n",
      "plot(count,rightAngle,'b')\n",
      "ylabel('ContactAngle (Degrees)', size=8)\n",
      "xlabel('Image Number', size=8)\n",
      "title('TEST001 Contact Angle vs Image Number', size=8)\n",
      "p1 = plt.Rectangle((0, 0), 1, 1, fc='r')\n",
      "p2 = plt.Rectangle((0, 0), 1, 1, fc='b')\n",
      "legend([p1,p2], ['Left CA','Right CA'], loc=1,prop={'size':8})\n",
      "            \n",
      "savefig(inputPath+'Summary.png', dpi=350, papertype='b10', orientation='portrait', bbox_inches='tight')#, format='pdf')"
     ],
     "language": "python",
     "metadata": {},
     "outputs": [
      {
       "output_type": "stream",
       "stream": "stdout",
       "text": [
        "0050.png 81.3535579919 85.6724723019\n",
        "0060.png"
       ]
      },
      {
       "output_type": "stream",
       "stream": "stdout",
       "text": [
        " 83.3824449701 83.3835907069\n",
        "0070.png"
       ]
      },
      {
       "output_type": "stream",
       "stream": "stdout",
       "text": [
        " 85.2185592958 82.1542980747\n",
        "0080.png"
       ]
      },
      {
       "output_type": "stream",
       "stream": "stdout",
       "text": [
        " 86.2278135169 84.4269228795\n",
        "0090.png"
       ]
      },
      {
       "output_type": "stream",
       "stream": "stdout",
       "text": [
        " 83.843330607 82.9533844656\n",
        "0100.png"
       ]
      },
      {
       "output_type": "stream",
       "stream": "stdout",
       "text": [
        " 91.75751109 91.0151622704\n",
        "0110.png"
       ]
      },
      {
       "output_type": "stream",
       "stream": "stdout",
       "text": [
        " 97.1451710468 94.3921964254\n",
        "0120.png"
       ]
      },
      {
       "output_type": "stream",
       "stream": "stdout",
       "text": [
        " 97.4440635575 98.3098996786\n",
        "0130.png"
       ]
      },
      {
       "output_type": "stream",
       "stream": "stdout",
       "text": [
        " 99.3015864281 95.8161408832\n",
        "0140.png"
       ]
      },
      {
       "output_type": "stream",
       "stream": "stdout",
       "text": [
        " 94.6518906971 98.6010936147\n",
        "0150.png"
       ]
      },
      {
       "output_type": "stream",
       "stream": "stdout",
       "text": [
        " 94.8645987053 99.4762308268\n",
        "0160.png"
       ]
      },
      {
       "output_type": "stream",
       "stream": "stdout",
       "text": [
        " 96.4463861621 98.8268310947\n",
        "0170.png"
       ]
      },
      {
       "output_type": "stream",
       "stream": "stdout",
       "text": [
        " 97.6928749545 96.3569746465\n",
        "0180.png"
       ]
      },
      {
       "output_type": "stream",
       "stream": "stdout",
       "text": [
        " 97.4431895503 98.5107646329\n",
        "0190.png"
       ]
      },
      {
       "output_type": "stream",
       "stream": "stdout",
       "text": [
        " 94.3420180842 98.6675171649\n",
        "0200.png"
       ]
      },
      {
       "output_type": "stream",
       "stream": "stdout",
       "text": [
        " 95.8857455822 99.0152062614\n",
        "0210.png"
       ]
      },
      {
       "output_type": "stream",
       "stream": "stdout",
       "text": [
        " 96.7365261662 98.1354780161\n",
        "0220.png"
       ]
      },
      {
       "output_type": "stream",
       "stream": "stdout",
       "text": [
        " 98.2515881684 98.1686169288\n",
        "0230.png"
       ]
      },
      {
       "output_type": "stream",
       "stream": "stdout",
       "text": [
        " 99.4239786658 97.2981545411\n",
        "0240.png"
       ]
      },
      {
       "output_type": "stream",
       "stream": "stdout",
       "text": [
        " 95.7042790187 96.433158493\n",
        "0250.png"
       ]
      },
      {
       "output_type": "stream",
       "stream": "stdout",
       "text": [
        " 97.7138463987 97.3227857186\n",
        "0260.png"
       ]
      },
      {
       "output_type": "stream",
       "stream": "stdout",
       "text": [
        " 98.3945317714 97.7090471901\n",
        "0270.png"
       ]
      },
      {
       "output_type": "stream",
       "stream": "stdout",
       "text": [
        " 97.6401376111 98.4083447586\n",
        "0280.png"
       ]
      },
      {
       "output_type": "stream",
       "stream": "stdout",
       "text": [
        " 98.9112988619 97.7066046991\n",
        "0290.png"
       ]
      },
      {
       "output_type": "stream",
       "stream": "stdout",
       "text": [
        " 99.0361178246 97.4712366114\n",
        "0300.png"
       ]
      },
      {
       "output_type": "stream",
       "stream": "stdout",
       "text": [
        " 98.5803276565 97.7763827836\n",
        "0310.png"
       ]
      },
      {
       "output_type": "stream",
       "stream": "stdout",
       "text": [
        " 97.9012058723 96.7269879691\n",
        "0320.png"
       ]
      },
      {
       "output_type": "stream",
       "stream": "stdout",
       "text": [
        " 99.0974897492 96.5516679003\n",
        "0330.png"
       ]
      },
      {
       "output_type": "stream",
       "stream": "stdout",
       "text": [
        " 98.9600158496 95.8056077867\n",
        "0340.png"
       ]
      },
      {
       "output_type": "stream",
       "stream": "stdout",
       "text": [
        " 97.0265992877 96.2165947726\n",
        "0350.png"
       ]
      },
      {
       "output_type": "stream",
       "stream": "stdout",
       "text": [
        " 98.6578194055 96.9565688425\n",
        "0360.png"
       ]
      },
      {
       "output_type": "stream",
       "stream": "stdout",
       "text": [
        " 99.1089803225 96.9952035725\n",
        "0370.png"
       ]
      },
      {
       "output_type": "stream",
       "stream": "stdout",
       "text": [
        " 98.6743489468 97.4475701448\n",
        "0380.png"
       ]
      },
      {
       "output_type": "stream",
       "stream": "stdout",
       "text": [
        " 98.4757179441 97.4954727453\n",
        "0390.png"
       ]
      },
      {
       "output_type": "stream",
       "stream": "stdout",
       "text": [
        " 97.327779374 96.7503446557\n",
        "0400.png"
       ]
      },
      {
       "output_type": "stream",
       "stream": "stdout",
       "text": [
        " 98.8670635824 96.0081074182\n",
        "0410.png"
       ]
      },
      {
       "output_type": "stream",
       "stream": "stdout",
       "text": [
        " 94.5540067464 93.6202418865\n",
        "0420.png"
       ]
      },
      {
       "output_type": "stream",
       "stream": "stdout",
       "text": [
        " 90.1388907224 88.3882568252\n",
        "0430.png"
       ]
      },
      {
       "output_type": "stream",
       "stream": "stdout",
       "text": [
        " 84.131413875 81.9067897623\n",
        "0440.png"
       ]
      },
      {
       "output_type": "stream",
       "stream": "stdout",
       "text": [
        " 75.8791730503 76.856632416\n",
        "0450.png"
       ]
      },
      {
       "output_type": "stream",
       "stream": "stdout",
       "text": [
        " 68.6023185067 69.4106053408\n",
        "0460.png"
       ]
      },
      {
       "output_type": "stream",
       "stream": "stdout",
       "text": [
        " 61.7016618212 61.4662279131\n",
        "0470.png"
       ]
      },
      {
       "output_type": "stream",
       "stream": "stdout",
       "text": [
        " 53.9322290948 55.2560000483\n",
        "0480.png"
       ]
      },
      {
       "output_type": "stream",
       "stream": "stdout",
       "text": [
        " 47.429253432 48.9471652437\n",
        "0490.png"
       ]
      },
      {
       "output_type": "stream",
       "stream": "stdout",
       "text": [
        " 43.7331929521 44.0384189186\n",
        "0500.png"
       ]
      },
      {
       "output_type": "stream",
       "stream": "stdout",
       "text": [
        " 43.4722080784 43.9467895344\n",
        "0510.png"
       ]
      },
      {
       "output_type": "stream",
       "stream": "stdout",
       "text": [
        " 41.6963932998 43.5549418174\n",
        "0520.png"
       ]
      },
      {
       "output_type": "stream",
       "stream": "stdout",
       "text": [
        " 38.0729766182 37.3530856773\n",
        "0530.png"
       ]
      },
      {
       "output_type": "stream",
       "stream": "stdout",
       "text": [
        " 31.499153321 30.9481561358\n",
        "0540.png"
       ]
      },
      {
       "output_type": "stream",
       "stream": "stdout",
       "text": [
        " 29.3127255177 23.7147547516\n",
        "0550.png None None\n",
        "0560.png None None\n",
        "0570.png None None\n",
        "Summary.png"
       ]
      },
      {
       "output_type": "stream",
       "stream": "stdout",
       "text": [
        " None None\n"
       ]
      },
      {
       "metadata": {},
       "output_type": "display_data",
       "png": "[encoded data removed]",
       "text": [
        "<matplotlib.figure.Figure at 0x94eeed0>"
       ]
      }
     ],
     "prompt_number": 59
    },
    {
     "cell_type": "code",
     "collapsed": false,
     "input": [
      "xLeft = []\n",
      "    yLeft = []\n",
      "    xRight = []\n",
      "    yRight = []\n",
      "\n",
      "    syringeFound = False\n",
      "    done = False\n",
      "    \n",
      "    for i,pxVal in enumerate(np.nditer(img[0])):\n",
      "\n",
      "        # Condition for finding left side of syringe\n",
      "        if pxVal < 30 and syringeFound == False: \n",
      "\n",
      "            # Look at every point distance 2 from syringe to distance 100\n",
      "            for k in xrange(i-5,i-100,-1):\n",
      "                j = findEdge(img_T[k])\n",
      "                if j:\n",
      "                    xLeft.append(k) # column or x\n",
      "                    yLeft.append(230-j) # row or y\n",
      "                else:\n",
      "                    break # if no pixel found before BED break\n",
      "\n",
      "            syringeFound = True # Raise flag\n",
      "\n",
      "        # Condition for finding right side of syringe\n",
      "        if pxVal > 220 and syringeFound == True:\n",
      "\n",
      "            # Look at every point distance 2 from syringe to distance 100\n",
      "            for k in xrange(i+5,i+100,1):\n",
      "                j = findEdge(img_T[k])\n",
      "                if j:\n",
      "                    xRight.append(k) # column or x\n",
      "                    yRight.append(230-j) # row or y\n",
      "                else:\n",
      "                    break # if no pixel found before BED break        \n",
      "\n",
      "            done = True\n",
      "            \n",
      "        # If both edges of the syringe have been read you're done\n",
      "        if done: \n",
      "            break"
     ],
     "language": "python",
     "metadata": {},
     "outputs": [],
     "prompt_number": 3
    },
    {
     "cell_type": "code",
     "collapsed": false,
     "input": [
      "BED = 116\n",
      "h = 230\n",
      "w = 375\n",
      "img3 = cv2.imread('D:\\\\GitHub\\\\workspace\\\\A2_work\\\\work\\\\0350.png')\n",
      "img3 = img3[:,:w]\n",
      "img3 = cv2.cvtColor(img3,cv2.COLOR_BGR2GRAY) \n",
      "# print img3[BED][115:]\n",
      "\n",
      "xLeft = [174, 173, 172, 171, 170, 169, 168, 167, 166, 165, 164, 163, 162, 161, 160, 159, 158, 157, 156, 155, 154, 153, 152, 151, 150, 149, 148, 147, 146, 145, 144, 143, 142, 141, 140, 139, 138, 137, 136, 135, 134, 133, 132, 131, 130, 129, 128, 127, 126, 125, 124, 123, 122, 121, 120, 119, 118, 117, 116, 115, 114, 113]\n",
      "yLeft = [188, 188, 187, 187, 187, 187, 187, 187, 187, 187, 186, 186, 186, 186, 185, 185, 185, 184, 184, 184, 183, 183, 183, 182, 182, 181, 181, 181, 180, 179, 179, 178, 178, 177, 177, 176, 175, 174, 174, 173, 172, 171, 170, 169, 168, 167, 166, 165, 164, 163, 161, 160, 159, 157, 155, 154, 152, 150, 148, 145, 142, 136]\n",
      "\n",
      "for k in xrange(BED,(h-max(yLeft)),-1):\n",
      "    print k\n",
      "    print img3[k][min(xLeft)-10:250]\n",
      "    \n",
      "    for g,gpxVal in enumerate(np.nditer(img3[k])):\n",
      "        if gpxVal < 30:\n",
      "            print 'long:', g, gpxVal\n",
      "            break\n",
      "    \n",
      "    for j,pxVal in enumerate(np.nditer(img3[k][min(xLeft)-10:250])):\n",
      "        if pxVal < 30:\n",
      "            print 'short:', j+min(xLeft)-10, pxVal\n",
      "            break\n",
      "    break\n",
      "#     for j,pxVal in enumerate(np.nditer(img3[k][min(xLeft)-10:])):\n",
      "#         if j > BED: # if no point is found before BED return false\n",
      "#             return False \n",
      "#         if pxVal < 30: # if a point is found return that points y value\n",
      "#             return j\n"
     ],
     "language": "python",
     "metadata": {},
     "outputs": [
      {
       "output_type": "stream",
       "stream": "stdout",
       "text": [
        "116\n",
        "[255 255 255 255 255 255 255 255 255 255 255   0   0   0   0   0   0   0\n",
        "   0   0   0   0   0   0   0   0   0   0   0   0   0   0   0   0   0   0\n",
        "   0   0   0   0   0   0   0   0   0   0   0   0   0   0   0   0   0 255\n",
        " 255 255 255 255 255 255 255 255 255 255 255 255 255 255 255 255 255 255\n",
        " 255 255 255 255 255 255 255 255 255 255 255 255 255 255 255 255 255 255\n",
        " 255 255 255 255 255 255 255 255 255 255 255 255 255 255 255 255 255 255\n",
        " 255 255 255 255 255   0   0   0   0   0   0   0   0   0   0   0   0   0\n",
        "   0   0   0   0   0   0   0   0   0   0   0   0   0   0   0   0   0   0\n",
        "   0   0 255]\n",
        "long: 114 0\n",
        "short: 114 0\n"
       ]
      }
     ],
     "prompt_number": 37
    },
    {
     "cell_type": "code",
     "collapsed": false,
     "input": [
      "a = 'yayayyaya0000'\n",
      "a[-4:]"
     ],
     "language": "python",
     "metadata": {},
     "outputs": [
      {
       "metadata": {},
       "output_type": "pyout",
       "prompt_number": 30,
       "text": [
        "'0000'"
       ]
      }
     ],
     "prompt_number": 30
    },
    {
     "cell_type": "code",
     "collapsed": false,
     "input": [
      "\n",
      "coefficients = polyfit(x, y, 6)\n",
      "polynomial = poly1d(coefficients)\n",
      "xs = arange(-2.2, 2.6, 0.1)\n",
      "ys = polynomial(xs)\n",
      "\n",
      "plot(x, y, 'o')\n",
      "plot(xs, ys)\n",
      "ylabel('y')\n",
      "xlabel('x')"
     ],
     "language": "python",
     "metadata": {},
     "outputs": [],
     "prompt_number": 49
    },
    {
     "cell_type": "code",
     "collapsed": false,
     "input": [
      "cv2.imshow('Image', img)\n",
      "cv2.waitKey(0)\n",
      "cv2.destroyAllWindows()"
     ],
     "language": "python",
     "metadata": {},
     "outputs": []
    }
   ],
   "metadata": {}
  }
 ]
}