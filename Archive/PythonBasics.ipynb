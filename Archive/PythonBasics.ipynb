{
 "metadata": {
  "name": "",
  "signature": "sha256:1cc7fd3c0d87737e249c64e15d6045a88df1b3013e766ae073e0653f51c1ab1d"
 },
 "nbformat": 3,
 "nbformat_minor": 0,
 "worksheets": [
  {
   "cells": [
    {
     "cell_type": "code",
     "collapsed": false,
     "input": [
      "###\n",
      "###  Indentation and Imports\n",
      "###\n",
      "\n",
      "# We'll use this later\n",
      "import random # A library for randomizing stuff\n",
      "import csv # A simple library for handling CSV files\n",
      "\n",
      "# Python figures out where it is based on indentation, no brackets needed\n",
      "if True:\n",
      "    print \"I'm in an if statement.\"\n",
      "    x = 10\n",
      "    \n",
      "    if False:\n",
      "        print \"Lonely unprinted message!\"\n",
      "        x = 0\n",
      "    \n",
      "    while (x > 0):\n",
      "        x = x-1\n",
      "        print x,\n",
      "        \n",
      "        if x < 4:\n",
      "            # A break statement can be used to exit a loop prematurely\n",
      "            break \n",
      "            print \"This message will also never be printed!\""
     ],
     "language": "python",
     "metadata": {},
     "outputs": [
      {
       "output_type": "stream",
       "stream": "stdout",
       "text": [
        "I'm in an if statement.\n",
        "9 8 7 6 5 4 3\n"
       ]
      }
     ],
     "prompt_number": 7
    },
    {
     "cell_type": "code",
     "collapsed": false,
     "input": [
      "###\n",
      "###  Loops, Lists, Logic\n",
      "###\n",
      "\n",
      "\"\"\"\n",
      "We can create comment blocks like this as well\n",
      "\"\"\"\n",
      "\n",
      "# Basic variables\n",
      "integer = 1\n",
      "floateger = 3.14\n",
      "string = 'string'\n",
      "string2 = \"string2\" # We can use \"\" or '' to work with strings\n",
      "boolean = True\n",
      "\n",
      "# Iterable variables\n",
      "listExample = [1,2,3,4]\n",
      "dictionary = {'a':1,'b':2}\n",
      "\n",
      "print integer, string, string2, listExample, dictionary\n",
      "\n",
      "# Using a key to find an entry in a dictionary\n",
      "print dictionary['a'] "
     ],
     "language": "python",
     "metadata": {},
     "outputs": [
      {
       "output_type": "stream",
       "stream": "stdout",
       "text": [
        "1 string string2 [1, 2, 3, 4] {'a': 1, 'b': 2}\n",
        "1\n"
       ]
      }
     ],
     "prompt_number": 2
    },
    {
     "cell_type": "code",
     "collapsed": false,
     "input": [
      "# A basic FOR loop\n",
      "aList = ['Vlad', 'Div', 'Madison', 'Derek']\n",
      "for i in aList:\n",
      "    print i\n",
      "    \n",
      "print \"\\n\" # Print an end line character\n",
      "print \"Print the first name in the list\" + aList[1] + \"\\n\"\n",
      "    \n",
      "# Some if statements\n",
      "if boolean: print \"Do stuff!\\n\"\n",
      "if not boolean: print \"Don't do stuff!\\n\"\n",
      "\n",
      "# Can if statements find Div?\n",
      "for number,name in enumerate(aList):\n",
      "    if name == 'Div':\n",
      "        print \"Yes we found Div at index\", number"
     ],
     "language": "python",
     "metadata": {},
     "outputs": [
      {
       "output_type": "stream",
       "stream": "stdout",
       "text": [
        "Vlad\n",
        "Div\n",
        "Madison\n",
        "Derek\n",
        "\n",
        "\n",
        "Print the first name in the listDiv\n",
        "\n",
        "Do stuff!\n",
        "\n",
        "Yes we found Div at index 1\n"
       ]
      }
     ],
     "prompt_number": 3
    },
    {
     "cell_type": "code",
     "collapsed": false,
     "input": [
      "# Using a dictionary\n",
      "descriptions = [' the Great', ' the Smelly', ' the Scrupulous', ' the How']\n",
      "\n",
      "# We'll let fate decide\n",
      "random.shuffle(descriptions) \n",
      "\n",
      "# Creating a dictionary from 2 lists\n",
      "dict1 = dict(zip(aList, descriptions))\n",
      "\n",
      "# Finding Vlad in a dictionary\n",
      "print dict1['Vlad']\n",
      "print dict1\n",
      "\n"
     ],
     "language": "python",
     "metadata": {},
     "outputs": [
      {
       "output_type": "stream",
       "stream": "stdout",
       "text": [
        " the How\n",
        "{'Vlad': ' the How', 'Div': ' the Scrupulous', 'Derek': ' the Great', 'Madison': ' the Smelly'}\n"
       ]
      }
     ],
     "prompt_number": 4
    },
    {
     "cell_type": "code",
     "collapsed": false,
     "input": [
      "###\n",
      "###  Strings and Splices\n",
      "###\n",
      "\n",
      "# Splice notation can be used with strings, lists and arrays\n",
      "s = 'Vlad' + dict1['Vlad']\n",
      "print s[0]  # What is in position 0\n",
      "print s[0:4] # What is in position 0 to 3 inclusive\n",
      "print s[::-1] # Index the string from back to front\n",
      "print s[0:len(s):] # Python can find the length of your string len(s)\n",
      "print s[5:12:2] # You can index by every second entry\n",
      "\n",
      "# You can split strings with other strings\n",
      "s2 = s.split(' the ')\n",
      "print s2"
     ],
     "language": "python",
     "metadata": {},
     "outputs": [
      {
       "output_type": "stream",
       "stream": "stdout",
       "text": [
        "V\n",
        "Vlad\n",
        "woH eht dalV\n",
        "Vlad the How\n",
        "teHw\n",
        "['Vlad', 'How']\n"
       ]
      }
     ],
     "prompt_number": 5
    },
    {
     "cell_type": "code",
     "collapsed": false,
     "input": [
      "###\n",
      "###  Functions and Classes\n",
      "###\n",
      "\n",
      "# Basic function definition, variable types not required\n",
      "def myFunkyFunc(x,y='ayyyyyyyy'):\n",
      "    \n",
      "    # Let's make sure we are getting the right inputs\n",
      "    if type(x) is not str:\n",
      "        return\n",
      "    \n",
      "    print x + y\n",
      "    \n",
      "    return \"myFunkyFunc says: bye!\"\n",
      "    \n",
      "# Calling the function with just x\n",
      "print \"\\n\" + myFunkyFunc('Watermelon')\n",
      "\n",
      "# Calling the function with x and y\n",
      "myFunkyFunc(\"hey\", \" yo\")"
     ],
     "language": "python",
     "metadata": {},
     "outputs": [
      {
       "output_type": "stream",
       "stream": "stdout",
       "text": [
        "Watermelonayyyyyyyy\n",
        "\n",
        "myFunkyFunc says: bye!\n",
        "hey yo\n"
       ]
      },
      {
       "metadata": {},
       "output_type": "pyout",
       "prompt_number": 6,
       "text": [
        "'myFunkyFunc says: bye!'"
       ]
      }
     ],
     "prompt_number": 6
    },
    {
     "cell_type": "code",
     "collapsed": false,
     "input": [
      "# Let's make a class\n",
      "class myClassyClass():\n",
      "    \"\"\"\n",
      "    Description: Very Classy\n",
      "    \"\"\"\n",
      "    \n",
      "    def __init__(self, x):\n",
      "        \"\"\"\n",
      "        Description: Initilize the classiness\n",
      "        \"\"\"\n",
      "        \n",
      "        self.classyThings = [\"I names Bond, James bond.\",'Shocking, positively shocking.','']\n",
      "        self.classyThings.append(x)\n",
      "        \n",
      "    def doTheThingJulie(self, string):\n",
      "        \"\"\"\n",
      "        Description: Initilize the classiness\n",
      "        Input: A string\n",
      "        Output: A classier string\n",
      "        \"\"\"\n",
      "        \n",
      "        random.shuffle(self.classyThings)\n",
      "        return self.classyThings[0], self.classyThings\n",
      "    \n",
      "# Let's make an instance of this class\n",
      "myInstance = myClassyClass(\"Shaken not stired.\")\n",
      "\n",
      "ans = myInstance.doTheThingJulie('Whew')\n",
      "\n",
      "print ans[0]\n",
      "print ans[1]"
     ],
     "language": "python",
     "metadata": {},
     "outputs": [
      {
       "output_type": "stream",
       "stream": "stdout",
       "text": [
        "b\n",
        "['b', 'c', 'a', 'Shaken not stired.']\n"
       ]
      }
     ],
     "prompt_number": 10
    },
    {
     "cell_type": "code",
     "collapsed": false,
     "input": [
      "s = \"Beats by Dr. Dre, Jawbone, Simple Human, Barnes & Noble, SanDisk, HTC, Google, Acer, LUNAR Design, Pentagram Design, Microsoft, Grow Labs, Dipjar, OneDrop, EverCharge, GoPole, Audi, Cisco, medical devices, Wearable world, Mio, Proxxi, BC Hydro, Stantec, Signul, Apple, Intel, Dell, Oral-B, SanDisk, PepsiCo, Google, Adobe, Square reader, Flip, Sonos, Tesla Roadster, BMW, Jawbone, San Fransisco 49ers stadium, Nike+ fuelband, Recon Instruments, Samsung, Microsoft, Philips Oral Healthcare, Synesso Espresso, Google onHub, Google Chromecast, TP-Link, Nike+ FuelBand, Pioneer\"\n"
     ],
     "language": "python",
     "metadata": {},
     "outputs": [],
     "prompt_number": 1
    },
    {
     "cell_type": "code",
     "collapsed": false,
     "input": [
      "print s"
     ],
     "language": "python",
     "metadata": {},
     "outputs": [
      {
       "output_type": "stream",
       "stream": "stdout",
       "text": [
        "Beats by Dr. Dre, Jawbone, Simple Human, Barnes & Noble, SanDisk, HTC, Google, Acer, LUNAR Design, Pentagram Design, Microsoft, Grow Labs, Dipjar, OneDrop, EverCharge, GoPole, Audi, Cisco, medical devices, Wearable world, Mio, Proxxi, BC Hydro, Stantec, Signul, Apple, Intel, Dell, Oral-B, SanDisk, PepsiCo, Google, Adobe, Square reader, Flip, Sonos, Tesla Roadster, BMW, Jawbone, San Fransisco 49ers stadium, Nike+ fuelband, Recon Instruments, Samsung, Microsoft, Philips Oral Healthcare, Synesso Espresso, Google onHub, Google Chromecast, TP-Link, Nike+ FuelBand, Pioneer\n"
       ]
      }
     ],
     "prompt_number": 2
    },
    {
     "cell_type": "code",
     "collapsed": false,
     "input": [
      "s.replace(',','\\n')\n",
      "print s"
     ],
     "language": "python",
     "metadata": {},
     "outputs": [
      {
       "output_type": "stream",
       "stream": "stdout",
       "text": [
        "Beats by Dr. Dre, Jawbone, Simple Human, Barnes & Noble, SanDisk, HTC, Google, Acer, LUNAR Design, Pentagram Design, Microsoft, Grow Labs, Dipjar, OneDrop, EverCharge, GoPole, Audi, Cisco, medical devices, Wearable world, Mio, Proxxi, BC Hydro, Stantec, Signul, Apple, Intel, Dell, Oral-B, SanDisk, PepsiCo, Google, Adobe, Square reader, Flip, Sonos, Tesla Roadster, BMW, Jawbone, San Fransisco 49ers stadium, Nike+ fuelband, Recon Instruments, Samsung, Microsoft, Philips Oral Healthcare, Synesso Espresso, Google onHub, Google Chromecast, TP-Link, Nike+ FuelBand, Pioneer\n"
       ]
      }
     ],
     "prompt_number": 3
    },
    {
     "cell_type": "code",
     "collapsed": false,
     "input": [
      "print s.replace(\" \",\"\").replace(\",\",\"\\n\")"
     ],
     "language": "python",
     "metadata": {},
     "outputs": [
      {
       "output_type": "stream",
       "stream": "stdout",
       "text": [
        "BeatsbyDr.Dre\n",
        "Jawbone\n",
        "SimpleHuman\n",
        "Barnes&Noble\n",
        "SanDisk\n",
        "HTC\n",
        "Google\n",
        "Acer\n",
        "LUNARDesign\n",
        "PentagramDesign\n",
        "Microsoft\n",
        "GrowLabs\n",
        "Dipjar\n",
        "OneDrop\n",
        "EverCharge\n",
        "GoPole\n",
        "Audi\n",
        "Cisco\n",
        "medicaldevices\n",
        "Wearableworld\n",
        "Mio\n",
        "Proxxi\n",
        "BCHydro\n",
        "Stantec\n",
        "Signul\n",
        "Apple\n",
        "Intel\n",
        "Dell\n",
        "Oral-B\n",
        "SanDisk\n",
        "PepsiCo\n",
        "Google\n",
        "Adobe\n",
        "Squarereader\n",
        "Flip\n",
        "Sonos\n",
        "TeslaRoadster\n",
        "BMW\n",
        "Jawbone\n",
        "SanFransisco49ersstadium\n",
        "Nike+fuelband\n",
        "ReconInstruments\n",
        "Samsung\n",
        "Microsoft\n",
        "PhilipsOralHealthcare\n",
        "SynessoEspresso\n",
        "GoogleonHub\n",
        "GoogleChromecast\n",
        "TP-Link\n",
        "Nike+FuelBand\n",
        "Pioneer\n"
       ]
      }
     ],
     "prompt_number": 7
    },
    {
     "cell_type": "code",
     "collapsed": false,
     "input": [],
     "language": "python",
     "metadata": {},
     "outputs": [],
     "prompt_number": 0
    },
    {
     "cell_type": "code",
     "collapsed": false,
     "input": [],
     "language": "python",
     "metadata": {},
     "outputs": [],
     "prompt_number": 0
    },
    {
     "cell_type": "code",
     "collapsed": false,
     "input": [],
     "language": "python",
     "metadata": {},
     "outputs": [],
     "prompt_number": 0
    },
    {
     "cell_type": "code",
     "collapsed": false,
     "input": [],
     "language": "python",
     "metadata": {},
     "outputs": []
    }
   ],
   "metadata": {}
  }
 ]
}