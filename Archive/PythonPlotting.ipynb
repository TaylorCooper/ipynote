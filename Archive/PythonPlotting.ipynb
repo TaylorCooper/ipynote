{
 "metadata": {
  "name": "",
  "signature": "sha256:374fd4a5212f4d67f819d12baebdd86853b69758f8fda852e4194d87d80d9ad2"
 },
 "nbformat": 3,
 "nbformat_minor": 0,
 "worksheets": [
  {
   "cells": [
    {
     "cell_type": "code",
     "collapsed": false,
     "input": [
      "import numpy as np  # Numpy is library with math functionality \n",
      "import matplotlib as mpl # Matplotlib is a library for creating graphs\n",
      "import matplotlib.pyplot as plt # Pyplot contains the primary plotting utility of mpl\n",
      "\n",
      "# Show plots in line with code, i.e. don't create a little window for viewing\n",
      "%pylab inline\n",
      "\n",
      "print \"\" # Add a line for spacing!\n",
      "print \"Getting ready to plot something!\""
     ],
     "language": "python",
     "metadata": {},
     "outputs": [
      {
       "output_type": "stream",
       "stream": "stdout",
       "text": [
        "Populating the interactive namespace from numpy and matplotlib\n",
        "\n",
        "Getting ready to plot something!\n"
       ]
      }
     ],
     "prompt_number": 30
    },
    {
     "cell_type": "code",
     "collapsed": false,
     "input": [
      "# First we need some data, we can create it with a list or an numpy array\n",
      "m = 2 # No need to declare a type, Python will take care of that for you \n",
      "b = 1\n",
      "\n",
      "###\n",
      "### Making data a list using Lists, a Python default variable\n",
      "###\n",
      "\n",
      "# Make a numpy array of values starting at 0, with 10 entries increasing by 1\n",
      "x = range(0,10,1)\n",
      "\n",
      "# Make an empty list\n",
      "y = [] \n",
      "\n",
      "# Iterate through list\n",
      "for i in x:\n",
      "    \n",
      "    # Append m*X+b to Y list\n",
      "    y.append(m*i+b)\n",
      "    \n",
      "print x,y\n",
      "print type(x), type(y)"
     ],
     "language": "python",
     "metadata": {},
     "outputs": [
      {
       "output_type": "stream",
       "stream": "stdout",
       "text": [
        "[0, 1, 2, 3, 4, 5, 6, 7, 8, 9] [1, 3, 5, 7, 9, 11, 13, 15, 17, 19]\n",
        "<type 'list'> <type 'list'>\n"
       ]
      }
     ],
     "prompt_number": 31
    },
    {
     "cell_type": "code",
     "collapsed": false,
     "input": [
      "###\n",
      "### Making data a list a numpy array\n",
      "###\n",
      "\n",
      "# Create a numpy array\n",
      "x = np.arange(0,10,1)\n",
      "\n",
      "#\n",
      "y = x*m + b # We still know about m and b no need to redefine them\n",
      "\n",
      "print x,y\n",
      "print type(x), type(y)  # Notice how we've replaced x,y with new objects"
     ],
     "language": "python",
     "metadata": {},
     "outputs": [
      {
       "output_type": "stream",
       "stream": "stdout",
       "text": [
        "[0 1 2 3 4 5 6 7 8 9] [ 1  3  5  7  9 11 13 15 17 19]\n",
        "<type 'numpy.ndarray'> <type 'numpy.ndarray'>\n"
       ]
      }
     ],
     "prompt_number": 32
    },
    {
     "cell_type": "code",
     "collapsed": false,
     "input": [
      "###\n",
      "### Just a simple plot\n",
      "###\n",
      "\n",
      "plt.plot(x,y)"
     ],
     "language": "python",
     "metadata": {},
     "outputs": [
      {
       "metadata": {},
       "output_type": "pyout",
       "prompt_number": 33,
       "text": [
        "[<matplotlib.lines.Line2D at 0x98ee890>]"
       ]
      },
      {
       "metadata": {},
       "output_type": "display_data",
       "png": "[encoded data removed]",
       "text": [
        "<matplotlib.figure.Figure at 0x58ee2d0>"
       ]
      }
     ],
     "prompt_number": 33
    },
    {
     "cell_type": "code",
     "collapsed": false,
     "input": [
      "###\n",
      "### Add a fit and save out an image\n",
      "###\n",
      "\n",
      "# First we need a figure to plot to\n",
      "fig = plt.figure(figsize=(8,8)) \n",
      "\n",
      "def plotter(fig):\n",
      "\n",
      "    # Create axis in subplot 1 of 1 of figure fig\n",
      "    ax = fig.add_subplot(111)\n",
      "\n",
      "    # Plot points as red dots\n",
      "    ax.plot(x,y,'ro')\n",
      "\n",
      "    # Scale x axis and yaxis\n",
      "    plt.xlim(-10, 15)\n",
      "    plt.ylim(-5,20)\n",
      "\n",
      "    # Draw axis at 0,0\n",
      "    ax.axhline(y=0, color='k', linewidth=0.75)\n",
      "    ax.axvline(x=0, color='k', linewidth=0.75)\n",
      "    \n",
      "    return ax\n",
      "\n",
      "ax = plotter(fig)"
     ],
     "language": "python",
     "metadata": {},
     "outputs": [
      {
       "metadata": {},
       "output_type": "display_data",
       "png": "[encoded data removed]",
       "text": [
        "<matplotlib.figure.Figure at 0x98eed50>"
       ]
      }
     ],
     "prompt_number": 36
    },
    {
     "cell_type": "code",
     "collapsed": false,
     "input": [
      "# We need to repeat some of the earlier steps \n",
      "fig2 = plt.figure(figsize=(6,6)) \n",
      "ax2 = plotter(fig2)\n",
      "\n",
      "# Now Lets fit a line to this data\n",
      "coef = np.polyfit(x,y,1)\n",
      "print \"Coefficients are [m, b]: \", coef\n",
      "\n",
      "# Note that m = coef[0], b = coef[1], now lets draw a line to represent this result\n",
      "offset = 100 # offset is used to increase the length of the line\n",
      "\n",
      "# Make a list with 2 x points\n",
      "xPoints = [x[0]-offset, x[len(x)-1]+offset]\n",
      "print \"The first point is: \", xPoints\n",
      "\n",
      "# Make a list with 2 y points\n",
      "yPoints = [(x[0]-offset)*coef[0]+coef[1], \n",
      "           (x[len(x)-1]+offset)*coef[0]+coef[1]]\n",
      "print \"The second point is: \", yPoints\n",
      "\n",
      "# Ok lets plot a line now\n",
      "ax2.plot(xPoints, yPoints, 'b-')"
     ],
     "language": "python",
     "metadata": {},
     "outputs": [
      {
       "output_type": "stream",
       "stream": "stdout",
       "text": [
        "Coefficients are [m, b]:  [ 2.  1.]\n",
        "The first point is:  [-100, 109]\n",
        "The second point is:  [-199.0, 219.0]\n"
       ]
      },
      {
       "metadata": {},
       "output_type": "pyout",
       "prompt_number": 49,
       "text": [
        "[<matplotlib.lines.Line2D at 0xb258fd0>]"
       ]
      },
      {
       "metadata": {},
       "output_type": "display_data",
       "png": "[encoded data removed]",
       "text": [
        "<matplotlib.figure.Figure at 0xb069110>"
       ]
      }
     ],
     "prompt_number": 49
    },
    {
     "cell_type": "code",
     "collapsed": false,
     "input": [
      "# Save that figure!\n",
      "path = \"D:\\\\Dropbox\\\\Overhead\\\\Presentations\\\\Lunch and Learn - Python\\\\\"\n",
      "name = \"HaaayAFigure.png\"\n",
      "fig2.savefig(path+name)"
     ],
     "language": "python",
     "metadata": {},
     "outputs": [],
     "prompt_number": 50
    },
    {
     "cell_type": "code",
     "collapsed": false,
     "input": [],
     "language": "python",
     "metadata": {},
     "outputs": []
    }
   ],
   "metadata": {}
  }
 ]
}