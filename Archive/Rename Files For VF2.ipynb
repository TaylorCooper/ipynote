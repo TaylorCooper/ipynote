{
 "metadata": {
  "name": ""
 },
 "nbformat": 3,
 "nbformat_minor": 0,
 "worksheets": [
  {
   "cells": [
    {
     "cell_type": "code",
     "collapsed": false,
     "input": [
      "import os\n",
      "from shutil import move\n",
      "\n",
      "path  = 'T:\\\\PD\\\\2014.06.12 - VF2 tests'\n",
      "i=0\n",
      "\n",
      "for root, subFolders, files in os.walk(path):\n",
      "    \n",
      "    #Second condition forces this to run in only the index dir\n",
      "    if len(root) > (len(path)+3) and len(root) < (len(path)+7):\n",
      "        for i, item in enumerate(files):\n",
      "            if 'NN' in item:\n",
      "                j = int(item[1:4])+15\n",
      "                renameFile = '0'+str(j)+'_Focus Wash_Advanced.JPG'\n",
      "                name = renameFile[:4]+item[4:]\n",
      "                name = name.replace(\"NN\",\"MM\")\n",
      "                print root\n",
      "                print item, '||', renameFile, '||', name\n",
      "                renameFile = root+'\\\\'+renameFile\n",
      "                name = root+'\\\\'+name\n",
      "                if os.path.exists(renameFile):\n",
      "                    #print os.path.exists(renameFile)\n",
      "                    os.rename(renameFile,name)\n",
      "                else:\n",
      "                    print 'Not found:', renameFile\n",
      "                print '==================================================='"
     ],
     "language": "python",
     "metadata": {},
     "outputs": [
      {
       "output_type": "stream",
       "stream": "stdout",
       "text": [
        "T:\\PD\\2014.06.12 - VF2 tests\\1841\n",
        "0099_FocWashImg_NN_Advanced.JPG || 0114_Focus Wash_Advanced.JPG || 0114_FocWashImg_MM_Advanced.JPG\n",
        "==================================================="
       ]
      },
      {
       "output_type": "stream",
       "stream": "stdout",
       "text": [
        "\n",
        "T:\\PD\\2014.06.12 - VF2 tests\\1617"
       ]
      },
      {
       "output_type": "stream",
       "stream": "stdout",
       "text": [
        "\n",
        "0094_FocWashImg_NN_Advanced.JPG || 0109_Focus Wash_Advanced.JPG || 0109_FocWashImg_MM_Advanced.JPG\n",
        "==================================================="
       ]
      },
      {
       "output_type": "stream",
       "stream": "stdout",
       "text": [
        "\n",
        "T:\\PD\\2014.06.12 - VF2 tests\\1628"
       ]
      },
      {
       "output_type": "stream",
       "stream": "stdout",
       "text": [
        "\n",
        "0090_FocWashImg_NN_Advanced.JPG || 0105_Focus Wash_Advanced.JPG || 0105_FocWashImg_MM_Advanced.JPG\n",
        "==================================================="
       ]
      },
      {
       "output_type": "stream",
       "stream": "stdout",
       "text": [
        "\n",
        "T:\\PD\\2014.06.12 - VF2 tests\\1523"
       ]
      },
      {
       "output_type": "stream",
       "stream": "stdout",
       "text": [
        "\n",
        "0108_FocWashImg_NN_Advanced.JPG || 0123_Focus Wash_Advanced.JPG || 0123_FocWashImg_MM_Advanced.JPG\n",
        "==================================================="
       ]
      },
      {
       "output_type": "stream",
       "stream": "stdout",
       "text": [
        "\n",
        "T:\\PD\\2014.06.12 - VF2 tests\\1685"
       ]
      },
      {
       "output_type": "stream",
       "stream": "stdout",
       "text": [
        "\n",
        "0113_FocWashImg_NN_Advanced.JPG || 0128_Focus Wash_Advanced.JPG || 0128_FocWashImg_MM_Advanced.JPG\n",
        "==================================================="
       ]
      },
      {
       "output_type": "stream",
       "stream": "stdout",
       "text": [
        "\n",
        "T:\\PD\\2014.06.12 - VF2 tests\\1837"
       ]
      },
      {
       "output_type": "stream",
       "stream": "stdout",
       "text": [
        "\n",
        "0130_FocWashImg_NN_Advanced.JPG || 0145_Focus Wash_Advanced.JPG || 0145_FocWashImg_MM_Advanced.JPG\n",
        "==================================================="
       ]
      },
      {
       "output_type": "stream",
       "stream": "stdout",
       "text": [
        "\n",
        "T:\\PD\\2014.06.12 - VF2 tests\\1792"
       ]
      },
      {
       "output_type": "stream",
       "stream": "stdout",
       "text": [
        "\n",
        "0098_FocWashImg_NN_Advanced.JPG || 0113_Focus Wash_Advanced.JPG || 0113_FocWashImg_MM_Advanced.JPG\n",
        "==================================================="
       ]
      },
      {
       "output_type": "stream",
       "stream": "stdout",
       "text": [
        "\n",
        "T:\\PD\\2014.06.12 - VF2 tests\\1377"
       ]
      },
      {
       "output_type": "stream",
       "stream": "stdout",
       "text": [
        "\n",
        "0112_FocWashImg_NN_Advanced.JPG || 0127_Focus Wash_Advanced.JPG || 0127_FocWashImg_MM_Advanced.JPG\n",
        "==================================================="
       ]
      },
      {
       "output_type": "stream",
       "stream": "stdout",
       "text": [
        "\n",
        "T:\\PD\\2014.06.12 - VF2 tests\\1916"
       ]
      },
      {
       "output_type": "stream",
       "stream": "stdout",
       "text": [
        "\n",
        "0110_FocWashImg_NN_Advanced.JPG || 0125_Focus Wash_Advanced.JPG || 0125_FocWashImg_MM_Advanced.JPG\n",
        "==================================================="
       ]
      },
      {
       "output_type": "stream",
       "stream": "stdout",
       "text": [
        "\n",
        "T:\\PD\\2014.06.12 - VF2 tests\\1887"
       ]
      },
      {
       "output_type": "stream",
       "stream": "stdout",
       "text": [
        "\n",
        "0107_FocWashImg_NN_Advanced.JPG || 0122_Focus Wash_Advanced.JPG || 0122_FocWashImg_MM_Advanced.JPG\n",
        "==================================================="
       ]
      },
      {
       "output_type": "stream",
       "stream": "stdout",
       "text": [
        "\n",
        "T:\\PD\\2014.06.12 - VF2 tests\\1693"
       ]
      },
      {
       "output_type": "stream",
       "stream": "stdout",
       "text": [
        "\n",
        "0099_FocWashImg_NN_Advanced.JPG || 0114_Focus Wash_Advanced.JPG || 0114_FocWashImg_MM_Advanced.JPG\n",
        "==================================================="
       ]
      },
      {
       "output_type": "stream",
       "stream": "stdout",
       "text": [
        "\n",
        "T:\\PD\\2014.06.12 - VF2 tests\\1684"
       ]
      },
      {
       "output_type": "stream",
       "stream": "stdout",
       "text": [
        "\n",
        "0110_FocWashImg_NN_Advanced.JPG || 0125_Focus Wash_Advanced.JPG || 0125_FocWashImg_MM_Advanced.JPG\n",
        "==================================================="
       ]
      },
      {
       "output_type": "stream",
       "stream": "stdout",
       "text": [
        "\n",
        "T:\\PD\\2014.06.12 - VF2 tests\\1694"
       ]
      },
      {
       "output_type": "stream",
       "stream": "stdout",
       "text": [
        "\n",
        "0115_FocWashImg_NN_Advanced.JPG || 0130_Focus Wash_Advanced.JPG || 0130_FocWashImg_MM_Advanced.JPG\n",
        "==================================================="
       ]
      },
      {
       "output_type": "stream",
       "stream": "stdout",
       "text": [
        "\n",
        "T:\\PD\\2014.06.12 - VF2 tests\\1920"
       ]
      },
      {
       "output_type": "stream",
       "stream": "stdout",
       "text": [
        "\n",
        "0101_FocWashImg_NN_Advanced.JPG || 0116_Focus Wash_Advanced.JPG || 0116_FocWashImg_MM_Advanced.JPG\n",
        "==================================================="
       ]
      },
      {
       "output_type": "stream",
       "stream": "stdout",
       "text": [
        "\n",
        "T:\\PD\\2014.06.12 - VF2 tests\\1622"
       ]
      },
      {
       "output_type": "stream",
       "stream": "stdout",
       "text": [
        "\n",
        "0093_FocWashImg_NN_Advanced.JPG || 0108_Focus Wash_Advanced.JPG || 0108_FocWashImg_MM_Advanced.JPG\n",
        "==================================================="
       ]
      },
      {
       "output_type": "stream",
       "stream": "stdout",
       "text": [
        "\n",
        "T:\\PD\\2014.06.12 - VF2 tests\\1743"
       ]
      },
      {
       "output_type": "stream",
       "stream": "stdout",
       "text": [
        "\n",
        "0108_FocWashImg_NN_Advanced.JPG || 0123_Focus Wash_Advanced.JPG || 0123_FocWashImg_MM_Advanced.JPG\n",
        "==================================================="
       ]
      },
      {
       "output_type": "stream",
       "stream": "stdout",
       "text": [
        "\n",
        "T:\\PD\\2014.06.12 - VF2 tests\\1738"
       ]
      },
      {
       "output_type": "stream",
       "stream": "stdout",
       "text": [
        "\n",
        "0100_FocWashImg_NN_Advanced.JPG || 0115_Focus Wash_Advanced.JPG || 0115_FocWashImg_MM_Advanced.JPG\n",
        "==================================================="
       ]
      },
      {
       "output_type": "stream",
       "stream": "stdout",
       "text": [
        "\n",
        "T:\\PD\\2014.06.12 - VF2 tests\\1296"
       ]
      },
      {
       "output_type": "stream",
       "stream": "stdout",
       "text": [
        "\n",
        "0109_FocWashImg_NN_Advanced.JPG || 0124_Focus Wash_Advanced.JPG || 0124_FocWashImg_MM_Advanced.JPG\n",
        "Not found: T:\\PD\\2014.06.12 - VF2 tests\\1296\\0124_Focus Wash_Advanced.JPG\n",
        "===================================================\n",
        "T:\\PD\\2014.06.12 - VF2 tests\\1299"
       ]
      },
      {
       "output_type": "stream",
       "stream": "stdout",
       "text": [
        "\n",
        "0107_FocWashImg_NN_Advanced.JPG || 0122_Focus Wash_Advanced.JPG || 0122_FocWashImg_MM_Advanced.JPG\n",
        "==================================================="
       ]
      },
      {
       "output_type": "stream",
       "stream": "stdout",
       "text": [
        "\n",
        "T:\\PD\\2014.06.12 - VF2 tests\\1607"
       ]
      },
      {
       "output_type": "stream",
       "stream": "stdout",
       "text": [
        "\n",
        "0098_FocWashImg_NN_Advanced.JPG || 0113_Focus Wash_Advanced.JPG || 0113_FocWashImg_MM_Advanced.JPG\n",
        "==================================================="
       ]
      },
      {
       "output_type": "stream",
       "stream": "stdout",
       "text": [
        "\n",
        "T:\\PD\\2014.06.12 - VF2 tests\\1522"
       ]
      },
      {
       "output_type": "stream",
       "stream": "stdout",
       "text": [
        "\n",
        "0105_FocWashImg_NN_Advanced.JPG || 0120_Focus Wash_Advanced.JPG || 0120_FocWashImg_MM_Advanced.JPG\n",
        "==================================================="
       ]
      },
      {
       "output_type": "stream",
       "stream": "stdout",
       "text": [
        "\n",
        "T:\\PD\\2014.06.12 - VF2 tests\\1457"
       ]
      },
      {
       "output_type": "stream",
       "stream": "stdout",
       "text": [
        "\n",
        "0099_FocWashImg_NN_Advanced.JPG || 0114_Focus Wash_Advanced.JPG || 0114_FocWashImg_MM_Advanced.JPG\n",
        "==================================================="
       ]
      },
      {
       "output_type": "stream",
       "stream": "stdout",
       "text": [
        "\n",
        "T:\\PD\\2014.06.12 - VF2 tests\\1794"
       ]
      },
      {
       "output_type": "stream",
       "stream": "stdout",
       "text": [
        "\n",
        "0097_FocWashImg_NN_Advanced.JPG || 0112_Focus Wash_Advanced.JPG || 0112_FocWashImg_MM_Advanced.JPG\n",
        "==================================================="
       ]
      },
      {
       "output_type": "stream",
       "stream": "stdout",
       "text": [
        "\n",
        "T:\\PD\\2014.06.12 - VF2 tests\\1687"
       ]
      },
      {
       "output_type": "stream",
       "stream": "stdout",
       "text": [
        "\n",
        "0101_FocWashImg_NN_Advanced.JPG || 0116_Focus Wash_Advanced.JPG || 0116_FocWashImg_MM_Advanced.JPG\n",
        "==================================================="
       ]
      },
      {
       "output_type": "stream",
       "stream": "stdout",
       "text": [
        "\n",
        "T:\\PD\\2014.06.12 - VF2 tests\\1732"
       ]
      },
      {
       "output_type": "stream",
       "stream": "stdout",
       "text": [
        "\n",
        "0103_FocWashImg_NN_Advanced.JPG || 0118_Focus Wash_Advanced.JPG || 0118_FocWashImg_MM_Advanced.JPG\n",
        "==================================================="
       ]
      },
      {
       "output_type": "stream",
       "stream": "stdout",
       "text": [
        "\n"
       ]
      }
     ],
     "prompt_number": 5
    },
    {
     "cell_type": "code",
     "collapsed": false,
     "input": [
      "a = \"this is a yay\"\n",
      "print a\n",
      "b = 't' if 'yay' in a else 'faaaaaalse'\n",
      "print b\n"
     ],
     "language": "python",
     "metadata": {},
     "outputs": [
      {
       "output_type": "stream",
       "stream": "stdout",
       "text": [
        "this is a yay\n",
        "t\n"
       ]
      }
     ],
     "prompt_number": 7
    },
    {
     "cell_type": "code",
     "collapsed": false,
     "input": [],
     "language": "python",
     "metadata": {},
     "outputs": []
    }
   ],
   "metadata": {}
  }
 ]
}