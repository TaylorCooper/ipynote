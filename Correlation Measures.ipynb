{
 "metadata": {
  "name": "",
  "signature": "sha256:f71b566308bff73e7c54006cdd555204799bc7f46eeef790e7e51a4131f2c531"
 },
 "nbformat": 3,
 "nbformat_minor": 0,
 "worksheets": [
  {
   "cells": [
    {
     "cell_type": "code",
     "collapsed": false,
     "input": [
      "import pandas as pd\n",
      "import numpy as np\n",
      "%pylab inline\n",
      "\n",
      "path = 'C:\\\\Users\\\\tcooper\\\\Desktop\\\\SS Scoda Design\\\\S4+ Issues\\\\08_Hotspot Run Failure Analysis\\\\'\n",
      "datalogPath = path + '02_Output and Analysis\\\\2014.07.03 Run Log V3.1.csv'\n",
      "df = pd.read_csv(datalogPath, sep=',')"
     ],
     "language": "python",
     "metadata": {},
     "outputs": [
      {
       "output_type": "stream",
       "stream": "stdout",
       "text": [
        "Populating the interactive namespace from numpy and matplotlib\n"
       ]
      }
     ],
     "prompt_number": 3
    },
    {
     "cell_type": "code",
     "collapsed": false,
     "input": [
      "df.cov().to_csv(path+'2014.07.03 Run Log v3.1_CoV.csv', sep=',')\n",
      "df.corr().to_csv(path+'2014.07.03 Run Log v3.1_Corr.csv', sep=',')"
     ],
     "language": "python",
     "metadata": {},
     "outputs": [],
     "prompt_number": 4
    },
    {
     "cell_type": "code",
     "collapsed": false,
     "input": [
      "# Some dictionary look up stuff... could be a one liner but it's ugly\n",
      "\n",
      "wtMB = 'WtMajor'\n",
      "\n",
      "wtMB_dict = [\n",
      "    {'mkrB':'WtClean','rank':0}, \n",
      "    {'mkrB':'WtTrace','rank':0.3}, \n",
      "    {'mkrB':'WtMajor','rank':0.6}, \n",
      "    {'mkrB':'WtBoomer','rank':1}, \n",
      "    ]\n",
      "\n",
      "wtRank = np.nan\n",
      "\n",
      "for item in wtMB_dict:\n",
      "    if item['mkrB'] == wtMB:\n",
      "        wtRank = item['rank']\n",
      "\n",
      "print wtRank"
     ],
     "language": "python",
     "metadata": {},
     "outputs": [
      {
       "output_type": "stream",
       "stream": "stdout",
       "text": [
        "0.6\n"
       ]
      }
     ],
     "prompt_number": 55
    },
    {
     "cell_type": "code",
     "collapsed": false,
     "input": [
      "a = '60%'\n",
      "print a\n",
      "print float(a[:-1])/100\n",
      "print 1.0*a[:-1]/100"
     ],
     "language": "python",
     "metadata": {},
     "outputs": [
      {
       "ename": "TypeError",
       "evalue": "can't multiply sequence by non-int of type 'float'",
       "output_type": "pyerr",
       "traceback": [
        "\u001b[1;31m---------------------------------------------------------------------------\u001b[0m\n\u001b[1;31mTypeError\u001b[0m                                 Traceback (most recent call last)",
        "\u001b[1;32m<ipython-input-64-aefdee960a58>\u001b[0m in \u001b[0;36m<module>\u001b[1;34m()\u001b[0m\n\u001b[0;32m      2\u001b[0m \u001b[1;32mprint\u001b[0m \u001b[0ma\u001b[0m\u001b[1;33m\u001b[0m\u001b[0m\n\u001b[0;32m      3\u001b[0m \u001b[1;32mprint\u001b[0m \u001b[0mfloat\u001b[0m\u001b[1;33m(\u001b[0m\u001b[0ma\u001b[0m\u001b[1;33m[\u001b[0m\u001b[1;33m:\u001b[0m\u001b[1;33m-\u001b[0m\u001b[1;36m1\u001b[0m\u001b[1;33m]\u001b[0m\u001b[1;33m)\u001b[0m\u001b[1;33m/\u001b[0m\u001b[1;36m100\u001b[0m\u001b[1;33m\u001b[0m\u001b[0m\n\u001b[1;32m----> 4\u001b[1;33m \u001b[1;32mprint\u001b[0m \u001b[1;36m1.0\u001b[0m\u001b[1;33m*\u001b[0m\u001b[0ma\u001b[0m\u001b[1;33m[\u001b[0m\u001b[1;33m:\u001b[0m\u001b[1;33m-\u001b[0m\u001b[1;36m1\u001b[0m\u001b[1;33m]\u001b[0m\u001b[1;33m/\u001b[0m\u001b[1;36m100\u001b[0m\u001b[1;33m\u001b[0m\u001b[0m\n\u001b[0m",
        "\u001b[1;31mTypeError\u001b[0m: can't multiply sequence by non-int of type 'float'"
       ]
      },
      {
       "output_type": "stream",
       "stream": "stdout",
       "text": [
        "60%\n",
        "0.6\n"
       ]
      }
     ],
     "prompt_number": 64
    },
    {
     "cell_type": "code",
     "collapsed": false,
     "input": [],
     "language": "python",
     "metadata": {},
     "outputs": []
    }
   ],
   "metadata": {}
  }
 ]
}