{
 "metadata": {
  "name": "",
  "signature": "sha256:c3f48ae74224726930b5343771c37f175d64a4960a5e55b6b7c396d2e4a75cc0"
 },
 "nbformat": 3,
 "nbformat_minor": 0,
 "worksheets": [
  {
   "cells": [
    {
     "cell_type": "code",
     "collapsed": false,
     "input": [
      "\"\"\" Writing my first randomforest code.\n",
      "Author : AstroDave\n",
      "Date : 23rd September 2012\n",
      "Revised: 15 April 2014\n",
      "please see packages.python.org/milk/randomforests.html for more\n",
      "\n",
      "\"\"\" \n",
      "import pandas as pd\n",
      "import numpy as np\n",
      "import csv as csv\n",
      "from sklearn.ensemble import RandomForestClassifier\n",
      "\n",
      "# Data cleanup\n",
      "# TRAIN DATA\n",
      "train_df = pd.read_csv('C:\\\\Users\\\\Taylor\\\\Desktop\\\\Kaggle\\\\1_Titanic_Survival_Rates\\\\train.csv', header=0)        \n",
      "# Load the train file into a dataframe\n",
      "\n",
      "# I need to convert all strings to integer classifiers.\n",
      "# I need to fill in the missing values of the data and make it complete.\n",
      "\n",
      "# female = 0, Male = 1\n",
      "train_df['Gender'] = train_df['Sex'].map( {'female': 0, 'male': 1} ).astype(int)\n",
      "\n",
      "# Embarked from 'C', 'Q', 'S'\n",
      "# Note this is not ideal: in translating categories to numbers, Port \"2\" is not 2 times greater than Port \"1\", etc.\n",
      "# All missing Embarked -> just make them embark from most common place\n",
      "if len(train_df.Embarked[ train_df.Embarked.isnull() ]) > 0:\n",
      "    train_df.Embarked[ train_df.Embarked.isnull() ] = train_df.Embarked.dropna().mode().values\n",
      "    \n",
      "Ports = list(enumerate(np.unique(train_df['Embarked'])))    # determine all values of Embarked,\n",
      "Ports_dict = { name : i for i, name in Ports }              # set up a dictionary in the form  Ports : index\n",
      "train_df.Embarked = train_df.Embarked.map( lambda x: Ports_dict[x]).astype(int)     # Convert all Embark strings to int\n",
      "\n",
      "# All the ages with no data -> make the median of all Ages\n",
      "median_age = train_df['Age'].dropna().median()\n",
      "if len(train_df.Age[ train_df.Age.isnull() ]) > 0:\n",
      "    train_df.loc[ (train_df.Age.isnull()), 'Age'] = median_age\n",
      "\n",
      "# Remove the Name column, Cabin, Ticket, and Sex (since I copied and filled it to Gender)\n",
      "train_df = train_df.drop(['Name', 'Sex', 'Ticket', 'Cabin', 'PassengerId'], axis=1)"
     ],
     "language": "python",
     "metadata": {},
     "outputs": [],
     "prompt_number": 58
    },
    {
     "cell_type": "code",
     "collapsed": false,
     "input": [],
     "language": "python",
     "metadata": {},
     "outputs": [],
     "prompt_number": 58
    },
    {
     "cell_type": "code",
     "collapsed": false,
     "input": [],
     "language": "python",
     "metadata": {},
     "outputs": [],
     "prompt_number": 58
    },
    {
     "cell_type": "code",
     "collapsed": false,
     "input": [
      "\n",
      "# TEST DATA\n",
      "test_df = pd.read_csv('C:\\\\Users\\\\Taylor\\\\Desktop\\\\Kaggle\\\\1_Titanic_Survival_Rates\\\\test.csv', header=0)    \n",
      "\n",
      "# I need to do the same with the test data now, so that the columns are the same as the training data\n",
      "# I need to convert all strings to integer classifiers:\n",
      "# female = 0, Male = 1\n",
      "test_df['Gender'] = test_df['Sex'].map( {'female': 0, 'male': 1} ).astype(int)\n",
      "\n",
      "# Embarked from 'C', 'Q', 'S'\n",
      "# All missing Embarked -> just make them embark from most common place\n",
      "if len(test_df.Embarked[ test_df.Embarked.isnull() ]) > 0:\n",
      "    test_df.Embarked[ test_df.Embarked.isnull() ] = test_df.Embarked.dropna().mode().values\n",
      "# Again convert all Embarked strings to int\n",
      "test_df.Embarked = test_df.Embarked.map( lambda x: Ports_dict[x]).astype(int)\n",
      "\n",
      "\n",
      "# All the ages with no data -> make the median of all Ages\n",
      "median_age = test_df['Age'].dropna().median()\n",
      "if len(test_df.Age[ test_df.Age.isnull() ]) > 0:\n",
      "    test_df.loc[ (test_df.Age.isnull()), 'Age'] = median_age\n",
      "\n",
      "# All the missing Fares -> assume median of their respective class\n",
      "if len(test_df.Fare[ test_df.Fare.isnull() ]) > 0:\n",
      "    median_fare = np.zeros(3)\n",
      "    for f in range(0,3):                                              # loop 0 to 2\n",
      "        median_fare[f] = test_df[ test_df.Pclass == f+1 ]['Fare'].dropna().median()\n",
      "    for f in range(0,3):                                              # loop 0 to 2\n",
      "        test_df.loc[ (test_df.Fare.isnull()) & (test_df.Pclass == f+1 ), 'Fare'] = median_fare[f]"
     ],
     "language": "python",
     "metadata": {},
     "outputs": [],
     "prompt_number": 59
    },
    {
     "cell_type": "code",
     "collapsed": false,
     "input": [],
     "language": "python",
     "metadata": {},
     "outputs": [],
     "prompt_number": 61
    },
    {
     "cell_type": "code",
     "collapsed": false,
     "input": [
      "# Collect the test data's PassengerIds before dropping it\n",
      "ids = test_df['PassengerId'].values\n",
      "\n",
      "# Remove the Name column, Cabin, Ticket, and Sex (since I copied and filled it to Gender)\n",
      "test_df = test_df.drop(['Name', 'Sex', 'Ticket', 'Cabin', 'PassengerId'], axis=1) \n",
      "\n",
      "# The data is now ready to go. So lets fit to the train, then predict to the test!\n",
      "# Convert back to a numpy array\n",
      "train_data = train_df.values\n",
      "test_data = test_df.values\n",
      "\n",
      "\n",
      "print 'Training...'\n",
      "forest = RandomForestClassifier(n_estimators=100)\n",
      "forest = forest.fit( train_data[0::,1::], train_data[0::,0] )\n",
      "\n",
      "print 'Predicting...'\n",
      "output = forest.predict(test_data).astype(int)\n",
      "\n",
      "\n",
      "predictions_file = open(\"myfirstforest.csv\", \"wb\")\n",
      "open_file_object = csv.writer(predictions_file)\n",
      "open_file_object.writerow([\"PassengerId\",\"Survived\"])\n",
      "open_file_object.writerows(zip(ids, output))\n",
      "predictions_file.close()\n",
      "print 'Done.'"
     ],
     "language": "python",
     "metadata": {},
     "outputs": [
      {
       "output_type": "stream",
       "stream": "stdout",
       "text": [
        "Training...\n",
        "Predicting..."
       ]
      },
      {
       "output_type": "stream",
       "stream": "stdout",
       "text": [
        "\n",
        "Done.\n"
       ]
      }
     ],
     "prompt_number": 61
    },
    {
     "cell_type": "code",
     "collapsed": false,
     "input": [
      "print train_df"
     ],
     "language": "python",
     "metadata": {},
     "outputs": [
      {
       "output_type": "stream",
       "stream": "stdout",
       "text": [
        "     Survived  Pclass  Age  SibSp  Parch      Fare  Embarked  Gender\n",
        "0           0       3   22      1      0    7.2500         2       1\n",
        "1           1       1   38      1      0   71.2833         0       0\n",
        "2           1       3   26      0      0    7.9250         2       0\n",
        "3           1       1   35      1      0   53.1000         2       0\n",
        "4           0       3   35      0      0    8.0500         2       1\n",
        "5           0       3   28      0      0    8.4583         1       1\n",
        "6           0       1   54      0      0   51.8625         2       1\n",
        "7           0       3    2      3      1   21.0750         2       1\n",
        "8           1       3   27      0      2   11.1333         2       0\n",
        "9           1       2   14      1      0   30.0708         0       0\n",
        "10          1       3    4      1      1   16.7000         2       0\n",
        "11          1       1   58      0      0   26.5500         2       0\n",
        "12          0       3   20      0      0    8.0500         2       1\n",
        "13          0       3   39      1      5   31.2750         2       1\n",
        "14          0       3   14      0      0    7.8542         2       0\n",
        "15          1       2   55      0      0   16.0000         2       0\n",
        "16          0       3    2      4      1   29.1250         1       1\n",
        "17          1       2   28      0      0   13.0000         2       1\n",
        "18          0       3   31      1      0   18.0000         2       0\n",
        "19          1       3   28      0      0    7.2250         0       0\n",
        "20          0       2   35      0      0   26.0000         2       1\n",
        "21          1       2   34      0      0   13.0000         2       1\n",
        "22          1       3   15      0      0    8.0292         1       0\n",
        "23          1       1   28      0      0   35.5000         2       1\n",
        "24          0       3    8      3      1   21.0750         2       0\n",
        "25          1       3   38      1      5   31.3875         2       0\n",
        "26          0       3   28      0      0    7.2250         0       1\n",
        "27          0       1   19      3      2  263.0000         2       1\n",
        "28          1       3   28      0      0    7.8792         1       0\n",
        "29          0       3   28      0      0    7.8958         2       1\n",
        "..        ...     ...  ...    ...    ...       ...       ...     ...\n",
        "861         0       2   21      1      0   11.5000         2       1\n",
        "862         1       1   48      0      0   25.9292         2       0\n",
        "863         0       3   28      8      2   69.5500         2       0\n",
        "864         0       2   24      0      0   13.0000         2       1\n",
        "865         1       2   42      0      0   13.0000         2       0\n",
        "866         1       2   27      1      0   13.8583         0       0\n",
        "867         0       1   31      0      0   50.4958         2       1\n",
        "868         0       3   28      0      0    9.5000         2       1\n",
        "869         1       3    4      1      1   11.1333         2       1\n",
        "870         0       3   26      0      0    7.8958         2       1\n",
        "871         1       1   47      1      1   52.5542         2       0\n",
        "872         0       1   33      0      0    5.0000         2       1\n",
        "873         0       3   47      0      0    9.0000         2       1\n",
        "874         1       2   28      1      0   24.0000         0       0\n",
        "875         1       3   15      0      0    7.2250         0       0\n",
        "876         0       3   20      0      0    9.8458         2       1\n",
        "877         0       3   19      0      0    7.8958         2       1\n",
        "878         0       3   28      0      0    7.8958         2       1\n",
        "879         1       1   56      0      1   83.1583         0       0\n",
        "880         1       2   25      0      1   26.0000         2       0\n",
        "881         0       3   33      0      0    7.8958         2       1\n",
        "882         0       3   22      0      0   10.5167         2       0\n",
        "883         0       2   28      0      0   10.5000         2       1\n",
        "884         0       3   25      0      0    7.0500         2       1\n",
        "885         0       3   39      0      5   29.1250         1       0\n",
        "886         0       2   27      0      0   13.0000         2       1\n",
        "887         1       1   19      0      0   30.0000         2       0\n",
        "888         0       3   28      1      2   23.4500         2       0\n",
        "889         1       1   26      0      0   30.0000         0       1\n",
        "890         0       3   32      0      0    7.7500         1       1\n",
        "\n",
        "[891 rows x 8 columns]\n"
       ]
      }
     ],
     "prompt_number": 81
    },
    {
     "cell_type": "code",
     "collapsed": false,
     "input": [
      "arr = np.array([[1,2,3,4,5],[5,6,7,8,9],[0,9,8,7,6]])\n",
      "print arr\n",
      "print arr[1::,1::]"
     ],
     "language": "python",
     "metadata": {},
     "outputs": [
      {
       "output_type": "stream",
       "stream": "stdout",
       "text": [
        "[[1 2 3 4 5]\n",
        " [5 6 7 8 9]\n",
        " [0 9 8 7 6]]\n",
        "[[6 7 8 9]\n",
        " [9 8 7 6]]\n"
       ]
      }
     ],
     "prompt_number": 79
    },
    {
     "cell_type": "code",
     "collapsed": false,
     "input": [],
     "language": "python",
     "metadata": {},
     "outputs": []
    }
   ],
   "metadata": {}
  }
 ]
}