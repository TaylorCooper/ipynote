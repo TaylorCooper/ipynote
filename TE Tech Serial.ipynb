{
 "metadata": {
  "name": "",
  "signature": "sha256:1a2ed7a3e30c90ef86957efb9c3fcca0f2b2f2ef1324c23f2539bede286cbc95"
 },
 "nbformat": 3,
 "nbformat_minor": 0,
 "worksheets": [
  {
   "cells": [
    {
     "cell_type": "code",
     "collapsed": false,
     "input": [
      "import serial, time, collections, csv, pandas\n"
     ],
     "language": "python",
     "metadata": {},
     "outputs": [],
     "prompt_number": 1
    },
    {
     "cell_type": "code",
     "collapsed": false,
     "input": [
      "###\n",
      "### Command formating functions\n",
      "###\n",
      "\n",
      "def formatTempSP(temp):\n",
      "    \"\"\"Format temperature SP for TE Tech TC.\n",
      "    Input: temp in celsius, float or int \n",
      "    Output: string formated for DDDDDDDDD value of TC cmds\n",
      "    e.g. input 1 >> output 00000064\n",
      "    e.g. input -1 >> output ffffff9c (2's complement)\n",
      "    e.g. input 1.25 >> output 0000007d \n",
      "    \"\"\"\n",
      "    \n",
      "    bits = 32 # Required for this protocol\n",
      "    temp = int(temp*100) # Multiply by 100 to preserve decimal places\n",
      "        \n",
      "    if temp < 0:  # 2's complement for negatives\n",
      "        temp = 2**bits + temp\n",
      "        r = hex(temp)[:-1] # Remove trailing L for Long\n",
      "    else:\n",
      "        temph = hex(temp)\n",
      "        r = '0x'+'0'*(10-len(temph)) + temph[2:]\n",
      "        \n",
      "    return r\n",
      "\n",
      "\n",
      "def getChecksum(s):\n",
      "    \"\"\"Get the 8bit checksum of characters in s\n",
      "    \"\"\"\n",
      "    \n",
      "    chksum = 0\n",
      "    for ch in s:\n",
      "        chksum = chksum + ord(ch)\n",
      "        \n",
      "    return hex(chksum%256)[2:]\n",
      "\n",
      "\n",
      "stx = '\\x2a'\n",
      "etx = '\\x0d' \n",
      "ack = '\\x5e'\n",
      "adr = '00'\n",
      "cmd = '29'\n",
      "nullData = '00000000'\n",
      "bits = 32  # or 8 hex characters over serial\n",
      "\n",
      "#  Some tests\n",
      "print hex(150*100)\n",
      "print formatTempSP(150)\n",
      "print hex(2**32 - 150*100)\n",
      "print formatTempSP(-150)\n",
      "s = adr + cmd + nullData\n",
      "print s\n",
      "# print getChecksum(s)\n",
      "# print getChecksum('*000100000000')\n",
      "# print hex(getChecksum('*000100000000'))\n",
      "getChecksum('000100000000')"
     ],
     "language": "python",
     "metadata": {},
     "outputs": [
      {
       "output_type": "stream",
       "stream": "stdout",
       "text": [
        "0x3a98\n",
        "0x00003a98\n",
        "0xffffc568L\n",
        "0xffffc568\n",
        "002900000000\n"
       ]
      },
      {
       "metadata": {},
       "output_type": "pyout",
       "prompt_number": 193,
       "text": [
        "'41'"
       ]
      }
     ],
     "prompt_number": 193
    },
    {
     "cell_type": "code",
     "collapsed": false,
     "input": [
      "###\n",
      "### Command formating functions\n",
      "###\n",
      "\n",
      "stx = '\\x2a' # *\n",
      "etx = '\\x0d' # CR\n",
      "ack = '\\x5e' # ^\n",
      "adr = '00' # Always 00 for our TC\n",
      "\n",
      "def read(ser, delay):\n",
      "    \"\"\" Read chars from the serial port buffer well it is not empty.\n",
      "    Reply syntax: <STX> <CMD CHAR> <DATA1,DATA2,DATA3,etc.> <ACK>\n",
      "    \"\"\"\n",
      "\n",
      "    buf = []\n",
      "    seeking_sync = True;\n",
      "    seeking_end = True;\n",
      "\n",
      "    time.sleep(delay)\n",
      "    # Read serial into buffer and then pop out to s for return\n",
      "    while ser.inWaiting() > 0:\n",
      "        ch = ser.read(1) #Read 1 BYTE\n",
      "\n",
      "        if seeking_sync:\n",
      "            if ch == stx: # <STX>\n",
      "                seeking_sync = False\n",
      "        elif seeking_end:\n",
      "            if ch == ack: # <ACK>\n",
      "                buf.append(ack)\n",
      "                seeking_end = False\n",
      "            else:\n",
      "                buf.append(ch)\n",
      "                \n",
      "    if not buf: # No reply received\n",
      "        return False\n",
      "    elif buf[-1] != ack: # Check for ACK character\n",
      "        return False \n",
      "    else:\n",
      "        return ''.join(buf[:-1])\n",
      "        \n",
      "def send(ser, cmd, data='00000000', delay=0.4, retries=10):\n",
      "\n",
      "    \n",
      "    s = adr + cmd + data\n",
      "    s = stx + s + getChecksum(s) + etx\n",
      "    \n",
      "    print 'Sending:  ', s\n",
      "    \n",
      "    for i in range(retries):\n",
      "        ser.write(s)\n",
      "        \n",
      "        reply = read(ser, delay)\n",
      "        \n",
      "        if not reply: # If no reply resend command\n",
      "            continue\n",
      "        if getChecksum(reply[:-2]) != reply[-2:]: # If checksum invalid resend command\n",
      "            continue\n",
      "\n",
      "    return reply\n",
      "\n",
      "ser = serial.Serial(port='COM7', baudrate=9600, timeout=1)\n",
      "time.sleep(1)\n",
      "\n",
      "r1 = send(ser,'01') # Read input1, 06 for read input 2\n",
      "print 'Recieved: ', r1\n",
      "\n",
      "r2 = send(ser,'06') # Read input1, 06 for read input 2\n",
      "print 'Recieved: ', r2\n",
      "\n",
      "ser.close()"
     ],
     "language": "python",
     "metadata": {},
     "outputs": [
      {
       "output_type": "stream",
       "stream": "stdout",
       "text": [
        "Sending:   *00010000000041\r\n",
        "Recieved: "
       ]
      },
      {
       "output_type": "stream",
       "stream": "stdout",
       "text": [
        " 00000ca0e4\n",
        "Sending:   *00060000000046\r\n",
        "Recieved: "
       ]
      },
      {
       "output_type": "stream",
       "stream": "stdout",
       "text": [
        " 0000093bbe\n"
       ]
      }
     ],
     "prompt_number": 194
    },
    {
     "cell_type": "code",
     "collapsed": false,
     "input": [
      "print int(r1[:-2],16)/100.0\n",
      "print int(r2[:-2],16)/100.0"
     ],
     "language": "python",
     "metadata": {},
     "outputs": [
      {
       "output_type": "stream",
       "stream": "stdout",
       "text": [
        "32.32\n",
        "23.63\n"
       ]
      }
     ],
     "prompt_number": 197
    },
    {
     "cell_type": "code",
     "collapsed": false,
     "input": [],
     "language": "python",
     "metadata": {},
     "outputs": []
    }
   ],
   "metadata": {}
  }
 ]
}