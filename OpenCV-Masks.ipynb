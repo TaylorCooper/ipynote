{
 "metadata": {
  "name": "",
  "signature": "sha256:b96f92fcd9be0570085ce1fd5190736b0b81713d216abe0c6624837bad1b27d8"
 },
 "nbformat": 3,
 "nbformat_minor": 0,
 "worksheets": [
  {
   "cells": [
    {
     "cell_type": "code",
     "collapsed": false,
     "input": [
      "import cv2\n",
      "import numpy as np\n",
      "path = \"D:\\\\GitHub\\\\ipynote\\\\OpenCV-Masks\\\\\""
     ],
     "language": "python",
     "metadata": {},
     "outputs": [],
     "prompt_number": 18
    },
    {
     "cell_type": "code",
     "collapsed": false,
     "input": [
      "img = cv2.imread(path+\"0000.png\")\n",
      "img = cv2.cvtColor(img,cv2.COLOR_BGR2GRAY)"
     ],
     "language": "python",
     "metadata": {},
     "outputs": [],
     "prompt_number": 19
    },
    {
     "cell_type": "code",
     "collapsed": false,
     "input": [
      "rows, cols = img.shape\n",
      "mask = np.zeros([rows,cols], np.uint8)\n",
      "mask[:,0:140] = 255\n",
      "mask[:,230:520] = 255\n",
      "mask[:,620:] = 255\n",
      "img_mask = cv2.add(img,mask)\n",
      "img_bright = cv2.add(img,90)\n",
      "\n",
      "out = cv2.add(img_mask,90)\n",
      "\n",
      "\n",
      "th3 = cv2.adaptiveThreshold(out,255,cv2.ADAPTIVE_THRESH_GAUSSIAN_C,\\\n",
      "            cv2.THRESH_BINARY,11,2)\n",
      "\n",
      "cv2.imwrite(path+\"bright.png\", img_bright)\n",
      "cv2.imwrite(path+\"mask.png\", img_mask)\n",
      "cv2.imwrite(path+\"0000_out.png\", th3)"
     ],
     "language": "python",
     "metadata": {},
     "outputs": [
      {
       "metadata": {},
       "output_type": "pyout",
       "prompt_number": 21,
       "text": [
        "True"
       ]
      }
     ],
     "prompt_number": 21
    },
    {
     "cell_type": "code",
     "collapsed": false,
     "input": [
      "\"\"\"\n",
      "Poor quality bidirectional contrast filter\n",
      "\"\"\"\n",
      "bigmask = cv2.compare(img,np.uint8([64]),cv2.CMP_GE)\n",
      "smallmask = cv2.bitwise_not(bigmask)\n",
      "ar = img\n",
      "ar[:,:] = 90\n",
      "big = cv2.add(img,ar,mask = bigmask)\n",
      "small = cv2.subtract(img,ar,mask = smallmask)\n",
      "\n",
      "out = cv2.add(big,small)\n",
      "# out = cv2.equalizeHist(out) # increases contrast but not in the way I want\n",
      "\n",
      "cv2.imwrite(path+\"bm.png\", bigmask)\n",
      "cv2.imwrite(path+\"sm.png\", smallmask)\n",
      "cv2.imwrite(path+\"0000_zbig.png\", big)\n",
      "cv2.imwrite(path+\"0000_zsml.png\", small)\n",
      "cv2.imwrite(path+\"0000_out.png\", out)"
     ],
     "language": "python",
     "metadata": {},
     "outputs": [
      {
       "output_type": "stream",
       "stream": "stdout",
       "text": [
        "[[90 90 90 ..., 90 90 90]\n",
        " [90 90 90 ..., 90 90 90]\n",
        " [90 90 90 ..., 90 90 90]\n",
        " ..., \n",
        " [90 90 90 ..., 90 90 90]\n",
        " [90 90 90 ..., 90 90 90]\n",
        " [90 90 90 ..., 90 90 90]]\n"
       ]
      }
     ],
     "prompt_number": 62
    },
    {
     "cell_type": "code",
     "collapsed": false,
     "input": [
      "\"\"\"\n",
      "Notes: Do not work\n",
      "\"\"\"\n",
      "\n",
      "img = cv2.imread('brain.jpg',0)\n",
      "\n",
      "bigmask = cv2.compare(img,np.uint8([127]),cv2.CMP_GE)\n",
      "smallmask = cv2.bitwise_not(bigmask)\n",
      "\n",
      "x = np.uint8([90])\n",
      "big = cv2.add(img,x,mask = bigmask)\n",
      "small = cv2.subtract(img,x,mask = smallmask)\n",
      "res = cv2.add(big,small)\n",
      "\n",
      "res = cv2.bitwise_and(img,img,mask = mask)\n",
      "\n",
      "img_Nom = cv2.cvtColor(img,cv2.COLOR_BGR2GRAY)\n",
      "\n",
      "rows, cols, chs = img.shape\n",
      "print rows, cols, chs\n",
      "mask = np.zeros([rows,cols], np.uint8)\n",
      "mask[:,:] = 127\n",
      "out = cv2.add(img_Nom, 127)"
     ],
     "language": "python",
     "metadata": {},
     "outputs": []
    },
    {
     "cell_type": "code",
     "collapsed": false,
     "input": [],
     "language": "python",
     "metadata": {},
     "outputs": []
    }
   ],
   "metadata": {}
  }
 ]
}